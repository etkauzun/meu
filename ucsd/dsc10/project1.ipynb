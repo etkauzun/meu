{
 "cells": [
  {
   "cell_type": "markdown",
   "metadata": {},
   "source": [
    "# Project 01: Exploring the Chicago Taxi Dataset\n",
    "\n",
    "\n",
    "\n",
    "## Due Sunday, May 9 at 11:59pm\n",
    "\n",
    "\n",
    "<img src=\"data/taxi.jpg\" width=70%>\n",
    "\n",
    "\n",
    "\n",
    "Welcome to Project 01! Projects in DSC 10 are similar in format to homeworks, but are different in a few key ways. First, a project is *comprehensive*, meaning that it draws upon everything we've learned this quarter so far. Second, the problems are more open-ended; they will usually ask for some result, but won't tell you what method should be used to get it. There might be several equally-valid approaches, and several steps might be necessary. This is closer to how data science is done in \"real life\"."
   ]
  },
  {
   "cell_type": "markdown",
   "metadata": {},
   "source": [
    "It is important that you **start early** on the project! It will take the place of a homework in the week that it is due, but you should also expect it to take longer than a homework."
   ]
  },
  {
   "cell_type": "markdown",
   "metadata": {},
   "source": [
    "### Instructions\n",
    "\n",
    "This assignment is due Sunday, May 9 at 11:59pm. You may use a slip day on this assignment, if you so choose. See the syllabus for more details.\n",
    "\n",
    "**Important**: The `otter` tests don't usually tell you that your answer is correct. More often, they help catch careless mistakes. It's up to you to ensure that your answer is correct. If you're not sure, ask someone (not for the answer, but for some guidance about your approach).\n",
    "\n",
    "Remember that you may work in pairs for this assignment! If you work in a pair, you should submit one notebook to Gradescope for the both of you.\n",
    "\n",
    "Directly sharing answers between groups is not okay, but discussing problems with the course staff or with other students is encouraged. \n",
    "\n",
    "You should start early so that you have time to get help if you're stuck. A calendar with lab hour times and locations appears on [the course webpage](http://dsc10.com)."
   ]
  },
  {
   "cell_type": "code",
   "execution_count": 1,
   "metadata": {},
   "outputs": [],
   "source": [
    "# please don't change this cell, but do make sure to run it\n",
    "import babypandas as bpd\n",
    "import matplotlib.pyplot as plt\n",
    "plt.style.use('fivethirtyeight')\n",
    "import numpy as np\n",
    "\n",
    "import otter\n",
    "import numbers\n",
    "import IPython\n",
    "grader = otter.Notebook()"
   ]
  },
  {
   "cell_type": "markdown",
   "metadata": {},
   "source": [
    "## 1. Preparing the Data\n",
    "\n",
    "In recent years, cities across the world have started publishing interesting and important data, providing citizen researchers with the information necessary to understand how such things as transportation, policing, and education operate in their city. You can see some of the datasets made available by the city of San Diego [here](https://data.sandiego.gov/).\n",
    "\n",
    "In this project, we'll take a look at a massive dataset published by the city of Chicago which contains information about *every taxi ride* since 2013. The full dataset contains 194 *million* taxi trips and requires roughly 50 gigabytes of storage. To make our job a little easier, we're instead going to analyze a random sample of around 112,000 taxi trips drawn from this larger dataset.\n",
    "\n",
    "Our first step in any analysis is to load the dataset and prepare it for exploration. The main dataset for this project is stored in `data/chicago_taxi_trips.csv`. Since this is a CSV file we can read it with `bpd.read_csv`:"
   ]
  },
  {
   "cell_type": "code",
   "execution_count": 2,
   "metadata": {},
   "outputs": [
    {
     "data": {
      "text/html": [
       "<div>\n",
       "<style scoped>\n",
       "    .dataframe tbody tr th:only-of-type {\n",
       "        vertical-align: middle;\n",
       "    }\n",
       "\n",
       "    .dataframe tbody tr th {\n",
       "        vertical-align: top;\n",
       "    }\n",
       "\n",
       "    .dataframe thead th {\n",
       "        text-align: right;\n",
       "    }\n",
       "</style>\n",
       "<table border=\"1\" class=\"dataframe\">\n",
       "  <thead>\n",
       "    <tr style=\"text-align: right;\">\n",
       "      <th></th>\n",
       "      <th>unique_key</th>\n",
       "      <th>taxi_ID</th>\n",
       "      <th>trip_start_timestamp</th>\n",
       "      <th>trip_end_timestamp</th>\n",
       "      <th>trip_miles</th>\n",
       "      <th>pickup_community_area</th>\n",
       "      <th>dropoff_community_area</th>\n",
       "      <th>fare</th>\n",
       "      <th>tips</th>\n",
       "      <th>trip_total</th>\n",
       "      <th>payment_type</th>\n",
       "      <th>company</th>\n",
       "    </tr>\n",
       "  </thead>\n",
       "  <tbody>\n",
       "    <tr>\n",
       "      <th>0</th>\n",
       "      <td>5010436ea1be6bed3abb167bcd583b5e598c72be</td>\n",
       "      <td>341cead8979074196f3231099ef811c4e905d7031dd6d7...</td>\n",
       "      <td>2013-06-09 16:30:00+00:00</td>\n",
       "      <td>2013-06-09 16:44:00+00:00</td>\n",
       "      <td>0.4</td>\n",
       "      <td>8.0</td>\n",
       "      <td>14.0</td>\n",
       "      <td>17.85</td>\n",
       "      <td>4.25</td>\n",
       "      <td>22.10</td>\n",
       "      <td>Credit Card</td>\n",
       "      <td>Taxi Affiliation Services</td>\n",
       "    </tr>\n",
       "    <tr>\n",
       "      <th>1</th>\n",
       "      <td>58d40c82bd65f8337a7cf79c4bcff06a10f6622f</td>\n",
       "      <td>405acec2f3a156bb57c8593c02dbce47f44b63b86fcbc4...</td>\n",
       "      <td>2013-06-02 13:02:00+00:00</td>\n",
       "      <td>2013-06-02 13:18:00+00:00</td>\n",
       "      <td>31.0</td>\n",
       "      <td>6.0</td>\n",
       "      <td>8.0</td>\n",
       "      <td>10.85</td>\n",
       "      <td>2.15</td>\n",
       "      <td>13.00</td>\n",
       "      <td>Credit Card</td>\n",
       "      <td>Taxi Affiliation Services</td>\n",
       "    </tr>\n",
       "    <tr>\n",
       "      <th>2</th>\n",
       "      <td>bd6cd7917ad811078f8f294a02631e004ef1304a</td>\n",
       "      <td>ce28f4015e6382801a405172085edd713a9fffeb321e91...</td>\n",
       "      <td>2013-06-02 15:18:00+00:00</td>\n",
       "      <td>2013-06-02 15:37:00+00:00</td>\n",
       "      <td>0.3</td>\n",
       "      <td>33.0</td>\n",
       "      <td>7.0</td>\n",
       "      <td>13.65</td>\n",
       "      <td>3.40</td>\n",
       "      <td>17.05</td>\n",
       "      <td>Credit Card</td>\n",
       "      <td>Taxi Affiliation Services</td>\n",
       "    </tr>\n",
       "    <tr>\n",
       "      <th>3</th>\n",
       "      <td>876dc025833db474c149b25de1d9d39c9b735a54</td>\n",
       "      <td>c839de167830c1d8f7e1a489a1b9be2940314aba5857c6...</td>\n",
       "      <td>2013-06-02 15:38:00+00:00</td>\n",
       "      <td>2013-06-02 16:10:00+00:00</td>\n",
       "      <td>1.0</td>\n",
       "      <td>76.0</td>\n",
       "      <td>7.0</td>\n",
       "      <td>34.85</td>\n",
       "      <td>7.35</td>\n",
       "      <td>44.20</td>\n",
       "      <td>Credit Card</td>\n",
       "      <td>Blue Ribbon Taxi Association Inc.</td>\n",
       "    </tr>\n",
       "    <tr>\n",
       "      <th>4</th>\n",
       "      <td>c33695d66708b57df3cde919c2e831b58bee71a7</td>\n",
       "      <td>e3dfdc6273b53e7bea4294c159fb810c907ffcd2aba9ba...</td>\n",
       "      <td>2013-05-29 14:54:00+00:00</td>\n",
       "      <td>2013-05-29 15:09:00+00:00</td>\n",
       "      <td>0.0</td>\n",
       "      <td>8.0</td>\n",
       "      <td>28.0</td>\n",
       "      <td>10.45</td>\n",
       "      <td>2.05</td>\n",
       "      <td>12.50</td>\n",
       "      <td>Credit Card</td>\n",
       "      <td>Dispatch Taxi Affiliation</td>\n",
       "    </tr>\n",
       "    <tr>\n",
       "      <th>...</th>\n",
       "      <td>...</td>\n",
       "      <td>...</td>\n",
       "      <td>...</td>\n",
       "      <td>...</td>\n",
       "      <td>...</td>\n",
       "      <td>...</td>\n",
       "      <td>...</td>\n",
       "      <td>...</td>\n",
       "      <td>...</td>\n",
       "      <td>...</td>\n",
       "      <td>...</td>\n",
       "      <td>...</td>\n",
       "    </tr>\n",
       "    <tr>\n",
       "      <th>112028</th>\n",
       "      <td>d0bab20937a56fe51262cae9a87dd3006c2a451e</td>\n",
       "      <td>071d031c64f608418d27905c9ffe95bf52695615683d5f...</td>\n",
       "      <td>2019-08-31 01:59:00+00:00</td>\n",
       "      <td>2019-08-31 02:05:00+00:00</td>\n",
       "      <td>0.0</td>\n",
       "      <td>7.0</td>\n",
       "      <td>8.0</td>\n",
       "      <td>8.25</td>\n",
       "      <td>1.50</td>\n",
       "      <td>9.75</td>\n",
       "      <td>Credit Card</td>\n",
       "      <td>Taxi Affiliation Services</td>\n",
       "    </tr>\n",
       "    <tr>\n",
       "      <th>112029</th>\n",
       "      <td>12f56b557cbad2cea23a982aff90997147d1251b</td>\n",
       "      <td>2519839bf9f934467cc32afcc9c18454ba976c46b3934f...</td>\n",
       "      <td>2019-09-27 19:07:00+00:00</td>\n",
       "      <td>2019-09-27 19:21:00+00:00</td>\n",
       "      <td>0.0</td>\n",
       "      <td>8.0</td>\n",
       "      <td>32.0</td>\n",
       "      <td>9.50</td>\n",
       "      <td>1.50</td>\n",
       "      <td>13.00</td>\n",
       "      <td>Credit Card</td>\n",
       "      <td>Taxi Affiliation Services</td>\n",
       "    </tr>\n",
       "    <tr>\n",
       "      <th>112030</th>\n",
       "      <td>951f84fbe8312fa45a50e6aa377d7dbd51aa951f</td>\n",
       "      <td>5bee5f6487e84f44cf772c1e26d79f8d82e30539c71bf8...</td>\n",
       "      <td>2018-08-21 12:55:00+00:00</td>\n",
       "      <td>2018-08-21 13:01:00+00:00</td>\n",
       "      <td>0.8</td>\n",
       "      <td>8.0</td>\n",
       "      <td>32.0</td>\n",
       "      <td>6.00</td>\n",
       "      <td>1.50</td>\n",
       "      <td>8.50</td>\n",
       "      <td>Credit Card</td>\n",
       "      <td>Taxi Affiliation Services</td>\n",
       "    </tr>\n",
       "    <tr>\n",
       "      <th>112031</th>\n",
       "      <td>1679cf5f7ac18c6573edc87ccbafce7c6825be3a</td>\n",
       "      <td>249ef6f75a49feebb50f4bc68cf7ba703c4006498c63b6...</td>\n",
       "      <td>2019-09-12 17:23:00+00:00</td>\n",
       "      <td>2019-09-12 17:36:00+00:00</td>\n",
       "      <td>1.1</td>\n",
       "      <td>32.0</td>\n",
       "      <td>8.0</td>\n",
       "      <td>8.25</td>\n",
       "      <td>1.50</td>\n",
       "      <td>10.25</td>\n",
       "      <td>Credit Card</td>\n",
       "      <td>Chicago Carriage Cab Corp</td>\n",
       "    </tr>\n",
       "    <tr>\n",
       "      <th>112032</th>\n",
       "      <td>00b8ef5ed124bcf726597eda5132d746ca5add8b</td>\n",
       "      <td>314bf31c888fd796f71e2ccc6680694a03b2df413f5c42...</td>\n",
       "      <td>2019-09-26 19:46:00+00:00</td>\n",
       "      <td>2019-09-26 20:10:00+00:00</td>\n",
       "      <td>0.0</td>\n",
       "      <td>32.0</td>\n",
       "      <td>7.0</td>\n",
       "      <td>14.50</td>\n",
       "      <td>1.50</td>\n",
       "      <td>16.00</td>\n",
       "      <td>Credit Card</td>\n",
       "      <td>Blue Ribbon Taxi Association Inc.</td>\n",
       "    </tr>\n",
       "  </tbody>\n",
       "</table>\n",
       "<p>112033 rows × 12 columns</p>\n",
       "</div>"
      ],
      "text/plain": [
       "                                      unique_key  \\\n",
       "0       5010436ea1be6bed3abb167bcd583b5e598c72be   \n",
       "1       58d40c82bd65f8337a7cf79c4bcff06a10f6622f   \n",
       "2       bd6cd7917ad811078f8f294a02631e004ef1304a   \n",
       "3       876dc025833db474c149b25de1d9d39c9b735a54   \n",
       "4       c33695d66708b57df3cde919c2e831b58bee71a7   \n",
       "...                                          ...   \n",
       "112028  d0bab20937a56fe51262cae9a87dd3006c2a451e   \n",
       "112029  12f56b557cbad2cea23a982aff90997147d1251b   \n",
       "112030  951f84fbe8312fa45a50e6aa377d7dbd51aa951f   \n",
       "112031  1679cf5f7ac18c6573edc87ccbafce7c6825be3a   \n",
       "112032  00b8ef5ed124bcf726597eda5132d746ca5add8b   \n",
       "\n",
       "                                                  taxi_ID  \\\n",
       "0       341cead8979074196f3231099ef811c4e905d7031dd6d7...   \n",
       "1       405acec2f3a156bb57c8593c02dbce47f44b63b86fcbc4...   \n",
       "2       ce28f4015e6382801a405172085edd713a9fffeb321e91...   \n",
       "3       c839de167830c1d8f7e1a489a1b9be2940314aba5857c6...   \n",
       "4       e3dfdc6273b53e7bea4294c159fb810c907ffcd2aba9ba...   \n",
       "...                                                   ...   \n",
       "112028  071d031c64f608418d27905c9ffe95bf52695615683d5f...   \n",
       "112029  2519839bf9f934467cc32afcc9c18454ba976c46b3934f...   \n",
       "112030  5bee5f6487e84f44cf772c1e26d79f8d82e30539c71bf8...   \n",
       "112031  249ef6f75a49feebb50f4bc68cf7ba703c4006498c63b6...   \n",
       "112032  314bf31c888fd796f71e2ccc6680694a03b2df413f5c42...   \n",
       "\n",
       "             trip_start_timestamp         trip_end_timestamp  trip_miles  \\\n",
       "0       2013-06-09 16:30:00+00:00  2013-06-09 16:44:00+00:00         0.4   \n",
       "1       2013-06-02 13:02:00+00:00  2013-06-02 13:18:00+00:00        31.0   \n",
       "2       2013-06-02 15:18:00+00:00  2013-06-02 15:37:00+00:00         0.3   \n",
       "3       2013-06-02 15:38:00+00:00  2013-06-02 16:10:00+00:00         1.0   \n",
       "4       2013-05-29 14:54:00+00:00  2013-05-29 15:09:00+00:00         0.0   \n",
       "...                           ...                        ...         ...   \n",
       "112028  2019-08-31 01:59:00+00:00  2019-08-31 02:05:00+00:00         0.0   \n",
       "112029  2019-09-27 19:07:00+00:00  2019-09-27 19:21:00+00:00         0.0   \n",
       "112030  2018-08-21 12:55:00+00:00  2018-08-21 13:01:00+00:00         0.8   \n",
       "112031  2019-09-12 17:23:00+00:00  2019-09-12 17:36:00+00:00         1.1   \n",
       "112032  2019-09-26 19:46:00+00:00  2019-09-26 20:10:00+00:00         0.0   \n",
       "\n",
       "        pickup_community_area  dropoff_community_area   fare  tips  \\\n",
       "0                         8.0                    14.0  17.85  4.25   \n",
       "1                         6.0                     8.0  10.85  2.15   \n",
       "2                        33.0                     7.0  13.65  3.40   \n",
       "3                        76.0                     7.0  34.85  7.35   \n",
       "4                         8.0                    28.0  10.45  2.05   \n",
       "...                       ...                     ...    ...   ...   \n",
       "112028                    7.0                     8.0   8.25  1.50   \n",
       "112029                    8.0                    32.0   9.50  1.50   \n",
       "112030                    8.0                    32.0   6.00  1.50   \n",
       "112031                   32.0                     8.0   8.25  1.50   \n",
       "112032                   32.0                     7.0  14.50  1.50   \n",
       "\n",
       "        trip_total payment_type                            company  \n",
       "0            22.10  Credit Card          Taxi Affiliation Services  \n",
       "1            13.00  Credit Card          Taxi Affiliation Services  \n",
       "2            17.05  Credit Card          Taxi Affiliation Services  \n",
       "3            44.20  Credit Card  Blue Ribbon Taxi Association Inc.  \n",
       "4            12.50  Credit Card          Dispatch Taxi Affiliation  \n",
       "...            ...          ...                                ...  \n",
       "112028        9.75  Credit Card          Taxi Affiliation Services  \n",
       "112029       13.00  Credit Card          Taxi Affiliation Services  \n",
       "112030        8.50  Credit Card          Taxi Affiliation Services  \n",
       "112031       10.25  Credit Card          Chicago Carriage Cab Corp  \n",
       "112032       16.00  Credit Card  Blue Ribbon Taxi Association Inc.  \n",
       "\n",
       "[112033 rows x 12 columns]"
      ]
     },
     "execution_count": 2,
     "metadata": {},
     "output_type": "execute_result"
    }
   ],
   "source": [
    "trips_raw = bpd.read_csv('data/chicago_taxi_trips.csv')\n",
    "trips_raw"
   ]
  },
  {
   "cell_type": "markdown",
   "metadata": {},
   "source": [
    "You might notice that reading in the data took a little longer than usual. That's because this file contains 30 MB of data -- not a *huge* amount, but certainly larger than most of the datasets we've been working with so far.\n",
    "\n",
    "Taking a quick look at the table, we see that each row represents a single taxi trip. The precise meaning of each column is provided by the [city of Chicago's open data portal](https://digital.chicago.gov/index.php/chicago-taxi-data-released/). Here are the summaries:"
   ]
  },
  {
   "cell_type": "markdown",
   "metadata": {},
   "source": [
    "- **unique_key**: a unique identifier given to each trip\n",
    "- **taxi_ID**: an anonymous identifier unique to each taxi. If two trips have the same taxi_ID, they shared the same taxi driver.\n",
    "- **trip_start_timestamp**: a string describing the start time of the trip\n",
    "- **trip_end_timestamp**: a string describing the end time of the trip\n",
    "- **trip_miles**: the length of the trip in miles\n",
    "- **pickup_community_area**: an integer representing the area in which the trip started\n",
    "- **dropoff_community_area**: an integer representing the area in which the trip ended\n",
    "- **fare**: the price of the trip in dollars, excluding tip and extra fees\n",
    "- **tips**: the tip in dollars. If the customer paid in cash, the tip is not recorded, and this is zero.\n",
    "- **trip_total**: the total price of the trip in dollars, including fare, tips, and extra fees.\n",
    "- **payment_type**: a string describing the method used to pay for the trip. e.g., \"Credit Card\"\n",
    "- **company**: the taxi company providing the trip"
   ]
  },
  {
   "cell_type": "markdown",
   "metadata": {},
   "source": [
    "Before moving on, it's worthwhile to note that there are **serious** privacy and security concerns surrounding the publication of every taxi trip. Thankfully, the city of Chicago has taken steps to anonymize the data while preserving as much useful information as possible. For one, the precise location of the trip has been replaced by the much more vague [community area number](https://en.wikipedia.org/wiki/Community_areas_in_Chicago). The start and stop times have also been modified so that they are only accurate to within 15 minutes (although the trip duration, calculated by the difference between them, *is* accurate).\n",
    "\n",
    "Lastly, you might notice that the tax ID is a long string of numbers and letters than looks almost random. You might know that every taxi in the city has a unique *medallion number* printed on its side. Why not just use this number? Privacy for the taxi driver. In this data set, every taxi is assign a UUID (universally unique identifier) that is unique to it, but which has no meaning outside of the dataset."
   ]
  },
  {
   "cell_type": "markdown",
   "metadata": {},
   "source": [
    "Let's prepare our dataset. Is there a column that would work naturally as an index? Since each row is a trip, the **unique_key** column makes the most sense. We'll use it as the index."
   ]
  },
  {
   "cell_type": "code",
   "execution_count": 3,
   "metadata": {},
   "outputs": [
    {
     "data": {
      "text/html": [
       "<div>\n",
       "<style scoped>\n",
       "    .dataframe tbody tr th:only-of-type {\n",
       "        vertical-align: middle;\n",
       "    }\n",
       "\n",
       "    .dataframe tbody tr th {\n",
       "        vertical-align: top;\n",
       "    }\n",
       "\n",
       "    .dataframe thead th {\n",
       "        text-align: right;\n",
       "    }\n",
       "</style>\n",
       "<table border=\"1\" class=\"dataframe\">\n",
       "  <thead>\n",
       "    <tr style=\"text-align: right;\">\n",
       "      <th></th>\n",
       "      <th>taxi_ID</th>\n",
       "      <th>trip_start_timestamp</th>\n",
       "      <th>trip_end_timestamp</th>\n",
       "      <th>trip_miles</th>\n",
       "      <th>pickup_community_area</th>\n",
       "      <th>dropoff_community_area</th>\n",
       "      <th>fare</th>\n",
       "      <th>tips</th>\n",
       "      <th>trip_total</th>\n",
       "      <th>payment_type</th>\n",
       "      <th>company</th>\n",
       "    </tr>\n",
       "    <tr>\n",
       "      <th>unique_key</th>\n",
       "      <th></th>\n",
       "      <th></th>\n",
       "      <th></th>\n",
       "      <th></th>\n",
       "      <th></th>\n",
       "      <th></th>\n",
       "      <th></th>\n",
       "      <th></th>\n",
       "      <th></th>\n",
       "      <th></th>\n",
       "      <th></th>\n",
       "    </tr>\n",
       "  </thead>\n",
       "  <tbody>\n",
       "    <tr>\n",
       "      <th>5010436ea1be6bed3abb167bcd583b5e598c72be</th>\n",
       "      <td>341cead8979074196f3231099ef811c4e905d7031dd6d7...</td>\n",
       "      <td>2013-06-09 16:30:00+00:00</td>\n",
       "      <td>2013-06-09 16:44:00+00:00</td>\n",
       "      <td>0.4</td>\n",
       "      <td>8.0</td>\n",
       "      <td>14.0</td>\n",
       "      <td>17.85</td>\n",
       "      <td>4.25</td>\n",
       "      <td>22.10</td>\n",
       "      <td>Credit Card</td>\n",
       "      <td>Taxi Affiliation Services</td>\n",
       "    </tr>\n",
       "    <tr>\n",
       "      <th>58d40c82bd65f8337a7cf79c4bcff06a10f6622f</th>\n",
       "      <td>405acec2f3a156bb57c8593c02dbce47f44b63b86fcbc4...</td>\n",
       "      <td>2013-06-02 13:02:00+00:00</td>\n",
       "      <td>2013-06-02 13:18:00+00:00</td>\n",
       "      <td>31.0</td>\n",
       "      <td>6.0</td>\n",
       "      <td>8.0</td>\n",
       "      <td>10.85</td>\n",
       "      <td>2.15</td>\n",
       "      <td>13.00</td>\n",
       "      <td>Credit Card</td>\n",
       "      <td>Taxi Affiliation Services</td>\n",
       "    </tr>\n",
       "    <tr>\n",
       "      <th>bd6cd7917ad811078f8f294a02631e004ef1304a</th>\n",
       "      <td>ce28f4015e6382801a405172085edd713a9fffeb321e91...</td>\n",
       "      <td>2013-06-02 15:18:00+00:00</td>\n",
       "      <td>2013-06-02 15:37:00+00:00</td>\n",
       "      <td>0.3</td>\n",
       "      <td>33.0</td>\n",
       "      <td>7.0</td>\n",
       "      <td>13.65</td>\n",
       "      <td>3.40</td>\n",
       "      <td>17.05</td>\n",
       "      <td>Credit Card</td>\n",
       "      <td>Taxi Affiliation Services</td>\n",
       "    </tr>\n",
       "    <tr>\n",
       "      <th>876dc025833db474c149b25de1d9d39c9b735a54</th>\n",
       "      <td>c839de167830c1d8f7e1a489a1b9be2940314aba5857c6...</td>\n",
       "      <td>2013-06-02 15:38:00+00:00</td>\n",
       "      <td>2013-06-02 16:10:00+00:00</td>\n",
       "      <td>1.0</td>\n",
       "      <td>76.0</td>\n",
       "      <td>7.0</td>\n",
       "      <td>34.85</td>\n",
       "      <td>7.35</td>\n",
       "      <td>44.20</td>\n",
       "      <td>Credit Card</td>\n",
       "      <td>Blue Ribbon Taxi Association Inc.</td>\n",
       "    </tr>\n",
       "    <tr>\n",
       "      <th>c33695d66708b57df3cde919c2e831b58bee71a7</th>\n",
       "      <td>e3dfdc6273b53e7bea4294c159fb810c907ffcd2aba9ba...</td>\n",
       "      <td>2013-05-29 14:54:00+00:00</td>\n",
       "      <td>2013-05-29 15:09:00+00:00</td>\n",
       "      <td>0.0</td>\n",
       "      <td>8.0</td>\n",
       "      <td>28.0</td>\n",
       "      <td>10.45</td>\n",
       "      <td>2.05</td>\n",
       "      <td>12.50</td>\n",
       "      <td>Credit Card</td>\n",
       "      <td>Dispatch Taxi Affiliation</td>\n",
       "    </tr>\n",
       "    <tr>\n",
       "      <th>...</th>\n",
       "      <td>...</td>\n",
       "      <td>...</td>\n",
       "      <td>...</td>\n",
       "      <td>...</td>\n",
       "      <td>...</td>\n",
       "      <td>...</td>\n",
       "      <td>...</td>\n",
       "      <td>...</td>\n",
       "      <td>...</td>\n",
       "      <td>...</td>\n",
       "      <td>...</td>\n",
       "    </tr>\n",
       "    <tr>\n",
       "      <th>d0bab20937a56fe51262cae9a87dd3006c2a451e</th>\n",
       "      <td>071d031c64f608418d27905c9ffe95bf52695615683d5f...</td>\n",
       "      <td>2019-08-31 01:59:00+00:00</td>\n",
       "      <td>2019-08-31 02:05:00+00:00</td>\n",
       "      <td>0.0</td>\n",
       "      <td>7.0</td>\n",
       "      <td>8.0</td>\n",
       "      <td>8.25</td>\n",
       "      <td>1.50</td>\n",
       "      <td>9.75</td>\n",
       "      <td>Credit Card</td>\n",
       "      <td>Taxi Affiliation Services</td>\n",
       "    </tr>\n",
       "    <tr>\n",
       "      <th>12f56b557cbad2cea23a982aff90997147d1251b</th>\n",
       "      <td>2519839bf9f934467cc32afcc9c18454ba976c46b3934f...</td>\n",
       "      <td>2019-09-27 19:07:00+00:00</td>\n",
       "      <td>2019-09-27 19:21:00+00:00</td>\n",
       "      <td>0.0</td>\n",
       "      <td>8.0</td>\n",
       "      <td>32.0</td>\n",
       "      <td>9.50</td>\n",
       "      <td>1.50</td>\n",
       "      <td>13.00</td>\n",
       "      <td>Credit Card</td>\n",
       "      <td>Taxi Affiliation Services</td>\n",
       "    </tr>\n",
       "    <tr>\n",
       "      <th>951f84fbe8312fa45a50e6aa377d7dbd51aa951f</th>\n",
       "      <td>5bee5f6487e84f44cf772c1e26d79f8d82e30539c71bf8...</td>\n",
       "      <td>2018-08-21 12:55:00+00:00</td>\n",
       "      <td>2018-08-21 13:01:00+00:00</td>\n",
       "      <td>0.8</td>\n",
       "      <td>8.0</td>\n",
       "      <td>32.0</td>\n",
       "      <td>6.00</td>\n",
       "      <td>1.50</td>\n",
       "      <td>8.50</td>\n",
       "      <td>Credit Card</td>\n",
       "      <td>Taxi Affiliation Services</td>\n",
       "    </tr>\n",
       "    <tr>\n",
       "      <th>1679cf5f7ac18c6573edc87ccbafce7c6825be3a</th>\n",
       "      <td>249ef6f75a49feebb50f4bc68cf7ba703c4006498c63b6...</td>\n",
       "      <td>2019-09-12 17:23:00+00:00</td>\n",
       "      <td>2019-09-12 17:36:00+00:00</td>\n",
       "      <td>1.1</td>\n",
       "      <td>32.0</td>\n",
       "      <td>8.0</td>\n",
       "      <td>8.25</td>\n",
       "      <td>1.50</td>\n",
       "      <td>10.25</td>\n",
       "      <td>Credit Card</td>\n",
       "      <td>Chicago Carriage Cab Corp</td>\n",
       "    </tr>\n",
       "    <tr>\n",
       "      <th>00b8ef5ed124bcf726597eda5132d746ca5add8b</th>\n",
       "      <td>314bf31c888fd796f71e2ccc6680694a03b2df413f5c42...</td>\n",
       "      <td>2019-09-26 19:46:00+00:00</td>\n",
       "      <td>2019-09-26 20:10:00+00:00</td>\n",
       "      <td>0.0</td>\n",
       "      <td>32.0</td>\n",
       "      <td>7.0</td>\n",
       "      <td>14.50</td>\n",
       "      <td>1.50</td>\n",
       "      <td>16.00</td>\n",
       "      <td>Credit Card</td>\n",
       "      <td>Blue Ribbon Taxi Association Inc.</td>\n",
       "    </tr>\n",
       "  </tbody>\n",
       "</table>\n",
       "<p>112033 rows × 11 columns</p>\n",
       "</div>"
      ],
      "text/plain": [
       "                                                                                    taxi_ID  \\\n",
       "unique_key                                                                                    \n",
       "5010436ea1be6bed3abb167bcd583b5e598c72be  341cead8979074196f3231099ef811c4e905d7031dd6d7...   \n",
       "58d40c82bd65f8337a7cf79c4bcff06a10f6622f  405acec2f3a156bb57c8593c02dbce47f44b63b86fcbc4...   \n",
       "bd6cd7917ad811078f8f294a02631e004ef1304a  ce28f4015e6382801a405172085edd713a9fffeb321e91...   \n",
       "876dc025833db474c149b25de1d9d39c9b735a54  c839de167830c1d8f7e1a489a1b9be2940314aba5857c6...   \n",
       "c33695d66708b57df3cde919c2e831b58bee71a7  e3dfdc6273b53e7bea4294c159fb810c907ffcd2aba9ba...   \n",
       "...                                                                                     ...   \n",
       "d0bab20937a56fe51262cae9a87dd3006c2a451e  071d031c64f608418d27905c9ffe95bf52695615683d5f...   \n",
       "12f56b557cbad2cea23a982aff90997147d1251b  2519839bf9f934467cc32afcc9c18454ba976c46b3934f...   \n",
       "951f84fbe8312fa45a50e6aa377d7dbd51aa951f  5bee5f6487e84f44cf772c1e26d79f8d82e30539c71bf8...   \n",
       "1679cf5f7ac18c6573edc87ccbafce7c6825be3a  249ef6f75a49feebb50f4bc68cf7ba703c4006498c63b6...   \n",
       "00b8ef5ed124bcf726597eda5132d746ca5add8b  314bf31c888fd796f71e2ccc6680694a03b2df413f5c42...   \n",
       "\n",
       "                                               trip_start_timestamp  \\\n",
       "unique_key                                                            \n",
       "5010436ea1be6bed3abb167bcd583b5e598c72be  2013-06-09 16:30:00+00:00   \n",
       "58d40c82bd65f8337a7cf79c4bcff06a10f6622f  2013-06-02 13:02:00+00:00   \n",
       "bd6cd7917ad811078f8f294a02631e004ef1304a  2013-06-02 15:18:00+00:00   \n",
       "876dc025833db474c149b25de1d9d39c9b735a54  2013-06-02 15:38:00+00:00   \n",
       "c33695d66708b57df3cde919c2e831b58bee71a7  2013-05-29 14:54:00+00:00   \n",
       "...                                                             ...   \n",
       "d0bab20937a56fe51262cae9a87dd3006c2a451e  2019-08-31 01:59:00+00:00   \n",
       "12f56b557cbad2cea23a982aff90997147d1251b  2019-09-27 19:07:00+00:00   \n",
       "951f84fbe8312fa45a50e6aa377d7dbd51aa951f  2018-08-21 12:55:00+00:00   \n",
       "1679cf5f7ac18c6573edc87ccbafce7c6825be3a  2019-09-12 17:23:00+00:00   \n",
       "00b8ef5ed124bcf726597eda5132d746ca5add8b  2019-09-26 19:46:00+00:00   \n",
       "\n",
       "                                                 trip_end_timestamp  \\\n",
       "unique_key                                                            \n",
       "5010436ea1be6bed3abb167bcd583b5e598c72be  2013-06-09 16:44:00+00:00   \n",
       "58d40c82bd65f8337a7cf79c4bcff06a10f6622f  2013-06-02 13:18:00+00:00   \n",
       "bd6cd7917ad811078f8f294a02631e004ef1304a  2013-06-02 15:37:00+00:00   \n",
       "876dc025833db474c149b25de1d9d39c9b735a54  2013-06-02 16:10:00+00:00   \n",
       "c33695d66708b57df3cde919c2e831b58bee71a7  2013-05-29 15:09:00+00:00   \n",
       "...                                                             ...   \n",
       "d0bab20937a56fe51262cae9a87dd3006c2a451e  2019-08-31 02:05:00+00:00   \n",
       "12f56b557cbad2cea23a982aff90997147d1251b  2019-09-27 19:21:00+00:00   \n",
       "951f84fbe8312fa45a50e6aa377d7dbd51aa951f  2018-08-21 13:01:00+00:00   \n",
       "1679cf5f7ac18c6573edc87ccbafce7c6825be3a  2019-09-12 17:36:00+00:00   \n",
       "00b8ef5ed124bcf726597eda5132d746ca5add8b  2019-09-26 20:10:00+00:00   \n",
       "\n",
       "                                          trip_miles  pickup_community_area  \\\n",
       "unique_key                                                                    \n",
       "5010436ea1be6bed3abb167bcd583b5e598c72be         0.4                    8.0   \n",
       "58d40c82bd65f8337a7cf79c4bcff06a10f6622f        31.0                    6.0   \n",
       "bd6cd7917ad811078f8f294a02631e004ef1304a         0.3                   33.0   \n",
       "876dc025833db474c149b25de1d9d39c9b735a54         1.0                   76.0   \n",
       "c33695d66708b57df3cde919c2e831b58bee71a7         0.0                    8.0   \n",
       "...                                              ...                    ...   \n",
       "d0bab20937a56fe51262cae9a87dd3006c2a451e         0.0                    7.0   \n",
       "12f56b557cbad2cea23a982aff90997147d1251b         0.0                    8.0   \n",
       "951f84fbe8312fa45a50e6aa377d7dbd51aa951f         0.8                    8.0   \n",
       "1679cf5f7ac18c6573edc87ccbafce7c6825be3a         1.1                   32.0   \n",
       "00b8ef5ed124bcf726597eda5132d746ca5add8b         0.0                   32.0   \n",
       "\n",
       "                                          dropoff_community_area   fare  tips  \\\n",
       "unique_key                                                                      \n",
       "5010436ea1be6bed3abb167bcd583b5e598c72be                    14.0  17.85  4.25   \n",
       "58d40c82bd65f8337a7cf79c4bcff06a10f6622f                     8.0  10.85  2.15   \n",
       "bd6cd7917ad811078f8f294a02631e004ef1304a                     7.0  13.65  3.40   \n",
       "876dc025833db474c149b25de1d9d39c9b735a54                     7.0  34.85  7.35   \n",
       "c33695d66708b57df3cde919c2e831b58bee71a7                    28.0  10.45  2.05   \n",
       "...                                                          ...    ...   ...   \n",
       "d0bab20937a56fe51262cae9a87dd3006c2a451e                     8.0   8.25  1.50   \n",
       "12f56b557cbad2cea23a982aff90997147d1251b                    32.0   9.50  1.50   \n",
       "951f84fbe8312fa45a50e6aa377d7dbd51aa951f                    32.0   6.00  1.50   \n",
       "1679cf5f7ac18c6573edc87ccbafce7c6825be3a                     8.0   8.25  1.50   \n",
       "00b8ef5ed124bcf726597eda5132d746ca5add8b                     7.0  14.50  1.50   \n",
       "\n",
       "                                          trip_total payment_type  \\\n",
       "unique_key                                                          \n",
       "5010436ea1be6bed3abb167bcd583b5e598c72be       22.10  Credit Card   \n",
       "58d40c82bd65f8337a7cf79c4bcff06a10f6622f       13.00  Credit Card   \n",
       "bd6cd7917ad811078f8f294a02631e004ef1304a       17.05  Credit Card   \n",
       "876dc025833db474c149b25de1d9d39c9b735a54       44.20  Credit Card   \n",
       "c33695d66708b57df3cde919c2e831b58bee71a7       12.50  Credit Card   \n",
       "...                                              ...          ...   \n",
       "d0bab20937a56fe51262cae9a87dd3006c2a451e        9.75  Credit Card   \n",
       "12f56b557cbad2cea23a982aff90997147d1251b       13.00  Credit Card   \n",
       "951f84fbe8312fa45a50e6aa377d7dbd51aa951f        8.50  Credit Card   \n",
       "1679cf5f7ac18c6573edc87ccbafce7c6825be3a       10.25  Credit Card   \n",
       "00b8ef5ed124bcf726597eda5132d746ca5add8b       16.00  Credit Card   \n",
       "\n",
       "                                                                    company  \n",
       "unique_key                                                                   \n",
       "5010436ea1be6bed3abb167bcd583b5e598c72be          Taxi Affiliation Services  \n",
       "58d40c82bd65f8337a7cf79c4bcff06a10f6622f          Taxi Affiliation Services  \n",
       "bd6cd7917ad811078f8f294a02631e004ef1304a          Taxi Affiliation Services  \n",
       "876dc025833db474c149b25de1d9d39c9b735a54  Blue Ribbon Taxi Association Inc.  \n",
       "c33695d66708b57df3cde919c2e831b58bee71a7          Dispatch Taxi Affiliation  \n",
       "...                                                                     ...  \n",
       "d0bab20937a56fe51262cae9a87dd3006c2a451e          Taxi Affiliation Services  \n",
       "12f56b557cbad2cea23a982aff90997147d1251b          Taxi Affiliation Services  \n",
       "951f84fbe8312fa45a50e6aa377d7dbd51aa951f          Taxi Affiliation Services  \n",
       "1679cf5f7ac18c6573edc87ccbafce7c6825be3a          Chicago Carriage Cab Corp  \n",
       "00b8ef5ed124bcf726597eda5132d746ca5add8b  Blue Ribbon Taxi Association Inc.  \n",
       "\n",
       "[112033 rows x 11 columns]"
      ]
     },
     "execution_count": 3,
     "metadata": {},
     "output_type": "execute_result"
    }
   ],
   "source": [
    "trips_with_index = trips_raw.set_index('unique_key')\n",
    "trips_with_index"
   ]
  },
  {
   "cell_type": "markdown",
   "metadata": {},
   "source": [
    "### Working with datetimes"
   ]
  },
  {
   "cell_type": "markdown",
   "metadata": {},
   "source": [
    "We'll certainly want to perform some analyses using the time that the trip started. For instance, is the number of taxi trips changing over time? The start and end time of each trip are currently stored as strings in **trip_start_timestamp** and **trip_stop_timestamp**. In particular, these strings are stored in an international standard format so that they can be written and read by different software systems without too much hassle. For instance, the string `2013-06-09 16:30:00+00:00` represents the datetime of June 9, 2013 at 4:30 PM. The timezone is not provided, but we can probably assume that it is CST (Central Standard Time). We'll check this assumption soon."
   ]
  },
  {
   "cell_type": "markdown",
   "metadata": {},
   "source": [
    "To make working with the times easier, let's extract the year, month, date, and hour from this string. We *could* do this with the string methods we've seen before, but Python actually provides an easier way. The `datetime` module, included with Python, has a function which will read a datetime string in standard format and convert it to a *datetime* object."
   ]
  },
  {
   "cell_type": "code",
   "execution_count": 4,
   "metadata": {},
   "outputs": [
    {
     "data": {
      "text/plain": [
       "datetime.datetime(2013, 6, 9, 16, 30, tzinfo=datetime.timezone.utc)"
      ]
     },
     "execution_count": 4,
     "metadata": {},
     "output_type": "execute_result"
    }
   ],
   "source": [
    "import datetime\n",
    "dt = datetime.datetime.fromisoformat('2013-06-09 16:30:00+00:00')\n",
    "dt"
   ]
  },
  {
   "cell_type": "markdown",
   "metadata": {},
   "source": [
    "Python has parsed the datestring into its constituent parts. To get the year from our datestring, for example, we can write:"
   ]
  },
  {
   "cell_type": "code",
   "execution_count": 5,
   "metadata": {},
   "outputs": [
    {
     "data": {
      "text/plain": [
       "2013"
      ]
     },
     "execution_count": 5,
     "metadata": {},
     "output_type": "execute_result"
    }
   ],
   "source": [
    "dt.year"
   ]
  },
  {
   "cell_type": "markdown",
   "metadata": {},
   "source": [
    "To get the day, we can write:"
   ]
  },
  {
   "cell_type": "code",
   "execution_count": 6,
   "metadata": {},
   "outputs": [
    {
     "data": {
      "text/plain": [
       "9"
      ]
     },
     "execution_count": 6,
     "metadata": {},
     "output_type": "execute_result"
    }
   ],
   "source": [
    "dt.day"
   ]
  },
  {
   "cell_type": "markdown",
   "metadata": {},
   "source": [
    "We can even ask which day of the week this particular date corresponds to with `.weekday()`. The result is a number; 0 corresponds to Monday, 1 corresponds to Tuesday, and so forth."
   ]
  },
  {
   "cell_type": "code",
   "execution_count": 7,
   "metadata": {},
   "outputs": [
    {
     "data": {
      "text/plain": [
       "6"
      ]
     },
     "execution_count": 7,
     "metadata": {},
     "output_type": "execute_result"
    }
   ],
   "source": [
    "dt.weekday()"
   ]
  },
  {
   "cell_type": "markdown",
   "metadata": {},
   "source": [
    "**Question 1.** Starting with `trips_with_index`, create a new table called `trips_with_start_times` which has all of the columns of the old table, plus five new columns: \n",
    "\n",
    "- **start_year**: the year of the trip start time as an integer. e.g., 2013.\n",
    "- **start_month**: the month of the trip start time as an integer. e.g., 6\n",
    "- **start_day**: the day of the month of the trip start time. e.g., 9.\n",
    "- **start_weekday**: the day of the week as an integer, with Monday being 0, Tuesday being 1., etc. e.g., 6\n",
    "- **start_hour**: the hour of the start time as an integer. e.g., 16.\n",
    "\n",
    "*Note*: this question, like many in this project, requires several steps. Feel free to create new cells."
   ]
  },
  {
   "cell_type": "code",
   "execution_count": 8,
   "metadata": {},
   "outputs": [
    {
     "data": {
      "text/html": [
       "<div>\n",
       "<style scoped>\n",
       "    .dataframe tbody tr th:only-of-type {\n",
       "        vertical-align: middle;\n",
       "    }\n",
       "\n",
       "    .dataframe tbody tr th {\n",
       "        vertical-align: top;\n",
       "    }\n",
       "\n",
       "    .dataframe thead th {\n",
       "        text-align: right;\n",
       "    }\n",
       "</style>\n",
       "<table border=\"1\" class=\"dataframe\">\n",
       "  <thead>\n",
       "    <tr style=\"text-align: right;\">\n",
       "      <th></th>\n",
       "      <th>taxi_ID</th>\n",
       "      <th>trip_start_timestamp</th>\n",
       "      <th>trip_end_timestamp</th>\n",
       "      <th>trip_miles</th>\n",
       "      <th>pickup_community_area</th>\n",
       "      <th>dropoff_community_area</th>\n",
       "      <th>fare</th>\n",
       "      <th>tips</th>\n",
       "      <th>trip_total</th>\n",
       "      <th>payment_type</th>\n",
       "      <th>company</th>\n",
       "      <th>start_year</th>\n",
       "      <th>start_month</th>\n",
       "      <th>start_day</th>\n",
       "      <th>start_weekday</th>\n",
       "      <th>start_hour</th>\n",
       "    </tr>\n",
       "    <tr>\n",
       "      <th>unique_key</th>\n",
       "      <th></th>\n",
       "      <th></th>\n",
       "      <th></th>\n",
       "      <th></th>\n",
       "      <th></th>\n",
       "      <th></th>\n",
       "      <th></th>\n",
       "      <th></th>\n",
       "      <th></th>\n",
       "      <th></th>\n",
       "      <th></th>\n",
       "      <th></th>\n",
       "      <th></th>\n",
       "      <th></th>\n",
       "      <th></th>\n",
       "      <th></th>\n",
       "    </tr>\n",
       "  </thead>\n",
       "  <tbody>\n",
       "    <tr>\n",
       "      <th>5010436ea1be6bed3abb167bcd583b5e598c72be</th>\n",
       "      <td>341cead8979074196f3231099ef811c4e905d7031dd6d7...</td>\n",
       "      <td>2013-06-09 16:30:00+00:00</td>\n",
       "      <td>2013-06-09 16:44:00+00:00</td>\n",
       "      <td>0.4</td>\n",
       "      <td>8.0</td>\n",
       "      <td>14.0</td>\n",
       "      <td>17.85</td>\n",
       "      <td>4.25</td>\n",
       "      <td>22.10</td>\n",
       "      <td>Credit Card</td>\n",
       "      <td>Taxi Affiliation Services</td>\n",
       "      <td>2013</td>\n",
       "      <td>6</td>\n",
       "      <td>9</td>\n",
       "      <td>6</td>\n",
       "      <td>16</td>\n",
       "    </tr>\n",
       "    <tr>\n",
       "      <th>58d40c82bd65f8337a7cf79c4bcff06a10f6622f</th>\n",
       "      <td>405acec2f3a156bb57c8593c02dbce47f44b63b86fcbc4...</td>\n",
       "      <td>2013-06-02 13:02:00+00:00</td>\n",
       "      <td>2013-06-02 13:18:00+00:00</td>\n",
       "      <td>31.0</td>\n",
       "      <td>6.0</td>\n",
       "      <td>8.0</td>\n",
       "      <td>10.85</td>\n",
       "      <td>2.15</td>\n",
       "      <td>13.00</td>\n",
       "      <td>Credit Card</td>\n",
       "      <td>Taxi Affiliation Services</td>\n",
       "      <td>2013</td>\n",
       "      <td>6</td>\n",
       "      <td>2</td>\n",
       "      <td>6</td>\n",
       "      <td>13</td>\n",
       "    </tr>\n",
       "    <tr>\n",
       "      <th>bd6cd7917ad811078f8f294a02631e004ef1304a</th>\n",
       "      <td>ce28f4015e6382801a405172085edd713a9fffeb321e91...</td>\n",
       "      <td>2013-06-02 15:18:00+00:00</td>\n",
       "      <td>2013-06-02 15:37:00+00:00</td>\n",
       "      <td>0.3</td>\n",
       "      <td>33.0</td>\n",
       "      <td>7.0</td>\n",
       "      <td>13.65</td>\n",
       "      <td>3.40</td>\n",
       "      <td>17.05</td>\n",
       "      <td>Credit Card</td>\n",
       "      <td>Taxi Affiliation Services</td>\n",
       "      <td>2013</td>\n",
       "      <td>6</td>\n",
       "      <td>2</td>\n",
       "      <td>6</td>\n",
       "      <td>15</td>\n",
       "    </tr>\n",
       "    <tr>\n",
       "      <th>876dc025833db474c149b25de1d9d39c9b735a54</th>\n",
       "      <td>c839de167830c1d8f7e1a489a1b9be2940314aba5857c6...</td>\n",
       "      <td>2013-06-02 15:38:00+00:00</td>\n",
       "      <td>2013-06-02 16:10:00+00:00</td>\n",
       "      <td>1.0</td>\n",
       "      <td>76.0</td>\n",
       "      <td>7.0</td>\n",
       "      <td>34.85</td>\n",
       "      <td>7.35</td>\n",
       "      <td>44.20</td>\n",
       "      <td>Credit Card</td>\n",
       "      <td>Blue Ribbon Taxi Association Inc.</td>\n",
       "      <td>2013</td>\n",
       "      <td>6</td>\n",
       "      <td>2</td>\n",
       "      <td>6</td>\n",
       "      <td>15</td>\n",
       "    </tr>\n",
       "    <tr>\n",
       "      <th>c33695d66708b57df3cde919c2e831b58bee71a7</th>\n",
       "      <td>e3dfdc6273b53e7bea4294c159fb810c907ffcd2aba9ba...</td>\n",
       "      <td>2013-05-29 14:54:00+00:00</td>\n",
       "      <td>2013-05-29 15:09:00+00:00</td>\n",
       "      <td>0.0</td>\n",
       "      <td>8.0</td>\n",
       "      <td>28.0</td>\n",
       "      <td>10.45</td>\n",
       "      <td>2.05</td>\n",
       "      <td>12.50</td>\n",
       "      <td>Credit Card</td>\n",
       "      <td>Dispatch Taxi Affiliation</td>\n",
       "      <td>2013</td>\n",
       "      <td>5</td>\n",
       "      <td>29</td>\n",
       "      <td>2</td>\n",
       "      <td>14</td>\n",
       "    </tr>\n",
       "    <tr>\n",
       "      <th>...</th>\n",
       "      <td>...</td>\n",
       "      <td>...</td>\n",
       "      <td>...</td>\n",
       "      <td>...</td>\n",
       "      <td>...</td>\n",
       "      <td>...</td>\n",
       "      <td>...</td>\n",
       "      <td>...</td>\n",
       "      <td>...</td>\n",
       "      <td>...</td>\n",
       "      <td>...</td>\n",
       "      <td>...</td>\n",
       "      <td>...</td>\n",
       "      <td>...</td>\n",
       "      <td>...</td>\n",
       "      <td>...</td>\n",
       "    </tr>\n",
       "    <tr>\n",
       "      <th>d0bab20937a56fe51262cae9a87dd3006c2a451e</th>\n",
       "      <td>071d031c64f608418d27905c9ffe95bf52695615683d5f...</td>\n",
       "      <td>2019-08-31 01:59:00+00:00</td>\n",
       "      <td>2019-08-31 02:05:00+00:00</td>\n",
       "      <td>0.0</td>\n",
       "      <td>7.0</td>\n",
       "      <td>8.0</td>\n",
       "      <td>8.25</td>\n",
       "      <td>1.50</td>\n",
       "      <td>9.75</td>\n",
       "      <td>Credit Card</td>\n",
       "      <td>Taxi Affiliation Services</td>\n",
       "      <td>2019</td>\n",
       "      <td>8</td>\n",
       "      <td>31</td>\n",
       "      <td>5</td>\n",
       "      <td>1</td>\n",
       "    </tr>\n",
       "    <tr>\n",
       "      <th>12f56b557cbad2cea23a982aff90997147d1251b</th>\n",
       "      <td>2519839bf9f934467cc32afcc9c18454ba976c46b3934f...</td>\n",
       "      <td>2019-09-27 19:07:00+00:00</td>\n",
       "      <td>2019-09-27 19:21:00+00:00</td>\n",
       "      <td>0.0</td>\n",
       "      <td>8.0</td>\n",
       "      <td>32.0</td>\n",
       "      <td>9.50</td>\n",
       "      <td>1.50</td>\n",
       "      <td>13.00</td>\n",
       "      <td>Credit Card</td>\n",
       "      <td>Taxi Affiliation Services</td>\n",
       "      <td>2019</td>\n",
       "      <td>9</td>\n",
       "      <td>27</td>\n",
       "      <td>4</td>\n",
       "      <td>19</td>\n",
       "    </tr>\n",
       "    <tr>\n",
       "      <th>951f84fbe8312fa45a50e6aa377d7dbd51aa951f</th>\n",
       "      <td>5bee5f6487e84f44cf772c1e26d79f8d82e30539c71bf8...</td>\n",
       "      <td>2018-08-21 12:55:00+00:00</td>\n",
       "      <td>2018-08-21 13:01:00+00:00</td>\n",
       "      <td>0.8</td>\n",
       "      <td>8.0</td>\n",
       "      <td>32.0</td>\n",
       "      <td>6.00</td>\n",
       "      <td>1.50</td>\n",
       "      <td>8.50</td>\n",
       "      <td>Credit Card</td>\n",
       "      <td>Taxi Affiliation Services</td>\n",
       "      <td>2018</td>\n",
       "      <td>8</td>\n",
       "      <td>21</td>\n",
       "      <td>1</td>\n",
       "      <td>12</td>\n",
       "    </tr>\n",
       "    <tr>\n",
       "      <th>1679cf5f7ac18c6573edc87ccbafce7c6825be3a</th>\n",
       "      <td>249ef6f75a49feebb50f4bc68cf7ba703c4006498c63b6...</td>\n",
       "      <td>2019-09-12 17:23:00+00:00</td>\n",
       "      <td>2019-09-12 17:36:00+00:00</td>\n",
       "      <td>1.1</td>\n",
       "      <td>32.0</td>\n",
       "      <td>8.0</td>\n",
       "      <td>8.25</td>\n",
       "      <td>1.50</td>\n",
       "      <td>10.25</td>\n",
       "      <td>Credit Card</td>\n",
       "      <td>Chicago Carriage Cab Corp</td>\n",
       "      <td>2019</td>\n",
       "      <td>9</td>\n",
       "      <td>12</td>\n",
       "      <td>3</td>\n",
       "      <td>17</td>\n",
       "    </tr>\n",
       "    <tr>\n",
       "      <th>00b8ef5ed124bcf726597eda5132d746ca5add8b</th>\n",
       "      <td>314bf31c888fd796f71e2ccc6680694a03b2df413f5c42...</td>\n",
       "      <td>2019-09-26 19:46:00+00:00</td>\n",
       "      <td>2019-09-26 20:10:00+00:00</td>\n",
       "      <td>0.0</td>\n",
       "      <td>32.0</td>\n",
       "      <td>7.0</td>\n",
       "      <td>14.50</td>\n",
       "      <td>1.50</td>\n",
       "      <td>16.00</td>\n",
       "      <td>Credit Card</td>\n",
       "      <td>Blue Ribbon Taxi Association Inc.</td>\n",
       "      <td>2019</td>\n",
       "      <td>9</td>\n",
       "      <td>26</td>\n",
       "      <td>3</td>\n",
       "      <td>19</td>\n",
       "    </tr>\n",
       "  </tbody>\n",
       "</table>\n",
       "<p>112033 rows × 16 columns</p>\n",
       "</div>"
      ],
      "text/plain": [
       "                                                                                    taxi_ID  \\\n",
       "unique_key                                                                                    \n",
       "5010436ea1be6bed3abb167bcd583b5e598c72be  341cead8979074196f3231099ef811c4e905d7031dd6d7...   \n",
       "58d40c82bd65f8337a7cf79c4bcff06a10f6622f  405acec2f3a156bb57c8593c02dbce47f44b63b86fcbc4...   \n",
       "bd6cd7917ad811078f8f294a02631e004ef1304a  ce28f4015e6382801a405172085edd713a9fffeb321e91...   \n",
       "876dc025833db474c149b25de1d9d39c9b735a54  c839de167830c1d8f7e1a489a1b9be2940314aba5857c6...   \n",
       "c33695d66708b57df3cde919c2e831b58bee71a7  e3dfdc6273b53e7bea4294c159fb810c907ffcd2aba9ba...   \n",
       "...                                                                                     ...   \n",
       "d0bab20937a56fe51262cae9a87dd3006c2a451e  071d031c64f608418d27905c9ffe95bf52695615683d5f...   \n",
       "12f56b557cbad2cea23a982aff90997147d1251b  2519839bf9f934467cc32afcc9c18454ba976c46b3934f...   \n",
       "951f84fbe8312fa45a50e6aa377d7dbd51aa951f  5bee5f6487e84f44cf772c1e26d79f8d82e30539c71bf8...   \n",
       "1679cf5f7ac18c6573edc87ccbafce7c6825be3a  249ef6f75a49feebb50f4bc68cf7ba703c4006498c63b6...   \n",
       "00b8ef5ed124bcf726597eda5132d746ca5add8b  314bf31c888fd796f71e2ccc6680694a03b2df413f5c42...   \n",
       "\n",
       "                                               trip_start_timestamp  \\\n",
       "unique_key                                                            \n",
       "5010436ea1be6bed3abb167bcd583b5e598c72be  2013-06-09 16:30:00+00:00   \n",
       "58d40c82bd65f8337a7cf79c4bcff06a10f6622f  2013-06-02 13:02:00+00:00   \n",
       "bd6cd7917ad811078f8f294a02631e004ef1304a  2013-06-02 15:18:00+00:00   \n",
       "876dc025833db474c149b25de1d9d39c9b735a54  2013-06-02 15:38:00+00:00   \n",
       "c33695d66708b57df3cde919c2e831b58bee71a7  2013-05-29 14:54:00+00:00   \n",
       "...                                                             ...   \n",
       "d0bab20937a56fe51262cae9a87dd3006c2a451e  2019-08-31 01:59:00+00:00   \n",
       "12f56b557cbad2cea23a982aff90997147d1251b  2019-09-27 19:07:00+00:00   \n",
       "951f84fbe8312fa45a50e6aa377d7dbd51aa951f  2018-08-21 12:55:00+00:00   \n",
       "1679cf5f7ac18c6573edc87ccbafce7c6825be3a  2019-09-12 17:23:00+00:00   \n",
       "00b8ef5ed124bcf726597eda5132d746ca5add8b  2019-09-26 19:46:00+00:00   \n",
       "\n",
       "                                                 trip_end_timestamp  \\\n",
       "unique_key                                                            \n",
       "5010436ea1be6bed3abb167bcd583b5e598c72be  2013-06-09 16:44:00+00:00   \n",
       "58d40c82bd65f8337a7cf79c4bcff06a10f6622f  2013-06-02 13:18:00+00:00   \n",
       "bd6cd7917ad811078f8f294a02631e004ef1304a  2013-06-02 15:37:00+00:00   \n",
       "876dc025833db474c149b25de1d9d39c9b735a54  2013-06-02 16:10:00+00:00   \n",
       "c33695d66708b57df3cde919c2e831b58bee71a7  2013-05-29 15:09:00+00:00   \n",
       "...                                                             ...   \n",
       "d0bab20937a56fe51262cae9a87dd3006c2a451e  2019-08-31 02:05:00+00:00   \n",
       "12f56b557cbad2cea23a982aff90997147d1251b  2019-09-27 19:21:00+00:00   \n",
       "951f84fbe8312fa45a50e6aa377d7dbd51aa951f  2018-08-21 13:01:00+00:00   \n",
       "1679cf5f7ac18c6573edc87ccbafce7c6825be3a  2019-09-12 17:36:00+00:00   \n",
       "00b8ef5ed124bcf726597eda5132d746ca5add8b  2019-09-26 20:10:00+00:00   \n",
       "\n",
       "                                          trip_miles  pickup_community_area  \\\n",
       "unique_key                                                                    \n",
       "5010436ea1be6bed3abb167bcd583b5e598c72be         0.4                    8.0   \n",
       "58d40c82bd65f8337a7cf79c4bcff06a10f6622f        31.0                    6.0   \n",
       "bd6cd7917ad811078f8f294a02631e004ef1304a         0.3                   33.0   \n",
       "876dc025833db474c149b25de1d9d39c9b735a54         1.0                   76.0   \n",
       "c33695d66708b57df3cde919c2e831b58bee71a7         0.0                    8.0   \n",
       "...                                              ...                    ...   \n",
       "d0bab20937a56fe51262cae9a87dd3006c2a451e         0.0                    7.0   \n",
       "12f56b557cbad2cea23a982aff90997147d1251b         0.0                    8.0   \n",
       "951f84fbe8312fa45a50e6aa377d7dbd51aa951f         0.8                    8.0   \n",
       "1679cf5f7ac18c6573edc87ccbafce7c6825be3a         1.1                   32.0   \n",
       "00b8ef5ed124bcf726597eda5132d746ca5add8b         0.0                   32.0   \n",
       "\n",
       "                                          dropoff_community_area   fare  tips  \\\n",
       "unique_key                                                                      \n",
       "5010436ea1be6bed3abb167bcd583b5e598c72be                    14.0  17.85  4.25   \n",
       "58d40c82bd65f8337a7cf79c4bcff06a10f6622f                     8.0  10.85  2.15   \n",
       "bd6cd7917ad811078f8f294a02631e004ef1304a                     7.0  13.65  3.40   \n",
       "876dc025833db474c149b25de1d9d39c9b735a54                     7.0  34.85  7.35   \n",
       "c33695d66708b57df3cde919c2e831b58bee71a7                    28.0  10.45  2.05   \n",
       "...                                                          ...    ...   ...   \n",
       "d0bab20937a56fe51262cae9a87dd3006c2a451e                     8.0   8.25  1.50   \n",
       "12f56b557cbad2cea23a982aff90997147d1251b                    32.0   9.50  1.50   \n",
       "951f84fbe8312fa45a50e6aa377d7dbd51aa951f                    32.0   6.00  1.50   \n",
       "1679cf5f7ac18c6573edc87ccbafce7c6825be3a                     8.0   8.25  1.50   \n",
       "00b8ef5ed124bcf726597eda5132d746ca5add8b                     7.0  14.50  1.50   \n",
       "\n",
       "                                          trip_total payment_type  \\\n",
       "unique_key                                                          \n",
       "5010436ea1be6bed3abb167bcd583b5e598c72be       22.10  Credit Card   \n",
       "58d40c82bd65f8337a7cf79c4bcff06a10f6622f       13.00  Credit Card   \n",
       "bd6cd7917ad811078f8f294a02631e004ef1304a       17.05  Credit Card   \n",
       "876dc025833db474c149b25de1d9d39c9b735a54       44.20  Credit Card   \n",
       "c33695d66708b57df3cde919c2e831b58bee71a7       12.50  Credit Card   \n",
       "...                                              ...          ...   \n",
       "d0bab20937a56fe51262cae9a87dd3006c2a451e        9.75  Credit Card   \n",
       "12f56b557cbad2cea23a982aff90997147d1251b       13.00  Credit Card   \n",
       "951f84fbe8312fa45a50e6aa377d7dbd51aa951f        8.50  Credit Card   \n",
       "1679cf5f7ac18c6573edc87ccbafce7c6825be3a       10.25  Credit Card   \n",
       "00b8ef5ed124bcf726597eda5132d746ca5add8b       16.00  Credit Card   \n",
       "\n",
       "                                                                    company  \\\n",
       "unique_key                                                                    \n",
       "5010436ea1be6bed3abb167bcd583b5e598c72be          Taxi Affiliation Services   \n",
       "58d40c82bd65f8337a7cf79c4bcff06a10f6622f          Taxi Affiliation Services   \n",
       "bd6cd7917ad811078f8f294a02631e004ef1304a          Taxi Affiliation Services   \n",
       "876dc025833db474c149b25de1d9d39c9b735a54  Blue Ribbon Taxi Association Inc.   \n",
       "c33695d66708b57df3cde919c2e831b58bee71a7          Dispatch Taxi Affiliation   \n",
       "...                                                                     ...   \n",
       "d0bab20937a56fe51262cae9a87dd3006c2a451e          Taxi Affiliation Services   \n",
       "12f56b557cbad2cea23a982aff90997147d1251b          Taxi Affiliation Services   \n",
       "951f84fbe8312fa45a50e6aa377d7dbd51aa951f          Taxi Affiliation Services   \n",
       "1679cf5f7ac18c6573edc87ccbafce7c6825be3a          Chicago Carriage Cab Corp   \n",
       "00b8ef5ed124bcf726597eda5132d746ca5add8b  Blue Ribbon Taxi Association Inc.   \n",
       "\n",
       "                                          start_year  start_month  start_day  \\\n",
       "unique_key                                                                     \n",
       "5010436ea1be6bed3abb167bcd583b5e598c72be        2013            6          9   \n",
       "58d40c82bd65f8337a7cf79c4bcff06a10f6622f        2013            6          2   \n",
       "bd6cd7917ad811078f8f294a02631e004ef1304a        2013            6          2   \n",
       "876dc025833db474c149b25de1d9d39c9b735a54        2013            6          2   \n",
       "c33695d66708b57df3cde919c2e831b58bee71a7        2013            5         29   \n",
       "...                                              ...          ...        ...   \n",
       "d0bab20937a56fe51262cae9a87dd3006c2a451e        2019            8         31   \n",
       "12f56b557cbad2cea23a982aff90997147d1251b        2019            9         27   \n",
       "951f84fbe8312fa45a50e6aa377d7dbd51aa951f        2018            8         21   \n",
       "1679cf5f7ac18c6573edc87ccbafce7c6825be3a        2019            9         12   \n",
       "00b8ef5ed124bcf726597eda5132d746ca5add8b        2019            9         26   \n",
       "\n",
       "                                          start_weekday  start_hour  \n",
       "unique_key                                                           \n",
       "5010436ea1be6bed3abb167bcd583b5e598c72be              6          16  \n",
       "58d40c82bd65f8337a7cf79c4bcff06a10f6622f              6          13  \n",
       "bd6cd7917ad811078f8f294a02631e004ef1304a              6          15  \n",
       "876dc025833db474c149b25de1d9d39c9b735a54              6          15  \n",
       "c33695d66708b57df3cde919c2e831b58bee71a7              2          14  \n",
       "...                                                 ...         ...  \n",
       "d0bab20937a56fe51262cae9a87dd3006c2a451e              5           1  \n",
       "12f56b557cbad2cea23a982aff90997147d1251b              4          19  \n",
       "951f84fbe8312fa45a50e6aa377d7dbd51aa951f              1          12  \n",
       "1679cf5f7ac18c6573edc87ccbafce7c6825be3a              3          17  \n",
       "00b8ef5ed124bcf726597eda5132d746ca5add8b              3          19  \n",
       "\n",
       "[112033 rows x 16 columns]"
      ]
     },
     "execution_count": 8,
     "metadata": {},
     "output_type": "execute_result"
    }
   ],
   "source": [
    "def date(x):\n",
    "    return datetime.datetime.fromisoformat(x)\n",
    "def assign_year(x):\n",
    "    return x.year\n",
    "def assign_month(x):\n",
    "    return x.month\n",
    "def assign_day(x):\n",
    "    return x.day\n",
    "def assign_weekday(x):\n",
    "    return x.weekday()\n",
    "def assign_hour(x):\n",
    "    return x.hour\n",
    "\n",
    "trips_date = trips_with_index.get(\"trip_start_timestamp\").apply(date)\n",
    "trips_with_start_times = trips_with_index\n",
    "trips_with_start_times = trips_with_start_times.assign(start_year=trips_date.apply(assign_year))\n",
    "trips_with_start_times = trips_with_start_times.assign(start_month=trips_date.apply(assign_month))\n",
    "trips_with_start_times = trips_with_start_times.assign(start_day=trips_date.apply(assign_day))\n",
    "trips_with_start_times = trips_with_start_times.assign(start_weekday=trips_date.apply(assign_weekday))\n",
    "trips_with_start_times = trips_with_start_times.assign(start_hour=trips_date.apply(assign_hour))\n",
    "trips_with_start_times"
   ]
  },
  {
   "cell_type": "code",
   "execution_count": 9,
   "metadata": {
    "deletable": false,
    "editable": false
   },
   "outputs": [
    {
     "data": {
      "text/html": [
       "\n",
       "    <p><strong>q1_1</strong> passed!</p>\n",
       "    "
      ],
      "text/plain": [
       "q1_1 passed!"
      ]
     },
     "execution_count": 9,
     "metadata": {},
     "output_type": "execute_result"
    }
   ],
   "source": [
    "grader.check(\"q1_1\")"
   ]
  },
  {
   "cell_type": "markdown",
   "metadata": {},
   "source": [
    "We will also want to know the *duration* of each trip. A trip's duration is calculated by finding the difference between the trip's start and end times. Luckily, Python's `datetime` module provides a simple way of calculating the difference between two points in time."
   ]
  },
  {
   "cell_type": "code",
   "execution_count": 10,
   "metadata": {},
   "outputs": [
    {
     "data": {
      "text/plain": [
       "datetime.timedelta(seconds=840)"
      ]
     },
     "execution_count": 10,
     "metadata": {},
     "output_type": "execute_result"
    }
   ],
   "source": [
    "start = datetime.datetime.fromisoformat('2013-06-09 16:30:00+00:00')\n",
    "stop = datetime.datetime.fromisoformat('2013-06-09 16:44:00+00:00')\n",
    "stop - start"
   ]
  },
  {
   "cell_type": "markdown",
   "metadata": {},
   "source": [
    "The result of subtracting one datetime from another is a *timedelta* object representing the length of time between the two datetimes. If we want this duration in seconds, we can use the `.total_seconds()` method:"
   ]
  },
  {
   "cell_type": "code",
   "execution_count": 11,
   "metadata": {},
   "outputs": [
    {
     "data": {
      "text/plain": [
       "840.0"
      ]
     },
     "execution_count": 11,
     "metadata": {},
     "output_type": "execute_result"
    }
   ],
   "source": [
    "(stop - start).total_seconds()"
   ]
  },
  {
   "cell_type": "markdown",
   "metadata": {},
   "source": [
    "**Question 2.** Starting with `trips_with_start_times`, create a new table called simply `trips` which has all of the columns of the starting table, plus an additional column named **duration** containing the duration of each trip in seconds. `trips` will be the table we use as a starting point for most of the analyses to follow."
   ]
  },
  {
   "cell_type": "code",
   "execution_count": 12,
   "metadata": {},
   "outputs": [
    {
     "data": {
      "text/html": [
       "<div>\n",
       "<style scoped>\n",
       "    .dataframe tbody tr th:only-of-type {\n",
       "        vertical-align: middle;\n",
       "    }\n",
       "\n",
       "    .dataframe tbody tr th {\n",
       "        vertical-align: top;\n",
       "    }\n",
       "\n",
       "    .dataframe thead th {\n",
       "        text-align: right;\n",
       "    }\n",
       "</style>\n",
       "<table border=\"1\" class=\"dataframe\">\n",
       "  <thead>\n",
       "    <tr style=\"text-align: right;\">\n",
       "      <th></th>\n",
       "      <th>taxi_ID</th>\n",
       "      <th>trip_start_timestamp</th>\n",
       "      <th>trip_end_timestamp</th>\n",
       "      <th>trip_miles</th>\n",
       "      <th>pickup_community_area</th>\n",
       "      <th>dropoff_community_area</th>\n",
       "      <th>fare</th>\n",
       "      <th>tips</th>\n",
       "      <th>trip_total</th>\n",
       "      <th>payment_type</th>\n",
       "      <th>company</th>\n",
       "      <th>start_year</th>\n",
       "      <th>start_month</th>\n",
       "      <th>start_day</th>\n",
       "      <th>start_weekday</th>\n",
       "      <th>start_hour</th>\n",
       "      <th>duration</th>\n",
       "    </tr>\n",
       "    <tr>\n",
       "      <th>unique_key</th>\n",
       "      <th></th>\n",
       "      <th></th>\n",
       "      <th></th>\n",
       "      <th></th>\n",
       "      <th></th>\n",
       "      <th></th>\n",
       "      <th></th>\n",
       "      <th></th>\n",
       "      <th></th>\n",
       "      <th></th>\n",
       "      <th></th>\n",
       "      <th></th>\n",
       "      <th></th>\n",
       "      <th></th>\n",
       "      <th></th>\n",
       "      <th></th>\n",
       "      <th></th>\n",
       "    </tr>\n",
       "  </thead>\n",
       "  <tbody>\n",
       "    <tr>\n",
       "      <th>5010436ea1be6bed3abb167bcd583b5e598c72be</th>\n",
       "      <td>341cead8979074196f3231099ef811c4e905d7031dd6d7...</td>\n",
       "      <td>2013-06-09 16:30:00+00:00</td>\n",
       "      <td>2013-06-09 16:44:00+00:00</td>\n",
       "      <td>0.4</td>\n",
       "      <td>8.0</td>\n",
       "      <td>14.0</td>\n",
       "      <td>17.85</td>\n",
       "      <td>4.25</td>\n",
       "      <td>22.10</td>\n",
       "      <td>Credit Card</td>\n",
       "      <td>Taxi Affiliation Services</td>\n",
       "      <td>2013</td>\n",
       "      <td>6</td>\n",
       "      <td>9</td>\n",
       "      <td>6</td>\n",
       "      <td>16</td>\n",
       "      <td>840.0</td>\n",
       "    </tr>\n",
       "    <tr>\n",
       "      <th>58d40c82bd65f8337a7cf79c4bcff06a10f6622f</th>\n",
       "      <td>405acec2f3a156bb57c8593c02dbce47f44b63b86fcbc4...</td>\n",
       "      <td>2013-06-02 13:02:00+00:00</td>\n",
       "      <td>2013-06-02 13:18:00+00:00</td>\n",
       "      <td>31.0</td>\n",
       "      <td>6.0</td>\n",
       "      <td>8.0</td>\n",
       "      <td>10.85</td>\n",
       "      <td>2.15</td>\n",
       "      <td>13.00</td>\n",
       "      <td>Credit Card</td>\n",
       "      <td>Taxi Affiliation Services</td>\n",
       "      <td>2013</td>\n",
       "      <td>6</td>\n",
       "      <td>2</td>\n",
       "      <td>6</td>\n",
       "      <td>13</td>\n",
       "      <td>960.0</td>\n",
       "    </tr>\n",
       "    <tr>\n",
       "      <th>bd6cd7917ad811078f8f294a02631e004ef1304a</th>\n",
       "      <td>ce28f4015e6382801a405172085edd713a9fffeb321e91...</td>\n",
       "      <td>2013-06-02 15:18:00+00:00</td>\n",
       "      <td>2013-06-02 15:37:00+00:00</td>\n",
       "      <td>0.3</td>\n",
       "      <td>33.0</td>\n",
       "      <td>7.0</td>\n",
       "      <td>13.65</td>\n",
       "      <td>3.40</td>\n",
       "      <td>17.05</td>\n",
       "      <td>Credit Card</td>\n",
       "      <td>Taxi Affiliation Services</td>\n",
       "      <td>2013</td>\n",
       "      <td>6</td>\n",
       "      <td>2</td>\n",
       "      <td>6</td>\n",
       "      <td>15</td>\n",
       "      <td>1140.0</td>\n",
       "    </tr>\n",
       "    <tr>\n",
       "      <th>876dc025833db474c149b25de1d9d39c9b735a54</th>\n",
       "      <td>c839de167830c1d8f7e1a489a1b9be2940314aba5857c6...</td>\n",
       "      <td>2013-06-02 15:38:00+00:00</td>\n",
       "      <td>2013-06-02 16:10:00+00:00</td>\n",
       "      <td>1.0</td>\n",
       "      <td>76.0</td>\n",
       "      <td>7.0</td>\n",
       "      <td>34.85</td>\n",
       "      <td>7.35</td>\n",
       "      <td>44.20</td>\n",
       "      <td>Credit Card</td>\n",
       "      <td>Blue Ribbon Taxi Association Inc.</td>\n",
       "      <td>2013</td>\n",
       "      <td>6</td>\n",
       "      <td>2</td>\n",
       "      <td>6</td>\n",
       "      <td>15</td>\n",
       "      <td>1920.0</td>\n",
       "    </tr>\n",
       "    <tr>\n",
       "      <th>c33695d66708b57df3cde919c2e831b58bee71a7</th>\n",
       "      <td>e3dfdc6273b53e7bea4294c159fb810c907ffcd2aba9ba...</td>\n",
       "      <td>2013-05-29 14:54:00+00:00</td>\n",
       "      <td>2013-05-29 15:09:00+00:00</td>\n",
       "      <td>0.0</td>\n",
       "      <td>8.0</td>\n",
       "      <td>28.0</td>\n",
       "      <td>10.45</td>\n",
       "      <td>2.05</td>\n",
       "      <td>12.50</td>\n",
       "      <td>Credit Card</td>\n",
       "      <td>Dispatch Taxi Affiliation</td>\n",
       "      <td>2013</td>\n",
       "      <td>5</td>\n",
       "      <td>29</td>\n",
       "      <td>2</td>\n",
       "      <td>14</td>\n",
       "      <td>900.0</td>\n",
       "    </tr>\n",
       "    <tr>\n",
       "      <th>...</th>\n",
       "      <td>...</td>\n",
       "      <td>...</td>\n",
       "      <td>...</td>\n",
       "      <td>...</td>\n",
       "      <td>...</td>\n",
       "      <td>...</td>\n",
       "      <td>...</td>\n",
       "      <td>...</td>\n",
       "      <td>...</td>\n",
       "      <td>...</td>\n",
       "      <td>...</td>\n",
       "      <td>...</td>\n",
       "      <td>...</td>\n",
       "      <td>...</td>\n",
       "      <td>...</td>\n",
       "      <td>...</td>\n",
       "      <td>...</td>\n",
       "    </tr>\n",
       "    <tr>\n",
       "      <th>d0bab20937a56fe51262cae9a87dd3006c2a451e</th>\n",
       "      <td>071d031c64f608418d27905c9ffe95bf52695615683d5f...</td>\n",
       "      <td>2019-08-31 01:59:00+00:00</td>\n",
       "      <td>2019-08-31 02:05:00+00:00</td>\n",
       "      <td>0.0</td>\n",
       "      <td>7.0</td>\n",
       "      <td>8.0</td>\n",
       "      <td>8.25</td>\n",
       "      <td>1.50</td>\n",
       "      <td>9.75</td>\n",
       "      <td>Credit Card</td>\n",
       "      <td>Taxi Affiliation Services</td>\n",
       "      <td>2019</td>\n",
       "      <td>8</td>\n",
       "      <td>31</td>\n",
       "      <td>5</td>\n",
       "      <td>1</td>\n",
       "      <td>360.0</td>\n",
       "    </tr>\n",
       "    <tr>\n",
       "      <th>12f56b557cbad2cea23a982aff90997147d1251b</th>\n",
       "      <td>2519839bf9f934467cc32afcc9c18454ba976c46b3934f...</td>\n",
       "      <td>2019-09-27 19:07:00+00:00</td>\n",
       "      <td>2019-09-27 19:21:00+00:00</td>\n",
       "      <td>0.0</td>\n",
       "      <td>8.0</td>\n",
       "      <td>32.0</td>\n",
       "      <td>9.50</td>\n",
       "      <td>1.50</td>\n",
       "      <td>13.00</td>\n",
       "      <td>Credit Card</td>\n",
       "      <td>Taxi Affiliation Services</td>\n",
       "      <td>2019</td>\n",
       "      <td>9</td>\n",
       "      <td>27</td>\n",
       "      <td>4</td>\n",
       "      <td>19</td>\n",
       "      <td>840.0</td>\n",
       "    </tr>\n",
       "    <tr>\n",
       "      <th>951f84fbe8312fa45a50e6aa377d7dbd51aa951f</th>\n",
       "      <td>5bee5f6487e84f44cf772c1e26d79f8d82e30539c71bf8...</td>\n",
       "      <td>2018-08-21 12:55:00+00:00</td>\n",
       "      <td>2018-08-21 13:01:00+00:00</td>\n",
       "      <td>0.8</td>\n",
       "      <td>8.0</td>\n",
       "      <td>32.0</td>\n",
       "      <td>6.00</td>\n",
       "      <td>1.50</td>\n",
       "      <td>8.50</td>\n",
       "      <td>Credit Card</td>\n",
       "      <td>Taxi Affiliation Services</td>\n",
       "      <td>2018</td>\n",
       "      <td>8</td>\n",
       "      <td>21</td>\n",
       "      <td>1</td>\n",
       "      <td>12</td>\n",
       "      <td>360.0</td>\n",
       "    </tr>\n",
       "    <tr>\n",
       "      <th>1679cf5f7ac18c6573edc87ccbafce7c6825be3a</th>\n",
       "      <td>249ef6f75a49feebb50f4bc68cf7ba703c4006498c63b6...</td>\n",
       "      <td>2019-09-12 17:23:00+00:00</td>\n",
       "      <td>2019-09-12 17:36:00+00:00</td>\n",
       "      <td>1.1</td>\n",
       "      <td>32.0</td>\n",
       "      <td>8.0</td>\n",
       "      <td>8.25</td>\n",
       "      <td>1.50</td>\n",
       "      <td>10.25</td>\n",
       "      <td>Credit Card</td>\n",
       "      <td>Chicago Carriage Cab Corp</td>\n",
       "      <td>2019</td>\n",
       "      <td>9</td>\n",
       "      <td>12</td>\n",
       "      <td>3</td>\n",
       "      <td>17</td>\n",
       "      <td>780.0</td>\n",
       "    </tr>\n",
       "    <tr>\n",
       "      <th>00b8ef5ed124bcf726597eda5132d746ca5add8b</th>\n",
       "      <td>314bf31c888fd796f71e2ccc6680694a03b2df413f5c42...</td>\n",
       "      <td>2019-09-26 19:46:00+00:00</td>\n",
       "      <td>2019-09-26 20:10:00+00:00</td>\n",
       "      <td>0.0</td>\n",
       "      <td>32.0</td>\n",
       "      <td>7.0</td>\n",
       "      <td>14.50</td>\n",
       "      <td>1.50</td>\n",
       "      <td>16.00</td>\n",
       "      <td>Credit Card</td>\n",
       "      <td>Blue Ribbon Taxi Association Inc.</td>\n",
       "      <td>2019</td>\n",
       "      <td>9</td>\n",
       "      <td>26</td>\n",
       "      <td>3</td>\n",
       "      <td>19</td>\n",
       "      <td>1440.0</td>\n",
       "    </tr>\n",
       "  </tbody>\n",
       "</table>\n",
       "<p>112033 rows × 17 columns</p>\n",
       "</div>"
      ],
      "text/plain": [
       "                                                                                    taxi_ID  \\\n",
       "unique_key                                                                                    \n",
       "5010436ea1be6bed3abb167bcd583b5e598c72be  341cead8979074196f3231099ef811c4e905d7031dd6d7...   \n",
       "58d40c82bd65f8337a7cf79c4bcff06a10f6622f  405acec2f3a156bb57c8593c02dbce47f44b63b86fcbc4...   \n",
       "bd6cd7917ad811078f8f294a02631e004ef1304a  ce28f4015e6382801a405172085edd713a9fffeb321e91...   \n",
       "876dc025833db474c149b25de1d9d39c9b735a54  c839de167830c1d8f7e1a489a1b9be2940314aba5857c6...   \n",
       "c33695d66708b57df3cde919c2e831b58bee71a7  e3dfdc6273b53e7bea4294c159fb810c907ffcd2aba9ba...   \n",
       "...                                                                                     ...   \n",
       "d0bab20937a56fe51262cae9a87dd3006c2a451e  071d031c64f608418d27905c9ffe95bf52695615683d5f...   \n",
       "12f56b557cbad2cea23a982aff90997147d1251b  2519839bf9f934467cc32afcc9c18454ba976c46b3934f...   \n",
       "951f84fbe8312fa45a50e6aa377d7dbd51aa951f  5bee5f6487e84f44cf772c1e26d79f8d82e30539c71bf8...   \n",
       "1679cf5f7ac18c6573edc87ccbafce7c6825be3a  249ef6f75a49feebb50f4bc68cf7ba703c4006498c63b6...   \n",
       "00b8ef5ed124bcf726597eda5132d746ca5add8b  314bf31c888fd796f71e2ccc6680694a03b2df413f5c42...   \n",
       "\n",
       "                                               trip_start_timestamp  \\\n",
       "unique_key                                                            \n",
       "5010436ea1be6bed3abb167bcd583b5e598c72be  2013-06-09 16:30:00+00:00   \n",
       "58d40c82bd65f8337a7cf79c4bcff06a10f6622f  2013-06-02 13:02:00+00:00   \n",
       "bd6cd7917ad811078f8f294a02631e004ef1304a  2013-06-02 15:18:00+00:00   \n",
       "876dc025833db474c149b25de1d9d39c9b735a54  2013-06-02 15:38:00+00:00   \n",
       "c33695d66708b57df3cde919c2e831b58bee71a7  2013-05-29 14:54:00+00:00   \n",
       "...                                                             ...   \n",
       "d0bab20937a56fe51262cae9a87dd3006c2a451e  2019-08-31 01:59:00+00:00   \n",
       "12f56b557cbad2cea23a982aff90997147d1251b  2019-09-27 19:07:00+00:00   \n",
       "951f84fbe8312fa45a50e6aa377d7dbd51aa951f  2018-08-21 12:55:00+00:00   \n",
       "1679cf5f7ac18c6573edc87ccbafce7c6825be3a  2019-09-12 17:23:00+00:00   \n",
       "00b8ef5ed124bcf726597eda5132d746ca5add8b  2019-09-26 19:46:00+00:00   \n",
       "\n",
       "                                                 trip_end_timestamp  \\\n",
       "unique_key                                                            \n",
       "5010436ea1be6bed3abb167bcd583b5e598c72be  2013-06-09 16:44:00+00:00   \n",
       "58d40c82bd65f8337a7cf79c4bcff06a10f6622f  2013-06-02 13:18:00+00:00   \n",
       "bd6cd7917ad811078f8f294a02631e004ef1304a  2013-06-02 15:37:00+00:00   \n",
       "876dc025833db474c149b25de1d9d39c9b735a54  2013-06-02 16:10:00+00:00   \n",
       "c33695d66708b57df3cde919c2e831b58bee71a7  2013-05-29 15:09:00+00:00   \n",
       "...                                                             ...   \n",
       "d0bab20937a56fe51262cae9a87dd3006c2a451e  2019-08-31 02:05:00+00:00   \n",
       "12f56b557cbad2cea23a982aff90997147d1251b  2019-09-27 19:21:00+00:00   \n",
       "951f84fbe8312fa45a50e6aa377d7dbd51aa951f  2018-08-21 13:01:00+00:00   \n",
       "1679cf5f7ac18c6573edc87ccbafce7c6825be3a  2019-09-12 17:36:00+00:00   \n",
       "00b8ef5ed124bcf726597eda5132d746ca5add8b  2019-09-26 20:10:00+00:00   \n",
       "\n",
       "                                          trip_miles  pickup_community_area  \\\n",
       "unique_key                                                                    \n",
       "5010436ea1be6bed3abb167bcd583b5e598c72be         0.4                    8.0   \n",
       "58d40c82bd65f8337a7cf79c4bcff06a10f6622f        31.0                    6.0   \n",
       "bd6cd7917ad811078f8f294a02631e004ef1304a         0.3                   33.0   \n",
       "876dc025833db474c149b25de1d9d39c9b735a54         1.0                   76.0   \n",
       "c33695d66708b57df3cde919c2e831b58bee71a7         0.0                    8.0   \n",
       "...                                              ...                    ...   \n",
       "d0bab20937a56fe51262cae9a87dd3006c2a451e         0.0                    7.0   \n",
       "12f56b557cbad2cea23a982aff90997147d1251b         0.0                    8.0   \n",
       "951f84fbe8312fa45a50e6aa377d7dbd51aa951f         0.8                    8.0   \n",
       "1679cf5f7ac18c6573edc87ccbafce7c6825be3a         1.1                   32.0   \n",
       "00b8ef5ed124bcf726597eda5132d746ca5add8b         0.0                   32.0   \n",
       "\n",
       "                                          dropoff_community_area   fare  tips  \\\n",
       "unique_key                                                                      \n",
       "5010436ea1be6bed3abb167bcd583b5e598c72be                    14.0  17.85  4.25   \n",
       "58d40c82bd65f8337a7cf79c4bcff06a10f6622f                     8.0  10.85  2.15   \n",
       "bd6cd7917ad811078f8f294a02631e004ef1304a                     7.0  13.65  3.40   \n",
       "876dc025833db474c149b25de1d9d39c9b735a54                     7.0  34.85  7.35   \n",
       "c33695d66708b57df3cde919c2e831b58bee71a7                    28.0  10.45  2.05   \n",
       "...                                                          ...    ...   ...   \n",
       "d0bab20937a56fe51262cae9a87dd3006c2a451e                     8.0   8.25  1.50   \n",
       "12f56b557cbad2cea23a982aff90997147d1251b                    32.0   9.50  1.50   \n",
       "951f84fbe8312fa45a50e6aa377d7dbd51aa951f                    32.0   6.00  1.50   \n",
       "1679cf5f7ac18c6573edc87ccbafce7c6825be3a                     8.0   8.25  1.50   \n",
       "00b8ef5ed124bcf726597eda5132d746ca5add8b                     7.0  14.50  1.50   \n",
       "\n",
       "                                          trip_total payment_type  \\\n",
       "unique_key                                                          \n",
       "5010436ea1be6bed3abb167bcd583b5e598c72be       22.10  Credit Card   \n",
       "58d40c82bd65f8337a7cf79c4bcff06a10f6622f       13.00  Credit Card   \n",
       "bd6cd7917ad811078f8f294a02631e004ef1304a       17.05  Credit Card   \n",
       "876dc025833db474c149b25de1d9d39c9b735a54       44.20  Credit Card   \n",
       "c33695d66708b57df3cde919c2e831b58bee71a7       12.50  Credit Card   \n",
       "...                                              ...          ...   \n",
       "d0bab20937a56fe51262cae9a87dd3006c2a451e        9.75  Credit Card   \n",
       "12f56b557cbad2cea23a982aff90997147d1251b       13.00  Credit Card   \n",
       "951f84fbe8312fa45a50e6aa377d7dbd51aa951f        8.50  Credit Card   \n",
       "1679cf5f7ac18c6573edc87ccbafce7c6825be3a       10.25  Credit Card   \n",
       "00b8ef5ed124bcf726597eda5132d746ca5add8b       16.00  Credit Card   \n",
       "\n",
       "                                                                    company  \\\n",
       "unique_key                                                                    \n",
       "5010436ea1be6bed3abb167bcd583b5e598c72be          Taxi Affiliation Services   \n",
       "58d40c82bd65f8337a7cf79c4bcff06a10f6622f          Taxi Affiliation Services   \n",
       "bd6cd7917ad811078f8f294a02631e004ef1304a          Taxi Affiliation Services   \n",
       "876dc025833db474c149b25de1d9d39c9b735a54  Blue Ribbon Taxi Association Inc.   \n",
       "c33695d66708b57df3cde919c2e831b58bee71a7          Dispatch Taxi Affiliation   \n",
       "...                                                                     ...   \n",
       "d0bab20937a56fe51262cae9a87dd3006c2a451e          Taxi Affiliation Services   \n",
       "12f56b557cbad2cea23a982aff90997147d1251b          Taxi Affiliation Services   \n",
       "951f84fbe8312fa45a50e6aa377d7dbd51aa951f          Taxi Affiliation Services   \n",
       "1679cf5f7ac18c6573edc87ccbafce7c6825be3a          Chicago Carriage Cab Corp   \n",
       "00b8ef5ed124bcf726597eda5132d746ca5add8b  Blue Ribbon Taxi Association Inc.   \n",
       "\n",
       "                                          start_year  start_month  start_day  \\\n",
       "unique_key                                                                     \n",
       "5010436ea1be6bed3abb167bcd583b5e598c72be        2013            6          9   \n",
       "58d40c82bd65f8337a7cf79c4bcff06a10f6622f        2013            6          2   \n",
       "bd6cd7917ad811078f8f294a02631e004ef1304a        2013            6          2   \n",
       "876dc025833db474c149b25de1d9d39c9b735a54        2013            6          2   \n",
       "c33695d66708b57df3cde919c2e831b58bee71a7        2013            5         29   \n",
       "...                                              ...          ...        ...   \n",
       "d0bab20937a56fe51262cae9a87dd3006c2a451e        2019            8         31   \n",
       "12f56b557cbad2cea23a982aff90997147d1251b        2019            9         27   \n",
       "951f84fbe8312fa45a50e6aa377d7dbd51aa951f        2018            8         21   \n",
       "1679cf5f7ac18c6573edc87ccbafce7c6825be3a        2019            9         12   \n",
       "00b8ef5ed124bcf726597eda5132d746ca5add8b        2019            9         26   \n",
       "\n",
       "                                          start_weekday  start_hour  duration  \n",
       "unique_key                                                                     \n",
       "5010436ea1be6bed3abb167bcd583b5e598c72be              6          16     840.0  \n",
       "58d40c82bd65f8337a7cf79c4bcff06a10f6622f              6          13     960.0  \n",
       "bd6cd7917ad811078f8f294a02631e004ef1304a              6          15    1140.0  \n",
       "876dc025833db474c149b25de1d9d39c9b735a54              6          15    1920.0  \n",
       "c33695d66708b57df3cde919c2e831b58bee71a7              2          14     900.0  \n",
       "...                                                 ...         ...       ...  \n",
       "d0bab20937a56fe51262cae9a87dd3006c2a451e              5           1     360.0  \n",
       "12f56b557cbad2cea23a982aff90997147d1251b              4          19     840.0  \n",
       "951f84fbe8312fa45a50e6aa377d7dbd51aa951f              1          12     360.0  \n",
       "1679cf5f7ac18c6573edc87ccbafce7c6825be3a              3          17     780.0  \n",
       "00b8ef5ed124bcf726597eda5132d746ca5add8b              3          19    1440.0  \n",
       "\n",
       "[112033 rows x 17 columns]"
      ]
     },
     "execution_count": 12,
     "metadata": {},
     "output_type": "execute_result"
    }
   ],
   "source": [
    "trips_date_end = trips_with_index.get(\"trip_end_timestamp\").apply(date)\n",
    "def seconds(x):\n",
    "    return x.total_seconds()\n",
    "duration = (trips_date_end - trips_date).apply(seconds)\n",
    "\n",
    "trips = trips_with_start_times.assign(duration=duration)\n",
    "trips"
   ]
  },
  {
   "cell_type": "code",
   "execution_count": 13,
   "metadata": {
    "deletable": false,
    "editable": false
   },
   "outputs": [
    {
     "data": {
      "text/html": [
       "\n",
       "    <p><strong>q1_2</strong> passed!</p>\n",
       "    "
      ],
      "text/plain": [
       "q1_2 passed!"
      ]
     },
     "execution_count": 13,
     "metadata": {},
     "output_type": "execute_result"
    }
   ],
   "source": [
    "grader.check(\"q1_2\")"
   ]
  },
  {
   "cell_type": "markdown",
   "metadata": {},
   "source": [
    "### Check your work!\n",
    "\n",
    "Before moving on, it is absolutely crucial that you have the right information in your `trips` table, since we'll be making frequent use of it in the rest of the project. The test below will make sure (as best as it is able) that you've done everything correctly so far. If it fails make sure your table has:\n",
    "\n",
    "- 17 columns\n",
    "- 112,033 rows\n",
    "- the unique key as the index\n",
    "- the correct column names\n",
    "\n",
    "If you've verified that the table has the right shape and column names, make sure your converted times are correct. Take an arbitrary row, like row 3, and calculate the duration by hand. Compare this to what is in your table."
   ]
  },
  {
   "cell_type": "markdown",
   "metadata": {},
   "source": [
    "## 2. Exploratory Data Analysis\n",
    "\n",
    "Now let's do some rudimentary exploration of this large dataset in order to find some interesting trends worthy of further investigation. Exploratory data analysis often involves a lot of queries, grouping (sometimes even double grouping!), and visualization. Chapter 02 of the [textbook](https://eldridgejm.github.io/dive_into_data_science/front.html) might come in handy.\n",
    "\n",
    "You should use the `trips` table as a starting point for the problems below.\n",
    "\n",
    "**Note**: There are many \"conceptual\" questions in this section that will ask you to look at a plot and determine the \"most likely\" reason for seeing a certain trend. To answer these questions, you can perform additional analyses or even use Google to do additional research, though it is usually sufficient to just look at the plot and use your experience with how taxis operate."
   ]
  },
  {
   "cell_type": "markdown",
   "metadata": {},
   "source": [
    "Let's start by trying to understand the distribution of trip distances. We can use a histogram for this."
   ]
  },
  {
   "cell_type": "code",
   "execution_count": 14,
   "metadata": {},
   "outputs": [
    {
     "data": {
      "text/plain": [
       "<AxesSubplot:ylabel='Frequency'>"
      ]
     },
     "execution_count": 14,
     "metadata": {},
     "output_type": "execute_result"
    },
    {
     "data": {
      "image/png": "[encoded data removed]",
      "text/plain": [
       "<Figure size 432x288 with 1 Axes>"
      ]
     },
     "metadata": {},
     "output_type": "display_data"
    }
   ],
   "source": [
    "trips.plot(kind='hist', y='trip_miles', density=True)"
   ]
  },
  {
   "cell_type": "markdown",
   "metadata": {},
   "source": [
    "Well that's not very useful..."
   ]
  },
  {
   "cell_type": "markdown",
   "metadata": {},
   "source": [
    "**Question 1.** (Multiple choice) Why does the plot look like this? Assign the number of your answer to the variable below.\n",
    "\n",
    "1. There is a bug in babypandas.\n",
    "2. All of the trips are the same distance.\n",
    "3. There are *outlier* trips which are much longer than the rest of the trips, causing most of the data to be placed in the first bin.\n",
    "4. What do you mean? My plot looks fine."
   ]
  },
  {
   "cell_type": "code",
   "execution_count": 15,
   "metadata": {},
   "outputs": [],
   "source": [
    "#trips.get('trip_miles').mean()\n",
    "#trips.get('trip_miles').max()"
   ]
  },
  {
   "cell_type": "code",
   "execution_count": 16,
   "metadata": {},
   "outputs": [],
   "source": [
    "mc_histogram_weirdness = 3"
   ]
  },
  {
   "cell_type": "code",
   "execution_count": 17,
   "metadata": {
    "deletable": false,
    "editable": false
   },
   "outputs": [
    {
     "data": {
      "text/html": [
       "\n",
       "    <p><strong>q2_1</strong> passed!</p>\n",
       "    "
      ],
      "text/plain": [
       "q2_1 passed!"
      ]
     },
     "execution_count": 17,
     "metadata": {},
     "output_type": "execute_result"
    }
   ],
   "source": [
    "grader.check(\"q2_1\")"
   ]
  },
  {
   "cell_type": "markdown",
   "metadata": {},
   "source": [
    "**Question 2.** What is the length of the longest trip in miles?"
   ]
  },
  {
   "cell_type": "code",
   "execution_count": 18,
   "metadata": {},
   "outputs": [
    {
     "data": {
      "text/plain": [
       "380.2"
      ]
     },
     "execution_count": 18,
     "metadata": {},
     "output_type": "execute_result"
    }
   ],
   "source": [
    "longest_trip_length = trips.get('trip_miles').max()\n",
    "longest_trip_length"
   ]
  },
  {
   "cell_type": "code",
   "execution_count": 19,
   "metadata": {
    "deletable": false,
    "editable": false
   },
   "outputs": [
    {
     "data": {
      "text/html": [
       "\n",
       "    <p><strong>q2_2</strong> passed!</p>\n",
       "    "
      ],
      "text/plain": [
       "q2_2 passed!"
      ]
     },
     "execution_count": 19,
     "metadata": {},
     "output_type": "execute_result"
    }
   ],
   "source": [
    "grader.check(\"q2_2\")"
   ]
  },
  {
   "cell_type": "markdown",
   "metadata": {},
   "source": [
    "**Question 3.** What was the trip ID of the longest trip in miles?"
   ]
  },
  {
   "cell_type": "code",
   "execution_count": 20,
   "metadata": {},
   "outputs": [
    {
     "data": {
      "text/plain": [
       "'d36bc8efa0ccca7fbf3405a31254c28601cb446a'"
      ]
     },
     "execution_count": 20,
     "metadata": {},
     "output_type": "execute_result"
    }
   ],
   "source": [
    "longest_trip_id = trips.get('trip_miles').sort_values().index[-1]\n",
    "longest_trip_id"
   ]
  },
  {
   "cell_type": "code",
   "execution_count": 21,
   "metadata": {
    "deletable": false,
    "editable": false
   },
   "outputs": [
    {
     "data": {
      "text/html": [
       "\n",
       "    <p><strong>q2_3</strong> passed!</p>\n",
       "    "
      ],
      "text/plain": [
       "q2_3 passed!"
      ]
     },
     "execution_count": 21,
     "metadata": {},
     "output_type": "execute_result"
    }
   ],
   "source": [
    "grader.check(\"q2_3\")"
   ]
  },
  {
   "cell_type": "markdown",
   "metadata": {},
   "source": [
    "**Question 4.** That was probably an expensive taxi ride! What was the fare of that trip? *Note*: it might be lower than you expect..."
   ]
  },
  {
   "cell_type": "code",
   "execution_count": 22,
   "metadata": {},
   "outputs": [
    {
     "data": {
      "text/plain": [
       "37.5"
      ]
     },
     "execution_count": 22,
     "metadata": {},
     "output_type": "execute_result"
    }
   ],
   "source": [
    "longest_trip_fare = trips.get('fare').loc[longest_trip_id]\n",
    "longest_trip_fare"
   ]
  },
  {
   "cell_type": "code",
   "execution_count": 23,
   "metadata": {
    "deletable": false,
    "editable": false
   },
   "outputs": [
    {
     "data": {
      "text/html": [
       "\n",
       "    <p><strong>q2_4</strong> passed!</p>\n",
       "    "
      ],
      "text/plain": [
       "q2_4 passed!"
      ]
     },
     "execution_count": 23,
     "metadata": {},
     "output_type": "execute_result"
    }
   ],
   "source": [
    "grader.check(\"q2_4\")"
   ]
  },
  {
   "cell_type": "markdown",
   "metadata": {},
   "source": [
    "That can't be right! What we're seeing is that real-world datasets are *messy*. They contain errors. As a result, sensitive statistics, like the maximum or the minimum, might not be reliable. Luckily, aggregated statistics like the median are usually pretty good."
   ]
  },
  {
   "cell_type": "markdown",
   "metadata": {},
   "source": [
    "**Question 5.** Write a function named `median_fare(distance)` which takes in a certain distance and returns the median fare of all trips within 5 miles of that distance."
   ]
  },
  {
   "cell_type": "code",
   "execution_count": 24,
   "metadata": {},
   "outputs": [],
   "source": [
    "def median_fare(distance):\n",
    "    within_trips = trips[(trips.get('trip_miles') >= distance - 5.0) & (trips.get('trip_miles') <= distance + 5.0)]\n",
    "    fares = within_trips.get('fare').median()\n",
    "    return fares"
   ]
  },
  {
   "cell_type": "code",
   "execution_count": 25,
   "metadata": {
    "deletable": false,
    "editable": false
   },
   "outputs": [
    {
     "data": {
      "text/html": [
       "\n",
       "    <p><strong>q2_5</strong> passed!</p>\n",
       "    "
      ],
      "text/plain": [
       "q2_5 passed!"
      ]
     },
     "execution_count": 25,
     "metadata": {},
     "output_type": "execute_result"
    }
   ],
   "source": [
    "grader.check(\"q2_5\")"
   ]
  },
  {
   "cell_type": "markdown",
   "metadata": {},
   "source": [
    "For the present purposes of visualizing the distribution of trip lengths, the presence of outliers can be addressed by excluding the outliers from the histogram."
   ]
  },
  {
   "cell_type": "markdown",
   "metadata": {},
   "source": [
    "**Question 6.** (Multiple choice) Plot a histogram of the distribution of trip lengths including only those trips whose distance is less than 25 miles in order to exclude outliers. Use bins starting at zero miles and going up to (and including) 25 miles, with a bin width of 1 mile.\n",
    "\n",
    "Use your histogram to answer the following multiple choice question: As trip length increases, the number of trips with that length appears to decrease until there is a second, small peak. At what trip length does this second, small peak occur?\n",
    "\n",
    "1. 10 miles\n",
    "2. 16 miles\n",
    "3. 17 miles\n",
    "4. 18 miles"
   ]
  },
  {
   "cell_type": "markdown",
   "metadata": {
    "deletable": false,
    "editable": false
   },
   "source": [
    "<!-- BEGIN QUESTION -->\n",
    "\n",
    "<!--\n",
    "BEGIN QUESTION\n",
    "name: q2_6_a\n",
    "manual: true\n",
    "-->"
   ]
  },
  {
   "cell_type": "code",
   "execution_count": 26,
   "metadata": {},
   "outputs": [
    {
     "data": {
      "text/plain": [
       "<AxesSubplot:ylabel='Frequency'>"
      ]
     },
     "execution_count": 26,
     "metadata": {},
     "output_type": "execute_result"
    },
    {
     "data": {
      "image/png": "[encoded data removed]",
      "text/plain": [
       "<Figure size 576x720 with 1 Axes>"
      ]
     },
     "metadata": {},
     "output_type": "display_data"
    }
   ],
   "source": [
    "# make your plot here\n",
    "trips_less_than_25 = trips[trips.get('trip_miles') < 25].get('trip_miles')\n",
    "my_bins = np.arange(0,26,1)\n",
    "trips_less_than_25.plot(kind='hist', bins=my_bins, density=True, figsize=[8,10])"
   ]
  },
  {
   "cell_type": "markdown",
   "metadata": {
    "deletable": false,
    "editable": false
   },
   "source": [
    "<!-- END QUESTION -->\n",
    "\n",
    "<!--\n",
    "BEGIN QUESTION\n",
    "name: q2_6_b\n",
    "-->"
   ]
  },
  {
   "cell_type": "code",
   "execution_count": 27,
   "metadata": {},
   "outputs": [],
   "source": [
    "mc_location_of_second_peak = 3"
   ]
  },
  {
   "cell_type": "code",
   "execution_count": 28,
   "metadata": {
    "deletable": false,
    "editable": false
   },
   "outputs": [
    {
     "data": {
      "text/html": [
       "\n",
       "    <p><strong>q2_6_b</strong> passed!</p>\n",
       "    "
      ],
      "text/plain": [
       "q2_6_b passed!"
      ]
     },
     "execution_count": 28,
     "metadata": {},
     "output_type": "execute_result"
    }
   ],
   "source": [
    "grader.check(\"q2_6_b\")"
   ]
  },
  {
   "cell_type": "markdown",
   "metadata": {},
   "source": [
    "The existence of this second peak is interesting. Where are these trips going?\n",
    "\n",
    "**Question 7.** Using the histogram above, choose a range of trip lengths that contains the \"second peak\". Then find the most common dropoff location of these trips with lengths inside this range. Your answer should be in the form of an integer representing a community area."
   ]
  },
  {
   "cell_type": "code",
   "execution_count": 29,
   "metadata": {},
   "outputs": [
    {
     "data": {
      "text/plain": [
       "76.0"
      ]
     },
     "execution_count": 29,
     "metadata": {},
     "output_type": "execute_result"
    }
   ],
   "source": [
    "second_peak_dropoff_location = trips[(trips.get('trip_miles') >= 17.0) & (trips.get('trip_miles') < 18.0)].groupby('dropoff_community_area').count().get('taxi_ID').sort_values().index[-1]\n",
    "second_peak_dropoff_location"
   ]
  },
  {
   "cell_type": "code",
   "execution_count": 30,
   "metadata": {
    "deletable": false,
    "editable": false
   },
   "outputs": [
    {
     "data": {
      "text/html": [
       "\n",
       "    <p><strong>q2_7</strong> passed!</p>\n",
       "    "
      ],
      "text/plain": [
       "q2_7 passed!"
      ]
     },
     "execution_count": 30,
     "metadata": {},
     "output_type": "execute_result"
    }
   ],
   "source": [
    "grader.check(\"q2_7\")"
   ]
  },
  {
   "cell_type": "markdown",
   "metadata": {},
   "source": [
    "**Question 8.** Chicago is divided into numbered \"community areas\". The file `data/community_areas.csv` contains each community area number, the name of the community area, and its population. Using this data, what is the name of the most common destination community area you found above? Your answer should be a string as it appears in `community_areas.csv`."
   ]
  },
  {
   "cell_type": "code",
   "execution_count": 31,
   "metadata": {},
   "outputs": [
    {
     "data": {
      "text/plain": [
       "\"O'Hare\""
      ]
     },
     "execution_count": 31,
     "metadata": {},
     "output_type": "execute_result"
    }
   ],
   "source": [
    "community_areas = bpd.read_csv('data/community_areas.csv').set_index('Area #')\n",
    "second_peak_dropoff_location_name = community_areas.get('Area Name').loc[second_peak_dropoff_location]\n",
    "second_peak_dropoff_location_name"
   ]
  },
  {
   "cell_type": "code",
   "execution_count": 32,
   "metadata": {
    "deletable": false,
    "editable": false
   },
   "outputs": [
    {
     "data": {
      "text/html": [
       "\n",
       "    <p><strong>q2_8</strong> passed!</p>\n",
       "    "
      ],
      "text/plain": [
       "q2_8 passed!"
      ]
     },
     "execution_count": 32,
     "metadata": {},
     "output_type": "execute_result"
    }
   ],
   "source": [
    "grader.check(\"q2_8\")"
   ]
  },
  {
   "cell_type": "markdown",
   "metadata": {},
   "source": [
    "With the rise of ridesharing services like Uber and Lyft, we expect the number of taxi rides to be decreasing over time. Does the data support this hypothesis? We can check with another plot."
   ]
  },
  {
   "cell_type": "markdown",
   "metadata": {},
   "source": [
    "**Question 9.** Plot the total number of trips per per month as a line graph. Use your graph to answer the following question: during which year was the peak number of trips reached?\n",
    "\n",
    "*Hint*: you might need a groupby with multiple columns. Use the trip start time to place a trip within a month."
   ]
  },
  {
   "cell_type": "code",
   "execution_count": 33,
   "metadata": {},
   "outputs": [
    {
     "data": {
      "text/plain": [
       "<AxesSubplot:xlabel='start_year,start_month'>"
      ]
     },
     "execution_count": 33,
     "metadata": {},
     "output_type": "execute_result"
    },
    {
     "data": {
      "image/png": "[encoded data removed]",
      "text/plain": [
       "<Figure size 432x288 with 1 Axes>"
      ]
     },
     "metadata": {},
     "output_type": "display_data"
    }
   ],
   "source": [
    "# make your plot here\n",
    "grouped = trips.groupby(['start_year','start_month']).count().get('taxi_ID').plot(kind='line')\n",
    "grouped"
   ]
  },
  {
   "cell_type": "code",
   "execution_count": 34,
   "metadata": {},
   "outputs": [],
   "source": [
    "year_containing_peak_trips = 2016"
   ]
  },
  {
   "cell_type": "code",
   "execution_count": 35,
   "metadata": {
    "deletable": false,
    "editable": false
   },
   "outputs": [
    {
     "data": {
      "text/html": [
       "\n",
       "    <p><strong>q2_9</strong> passed!</p>\n",
       "    "
      ],
      "text/plain": [
       "q2_9 passed!"
      ]
     },
     "execution_count": 35,
     "metadata": {},
     "output_type": "execute_result"
    }
   ],
   "source": [
    "grader.check(\"q2_9\")"
   ]
  },
  {
   "cell_type": "markdown",
   "metadata": {},
   "source": [
    "It is interesting to think about what might have caused the peak in taxi rides. There might have been something going on in the city of Chicago during that point in time. Also notice the big drop off at the end of the plot. I wonder what caused that...\n",
    "\n",
    "You might know that Chicago is famous for its St. Patrick's Day celebrations, during which the river is dyed green. We might expect the number of taxi trips to be higher than usual every St. Patrick's day."
   ]
  },
  {
   "cell_type": "markdown",
   "metadata": {},
   "source": [
    "<img src=\"data/green_river.jpg\" width=50%>"
   ]
  },
  {
   "cell_type": "markdown",
   "metadata": {},
   "source": [
    "**Question 10.** In 2019, Chicago's St. Patrick's day parade was held on March 16. As a proportion, what was the ratio of the number of taxi trips on March 16, 2019 to the number of taxi trips on a median day in 2019? For example, if there were 150 trips on March 16, and 100 trips on the median day, your answer would be 1.5."
   ]
  },
  {
   "cell_type": "code",
   "execution_count": 36,
   "metadata": {},
   "outputs": [
    {
     "data": {
      "text/plain": [
       "1.4375"
      ]
     },
     "execution_count": 36,
     "metadata": {},
     "output_type": "execute_result"
    }
   ],
   "source": [
    "patrick = trips[(trips.get('start_year') == 2019) & (trips.get('start_month') == 3) & (trips.get('start_day') == 16)].shape[0]\n",
    "median_2019 = trips[(trips.get('start_year') == 2019)].groupby(['start_month', 'start_day']).count().get('taxi_ID').median()\n",
    "st_patricks_ratio = patrick / median_2019\n",
    "st_patricks_ratio"
   ]
  },
  {
   "cell_type": "code",
   "execution_count": 37,
   "metadata": {
    "deletable": false,
    "editable": false
   },
   "outputs": [
    {
     "data": {
      "text/html": [
       "\n",
       "    <p><strong>q2_10</strong> passed!</p>\n",
       "    "
      ],
      "text/plain": [
       "q2_10 passed!"
      ]
     },
     "execution_count": 37,
     "metadata": {},
     "output_type": "execute_result"
    }
   ],
   "source": [
    "grader.check(\"q2_10\")"
   ]
  },
  {
   "cell_type": "markdown",
   "metadata": {},
   "source": [
    "**Question 11.** How does trip frequency depend on the time of the day? Plot a bar chart with the 24 hours of the day on the x-axis and the number of trips in that hour on the y-axis. Use that plot to answer the following question: which hour has the most number of trips, overall? Use a trip's start time to place it within an hour."
   ]
  },
  {
   "cell_type": "code",
   "execution_count": 38,
   "metadata": {},
   "outputs": [
    {
     "data": {
      "text/plain": [
       "<AxesSubplot:xlabel='start_hour'>"
      ]
     },
     "execution_count": 38,
     "metadata": {},
     "output_type": "execute_result"
    },
    {
     "data": {
      "image/png": "[encoded data removed]",
      "text/plain": [
       "<Figure size 864x504 with 1 Axes>"
      ]
     },
     "metadata": {},
     "output_type": "display_data"
    }
   ],
   "source": [
    "# make your plot here\n",
    "hour_frequency = trips.groupby('start_hour').count()\n",
    "hour_frequency = hour_frequency.assign(number_of_trips=hour_frequency.get('taxi_ID'))\n",
    "hour_frequency.plot(kind='bar', y='number_of_trips', figsize=[12,7])\n",
    "\n",
    "\n"
   ]
  },
  {
   "cell_type": "code",
   "execution_count": 39,
   "metadata": {},
   "outputs": [],
   "source": [
    "most_popular_hour = 19"
   ]
  },
  {
   "cell_type": "code",
   "execution_count": 40,
   "metadata": {
    "deletable": false,
    "editable": false
   },
   "outputs": [
    {
     "data": {
      "text/html": [
       "\n",
       "    <p><strong>q2_11</strong> passed!</p>\n",
       "    "
      ],
      "text/plain": [
       "q2_11 passed!"
      ]
     },
     "execution_count": 40,
     "metadata": {},
     "output_type": "execute_result"
    }
   ],
   "source": [
    "grader.check(\"q2_11\")"
   ]
  },
  {
   "cell_type": "markdown",
   "metadata": {},
   "source": [
    "Note that we said before that we can probably assume that the dataset's times are stated in CST. The plot above validates this assumption, since we can see that there is a dip in the number of trips in the early morning hours, and that trips peak in the late afternoon/early evening, as we'd expect."
   ]
  },
  {
   "cell_type": "markdown",
   "metadata": {},
   "source": [
    "**Question 12.** Out of the community areas which appear as the dropoff point at least 85 times, which area has the smallest median trip fare?"
   ]
  },
  {
   "cell_type": "code",
   "execution_count": 41,
   "metadata": {},
   "outputs": [
    {
     "data": {
      "text/plain": [
       "59.0"
      ]
     },
     "execution_count": 41,
     "metadata": {},
     "output_type": "execute_result"
    }
   ],
   "source": [
    "area_with_smallest_median_fare = trips.groupby(\"dropoff_community_area\").median()[trips.groupby(\"dropoff_community_area\").count().get(\"trip_start_timestamp\") >=85].sort_values(\"fare\").index[0]\n",
    "area_with_smallest_median_fare\n"
   ]
  },
  {
   "cell_type": "code",
   "execution_count": 42,
   "metadata": {
    "deletable": false,
    "editable": false
   },
   "outputs": [
    {
     "data": {
      "text/html": [
       "\n",
       "    <p><strong>q2_12</strong> passed!</p>\n",
       "    "
      ],
      "text/plain": [
       "q2_12 passed!"
      ]
     },
     "execution_count": 42,
     "metadata": {},
     "output_type": "execute_result"
    }
   ],
   "source": [
    "grader.check(\"q2_12\")"
   ]
  },
  {
   "cell_type": "markdown",
   "metadata": {},
   "source": [
    "**Question 13.** Create a new Series called `trips_per_capita` which has the number of trips starting in each community area per person who lives there. You can use `data/community_areas.csv` to find the population of each area. Your series should have as its index the community area number."
   ]
  },
  {
   "cell_type": "code",
   "execution_count": 43,
   "metadata": {},
   "outputs": [
    {
     "data": {
      "text/plain": [
       "1.0     0.008754\n",
       "2.0     0.006075\n",
       "3.0     0.028996\n",
       "4.0     0.012609\n",
       "5.0     0.016569\n",
       "          ...   \n",
       "73.0    0.000801\n",
       "74.0         NaN\n",
       "75.0    0.000491\n",
       "76.0    0.509089\n",
       "77.0    0.020584\n",
       "Length: 77, dtype: float64"
      ]
     },
     "execution_count": 43,
     "metadata": {},
     "output_type": "execute_result"
    }
   ],
   "source": [
    "trips_per_capita = (trips.groupby('pickup_community_area').count().get('taxi_ID')) / community_areas.get('2017 Population')\n",
    "trips_per_capita"
   ]
  },
  {
   "cell_type": "code",
   "execution_count": 44,
   "metadata": {
    "deletable": false,
    "editable": false
   },
   "outputs": [
    {
     "data": {
      "text/html": [
       "\n",
       "    <p><strong>q2_13</strong> passed!</p>\n",
       "    "
      ],
      "text/plain": [
       "q2_13 passed!"
      ]
     },
     "execution_count": 44,
     "metadata": {},
     "output_type": "execute_result"
    }
   ],
   "source": [
    "grader.check(\"q2_13\")"
   ]
  },
  {
   "cell_type": "markdown",
   "metadata": {},
   "source": [
    "Here are the top 10 community areas by trips per capita:"
   ]
  },
  {
   "cell_type": "code",
   "execution_count": 45,
   "metadata": {},
   "outputs": [
    {
     "data": {
      "text/plain": [
       "<AxesSubplot:>"
      ]
     },
     "execution_count": 45,
     "metadata": {},
     "output_type": "execute_result"
    },
    {
     "data": {
      "image/png": "[encoded data removed]",
      "text/plain": [
       "<Figure size 1080x576 with 1 Axes>"
      ]
     },
     "metadata": {},
     "output_type": "display_data"
    }
   ],
   "source": [
    "trips_per_capita.sort_values(ascending=False).take(range(10)).plot(kind='bar', figsize=[15,8])"
   ]
  },
  {
   "cell_type": "markdown",
   "metadata": {},
   "source": [
    "**Question 14.** Create a bar chart counting the number of trips paid by each payment type. Use your plot to answer: Which payment type is most popular?\n",
    "\n",
    "1. Dispute\n",
    "2. Credit Card\n",
    "3. Mobile\n",
    "4. Unknown\n",
    "5. No Charge\n",
    "6. Cash\n",
    "7. Prcard\n",
    "8. Split\n",
    "9. Pcard"
   ]
  },
  {
   "cell_type": "code",
   "execution_count": 46,
   "metadata": {},
   "outputs": [
    {
     "data": {
      "image/png": "[encoded data removed]",
      "text/plain": [
       "<Figure size 432x288 with 1 Axes>"
      ]
     },
     "metadata": {},
     "output_type": "display_data"
    }
   ],
   "source": [
    "# make your plot here\n",
    "paid = trips.groupby('payment_type').count()\n",
    "paid.plot(kind='bar', y='taxi_ID')\n",
    "mc_most_popular_payment = 6"
   ]
  },
  {
   "cell_type": "code",
   "execution_count": 47,
   "metadata": {
    "deletable": false,
    "editable": false
   },
   "outputs": [
    {
     "data": {
      "text/html": [
       "\n",
       "    <p><strong>q2_14</strong> passed!</p>\n",
       "    "
      ],
      "text/plain": [
       "q2_14 passed!"
      ]
     },
     "execution_count": 47,
     "metadata": {},
     "output_type": "execute_result"
    }
   ],
   "source": [
    "grader.check(\"q2_14\")"
   ]
  },
  {
   "cell_type": "markdown",
   "metadata": {},
   "source": [
    "Because this dataset contains information about the price of each trip, we can use it to ask interesting questions about tipping behavior. We can also use it to investigate common \"scams\" that taxi operators might use to make more money.\n",
    "\n",
    "Let's start with tipping. How well do people tip? Remember that the tip is not recorded if the passenger pays with cash, so we'll restrict our analysis to payment by credit card. We also are interested not in the tip in dollars, but in the tip as a proportion of the fare. The \"rule of thumb\" is to tip 15% the fare -- is this what is most commonly done?\n",
    "\n",
    "*Note*: a proportion is a decimal number. For example, if a passenger tips 1 dollar on a fare of 5 dollars, the proportion is 1/5 = 0.2. Note that it is indeed possible to have a tip proportion *over* 1, for instance, if a passenger tips 10 dollars on a fare of 5 dollars."
   ]
  },
  {
   "cell_type": "markdown",
   "metadata": {},
   "source": [
    "**Question 15.** Calculate the mean tip given by people who pay by credit card *as a proportion of their fare*."
   ]
  },
  {
   "cell_type": "code",
   "execution_count": 48,
   "metadata": {},
   "outputs": [
    {
     "data": {
      "text/plain": [
       "0.450254438033021"
      ]
     },
     "execution_count": 48,
     "metadata": {},
     "output_type": "execute_result"
    }
   ],
   "source": [
    "tip = trips[trips.get('payment_type') == 'Credit Card'].get('tips')\n",
    "fare = trips[trips.get('payment_type') == 'Credit Card'].get('fare')\n",
    "mean_tip_proportion = (tip / fare).mean()\n",
    "mean_tip_proportion"
   ]
  },
  {
   "cell_type": "code",
   "execution_count": 49,
   "metadata": {
    "deletable": false,
    "editable": false
   },
   "outputs": [
    {
     "data": {
      "text/html": [
       "\n",
       "    <p><strong>q2_15</strong> passed!</p>\n",
       "    "
      ],
      "text/plain": [
       "q2_15 passed!"
      ]
     },
     "execution_count": 49,
     "metadata": {},
     "output_type": "execute_result"
    }
   ],
   "source": [
    "grader.check(\"q2_15\")"
   ]
  },
  {
   "cell_type": "markdown",
   "metadata": {},
   "source": [
    "Is tipping behavior dependant on the fare? For instance, are people more likely to tip a higher percentage of the fare when the fare is low? Let's see."
   ]
  },
  {
   "cell_type": "markdown",
   "metadata": {},
   "source": [
    "**Question 16.** (Multiple choice) Make a scatter plot with the fare on the x-axis and the tip proportion on the y-axis using data only from those who paid by credit card. Because of outliers, plot only the data where the tip proportion is less than 1 and the fare is less than 60 dollars.\n",
    "\n",
    "Use your plot to answer the following question. You should notice several interesting curves which start at high proportions and decrease as the fare increases. Which of the below explanations below is most likely the reason for these curves?\n",
    "\n",
    "1. There is an error in the data.\n",
    "2. Many people tend to tip in even dollar amounts, such as 1 or 2 dollars, etc., regardless of the fare.\n",
    "3. Many people calculate their tip as a percentage of the fare, and as the fare increases they decrease the percentage used in their calculation.\n",
    "4. The number of trips decreases as the fare increases.\n",
    "\n",
    "*Tip*: to make it easier to see trends in your plot, use `figsize=(10, 7)` as a keyword argument to `.plot()` in order to increase its size. Use `alpha=.1` to make the scatter points translucent; this allows you to recognize areas where points are densely clustered on top of one another.\n",
    "\n"
   ]
  },
  {
   "cell_type": "code",
   "execution_count": 50,
   "metadata": {},
   "outputs": [
    {
     "data": {
      "image/png": "[encoded data removed]",
      "text/plain": [
       "<Figure size 720x504 with 1 Axes>"
      ]
     },
     "metadata": {},
     "output_type": "display_data"
    }
   ],
   "source": [
    "# make your plot here\n",
    "fares = trips[trips.get('payment_type') == 'Credit Card'].get('fare')\n",
    "tipsss = trips[trips.get('payment_type') == 'Credit Card'].get('tips')\n",
    "proportion = tipsss / fares\n",
    "new_table = trips[trips.get('payment_type') == 'Credit Card'].assign(prop=proportion)\n",
    "new_table = new_table[(new_table.get('prop') < 1) & (new_table.get('fare') < 60)]\n",
    "new_table.plot(kind='scatter', x='fare', y='prop', figsize=[10,7], alpha=.1)\n",
    "mc_reason_for_curves = 2"
   ]
  },
  {
   "cell_type": "code",
   "execution_count": 51,
   "metadata": {
    "deletable": false,
    "editable": false
   },
   "outputs": [
    {
     "data": {
      "text/html": [
       "\n",
       "    <p><strong>q2_16</strong> passed!</p>\n",
       "    "
      ],
      "text/plain": [
       "q2_16 passed!"
      ]
     },
     "execution_count": 51,
     "metadata": {},
     "output_type": "execute_result"
    }
   ],
   "source": [
    "grader.check(\"q2_16\")"
   ]
  },
  {
   "cell_type": "markdown",
   "metadata": {},
   "source": [
    "**Question 17.** You might also have noticed that there is an invisible vertical \"wall\" in your plot, to the left of which there are very few trips. This wall occurs at a fare around 3 dollars. What is the most likely meaning of this \"wall\"?\n",
    "\n",
    "1. This occurs because people who pay by credit card never took trips this short/cheap.\n",
    "2. There is an error in the data and every fare has had 3 dollars added to it.\n",
    "3. There is a \"base price\" to each fare of around 3 dollars, meaning that a trip of zero miles taking zero seconds would cost 3 dollars. "
   ]
  },
  {
   "cell_type": "code",
   "execution_count": 52,
   "metadata": {},
   "outputs": [],
   "source": [
    "mc_reason_for_wall = 3"
   ]
  },
  {
   "cell_type": "code",
   "execution_count": 53,
   "metadata": {
    "deletable": false,
    "editable": false
   },
   "outputs": [
    {
     "data": {
      "text/html": [
       "\n",
       "    <p><strong>q2_17</strong> passed!</p>\n",
       "    "
      ],
      "text/plain": [
       "q2_17 passed!"
      ]
     },
     "execution_count": 53,
     "metadata": {},
     "output_type": "execute_result"
    }
   ],
   "source": [
    "grader.check(\"q2_17\")"
   ]
  },
  {
   "cell_type": "markdown",
   "metadata": {},
   "source": [
    "Now let's take a look at the fares. A trip's fare should increase with the trip distance. Let's plot the fare as a function of length in miles to see if we can spot a pattern."
   ]
  },
  {
   "cell_type": "markdown",
   "metadata": {},
   "source": [
    "**Question 18.** (Multiple choice) Make a scatter plot where the x-axis contains the length of the trip in miles and the y-axis contains the fare. To limit the effect of outliers, only include trips which are shorter than 40 miles long and whose fare is less than 60 dollars. Use `alpha=.01` and `figsize=(10,10)` in `.plot()` to make your plot clearer.\n",
    "\n",
    "Use your plot to answer the following question: you should notice dense clusters of trips whose distance is between 15 and 20 miles. What is the most likely explanation for these clusters?\n",
    "\n",
    "1. These are trips to Chicago O'Hare airport, which is a popular destination for taxi rides.\n",
    "2. Taxi drivers are not allowed to take trips over 20 miles long even though such trips pay more, so they lie about the trip distance when reporting their activity.\n",
    "3. Most taxis used a brand of taxi meters which cannot record distances over 20 miles, so all trips which are longer than 20 miles had their distances truncated to 20."
   ]
  },
  {
   "cell_type": "code",
   "execution_count": 54,
   "metadata": {},
   "outputs": [
    {
     "data": {
      "image/png": "[encoded data removed]",
      "text/plain": [
       "<Figure size 720x720 with 1 Axes>"
      ]
     },
     "metadata": {},
     "output_type": "display_data"
    }
   ],
   "source": [
    "# make your plot here\n",
    "length = trips[(trips.get('fare') < 60) & (trips.get('trip_miles') < 40)]\n",
    "length.plot(kind='scatter', x='trip_miles', y='fare', alpha=.1, figsize=[10,10])\n",
    "mc_reason_for_bubbles = 1"
   ]
  },
  {
   "cell_type": "code",
   "execution_count": 55,
   "metadata": {
    "deletable": false,
    "editable": false
   },
   "outputs": [
    {
     "data": {
      "text/html": [
       "\n",
       "    <p><strong>q2_18</strong> passed!</p>\n",
       "    "
      ],
      "text/plain": [
       "q2_18 passed!"
      ]
     },
     "execution_count": 55,
     "metadata": {},
     "output_type": "execute_result"
    }
   ],
   "source": [
    "grader.check(\"q2_18\")"
   ]
  },
  {
   "cell_type": "markdown",
   "metadata": {},
   "source": [
    "You should also see several thin, long line-like clusters of points emanating from the bottom left with different slopes. That is interesting... why do we see such distinct clusters?"
   ]
  },
  {
   "cell_type": "markdown",
   "metadata": {},
   "source": [
    "In Chicago (and many other cities), taxi fares are determined by the city, and not by the individual taxi driver or taxi company. The taxi fare is determined entirely by the distance of the trip in miles and the length of the trip in seconds. Chicago's fare rates (current as of 2016/1/1) can be found [here](https://www.chicago.gov/city/en/depts/bacp/supp_info/2012_passenger_information.html), but here's the summary:\n",
    "\n",
    "- Every trip is charged a flat \\\\$3.25 \"base fare\".\n",
    "- Each additional whole mile costs \\\\$2.25.\n",
    "- Every additional 36 seconds costs \\\\$0.20.\n",
    "\n",
    "Trips to the suburbs have their fare calculated by using the original formula to calculate the \"meter fare\"; this fare is then multiplied by 1.5 to obtain the final fare.\n",
    "\n",
    "There are other fees for additional passengers, leaving the airport, etc., but these are not included in the fare. We'll investigate the extra fees in a moment.\n",
    "\n",
    "It is also useful to know that there was a fare increase in 2016. Before this, the fares were calculated using the following formula:\n",
    "\n",
    "- Every trip is charged a flat fee of \\\\$2.25.\n",
    "- Each additional whole mile costs \\\\$1.80.\n",
    "- Every additional 30 seconds costs \\\\$0.20.\n",
    "\n",
    "To simplify our analysis, let's select only trips from 2016 and after, since they are calculated using the same fare rates."
   ]
  },
  {
   "cell_type": "markdown",
   "metadata": {},
   "source": [
    "**Question 19.** (Multiple choice) Repeat the scatter plot you made at the end of the previous section which compared the fare to the trip distance, this time including only the trips from 2016 on. You should see that one of the main clusters has disappeared -- apparently, that cluster contained trips from before 2016, which were calculated at the previous fare rate.\n",
    "\n",
    "Use your plot to answer the following question: In addition to the \"main\" cluster whose slope is around 2.25, you should see two very thin clusters with steep slopes. Which of the following explanations for the existence of these clusters is most likely?\n",
    "\n",
    "1. Some taxis are not reporting or consistently misreporting distance traveled, while still charging what appears to be the correct fare.\n",
    "2. Trips to the suburbs have their fare calculated by using the original formula to calculate the \"meter fare\"; this fare is then multiplied by 1.5 to obtain the final fare.\n",
    "3. These are trips during high-demand times, like baseball games, where traffic is barely moving. The fare is high even though the distance is small because the duration is large.\n",
    "4. Companies are not using the city-mandated fare rates, and are instead charging much more for every mile traveled. \n",
    "\n",
    "*Hint*: Notice that these steep clusters also have the \"dense bubble\" of trips at around 40 to 50 dollars in fare."
   ]
  },
  {
   "cell_type": "code",
   "execution_count": 56,
   "metadata": {},
   "outputs": [
    {
     "data": {
      "image/png": "[encoded data removed]",
      "text/plain": [
       "<Figure size 720x720 with 1 Axes>"
      ]
     },
     "metadata": {},
     "output_type": "display_data"
    }
   ],
   "source": [
    "# make your plot here\n",
    "length = trips[(trips.get('start_year') >= 2016) & (trips.get('fare') < 60) & (trips.get('trip_miles') < 40)]\n",
    "length.plot(kind='scatter', x='trip_miles', y='fare', alpha=.1, figsize=[10,10])\n",
    "mc_likely_explanation = 3"
   ]
  },
  {
   "cell_type": "code",
   "execution_count": 57,
   "metadata": {
    "deletable": false,
    "editable": false
   },
   "outputs": [
    {
     "data": {
      "text/html": [
       "\n",
       "    <p><strong>q2_19</strong> passed!</p>\n",
       "    "
      ],
      "text/plain": [
       "q2_19 passed!"
      ]
     },
     "execution_count": 57,
     "metadata": {},
     "output_type": "execute_result"
    }
   ],
   "source": [
    "grader.check(\"q2_19\")"
   ]
  },
  {
   "cell_type": "markdown",
   "metadata": {},
   "source": [
    "## 3. Investigating Scams\n",
    "\n",
    "Taxi companies have a reputation -- deserved or not -- as being a little dishonest from time to time. We know that there is actually very little room for taxis to inflate the fare of a taxi ride, since the rate is determined by the city and is easily audited. On the other hand, taxi drivers can add miscellaneous extra *fees* to the taxi trip in order to increase its overall price. Some of these fees are permissible -- for instance, there is a charge for each additional passenger. Since it is difficult for the city to verify that there were, indeed, additional passengers in the taxi, it is easier for the taxi operator to go unnoticed while adding spurious fees.\n",
    "\n",
    "Here are the extra fees that are permitted by the city:\n",
    "\n",
    "- First additional passenger: \\\\$1.00\n",
    "- Each additional passenger after first passenger: \\\\$0.50 \n",
    "- Vomit Clean-up Fee: \\\\$50.00\n",
    "- Illinois Airport Departure Tax: \\\\$4.00\n",
    "\n",
    "The airport departure tax is only allowed when *leaving* the airport, and it is not charged per passenger.\n",
    "\n",
    "Let's start by extracting the fees. Remember that the `fare` column contains the fare, `tips` contains the tips, and `trip_total` contains the total price: the fare plus the tips plus fees.\n",
    "\n",
    "**Question 1.** Starting with `trips`, create a new table called `trips_with_fees` which has the same columns as `trips`, but with a new column called `fees` containing the total amount in fees for each trip."
   ]
  },
  {
   "cell_type": "code",
   "execution_count": 58,
   "metadata": {},
   "outputs": [
    {
     "data": {
      "text/html": [
       "<div>\n",
       "<style scoped>\n",
       "    .dataframe tbody tr th:only-of-type {\n",
       "        vertical-align: middle;\n",
       "    }\n",
       "\n",
       "    .dataframe tbody tr th {\n",
       "        vertical-align: top;\n",
       "    }\n",
       "\n",
       "    .dataframe thead th {\n",
       "        text-align: right;\n",
       "    }\n",
       "</style>\n",
       "<table border=\"1\" class=\"dataframe\">\n",
       "  <thead>\n",
       "    <tr style=\"text-align: right;\">\n",
       "      <th></th>\n",
       "      <th>taxi_ID</th>\n",
       "      <th>trip_start_timestamp</th>\n",
       "      <th>trip_end_timestamp</th>\n",
       "      <th>trip_miles</th>\n",
       "      <th>pickup_community_area</th>\n",
       "      <th>dropoff_community_area</th>\n",
       "      <th>fare</th>\n",
       "      <th>tips</th>\n",
       "      <th>trip_total</th>\n",
       "      <th>payment_type</th>\n",
       "      <th>company</th>\n",
       "      <th>start_year</th>\n",
       "      <th>start_month</th>\n",
       "      <th>start_day</th>\n",
       "      <th>start_weekday</th>\n",
       "      <th>start_hour</th>\n",
       "      <th>duration</th>\n",
       "      <th>fees</th>\n",
       "    </tr>\n",
       "    <tr>\n",
       "      <th>unique_key</th>\n",
       "      <th></th>\n",
       "      <th></th>\n",
       "      <th></th>\n",
       "      <th></th>\n",
       "      <th></th>\n",
       "      <th></th>\n",
       "      <th></th>\n",
       "      <th></th>\n",
       "      <th></th>\n",
       "      <th></th>\n",
       "      <th></th>\n",
       "      <th></th>\n",
       "      <th></th>\n",
       "      <th></th>\n",
       "      <th></th>\n",
       "      <th></th>\n",
       "      <th></th>\n",
       "      <th></th>\n",
       "    </tr>\n",
       "  </thead>\n",
       "  <tbody>\n",
       "    <tr>\n",
       "      <th>5010436ea1be6bed3abb167bcd583b5e598c72be</th>\n",
       "      <td>341cead8979074196f3231099ef811c4e905d7031dd6d7...</td>\n",
       "      <td>2013-06-09 16:30:00+00:00</td>\n",
       "      <td>2013-06-09 16:44:00+00:00</td>\n",
       "      <td>0.4</td>\n",
       "      <td>8.0</td>\n",
       "      <td>14.0</td>\n",
       "      <td>17.85</td>\n",
       "      <td>4.25</td>\n",
       "      <td>22.10</td>\n",
       "      <td>Credit Card</td>\n",
       "      <td>Taxi Affiliation Services</td>\n",
       "      <td>2013</td>\n",
       "      <td>6</td>\n",
       "      <td>9</td>\n",
       "      <td>6</td>\n",
       "      <td>16</td>\n",
       "      <td>840.0</td>\n",
       "      <td>0.0</td>\n",
       "    </tr>\n",
       "    <tr>\n",
       "      <th>58d40c82bd65f8337a7cf79c4bcff06a10f6622f</th>\n",
       "      <td>405acec2f3a156bb57c8593c02dbce47f44b63b86fcbc4...</td>\n",
       "      <td>2013-06-02 13:02:00+00:00</td>\n",
       "      <td>2013-06-02 13:18:00+00:00</td>\n",
       "      <td>31.0</td>\n",
       "      <td>6.0</td>\n",
       "      <td>8.0</td>\n",
       "      <td>10.85</td>\n",
       "      <td>2.15</td>\n",
       "      <td>13.00</td>\n",
       "      <td>Credit Card</td>\n",
       "      <td>Taxi Affiliation Services</td>\n",
       "      <td>2013</td>\n",
       "      <td>6</td>\n",
       "      <td>2</td>\n",
       "      <td>6</td>\n",
       "      <td>13</td>\n",
       "      <td>960.0</td>\n",
       "      <td>0.0</td>\n",
       "    </tr>\n",
       "    <tr>\n",
       "      <th>bd6cd7917ad811078f8f294a02631e004ef1304a</th>\n",
       "      <td>ce28f4015e6382801a405172085edd713a9fffeb321e91...</td>\n",
       "      <td>2013-06-02 15:18:00+00:00</td>\n",
       "      <td>2013-06-02 15:37:00+00:00</td>\n",
       "      <td>0.3</td>\n",
       "      <td>33.0</td>\n",
       "      <td>7.0</td>\n",
       "      <td>13.65</td>\n",
       "      <td>3.40</td>\n",
       "      <td>17.05</td>\n",
       "      <td>Credit Card</td>\n",
       "      <td>Taxi Affiliation Services</td>\n",
       "      <td>2013</td>\n",
       "      <td>6</td>\n",
       "      <td>2</td>\n",
       "      <td>6</td>\n",
       "      <td>15</td>\n",
       "      <td>1140.0</td>\n",
       "      <td>0.0</td>\n",
       "    </tr>\n",
       "    <tr>\n",
       "      <th>876dc025833db474c149b25de1d9d39c9b735a54</th>\n",
       "      <td>c839de167830c1d8f7e1a489a1b9be2940314aba5857c6...</td>\n",
       "      <td>2013-06-02 15:38:00+00:00</td>\n",
       "      <td>2013-06-02 16:10:00+00:00</td>\n",
       "      <td>1.0</td>\n",
       "      <td>76.0</td>\n",
       "      <td>7.0</td>\n",
       "      <td>34.85</td>\n",
       "      <td>7.35</td>\n",
       "      <td>44.20</td>\n",
       "      <td>Credit Card</td>\n",
       "      <td>Blue Ribbon Taxi Association Inc.</td>\n",
       "      <td>2013</td>\n",
       "      <td>6</td>\n",
       "      <td>2</td>\n",
       "      <td>6</td>\n",
       "      <td>15</td>\n",
       "      <td>1920.0</td>\n",
       "      <td>2.0</td>\n",
       "    </tr>\n",
       "    <tr>\n",
       "      <th>c33695d66708b57df3cde919c2e831b58bee71a7</th>\n",
       "      <td>e3dfdc6273b53e7bea4294c159fb810c907ffcd2aba9ba...</td>\n",
       "      <td>2013-05-29 14:54:00+00:00</td>\n",
       "      <td>2013-05-29 15:09:00+00:00</td>\n",
       "      <td>0.0</td>\n",
       "      <td>8.0</td>\n",
       "      <td>28.0</td>\n",
       "      <td>10.45</td>\n",
       "      <td>2.05</td>\n",
       "      <td>12.50</td>\n",
       "      <td>Credit Card</td>\n",
       "      <td>Dispatch Taxi Affiliation</td>\n",
       "      <td>2013</td>\n",
       "      <td>5</td>\n",
       "      <td>29</td>\n",
       "      <td>2</td>\n",
       "      <td>14</td>\n",
       "      <td>900.0</td>\n",
       "      <td>0.0</td>\n",
       "    </tr>\n",
       "    <tr>\n",
       "      <th>...</th>\n",
       "      <td>...</td>\n",
       "      <td>...</td>\n",
       "      <td>...</td>\n",
       "      <td>...</td>\n",
       "      <td>...</td>\n",
       "      <td>...</td>\n",
       "      <td>...</td>\n",
       "      <td>...</td>\n",
       "      <td>...</td>\n",
       "      <td>...</td>\n",
       "      <td>...</td>\n",
       "      <td>...</td>\n",
       "      <td>...</td>\n",
       "      <td>...</td>\n",
       "      <td>...</td>\n",
       "      <td>...</td>\n",
       "      <td>...</td>\n",
       "      <td>...</td>\n",
       "    </tr>\n",
       "    <tr>\n",
       "      <th>d0bab20937a56fe51262cae9a87dd3006c2a451e</th>\n",
       "      <td>071d031c64f608418d27905c9ffe95bf52695615683d5f...</td>\n",
       "      <td>2019-08-31 01:59:00+00:00</td>\n",
       "      <td>2019-08-31 02:05:00+00:00</td>\n",
       "      <td>0.0</td>\n",
       "      <td>7.0</td>\n",
       "      <td>8.0</td>\n",
       "      <td>8.25</td>\n",
       "      <td>1.50</td>\n",
       "      <td>9.75</td>\n",
       "      <td>Credit Card</td>\n",
       "      <td>Taxi Affiliation Services</td>\n",
       "      <td>2019</td>\n",
       "      <td>8</td>\n",
       "      <td>31</td>\n",
       "      <td>5</td>\n",
       "      <td>1</td>\n",
       "      <td>360.0</td>\n",
       "      <td>0.0</td>\n",
       "    </tr>\n",
       "    <tr>\n",
       "      <th>12f56b557cbad2cea23a982aff90997147d1251b</th>\n",
       "      <td>2519839bf9f934467cc32afcc9c18454ba976c46b3934f...</td>\n",
       "      <td>2019-09-27 19:07:00+00:00</td>\n",
       "      <td>2019-09-27 19:21:00+00:00</td>\n",
       "      <td>0.0</td>\n",
       "      <td>8.0</td>\n",
       "      <td>32.0</td>\n",
       "      <td>9.50</td>\n",
       "      <td>1.50</td>\n",
       "      <td>13.00</td>\n",
       "      <td>Credit Card</td>\n",
       "      <td>Taxi Affiliation Services</td>\n",
       "      <td>2019</td>\n",
       "      <td>9</td>\n",
       "      <td>27</td>\n",
       "      <td>4</td>\n",
       "      <td>19</td>\n",
       "      <td>840.0</td>\n",
       "      <td>2.0</td>\n",
       "    </tr>\n",
       "    <tr>\n",
       "      <th>951f84fbe8312fa45a50e6aa377d7dbd51aa951f</th>\n",
       "      <td>5bee5f6487e84f44cf772c1e26d79f8d82e30539c71bf8...</td>\n",
       "      <td>2018-08-21 12:55:00+00:00</td>\n",
       "      <td>2018-08-21 13:01:00+00:00</td>\n",
       "      <td>0.8</td>\n",
       "      <td>8.0</td>\n",
       "      <td>32.0</td>\n",
       "      <td>6.00</td>\n",
       "      <td>1.50</td>\n",
       "      <td>8.50</td>\n",
       "      <td>Credit Card</td>\n",
       "      <td>Taxi Affiliation Services</td>\n",
       "      <td>2018</td>\n",
       "      <td>8</td>\n",
       "      <td>21</td>\n",
       "      <td>1</td>\n",
       "      <td>12</td>\n",
       "      <td>360.0</td>\n",
       "      <td>1.0</td>\n",
       "    </tr>\n",
       "    <tr>\n",
       "      <th>1679cf5f7ac18c6573edc87ccbafce7c6825be3a</th>\n",
       "      <td>249ef6f75a49feebb50f4bc68cf7ba703c4006498c63b6...</td>\n",
       "      <td>2019-09-12 17:23:00+00:00</td>\n",
       "      <td>2019-09-12 17:36:00+00:00</td>\n",
       "      <td>1.1</td>\n",
       "      <td>32.0</td>\n",
       "      <td>8.0</td>\n",
       "      <td>8.25</td>\n",
       "      <td>1.50</td>\n",
       "      <td>10.25</td>\n",
       "      <td>Credit Card</td>\n",
       "      <td>Chicago Carriage Cab Corp</td>\n",
       "      <td>2019</td>\n",
       "      <td>9</td>\n",
       "      <td>12</td>\n",
       "      <td>3</td>\n",
       "      <td>17</td>\n",
       "      <td>780.0</td>\n",
       "      <td>0.5</td>\n",
       "    </tr>\n",
       "    <tr>\n",
       "      <th>00b8ef5ed124bcf726597eda5132d746ca5add8b</th>\n",
       "      <td>314bf31c888fd796f71e2ccc6680694a03b2df413f5c42...</td>\n",
       "      <td>2019-09-26 19:46:00+00:00</td>\n",
       "      <td>2019-09-26 20:10:00+00:00</td>\n",
       "      <td>0.0</td>\n",
       "      <td>32.0</td>\n",
       "      <td>7.0</td>\n",
       "      <td>14.50</td>\n",
       "      <td>1.50</td>\n",
       "      <td>16.00</td>\n",
       "      <td>Credit Card</td>\n",
       "      <td>Blue Ribbon Taxi Association Inc.</td>\n",
       "      <td>2019</td>\n",
       "      <td>9</td>\n",
       "      <td>26</td>\n",
       "      <td>3</td>\n",
       "      <td>19</td>\n",
       "      <td>1440.0</td>\n",
       "      <td>0.0</td>\n",
       "    </tr>\n",
       "  </tbody>\n",
       "</table>\n",
       "<p>112033 rows × 18 columns</p>\n",
       "</div>"
      ],
      "text/plain": [
       "                                                                                    taxi_ID  \\\n",
       "unique_key                                                                                    \n",
       "5010436ea1be6bed3abb167bcd583b5e598c72be  341cead8979074196f3231099ef811c4e905d7031dd6d7...   \n",
       "58d40c82bd65f8337a7cf79c4bcff06a10f6622f  405acec2f3a156bb57c8593c02dbce47f44b63b86fcbc4...   \n",
       "bd6cd7917ad811078f8f294a02631e004ef1304a  ce28f4015e6382801a405172085edd713a9fffeb321e91...   \n",
       "876dc025833db474c149b25de1d9d39c9b735a54  c839de167830c1d8f7e1a489a1b9be2940314aba5857c6...   \n",
       "c33695d66708b57df3cde919c2e831b58bee71a7  e3dfdc6273b53e7bea4294c159fb810c907ffcd2aba9ba...   \n",
       "...                                                                                     ...   \n",
       "d0bab20937a56fe51262cae9a87dd3006c2a451e  071d031c64f608418d27905c9ffe95bf52695615683d5f...   \n",
       "12f56b557cbad2cea23a982aff90997147d1251b  2519839bf9f934467cc32afcc9c18454ba976c46b3934f...   \n",
       "951f84fbe8312fa45a50e6aa377d7dbd51aa951f  5bee5f6487e84f44cf772c1e26d79f8d82e30539c71bf8...   \n",
       "1679cf5f7ac18c6573edc87ccbafce7c6825be3a  249ef6f75a49feebb50f4bc68cf7ba703c4006498c63b6...   \n",
       "00b8ef5ed124bcf726597eda5132d746ca5add8b  314bf31c888fd796f71e2ccc6680694a03b2df413f5c42...   \n",
       "\n",
       "                                               trip_start_timestamp  \\\n",
       "unique_key                                                            \n",
       "5010436ea1be6bed3abb167bcd583b5e598c72be  2013-06-09 16:30:00+00:00   \n",
       "58d40c82bd65f8337a7cf79c4bcff06a10f6622f  2013-06-02 13:02:00+00:00   \n",
       "bd6cd7917ad811078f8f294a02631e004ef1304a  2013-06-02 15:18:00+00:00   \n",
       "876dc025833db474c149b25de1d9d39c9b735a54  2013-06-02 15:38:00+00:00   \n",
       "c33695d66708b57df3cde919c2e831b58bee71a7  2013-05-29 14:54:00+00:00   \n",
       "...                                                             ...   \n",
       "d0bab20937a56fe51262cae9a87dd3006c2a451e  2019-08-31 01:59:00+00:00   \n",
       "12f56b557cbad2cea23a982aff90997147d1251b  2019-09-27 19:07:00+00:00   \n",
       "951f84fbe8312fa45a50e6aa377d7dbd51aa951f  2018-08-21 12:55:00+00:00   \n",
       "1679cf5f7ac18c6573edc87ccbafce7c6825be3a  2019-09-12 17:23:00+00:00   \n",
       "00b8ef5ed124bcf726597eda5132d746ca5add8b  2019-09-26 19:46:00+00:00   \n",
       "\n",
       "                                                 trip_end_timestamp  \\\n",
       "unique_key                                                            \n",
       "5010436ea1be6bed3abb167bcd583b5e598c72be  2013-06-09 16:44:00+00:00   \n",
       "58d40c82bd65f8337a7cf79c4bcff06a10f6622f  2013-06-02 13:18:00+00:00   \n",
       "bd6cd7917ad811078f8f294a02631e004ef1304a  2013-06-02 15:37:00+00:00   \n",
       "876dc025833db474c149b25de1d9d39c9b735a54  2013-06-02 16:10:00+00:00   \n",
       "c33695d66708b57df3cde919c2e831b58bee71a7  2013-05-29 15:09:00+00:00   \n",
       "...                                                             ...   \n",
       "d0bab20937a56fe51262cae9a87dd3006c2a451e  2019-08-31 02:05:00+00:00   \n",
       "12f56b557cbad2cea23a982aff90997147d1251b  2019-09-27 19:21:00+00:00   \n",
       "951f84fbe8312fa45a50e6aa377d7dbd51aa951f  2018-08-21 13:01:00+00:00   \n",
       "1679cf5f7ac18c6573edc87ccbafce7c6825be3a  2019-09-12 17:36:00+00:00   \n",
       "00b8ef5ed124bcf726597eda5132d746ca5add8b  2019-09-26 20:10:00+00:00   \n",
       "\n",
       "                                          trip_miles  pickup_community_area  \\\n",
       "unique_key                                                                    \n",
       "5010436ea1be6bed3abb167bcd583b5e598c72be         0.4                    8.0   \n",
       "58d40c82bd65f8337a7cf79c4bcff06a10f6622f        31.0                    6.0   \n",
       "bd6cd7917ad811078f8f294a02631e004ef1304a         0.3                   33.0   \n",
       "876dc025833db474c149b25de1d9d39c9b735a54         1.0                   76.0   \n",
       "c33695d66708b57df3cde919c2e831b58bee71a7         0.0                    8.0   \n",
       "...                                              ...                    ...   \n",
       "d0bab20937a56fe51262cae9a87dd3006c2a451e         0.0                    7.0   \n",
       "12f56b557cbad2cea23a982aff90997147d1251b         0.0                    8.0   \n",
       "951f84fbe8312fa45a50e6aa377d7dbd51aa951f         0.8                    8.0   \n",
       "1679cf5f7ac18c6573edc87ccbafce7c6825be3a         1.1                   32.0   \n",
       "00b8ef5ed124bcf726597eda5132d746ca5add8b         0.0                   32.0   \n",
       "\n",
       "                                          dropoff_community_area   fare  tips  \\\n",
       "unique_key                                                                      \n",
       "5010436ea1be6bed3abb167bcd583b5e598c72be                    14.0  17.85  4.25   \n",
       "58d40c82bd65f8337a7cf79c4bcff06a10f6622f                     8.0  10.85  2.15   \n",
       "bd6cd7917ad811078f8f294a02631e004ef1304a                     7.0  13.65  3.40   \n",
       "876dc025833db474c149b25de1d9d39c9b735a54                     7.0  34.85  7.35   \n",
       "c33695d66708b57df3cde919c2e831b58bee71a7                    28.0  10.45  2.05   \n",
       "...                                                          ...    ...   ...   \n",
       "d0bab20937a56fe51262cae9a87dd3006c2a451e                     8.0   8.25  1.50   \n",
       "12f56b557cbad2cea23a982aff90997147d1251b                    32.0   9.50  1.50   \n",
       "951f84fbe8312fa45a50e6aa377d7dbd51aa951f                    32.0   6.00  1.50   \n",
       "1679cf5f7ac18c6573edc87ccbafce7c6825be3a                     8.0   8.25  1.50   \n",
       "00b8ef5ed124bcf726597eda5132d746ca5add8b                     7.0  14.50  1.50   \n",
       "\n",
       "                                          trip_total payment_type  \\\n",
       "unique_key                                                          \n",
       "5010436ea1be6bed3abb167bcd583b5e598c72be       22.10  Credit Card   \n",
       "58d40c82bd65f8337a7cf79c4bcff06a10f6622f       13.00  Credit Card   \n",
       "bd6cd7917ad811078f8f294a02631e004ef1304a       17.05  Credit Card   \n",
       "876dc025833db474c149b25de1d9d39c9b735a54       44.20  Credit Card   \n",
       "c33695d66708b57df3cde919c2e831b58bee71a7       12.50  Credit Card   \n",
       "...                                              ...          ...   \n",
       "d0bab20937a56fe51262cae9a87dd3006c2a451e        9.75  Credit Card   \n",
       "12f56b557cbad2cea23a982aff90997147d1251b       13.00  Credit Card   \n",
       "951f84fbe8312fa45a50e6aa377d7dbd51aa951f        8.50  Credit Card   \n",
       "1679cf5f7ac18c6573edc87ccbafce7c6825be3a       10.25  Credit Card   \n",
       "00b8ef5ed124bcf726597eda5132d746ca5add8b       16.00  Credit Card   \n",
       "\n",
       "                                                                    company  \\\n",
       "unique_key                                                                    \n",
       "5010436ea1be6bed3abb167bcd583b5e598c72be          Taxi Affiliation Services   \n",
       "58d40c82bd65f8337a7cf79c4bcff06a10f6622f          Taxi Affiliation Services   \n",
       "bd6cd7917ad811078f8f294a02631e004ef1304a          Taxi Affiliation Services   \n",
       "876dc025833db474c149b25de1d9d39c9b735a54  Blue Ribbon Taxi Association Inc.   \n",
       "c33695d66708b57df3cde919c2e831b58bee71a7          Dispatch Taxi Affiliation   \n",
       "...                                                                     ...   \n",
       "d0bab20937a56fe51262cae9a87dd3006c2a451e          Taxi Affiliation Services   \n",
       "12f56b557cbad2cea23a982aff90997147d1251b          Taxi Affiliation Services   \n",
       "951f84fbe8312fa45a50e6aa377d7dbd51aa951f          Taxi Affiliation Services   \n",
       "1679cf5f7ac18c6573edc87ccbafce7c6825be3a          Chicago Carriage Cab Corp   \n",
       "00b8ef5ed124bcf726597eda5132d746ca5add8b  Blue Ribbon Taxi Association Inc.   \n",
       "\n",
       "                                          start_year  start_month  start_day  \\\n",
       "unique_key                                                                     \n",
       "5010436ea1be6bed3abb167bcd583b5e598c72be        2013            6          9   \n",
       "58d40c82bd65f8337a7cf79c4bcff06a10f6622f        2013            6          2   \n",
       "bd6cd7917ad811078f8f294a02631e004ef1304a        2013            6          2   \n",
       "876dc025833db474c149b25de1d9d39c9b735a54        2013            6          2   \n",
       "c33695d66708b57df3cde919c2e831b58bee71a7        2013            5         29   \n",
       "...                                              ...          ...        ...   \n",
       "d0bab20937a56fe51262cae9a87dd3006c2a451e        2019            8         31   \n",
       "12f56b557cbad2cea23a982aff90997147d1251b        2019            9         27   \n",
       "951f84fbe8312fa45a50e6aa377d7dbd51aa951f        2018            8         21   \n",
       "1679cf5f7ac18c6573edc87ccbafce7c6825be3a        2019            9         12   \n",
       "00b8ef5ed124bcf726597eda5132d746ca5add8b        2019            9         26   \n",
       "\n",
       "                                          start_weekday  start_hour  duration  \\\n",
       "unique_key                                                                      \n",
       "5010436ea1be6bed3abb167bcd583b5e598c72be              6          16     840.0   \n",
       "58d40c82bd65f8337a7cf79c4bcff06a10f6622f              6          13     960.0   \n",
       "bd6cd7917ad811078f8f294a02631e004ef1304a              6          15    1140.0   \n",
       "876dc025833db474c149b25de1d9d39c9b735a54              6          15    1920.0   \n",
       "c33695d66708b57df3cde919c2e831b58bee71a7              2          14     900.0   \n",
       "...                                                 ...         ...       ...   \n",
       "d0bab20937a56fe51262cae9a87dd3006c2a451e              5           1     360.0   \n",
       "12f56b557cbad2cea23a982aff90997147d1251b              4          19     840.0   \n",
       "951f84fbe8312fa45a50e6aa377d7dbd51aa951f              1          12     360.0   \n",
       "1679cf5f7ac18c6573edc87ccbafce7c6825be3a              3          17     780.0   \n",
       "00b8ef5ed124bcf726597eda5132d746ca5add8b              3          19    1440.0   \n",
       "\n",
       "                                          fees  \n",
       "unique_key                                      \n",
       "5010436ea1be6bed3abb167bcd583b5e598c72be   0.0  \n",
       "58d40c82bd65f8337a7cf79c4bcff06a10f6622f   0.0  \n",
       "bd6cd7917ad811078f8f294a02631e004ef1304a   0.0  \n",
       "876dc025833db474c149b25de1d9d39c9b735a54   2.0  \n",
       "c33695d66708b57df3cde919c2e831b58bee71a7   0.0  \n",
       "...                                        ...  \n",
       "d0bab20937a56fe51262cae9a87dd3006c2a451e   0.0  \n",
       "12f56b557cbad2cea23a982aff90997147d1251b   2.0  \n",
       "951f84fbe8312fa45a50e6aa377d7dbd51aa951f   1.0  \n",
       "1679cf5f7ac18c6573edc87ccbafce7c6825be3a   0.5  \n",
       "00b8ef5ed124bcf726597eda5132d746ca5add8b   0.0  \n",
       "\n",
       "[112033 rows x 18 columns]"
      ]
     },
     "execution_count": 58,
     "metadata": {},
     "output_type": "execute_result"
    }
   ],
   "source": [
    "fees = (trips.get('trip_total')) - (trips.get('tips')) - (trips.get('fare'))\n",
    "trips_with_fees = trips.assign(fees=fees)\n",
    "trips_with_fees"
   ]
  },
  {
   "cell_type": "code",
   "execution_count": 59,
   "metadata": {
    "deletable": false,
    "editable": false
   },
   "outputs": [
    {
     "data": {
      "text/html": [
       "\n",
       "    <p><strong>q3_1</strong> passed!</p>\n",
       "    "
      ],
      "text/plain": [
       "q3_1 passed!"
      ]
     },
     "execution_count": 59,
     "metadata": {},
     "output_type": "execute_result"
    }
   ],
   "source": [
    "grader.check(\"q3_1\")"
   ]
  },
  {
   "cell_type": "markdown",
   "metadata": {},
   "source": [
    "**Question 2.** We'll visualize the distribution of fees using a histogram. Create an array `bins` which defines a set of bins starting at 0 dollars and increasing to 6 dollars (inclusive) with bin widths of \\\\$0.50."
   ]
  },
  {
   "cell_type": "code",
   "execution_count": 60,
   "metadata": {},
   "outputs": [
    {
     "data": {
      "text/plain": [
       "array([0. , 0.5, 1. , 1.5, 2. , 2.5, 3. , 3.5, 4. , 4.5, 5. , 5.5, 6. ])"
      ]
     },
     "execution_count": 60,
     "metadata": {},
     "output_type": "execute_result"
    }
   ],
   "source": [
    "bins = np.arange(0,6.5,.5)\n",
    "bins"
   ]
  },
  {
   "cell_type": "code",
   "execution_count": 61,
   "metadata": {
    "deletable": false,
    "editable": false
   },
   "outputs": [
    {
     "data": {
      "text/html": [
       "\n",
       "    <p><strong>q3_2</strong> passed!</p>\n",
       "    "
      ],
      "text/plain": [
       "q3_2 passed!"
      ]
     },
     "execution_count": 61,
     "metadata": {},
     "output_type": "execute_result"
    }
   ],
   "source": [
    "grader.check(\"q3_2\")"
   ]
  },
  {
   "cell_type": "markdown",
   "metadata": {},
   "source": [
    "Here is the distribution of fees:"
   ]
  },
  {
   "cell_type": "code",
   "execution_count": 62,
   "metadata": {},
   "outputs": [
    {
     "data": {
      "text/plain": [
       "<AxesSubplot:ylabel='Frequency'>"
      ]
     },
     "execution_count": 62,
     "metadata": {},
     "output_type": "execute_result"
    },
    {
     "data": {
      "image/png": "[encoded data removed]",
      "text/plain": [
       "<Figure size 432x288 with 1 Axes>"
      ]
     },
     "metadata": {},
     "output_type": "display_data"
    }
   ],
   "source": [
    "trips_with_fees.get('fees').plot(kind='hist', bins=bins)"
   ]
  },
  {
   "cell_type": "markdown",
   "metadata": {},
   "source": [
    "Take a close look at this histogram. Given what we know about how the fees are calculated, there is something strange about this distribution. Can you tell what it is? Run the cell below to see the answer."
   ]
  },
  {
   "cell_type": "code",
   "execution_count": 63,
   "metadata": {},
   "outputs": [
    {
     "data": {
      "text/markdown": [
       "Notice how the bin from 50 cents to one dollar is non-empty. According to the rules for calculating fees, it should not be possible for there to be a fee of this amount. The smallest possible non-zero fee is one dollar for the first additional passenger. If there are three passengers, the fee would be \\\\$1.50."
      ],
      "text/plain": [
       "<IPython.core.display.Markdown object>"
      ]
     },
     "execution_count": 63,
     "metadata": {},
     "output_type": "execute_result"
    }
   ],
   "source": [
    "# run this cell to see the answer\n",
    "IPython.display.Markdown(open('data/reveal-01.md').read())"
   ]
  },
  {
   "cell_type": "markdown",
   "metadata": {},
   "source": [
    "What is this fee? If we Google \"Chicago taxi 50 cent fee\", we'll find several articles, such as [\"City Hall trying to get cabbies to refund illegal 50-cent 'technology fee'\"](https://www.chicagotribune.com/politics/ct-chicago-refund-50-cent-fee-tech-cab-ride-20160623-story.html) from June 24, 2016. Apparently, cab drivers were illegally charging a 50 cent fee to customers who paid via credit card. Whether or not this is a \"scam\" is debatable, since cab drivers can lose a significant portion of their fare due to credit card processing fees.\n",
    "\n",
    "Is this what we are seeing in the data set?\n",
    "\n",
    "**Question 3.** Out of trips where a 50 cent fee is being charged, what fraction of trips are paid using credit card?"
   ]
  },
  {
   "cell_type": "code",
   "execution_count": 64,
   "metadata": {},
   "outputs": [
    {
     "data": {
      "text/plain": [
       "0.9593069046993962"
      ]
     },
     "execution_count": 64,
     "metadata": {},
     "output_type": "execute_result"
    }
   ],
   "source": [
    "fifty_cent = (trips_with_fees.get('fees') == 0.5)\n",
    "credit_card = (trips_with_fees.get('payment_type') == 'Credit Card')\n",
    "fraction_paid_with_cc = trips_with_fees[fifty_cent & credit_card].shape[0] / trips_with_fees[fifty_cent].shape[0]\n",
    "fraction_paid_with_cc"
   ]
  },
  {
   "cell_type": "code",
   "execution_count": 65,
   "metadata": {
    "deletable": false,
    "editable": false
   },
   "outputs": [
    {
     "data": {
      "text/html": [
       "\n",
       "    <p><strong>q3_3</strong> passed!</p>\n",
       "    "
      ],
      "text/plain": [
       "q3_3 passed!"
      ]
     },
     "execution_count": 65,
     "metadata": {},
     "output_type": "execute_result"
    }
   ],
   "source": [
    "grader.check(\"q3_3\")"
   ]
  },
  {
   "cell_type": "markdown",
   "metadata": {},
   "source": [
    "It looks like the trips where a 50 cent fee is being assessed are overwhelmingly paid by credit card. Since cash is actually the most popular payment method overall, it seems very likely that this charge is due to a credit card fee.\n",
    "\n",
    "It is actually unclear whether the fee is currently legal or illegal. The article briefly mentions that an effort to make the fee legal passed city council in March 2016, and some [taxi companies](https://yellowcabchicago.com/rates/) include a \"technology fee\" in their rates. However, the city of Chicago's own website does not list a tech fee. Moreover, not all drivers appear to be charging the fee. If they were, then all of the trips paid by credit card would have at least a 50 cent fee, but this isn't what we find:"
   ]
  },
  {
   "cell_type": "markdown",
   "metadata": {},
   "source": [
    "**Question 4.** Out of the trips in 2019 which were paid by credit card, what is the fraction that did not charge any fee whatsoever?"
   ]
  },
  {
   "cell_type": "code",
   "execution_count": 66,
   "metadata": {},
   "outputs": [
    {
     "data": {
      "text/plain": [
       "0.27428265906255567"
      ]
     },
     "execution_count": 66,
     "metadata": {},
     "output_type": "execute_result"
    }
   ],
   "source": [
    "trips_in_2019 = (trips_with_fees.get('start_year') == 2019)\n",
    "no_charge = trips_with_fees[credit_card & trips_in_2019 & (trips_with_fees.get('fees') == 0.0)].shape[0]\n",
    "fraction_charged_no_fee = no_charge / trips_with_fees[credit_card & trips_in_2019].shape[0]\n",
    "fraction_charged_no_fee"
   ]
  },
  {
   "cell_type": "code",
   "execution_count": 67,
   "metadata": {
    "deletable": false,
    "editable": false
   },
   "outputs": [
    {
     "data": {
      "text/html": [
       "\n",
       "    <p><strong>q3_4</strong> passed!</p>\n",
       "    "
      ],
      "text/plain": [
       "q3_4 passed!"
      ]
     },
     "execution_count": 67,
     "metadata": {},
     "output_type": "execute_result"
    }
   ],
   "source": [
    "grader.check(\"q3_4\")"
   ]
  },
  {
   "cell_type": "markdown",
   "metadata": {},
   "source": [
    "Let's move on to another, more nefarious scam. Recall that the allowable fees include a \\\\$4 fee for *leaving* the airport. Notably, it is illegal to charge the fee for trips going *to* the airport."
   ]
  },
  {
   "cell_type": "markdown",
   "metadata": {},
   "source": [
    "**Question 5.** What proportion of trips going to O'Hare airport (community area 76) were charged at least \\\\$4 in fees?"
   ]
  },
  {
   "cell_type": "code",
   "execution_count": 68,
   "metadata": {},
   "outputs": [
    {
     "data": {
      "text/plain": [
       "0.12439972558884062"
      ]
     },
     "execution_count": 68,
     "metadata": {},
     "output_type": "execute_result"
    }
   ],
   "source": [
    "going_to_ohare = trips_with_fees[trips_with_fees.get('dropoff_community_area') == 76]\n",
    "charged_atleast_four = going_to_ohare[going_to_ohare.get('fees') >= 4.0]\n",
    "proportion_charged_at_least_4 = charged_atleast_four.shape[0] / going_to_ohare.shape[0]\n",
    "proportion_charged_at_least_4"
   ]
  },
  {
   "cell_type": "code",
   "execution_count": 69,
   "metadata": {
    "deletable": false,
    "editable": false
   },
   "outputs": [
    {
     "data": {
      "text/html": [
       "\n",
       "    <p><strong>q3_5</strong> passed!</p>\n",
       "    "
      ],
      "text/plain": [
       "q3_5 passed!"
      ]
     },
     "execution_count": 69,
     "metadata": {},
     "output_type": "execute_result"
    }
   ],
   "source": [
    "grader.check(\"q3_5\")"
   ]
  },
  {
   "cell_type": "markdown",
   "metadata": {},
   "source": [
    "It looks like a sizeable proportion of trips to the airport are being charged this fee! There is no legal way to charge more than \\\\$4 to go *to* the airport besides the vomit cleanup charge -- and we hope that isn't so common.\n",
    "\n",
    "It is likely, therefore, that the operators who are assessing this fee are being dishonest. The above analysis has given us a way to reasonably identify which of the taxi drivers are dishonest in charging fees. Let's see if we can detect any other differences between them and the \"honest\" drivers.\n",
    "\n",
    "For the purposes of the following, a \"dishonest\" driver is one who has charged at least 4 dollars in fees to go to O'Hare (community area 76). A driver who has at least one trip to O'Hare and who has not charged the fee is called \"honest\". Remember: a driver is identified by their unique **taxi_ID**."
   ]
  },
  {
   "cell_type": "markdown",
   "metadata": {},
   "source": [
    "**Question 6.** Out of all drivers who have ever gone to O'Hare, what proportion are honest?"
   ]
  },
  {
   "cell_type": "code",
   "execution_count": 70,
   "metadata": {},
   "outputs": [
    {
     "data": {
      "text/plain": [
       "0.9092708677004289"
      ]
     },
     "execution_count": 70,
     "metadata": {},
     "output_type": "execute_result"
    }
   ],
   "source": [
    "# dishonesty = charged_atleast_four.groupby('taxi_ID').count().shape[0]\n",
    "honesty = going_to_ohare[going_to_ohare.get('fees') < 4].groupby('taxi_ID').count()\n",
    "all_ohare_drivers = going_to_ohare.groupby('taxi_ID').count().shape[0]\n",
    "proportion_honest = honesty.shape[0] / all_ohare_drivers\n",
    "proportion_honest"
   ]
  },
  {
   "cell_type": "code",
   "execution_count": 71,
   "metadata": {
    "deletable": false,
    "editable": false
   },
   "outputs": [
    {
     "data": {
      "text/html": [
       "\n",
       "    <p><strong>q3_6</strong> passed!</p>\n",
       "    "
      ],
      "text/plain": [
       "q3_6 passed!"
      ]
     },
     "execution_count": 71,
     "metadata": {},
     "output_type": "execute_result"
    }
   ],
   "source": [
    "grader.check(\"q3_6\")"
   ]
  },
  {
   "cell_type": "markdown",
   "metadata": {},
   "source": [
    "**Question 7.** Create a list of the **taxi_ID**s for dishonest drivers, and another list for honest drivers."
   ]
  },
  {
   "cell_type": "code",
   "execution_count": 72,
   "metadata": {},
   "outputs": [],
   "source": [
    "dishone = charged_atleast_four.groupby('taxi_ID').count().reset_index().get('taxi_ID')\n",
    "hone = honesty.reset_index().get('taxi_ID')\n",
    "dishonest_drivers = np.array([])\n",
    "honest_drivers = np.array([])\n",
    "\n",
    "for i in np.arange(dishone.count()):\n",
    "    dishonest_drivers = np.append(dishonest_drivers, dishone.iloc[i])\n",
    "    \n",
    "dishonest_drivers = list(dishonest_drivers)   \n",
    "\n",
    "for i in np.arange(hone.count()):\n",
    "    honest_drivers = np.append(honest_drivers, hone.iloc[i])\n",
    "    \n",
    "honest_drivers = list(honest_drivers) "
   ]
  },
  {
   "cell_type": "code",
   "execution_count": 73,
   "metadata": {
    "deletable": false,
    "editable": false
   },
   "outputs": [
    {
     "data": {
      "text/html": [
       "\n",
       "    <p><strong>q3_7</strong> passed!</p>\n",
       "    "
      ],
      "text/plain": [
       "q3_7 passed!"
      ]
     },
     "execution_count": 73,
     "metadata": {},
     "output_type": "execute_result"
    }
   ],
   "source": [
    "grader.check(\"q3_7\")"
   ]
  },
  {
   "cell_type": "markdown",
   "metadata": {},
   "source": [
    "**Question 8.** Starting with `trips_with_fees`, create two new tables called `trips_honest` and `trips_dishonest` containing all trips to any destination driven by honest drivers and dishonest drivers, respectively.\n",
    "\n",
    "*Hint*: you might be able to use Python's `in` operator here. For example: `3 in [1, 2, 3, 4]` returns `True`. Can we use this to label a taxi ID as honest or dishonest?"
   ]
  },
  {
   "cell_type": "code",
   "execution_count": 74,
   "metadata": {},
   "outputs": [],
   "source": [
    "def dishonest(x):\n",
    "    return x in dishonest_drivers\n",
    "def honest(x):\n",
    "    return x in honest_drivers\n",
    "\n",
    "trips_honest = trips_with_fees[trips_with_fees.get(\"taxi_ID\").apply(honest)]\n",
    "trips_dishonest =  trips_with_fees[trips_with_fees.get(\"taxi_ID\").apply(dishonest)]"
   ]
  },
  {
   "cell_type": "code",
   "execution_count": 75,
   "metadata": {
    "deletable": false,
    "editable": false
   },
   "outputs": [
    {
     "data": {
      "text/html": [
       "\n",
       "    <p><strong>q3_8</strong> passed!</p>\n",
       "    "
      ],
      "text/plain": [
       "q3_8 passed!"
      ]
     },
     "execution_count": 75,
     "metadata": {},
     "output_type": "execute_result"
    }
   ],
   "source": [
    "grader.check(\"q3_8\")"
   ]
  },
  {
   "cell_type": "markdown",
   "metadata": {},
   "source": [
    "If you did the above right, you should find that the median fare of dishonest drivers is higher than the median fare of honest drivers:"
   ]
  },
  {
   "cell_type": "code",
   "execution_count": 76,
   "metadata": {},
   "outputs": [
    {
     "data": {
      "text/plain": [
       "8.05"
      ]
     },
     "execution_count": 76,
     "metadata": {},
     "output_type": "execute_result"
    }
   ],
   "source": [
    "trips_honest.get('fare').median()"
   ]
  },
  {
   "cell_type": "code",
   "execution_count": 77,
   "metadata": {},
   "outputs": [
    {
     "data": {
      "text/plain": [
       "8.25"
      ]
     },
     "execution_count": 77,
     "metadata": {},
     "output_type": "execute_result"
    }
   ],
   "source": [
    "trips_dishonest.get('fare').median()"
   ]
  },
  {
   "cell_type": "markdown",
   "metadata": {},
   "source": [
    "I guess it does pay to be dishonest!\n",
    "\n",
    "Does dishonesty in charging the airport fee transfer to dishonesty in charging a credit card fee? We can get a sense of this by looking at the fees charged to single passengers to O'Hare airport. If the driver is honest, the passenger will be charged either \\\\$0 or \\\\$0.50, depending on whether the driver assesses a credit card fee. On the other hand, if the driver is dishonest, the passenger will pay either \\\\$4 or \\\\$4.50 in fees, depending on whether or not they were assessed the credit card fee.\n",
    "\n",
    "**Question 9.** Out of all trips to O'Hare which were paid by credit card and assessed either no fee or \\\\$0.50 in fees, what proportion were charged the credit card fee? Store your answer in `proportion_honest_cc_fee`. Out of all trips to O'Hare which were paid by credit card and assessed either \\\\$4 or \\\\$4.50 in fees, what proportion were charged the credit card fee? Store your answer in `proportion_dishonest_cc_fee`."
   ]
  },
  {
   "cell_type": "code",
   "execution_count": 78,
   "metadata": {},
   "outputs": [
    {
     "name": "stdout",
     "output_type": "stream",
     "text": [
      "Proportion honest charging CC fee: 0.3689538807649044\n",
      "Proportion dishonest charging CC fee: 0.5033557046979866\n"
     ]
    }
   ],
   "source": [
    "ohare_and_card = going_to_ohare[(going_to_ohare.get('payment_type') == 'Credit Card') & (going_to_ohare.get('fees') <= 0.5)].shape[0]\n",
    "proportion_honest_cc_fee = going_to_ohare[(going_to_ohare.get('payment_type') == 'Credit Card') & (going_to_ohare.get('fees') == 0.5)].shape[0] / ohare_and_card\n",
    "ohare_but_dishonest = going_to_ohare[(going_to_ohare.get('payment_type') == 'Credit Card') & (going_to_ohare.get('fees') >= 4.0) & (going_to_ohare.get('fees') <= 4.5)].shape[0]\n",
    "proportion_dishonest_cc_fee = going_to_ohare[(going_to_ohare.get('payment_type') == 'Credit Card') & (going_to_ohare.get('fees') == 4.5)].shape[0] / ohare_but_dishonest\n",
    "print('Proportion honest charging CC fee:', proportion_honest_cc_fee)\n",
    "print('Proportion dishonest charging CC fee:', proportion_dishonest_cc_fee)"
   ]
  },
  {
   "cell_type": "code",
   "execution_count": 79,
   "metadata": {
    "deletable": false,
    "editable": false
   },
   "outputs": [
    {
     "data": {
      "text/html": [
       "\n",
       "    <p><strong>q3_9</strong> passed!</p>\n",
       "    "
      ],
      "text/plain": [
       "q3_9 passed!"
      ]
     },
     "execution_count": 79,
     "metadata": {},
     "output_type": "execute_result"
    }
   ],
   "source": [
    "grader.check(\"q3_9\")"
   ]
  },
  {
   "cell_type": "markdown",
   "metadata": {},
   "source": [
    "**Question 10.** Is there an association between illegally charging the \\\\$4 fee for trips to the airport and charging a 50 cent credit card fee?\n",
    "\n",
    "1. Yes\n",
    "2. No"
   ]
  },
  {
   "cell_type": "code",
   "execution_count": 80,
   "metadata": {},
   "outputs": [],
   "source": [
    "is_there_an_association = 1"
   ]
  },
  {
   "cell_type": "code",
   "execution_count": 81,
   "metadata": {
    "deletable": false,
    "editable": false
   },
   "outputs": [
    {
     "data": {
      "text/html": [
       "\n",
       "    <p><strong>q3_10</strong> passed!</p>\n",
       "    "
      ],
      "text/plain": [
       "q3_10 passed!"
      ]
     },
     "execution_count": 81,
     "metadata": {},
     "output_type": "execute_result"
    }
   ],
   "source": [
    "grader.check(\"q3_10\")"
   ]
  },
  {
   "cell_type": "markdown",
   "metadata": {},
   "source": [
    "# Finish Line"
   ]
  },
  {
   "cell_type": "markdown",
   "metadata": {},
   "source": [
    "Congratulations! You've completed Project 01. To submit your assignment:\n",
    "\n",
    "1. Select `Kernel -> Restart & Run All` to ensure that you have executed all cells, including the test cells.\n",
    "2. Read through the notebook to make sure everything is fine and all tests passed.\n",
    "3. Run the cell below to run all tests, and make sure that they all pass.\n",
    "4. Download your notebook using `File -> Download as -> Notebook (.ipynb)`, then upload your notebook to Gradescope."
   ]
  },
  {
   "cell_type": "code",
   "execution_count": 82,
   "metadata": {},
   "outputs": [
    {
     "data": {
      "text/html": [
       "\n",
       "    <p><strong>q1_1</strong> passed!</p>\n",
       "    \n",
       "\n",
       "\n",
       "    <p><strong>q1_2</strong> passed!</p>\n",
       "    \n",
       "\n",
       "\n",
       "    <p><strong>q2_1</strong> passed!</p>\n",
       "    \n",
       "\n",
       "\n",
       "    <p><strong>q2_10</strong> passed!</p>\n",
       "    \n",
       "\n",
       "\n",
       "    <p><strong>q2_11</strong> passed!</p>\n",
       "    \n",
       "\n",
       "\n",
       "    <p><strong>q2_12</strong> passed!</p>\n",
       "    \n",
       "\n",
       "\n",
       "    <p><strong>q2_13</strong> passed!</p>\n",
       "    \n",
       "\n",
       "\n",
       "    <p><strong>q2_14</strong> passed!</p>\n",
       "    \n",
       "\n",
       "\n",
       "    <p><strong>q2_15</strong> passed!</p>\n",
       "    \n",
       "\n",
       "\n",
       "    <p><strong>q2_16</strong> passed!</p>\n",
       "    \n",
       "\n",
       "\n",
       "    <p><strong>q2_17</strong> passed!</p>\n",
       "    \n",
       "\n",
       "\n",
       "    <p><strong>q2_18</strong> passed!</p>\n",
       "    \n",
       "\n",
       "\n",
       "    <p><strong>q2_19</strong> passed!</p>\n",
       "    \n",
       "\n",
       "\n",
       "    <p><strong>q2_2</strong> passed!</p>\n",
       "    \n",
       "\n",
       "\n",
       "    <p><strong>q2_3</strong> passed!</p>\n",
       "    \n",
       "\n",
       "\n",
       "    <p><strong>q2_4</strong> passed!</p>\n",
       "    \n",
       "\n",
       "\n",
       "    <p><strong>q2_5</strong> passed!</p>\n",
       "    \n",
       "\n",
       "\n",
       "    <p><strong>q2_6_b</strong> passed!</p>\n",
       "    \n",
       "\n",
       "\n",
       "    <p><strong>q2_7</strong> passed!</p>\n",
       "    \n",
       "\n",
       "\n",
       "    <p><strong>q2_8</strong> passed!</p>\n",
       "    \n",
       "\n",
       "\n",
       "    <p><strong>q2_9</strong> passed!</p>\n",
       "    \n",
       "\n",
       "\n",
       "    <p><strong>q3_1</strong> passed!</p>\n",
       "    \n",
       "\n",
       "\n",
       "    <p><strong>q3_10</strong> passed!</p>\n",
       "    \n",
       "\n",
       "\n",
       "    <p><strong>q3_2</strong> passed!</p>\n",
       "    \n",
       "\n",
       "\n",
       "    <p><strong>q3_3</strong> passed!</p>\n",
       "    \n",
       "\n",
       "\n",
       "    <p><strong>q3_4</strong> passed!</p>\n",
       "    \n",
       "\n",
       "\n",
       "    <p><strong>q3_5</strong> passed!</p>\n",
       "    \n",
       "\n",
       "\n",
       "    <p><strong>q3_6</strong> passed!</p>\n",
       "    \n",
       "\n",
       "\n",
       "    <p><strong>q3_7</strong> passed!</p>\n",
       "    \n",
       "\n",
       "\n",
       "    <p><strong>q3_8</strong> passed!</p>\n",
       "    \n",
       "\n",
       "\n",
       "    <p><strong>q3_9</strong> passed!</p>\n",
       "    \n",
       "\n"
      ],
      "text/plain": [
       "q1_1 passed!\n",
       "\n",
       "q1_2 passed!\n",
       "\n",
       "q2_1 passed!\n",
       "\n",
       "q2_10 passed!\n",
       "\n",
       "q2_11 passed!\n",
       "\n",
       "q2_12 passed!\n",
       "\n",
       "q2_13 passed!\n",
       "\n",
       "q2_14 passed!\n",
       "\n",
       "q2_15 passed!\n",
       "\n",
       "q2_16 passed!\n",
       "\n",
       "q2_17 passed!\n",
       "\n",
       "q2_18 passed!\n",
       "\n",
       "q2_19 passed!\n",
       "\n",
       "q2_2 passed!\n",
       "\n",
       "q2_3 passed!\n",
       "\n",
       "q2_4 passed!\n",
       "\n",
       "q2_5 passed!\n",
       "\n",
       "q2_6_b passed!\n",
       "\n",
       "q2_7 passed!\n",
       "\n",
       "q2_8 passed!\n",
       "\n",
       "q2_9 passed!\n",
       "\n",
       "q3_1 passed!\n",
       "\n",
       "q3_10 passed!\n",
       "\n",
       "q3_2 passed!\n",
       "\n",
       "q3_3 passed!\n",
       "\n",
       "q3_4 passed!\n",
       "\n",
       "q3_5 passed!\n",
       "\n",
       "q3_6 passed!\n",
       "\n",
       "q3_7 passed!\n",
       "\n",
       "q3_8 passed!\n",
       "\n",
       "q3_9 passed!\n"
      ]
     },
     "execution_count": 82,
     "metadata": {},
     "output_type": "execute_result"
    }
   ],
   "source": [
    "grader.check_all()"
   ]
  },
  {
   "cell_type": "code",
   "execution_count": null,
   "metadata": {},
   "outputs": [],
   "source": []
  }
 ],
 "metadata": {
  "kernelspec": {
   "display_name": "Python 3",
   "language": "python",
   "name": "python3"
  },
  "language_info": {
   "codemirror_mode": {
    "name": "ipython",
    "version": 3
   },
   "file_extension": ".py",
   "mimetype": "text/x-python",
   "name": "python",
   "nbconvert_exporter": "python",
   "pygments_lexer": "ipython3",
   "version": "3.8.6"
  }
 },
 "nbformat": 4,
 "nbformat_minor": 4
}
