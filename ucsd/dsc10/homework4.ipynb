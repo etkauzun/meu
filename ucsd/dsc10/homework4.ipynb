{
 "cells": [
  {
   "cell_type": "markdown",
   "metadata": {},
   "source": [
    "# Homework 4: Iteration and Randomness\n",
    "\n",
    "## Due Friday, April 30th at 11:59pm\n",
    "\n",
    "Welcome to Homework 4! This week, we will go over probability, simulations using iteration, visualizations, and functions. You can find additional help on these topics in [Chapter 05](https://eldridgejm.github.io/dive_into_data_science/05-probability_and_simulation/probability_and_simulation.html) of the textbook.\n"
   ]
  },
  {
   "cell_type": "markdown",
   "metadata": {},
   "source": [
    "### Instructions\n",
    "\n",
    "This assignment is due Friday, April 30th at 11:59pm. You are given six slip days thoughout the quarter which can extend the deadline by one day. See the syllabus for more details. With the exception of using slip days, late work will not be accepted unless you have made special arrangements with your instructor.\n",
    "\n",
    "You should start early so that you have time to get help if you're stuck. You may attend any Tutor's Office Hours. The calendar and links are available on Canvas.\n",
    "\n",
    "**Important**: The `otter` tests don't usually tell you that your answer is correct. More often, they help catch careless mistakes. It's up to you to ensure that your answer is correct. If you're not sure, ask someone (not for the answer, but for some guidance about your approach).\n",
    "\n",
    "Remember that you may work in pairs for this assignment! If you work in a pair, you should submit one notebook to Gradescope for the both of you.\n",
    "\n",
    "Directly sharing answers between groups is not okay, but discussing problems with the course staff or with other students is encouraged. "
   ]
  },
  {
   "cell_type": "code",
   "execution_count": 1,
   "metadata": {},
   "outputs": [],
   "source": [
    "# please don't change this cell, but do make sure to run it\n",
    "import babypandas as bpd\n",
    "import matplotlib.pyplot as plt\n",
    "import numpy as np\n",
    "import otter\n",
    "grader = otter.Notebook()"
   ]
  },
  {
   "cell_type": "markdown",
   "metadata": {},
   "source": [
    "## 1. Video Game Sales\n",
    "\n",
    "Video games have been popular for decades, but with the advancement of technology, games and consoles have become more advanced. With the technological progress came staggering growth of the video game industry. In only 5 years, from 2015 to 2020, the video game industry has grown from a global market value of \\\\$93.1 billion to \\\\$159.3 billion, around a 71% growth. In the same time period, the number of active gamers worldwide has grown from 1.99 billion to 2.69 billion, around a 35% increase. For more statistics about the video game industry, check out this [website](https://www.statista.com/topics/868/video-games/).\n",
    "\n",
    "In this problem, we will be using a dataset of video games since 1980. The source of the data is [here](https://www.kaggle.com/gregorut/videogamesales).\n",
    "\n",
    "We have cleaned the data so there are no null (NaN) values. Due to this, you may notice that the `Rank` column may have some gaps, since any games with an NaN value was deleted. Don't worry about this! The data has the following columns:\n",
    "\n",
    "\n",
    "|Column|Description|\n",
    "|------|-----------|\n",
    "|Rank|The overall ranking of the game based on Global Sales|\n",
    "|Name|Name of the video game|\n",
    "|Platform|Console of the video game (DS, PS4, PC, etc.)|\n",
    "|Year|Release year of the game|\n",
    "|Genre|Genre of the game|\n",
    "|Publisher|Publisher of the Game(Electronic Arts, Activision, Sega, etc.)|\n",
    "|NA_Sales|Sales in North America (in millions)|\n",
    "|Global_Sales|Global sales (in millions)|"
   ]
  },
  {
   "cell_type": "code",
   "execution_count": 2,
   "metadata": {},
   "outputs": [
    {
     "data": {
      "text/html": [
       "<div>\n",
       "<style scoped>\n",
       "    .dataframe tbody tr th:only-of-type {\n",
       "        vertical-align: middle;\n",
       "    }\n",
       "\n",
       "    .dataframe tbody tr th {\n",
       "        vertical-align: top;\n",
       "    }\n",
       "\n",
       "    .dataframe thead th {\n",
       "        text-align: right;\n",
       "    }\n",
       "</style>\n",
       "<table border=\"1\" class=\"dataframe\">\n",
       "  <thead>\n",
       "    <tr style=\"text-align: right;\">\n",
       "      <th></th>\n",
       "      <th>Rank</th>\n",
       "      <th>Name</th>\n",
       "      <th>Platform</th>\n",
       "      <th>Year</th>\n",
       "      <th>Genre</th>\n",
       "      <th>Publisher</th>\n",
       "      <th>NA_Sales</th>\n",
       "      <th>Global_Sales</th>\n",
       "    </tr>\n",
       "  </thead>\n",
       "  <tbody>\n",
       "    <tr>\n",
       "      <th>0</th>\n",
       "      <td>1</td>\n",
       "      <td>Wii Sports</td>\n",
       "      <td>Wii</td>\n",
       "      <td>2006</td>\n",
       "      <td>Sports</td>\n",
       "      <td>Nintendo</td>\n",
       "      <td>41.49</td>\n",
       "      <td>82.74</td>\n",
       "    </tr>\n",
       "    <tr>\n",
       "      <th>1</th>\n",
       "      <td>2</td>\n",
       "      <td>Super Mario Bros.</td>\n",
       "      <td>NES</td>\n",
       "      <td>1985</td>\n",
       "      <td>Platform</td>\n",
       "      <td>Nintendo</td>\n",
       "      <td>29.08</td>\n",
       "      <td>40.24</td>\n",
       "    </tr>\n",
       "    <tr>\n",
       "      <th>2</th>\n",
       "      <td>3</td>\n",
       "      <td>Mario Kart Wii</td>\n",
       "      <td>Wii</td>\n",
       "      <td>2008</td>\n",
       "      <td>Racing</td>\n",
       "      <td>Nintendo</td>\n",
       "      <td>15.85</td>\n",
       "      <td>35.82</td>\n",
       "    </tr>\n",
       "    <tr>\n",
       "      <th>3</th>\n",
       "      <td>4</td>\n",
       "      <td>Wii Sports Resort</td>\n",
       "      <td>Wii</td>\n",
       "      <td>2009</td>\n",
       "      <td>Sports</td>\n",
       "      <td>Nintendo</td>\n",
       "      <td>15.75</td>\n",
       "      <td>33.00</td>\n",
       "    </tr>\n",
       "    <tr>\n",
       "      <th>4</th>\n",
       "      <td>5</td>\n",
       "      <td>Pokemon Red/Pokemon Blue</td>\n",
       "      <td>GB</td>\n",
       "      <td>1996</td>\n",
       "      <td>Role-Playing</td>\n",
       "      <td>Nintendo</td>\n",
       "      <td>11.27</td>\n",
       "      <td>31.37</td>\n",
       "    </tr>\n",
       "    <tr>\n",
       "      <th>...</th>\n",
       "      <td>...</td>\n",
       "      <td>...</td>\n",
       "      <td>...</td>\n",
       "      <td>...</td>\n",
       "      <td>...</td>\n",
       "      <td>...</td>\n",
       "      <td>...</td>\n",
       "      <td>...</td>\n",
       "    </tr>\n",
       "    <tr>\n",
       "      <th>16286</th>\n",
       "      <td>16596</td>\n",
       "      <td>Woody Woodpecker in Crazy Castle 5</td>\n",
       "      <td>GBA</td>\n",
       "      <td>2002</td>\n",
       "      <td>Platform</td>\n",
       "      <td>Kemco</td>\n",
       "      <td>0.01</td>\n",
       "      <td>0.01</td>\n",
       "    </tr>\n",
       "    <tr>\n",
       "      <th>16287</th>\n",
       "      <td>16597</td>\n",
       "      <td>Men in Black II: Alien Escape</td>\n",
       "      <td>GC</td>\n",
       "      <td>2003</td>\n",
       "      <td>Shooter</td>\n",
       "      <td>Infogrames</td>\n",
       "      <td>0.01</td>\n",
       "      <td>0.01</td>\n",
       "    </tr>\n",
       "    <tr>\n",
       "      <th>16288</th>\n",
       "      <td>16598</td>\n",
       "      <td>SCORE International Baja 1000: The Official Game</td>\n",
       "      <td>PS2</td>\n",
       "      <td>2008</td>\n",
       "      <td>Racing</td>\n",
       "      <td>Activision</td>\n",
       "      <td>0.00</td>\n",
       "      <td>0.01</td>\n",
       "    </tr>\n",
       "    <tr>\n",
       "      <th>16289</th>\n",
       "      <td>16599</td>\n",
       "      <td>Know How 2</td>\n",
       "      <td>DS</td>\n",
       "      <td>2010</td>\n",
       "      <td>Puzzle</td>\n",
       "      <td>7G//AMES</td>\n",
       "      <td>0.00</td>\n",
       "      <td>0.01</td>\n",
       "    </tr>\n",
       "    <tr>\n",
       "      <th>16290</th>\n",
       "      <td>16600</td>\n",
       "      <td>Spirits &amp; Spells</td>\n",
       "      <td>GBA</td>\n",
       "      <td>2003</td>\n",
       "      <td>Platform</td>\n",
       "      <td>Wanadoo</td>\n",
       "      <td>0.01</td>\n",
       "      <td>0.01</td>\n",
       "    </tr>\n",
       "  </tbody>\n",
       "</table>\n",
       "<p>16291 rows × 8 columns</p>\n",
       "</div>"
      ],
      "text/plain": [
       "        Rank                                              Name Platform  Year  \\\n",
       "0          1                                        Wii Sports      Wii  2006   \n",
       "1          2                                 Super Mario Bros.      NES  1985   \n",
       "2          3                                    Mario Kart Wii      Wii  2008   \n",
       "3          4                                 Wii Sports Resort      Wii  2009   \n",
       "4          5                          Pokemon Red/Pokemon Blue       GB  1996   \n",
       "...      ...                                               ...      ...   ...   \n",
       "16286  16596                Woody Woodpecker in Crazy Castle 5      GBA  2002   \n",
       "16287  16597                     Men in Black II: Alien Escape       GC  2003   \n",
       "16288  16598  SCORE International Baja 1000: The Official Game      PS2  2008   \n",
       "16289  16599                                        Know How 2       DS  2010   \n",
       "16290  16600                                  Spirits & Spells      GBA  2003   \n",
       "\n",
       "              Genre   Publisher  NA_Sales  Global_Sales  \n",
       "0            Sports    Nintendo     41.49         82.74  \n",
       "1          Platform    Nintendo     29.08         40.24  \n",
       "2            Racing    Nintendo     15.85         35.82  \n",
       "3            Sports    Nintendo     15.75         33.00  \n",
       "4      Role-Playing    Nintendo     11.27         31.37  \n",
       "...             ...         ...       ...           ...  \n",
       "16286      Platform       Kemco      0.01          0.01  \n",
       "16287       Shooter  Infogrames      0.01          0.01  \n",
       "16288        Racing  Activision      0.00          0.01  \n",
       "16289        Puzzle    7G//AMES      0.00          0.01  \n",
       "16290      Platform     Wanadoo      0.01          0.01  \n",
       "\n",
       "[16291 rows x 8 columns]"
      ]
     },
     "execution_count": 2,
     "metadata": {},
     "output_type": "execute_result"
    }
   ],
   "source": [
    "video_games = bpd.read_csv('data/vg_sales.csv')\n",
    "video_games"
   ]
  },
  {
   "cell_type": "markdown",
   "metadata": {},
   "source": [
    "**Question 1.1** \n",
    "\n",
    "Suppose it is November 2012 and the Wii U has just been released by Nintendo. As a result, all Wii games are on sale! There is a buy 10, get 10 free offer. Since you have a Wii, you decide to seize the offer and head over to GameStop to buy 10 Wii games and get 10 for free. GameStop only stocks up on games from the past 5 years, which is from 2007 to 2012 (inclusive on both ends). Once you’re at GameStop, you cannot decide which games to buy, so you’ll select 20 different games at random, 10 of which you'll need to pay for. \n",
    "\n",
    "Store the possible games to select from in `possible_games`. What proportion of the 20 games you selected came from the Sports genre? Store this value in `sports_games`."
   ]
  },
  {
   "cell_type": "code",
   "execution_count": 3,
   "metadata": {
    "for_assignment_type": "student"
   },
   "outputs": [
    {
     "data": {
      "text/plain": [
       "0.0024509803921568627"
      ]
     },
     "execution_count": 3,
     "metadata": {},
     "output_type": "execute_result"
    }
   ],
   "source": [
    "possible_games = video_games[(video_games.get('Platform') == 'Wii') & \n",
    "                            (video_games.get('Year') >= 2007) & \n",
    "                            (video_games.get('Year') < 2013)]\n",
    "\n",
    "sports_games = possible_games.sample(20)\n",
    "sports_games = sports_games[sports_games.get('Genre') == 'Sports'].shape[0] / possible_games.shape[0]\n",
    "sports_games"
   ]
  },
  {
   "cell_type": "code",
   "execution_count": 4,
   "metadata": {
    "deletable": false,
    "editable": false
   },
   "outputs": [
    {
     "data": {
      "text/html": [
       "\n",
       "    <p><strong>q1_1</strong> passed!</p>\n",
       "    "
      ],
      "text/plain": [
       "q1_1 passed!"
      ]
     },
     "execution_count": 4,
     "metadata": {},
     "output_type": "execute_result"
    }
   ],
   "source": [
    "grader.check(\"q1_1\")"
   ]
  },
  {
   "cell_type": "markdown",
   "metadata": {},
   "source": [
    "**Question 1.2** \n",
    "\n",
    "Suppose you work at GameStop now. It’s 2014 and you want to buy a wide variety of games for your PS4. You decide to make 100 trips to the store and choose 5 PS4 games at a random each time. Each time you visit the store, your manager asks you to report the average of the Global Sales of the 5 games. Keep in mind that Gamestop only stocks up on games from the last 5 years, which is 2009-2014 (inclusive).\n",
    "\n",
    "Store the average Global Sales of the games for your 100 trips in a list called `sales_global`."
   ]
  },
  {
   "cell_type": "code",
   "execution_count": 5,
   "metadata": {},
   "outputs": [
    {
     "data": {
      "text/plain": [
       "[2.186,\n",
       " 0.758,\n",
       " 1.22,\n",
       " 1.372,\n",
       " 2.15,\n",
       " 0.8959999999999999,\n",
       " 2.4639999999999995,\n",
       " 0.61,\n",
       " 0.446,\n",
       " 0.8019999999999999,\n",
       " 0.23400000000000004,\n",
       " 0.526,\n",
       " 1.286,\n",
       " 2.586,\n",
       " 0.826,\n",
       " 2.5460000000000003,\n",
       " 0.378,\n",
       " 0.5940000000000001,\n",
       " 1.3279999999999998,\n",
       " 0.314,\n",
       " 0.8200000000000001,\n",
       " 1.04,\n",
       " 0.8959999999999999,\n",
       " 2.594,\n",
       " 1.3579999999999999,\n",
       " 0.454,\n",
       " 1.4339999999999997,\n",
       " 1.1919999999999997,\n",
       " 0.744,\n",
       " 1.364,\n",
       " 1.594,\n",
       " 1.35,\n",
       " 1.2100000000000004,\n",
       " 1.55,\n",
       " 0.752,\n",
       " 0.5920000000000001,\n",
       " 1.114,\n",
       " 2.178,\n",
       " 1.984,\n",
       " 1.518,\n",
       " 1.956,\n",
       " 0.41800000000000004,\n",
       " 0.9339999999999999,\n",
       " 3.66,\n",
       " 0.382,\n",
       " 0.834,\n",
       " 1.0,\n",
       " 1.8239999999999998,\n",
       " 2.46,\n",
       " 1.8459999999999996,\n",
       " 0.41000000000000003,\n",
       " 1.394,\n",
       " 0.37,\n",
       " 1.134,\n",
       " 3.436,\n",
       " 1.6320000000000001,\n",
       " 3.304,\n",
       " 1.746,\n",
       " 1.5219999999999998,\n",
       " 1.286,\n",
       " 1.46,\n",
       " 1.706,\n",
       " 0.6519999999999999,\n",
       " 1.1300000000000001,\n",
       " 0.738,\n",
       " 1.9940000000000002,\n",
       " 1.716,\n",
       " 1.1039999999999999,\n",
       " 2.7700000000000005,\n",
       " 1.072,\n",
       " 1.08,\n",
       " 1.344,\n",
       " 1.112,\n",
       " 1.956,\n",
       " 1.7400000000000002,\n",
       " 1.0999999999999999,\n",
       " 1.1199999999999999,\n",
       " 0.6799999999999999,\n",
       " 0.576,\n",
       " 1.0639999999999998,\n",
       " 0.8800000000000001,\n",
       " 0.26799999999999996,\n",
       " 1.52,\n",
       " 1.1159999999999999,\n",
       " 0.6839999999999999,\n",
       " 0.46399999999999997,\n",
       " 3.2039999999999997,\n",
       " 1.19,\n",
       " 2.6740000000000004,\n",
       " 2.318,\n",
       " 2.202,\n",
       " 2.708,\n",
       " 1.386,\n",
       " 3.804,\n",
       " 0.818,\n",
       " 0.916,\n",
       " 3.3520000000000003,\n",
       " 0.9860000000000001,\n",
       " 2.072,\n",
       " 1.0059999999999998]"
      ]
     },
     "execution_count": 5,
     "metadata": {},
     "output_type": "execute_result"
    }
   ],
   "source": [
    "sales_global = []\n",
    "games_to_buy = video_games[(video_games.get('Platform') == 'PS4') & \n",
    "                            (video_games.get('Year') > 2008) & \n",
    "                            (video_games.get('Year') < 2015)]\n",
    "\n",
    "for i in np.arange(100):\n",
    "    bought = games_to_buy.sample(5)\n",
    "    sales_global = list(np.append(sales_global, bought.get('Global_Sales').mean()))\n",
    "\n",
    "sales_global"
   ]
  },
  {
   "cell_type": "code",
   "execution_count": 6,
   "metadata": {
    "deletable": false,
    "editable": false
   },
   "outputs": [
    {
     "data": {
      "text/html": [
       "\n",
       "    <p><strong>q1_2</strong> passed!</p>\n",
       "    "
      ],
      "text/plain": [
       "q1_2 passed!"
      ]
     },
     "execution_count": 6,
     "metadata": {},
     "output_type": "execute_result"
    }
   ],
   "source": [
    "grader.check(\"q1_2\")"
   ]
  },
  {
   "cell_type": "markdown",
   "metadata": {},
   "source": [
    "**Question 1.3** It's Prime Day in 2015, which means all games released in 2015 are on sale! You want to take advantage of the discounted prices, but with the wide variety of games available, you don't know which one to buy, so you decide to get 5 games at random. As an avid fan of Nintendo games, you wonder about the probability that at least one of your randomly purchased games of 2015 is from Nintendo. Calculate this probability and store this value in `nintendo_probability.`"
   ]
  },
  {
   "cell_type": "code",
   "execution_count": 7,
   "metadata": {
    "for_assignment_type": "student"
   },
   "outputs": [
    {
     "data": {
      "text/plain": [
       "0.05494505494505486"
      ]
     },
     "execution_count": 7,
     "metadata": {},
     "output_type": "execute_result"
    }
   ],
   "source": [
    "# purchased = video_games.sample(5)\n",
    "publishers = video_games[(video_games.get('Year') == 2015)].groupby('Publisher').count().shape[0]\n",
    "none_nintendo = (90/91)*(89/90)*(88/89)*(87/88)*(86/87)\n",
    "nintendo_probability = 1 - none_nintendo \n",
    "nintendo_probability"
   ]
  },
  {
   "cell_type": "code",
   "execution_count": 8,
   "metadata": {
    "deletable": false,
    "editable": false
   },
   "outputs": [
    {
     "data": {
      "text/html": [
       "\n",
       "    <p><strong>q1_3</strong> passed!</p>\n",
       "    "
      ],
      "text/plain": [
       "q1_3 passed!"
      ]
     },
     "execution_count": 8,
     "metadata": {},
     "output_type": "execute_result"
    }
   ],
   "source": [
    "grader.check(\"q1_3\")"
   ]
  },
  {
   "cell_type": "markdown",
   "metadata": {},
   "source": [
    "**Question 1.4** You and your friend are in an intense debate about which is the better console: XBOX 360 or the PlayStation 4. To settle the argument, you both agree to utilize random sampling to determine which is the more popular console. To do so, randomly sample 25 XBOX 360 Games from 2014 (X360) and 25 PlayStation 4 Games from 2014 (PS4), taking the mean 'Rank' of both samples. Store the absolute value of the difference of the sample means in the variable `console_diff.`"
   ]
  },
  {
   "cell_type": "code",
   "execution_count": 9,
   "metadata": {
    "scrolled": false
   },
   "outputs": [
    {
     "data": {
      "text/plain": [
       "235.6800000000003"
      ]
     },
     "execution_count": 9,
     "metadata": {},
     "output_type": "execute_result"
    }
   ],
   "source": [
    "xbox_games = video_games[(video_games.get('Platform') == 'X360') & \n",
    "                            (video_games.get('Year') == 2014)].sample(25).get('Rank').mean()\n",
    "\n",
    "ps4_games = video_games[(video_games.get('Platform') == 'PS4') & \n",
    "                            (video_games.get('Year') == 2014)].sample(25).get('Rank').mean()\n",
    "console_diff = abs(xbox_games - ps4_games)\n",
    "console_diff"
   ]
  },
  {
   "cell_type": "code",
   "execution_count": 10,
   "metadata": {
    "deletable": false,
    "editable": false
   },
   "outputs": [
    {
     "data": {
      "text/html": [
       "\n",
       "    <p><strong>q1_4</strong> passed!</p>\n",
       "    "
      ],
      "text/plain": [
       "q1_4 passed!"
      ]
     },
     "execution_count": 10,
     "metadata": {},
     "output_type": "execute_result"
    }
   ],
   "source": [
    "grader.check(\"q1_4\")"
   ]
  },
  {
   "cell_type": "markdown",
   "metadata": {},
   "source": [
    "## 2. Sampling\n",
    "\n",
    "We'll use some NBA data to get some practice with sampling.\n",
    "Run the cell below to load the player and salary data."
   ]
  },
  {
   "cell_type": "code",
   "execution_count": 11,
   "metadata": {},
   "outputs": [
    {
     "data": {
      "text/html": [
       "<div>\n",
       "<style scoped>\n",
       "    .dataframe tbody tr th:only-of-type {\n",
       "        vertical-align: middle;\n",
       "    }\n",
       "\n",
       "    .dataframe tbody tr th {\n",
       "        vertical-align: top;\n",
       "    }\n",
       "\n",
       "    .dataframe thead th {\n",
       "        text-align: right;\n",
       "    }\n",
       "</style>\n",
       "<table border=\"1\" class=\"dataframe\">\n",
       "  <thead>\n",
       "    <tr style=\"text-align: right;\">\n",
       "      <th></th>\n",
       "      <th>Age</th>\n",
       "      <th>Team</th>\n",
       "      <th>Games</th>\n",
       "      <th>Rebounds</th>\n",
       "      <th>Assists</th>\n",
       "      <th>Steals</th>\n",
       "      <th>Blocks</th>\n",
       "      <th>Turnovers</th>\n",
       "      <th>Points</th>\n",
       "    </tr>\n",
       "    <tr>\n",
       "      <th>Name</th>\n",
       "      <th></th>\n",
       "      <th></th>\n",
       "      <th></th>\n",
       "      <th></th>\n",
       "      <th></th>\n",
       "      <th></th>\n",
       "      <th></th>\n",
       "      <th></th>\n",
       "      <th></th>\n",
       "    </tr>\n",
       "  </thead>\n",
       "  <tbody>\n",
       "    <tr>\n",
       "      <th>James Harden</th>\n",
       "      <td>25</td>\n",
       "      <td>HOU</td>\n",
       "      <td>81</td>\n",
       "      <td>459</td>\n",
       "      <td>565</td>\n",
       "      <td>154</td>\n",
       "      <td>60</td>\n",
       "      <td>321</td>\n",
       "      <td>2217</td>\n",
       "    </tr>\n",
       "    <tr>\n",
       "      <th>Chris Paul</th>\n",
       "      <td>29</td>\n",
       "      <td>LAC</td>\n",
       "      <td>82</td>\n",
       "      <td>376</td>\n",
       "      <td>838</td>\n",
       "      <td>156</td>\n",
       "      <td>15</td>\n",
       "      <td>190</td>\n",
       "      <td>1564</td>\n",
       "    </tr>\n",
       "    <tr>\n",
       "      <th>Stephen Curry</th>\n",
       "      <td>26</td>\n",
       "      <td>GSW</td>\n",
       "      <td>80</td>\n",
       "      <td>341</td>\n",
       "      <td>619</td>\n",
       "      <td>163</td>\n",
       "      <td>16</td>\n",
       "      <td>249</td>\n",
       "      <td>1900</td>\n",
       "    </tr>\n",
       "    <tr>\n",
       "      <th>Anthony Davis</th>\n",
       "      <td>21</td>\n",
       "      <td>NOP</td>\n",
       "      <td>68</td>\n",
       "      <td>696</td>\n",
       "      <td>149</td>\n",
       "      <td>100</td>\n",
       "      <td>200</td>\n",
       "      <td>95</td>\n",
       "      <td>1656</td>\n",
       "    </tr>\n",
       "    <tr>\n",
       "      <th>DeAndre Jordan</th>\n",
       "      <td>26</td>\n",
       "      <td>LAC</td>\n",
       "      <td>82</td>\n",
       "      <td>1226</td>\n",
       "      <td>61</td>\n",
       "      <td>81</td>\n",
       "      <td>183</td>\n",
       "      <td>109</td>\n",
       "      <td>946</td>\n",
       "    </tr>\n",
       "    <tr>\n",
       "      <th>...</th>\n",
       "      <td>...</td>\n",
       "      <td>...</td>\n",
       "      <td>...</td>\n",
       "      <td>...</td>\n",
       "      <td>...</td>\n",
       "      <td>...</td>\n",
       "      <td>...</td>\n",
       "      <td>...</td>\n",
       "      <td>...</td>\n",
       "    </tr>\n",
       "    <tr>\n",
       "      <th>Adreian Payne</th>\n",
       "      <td>23</td>\n",
       "      <td>TOT</td>\n",
       "      <td>32</td>\n",
       "      <td>162</td>\n",
       "      <td>30</td>\n",
       "      <td>19</td>\n",
       "      <td>9</td>\n",
       "      <td>44</td>\n",
       "      <td>213</td>\n",
       "    </tr>\n",
       "    <tr>\n",
       "      <th>Ricky Ledo</th>\n",
       "      <td>22</td>\n",
       "      <td>TOT</td>\n",
       "      <td>17</td>\n",
       "      <td>36</td>\n",
       "      <td>19</td>\n",
       "      <td>6</td>\n",
       "      <td>1</td>\n",
       "      <td>26</td>\n",
       "      <td>90</td>\n",
       "    </tr>\n",
       "    <tr>\n",
       "      <th>Gary Harris</th>\n",
       "      <td>20</td>\n",
       "      <td>DEN</td>\n",
       "      <td>55</td>\n",
       "      <td>64</td>\n",
       "      <td>29</td>\n",
       "      <td>39</td>\n",
       "      <td>7</td>\n",
       "      <td>38</td>\n",
       "      <td>188</td>\n",
       "    </tr>\n",
       "    <tr>\n",
       "      <th>Zach LaVine</th>\n",
       "      <td>19</td>\n",
       "      <td>MIN</td>\n",
       "      <td>77</td>\n",
       "      <td>214</td>\n",
       "      <td>276</td>\n",
       "      <td>54</td>\n",
       "      <td>10</td>\n",
       "      <td>193</td>\n",
       "      <td>778</td>\n",
       "    </tr>\n",
       "    <tr>\n",
       "      <th>Lance Stephenson</th>\n",
       "      <td>24</td>\n",
       "      <td>CHO</td>\n",
       "      <td>61</td>\n",
       "      <td>277</td>\n",
       "      <td>240</td>\n",
       "      <td>38</td>\n",
       "      <td>8</td>\n",
       "      <td>128</td>\n",
       "      <td>501</td>\n",
       "    </tr>\n",
       "  </tbody>\n",
       "</table>\n",
       "<p>492 rows × 9 columns</p>\n",
       "</div>"
      ],
      "text/plain": [
       "                  Age Team  Games  Rebounds  Assists  Steals  Blocks  \\\n",
       "Name                                                                   \n",
       "James Harden       25  HOU     81       459      565     154      60   \n",
       "Chris Paul         29  LAC     82       376      838     156      15   \n",
       "Stephen Curry      26  GSW     80       341      619     163      16   \n",
       "Anthony Davis      21  NOP     68       696      149     100     200   \n",
       "DeAndre Jordan     26  LAC     82      1226       61      81     183   \n",
       "...               ...  ...    ...       ...      ...     ...     ...   \n",
       "Adreian Payne      23  TOT     32       162       30      19       9   \n",
       "Ricky Ledo         22  TOT     17        36       19       6       1   \n",
       "Gary Harris        20  DEN     55        64       29      39       7   \n",
       "Zach LaVine        19  MIN     77       214      276      54      10   \n",
       "Lance Stephenson   24  CHO     61       277      240      38       8   \n",
       "\n",
       "                  Turnovers  Points  \n",
       "Name                                 \n",
       "James Harden            321    2217  \n",
       "Chris Paul              190    1564  \n",
       "Stephen Curry           249    1900  \n",
       "Anthony Davis            95    1656  \n",
       "DeAndre Jordan          109     946  \n",
       "...                     ...     ...  \n",
       "Adreian Payne            44     213  \n",
       "Ricky Ledo               26      90  \n",
       "Gary Harris              38     188  \n",
       "Zach LaVine             193     778  \n",
       "Lance Stephenson        128     501  \n",
       "\n",
       "[492 rows x 9 columns]"
      ]
     },
     "execution_count": 11,
     "metadata": {},
     "output_type": "execute_result"
    }
   ],
   "source": [
    "player_data = bpd.read_csv(\"data/player_data.csv\").set_index('Name')\n",
    "salary_data = bpd.read_csv(\"data/salary_data.csv\").set_index('PlayerName')\n",
    "full_data = salary_data.merge(player_data, left_index=True, right_index=True)\n",
    "\n",
    "player_data"
   ]
  },
  {
   "cell_type": "code",
   "execution_count": 12,
   "metadata": {},
   "outputs": [
    {
     "data": {
      "text/html": [
       "<div>\n",
       "<style scoped>\n",
       "    .dataframe tbody tr th:only-of-type {\n",
       "        vertical-align: middle;\n",
       "    }\n",
       "\n",
       "    .dataframe tbody tr th {\n",
       "        vertical-align: top;\n",
       "    }\n",
       "\n",
       "    .dataframe thead th {\n",
       "        text-align: right;\n",
       "    }\n",
       "</style>\n",
       "<table border=\"1\" class=\"dataframe\">\n",
       "  <thead>\n",
       "    <tr style=\"text-align: right;\">\n",
       "      <th></th>\n",
       "      <th>Salary</th>\n",
       "    </tr>\n",
       "    <tr>\n",
       "      <th>PlayerName</th>\n",
       "      <th></th>\n",
       "    </tr>\n",
       "  </thead>\n",
       "  <tbody>\n",
       "    <tr>\n",
       "      <th>Kobe Bryant</th>\n",
       "      <td>23500000</td>\n",
       "    </tr>\n",
       "    <tr>\n",
       "      <th>Amar'e Stoudemire</th>\n",
       "      <td>23410988</td>\n",
       "    </tr>\n",
       "    <tr>\n",
       "      <th>Joe Johnson</th>\n",
       "      <td>23180790</td>\n",
       "    </tr>\n",
       "    <tr>\n",
       "      <th>Carmelo Anthony</th>\n",
       "      <td>22458401</td>\n",
       "    </tr>\n",
       "    <tr>\n",
       "      <th>Dwight Howard</th>\n",
       "      <td>21436271</td>\n",
       "    </tr>\n",
       "    <tr>\n",
       "      <th>...</th>\n",
       "      <td>...</td>\n",
       "    </tr>\n",
       "    <tr>\n",
       "      <th>Sim Bhullar</th>\n",
       "      <td>29843</td>\n",
       "    </tr>\n",
       "    <tr>\n",
       "      <th>David Stockton</th>\n",
       "      <td>29843</td>\n",
       "    </tr>\n",
       "    <tr>\n",
       "      <th>David Wear</th>\n",
       "      <td>29843</td>\n",
       "    </tr>\n",
       "    <tr>\n",
       "      <th>Andre Dawkins</th>\n",
       "      <td>29843</td>\n",
       "    </tr>\n",
       "    <tr>\n",
       "      <th>Vander Blue</th>\n",
       "      <td>14409</td>\n",
       "    </tr>\n",
       "  </tbody>\n",
       "</table>\n",
       "<p>492 rows × 1 columns</p>\n",
       "</div>"
      ],
      "text/plain": [
       "                     Salary\n",
       "PlayerName                 \n",
       "Kobe Bryant        23500000\n",
       "Amar'e Stoudemire  23410988\n",
       "Joe Johnson        23180790\n",
       "Carmelo Anthony    22458401\n",
       "Dwight Howard      21436271\n",
       "...                     ...\n",
       "Sim Bhullar           29843\n",
       "David Stockton        29843\n",
       "David Wear            29843\n",
       "Andre Dawkins         29843\n",
       "Vander Blue           14409\n",
       "\n",
       "[492 rows x 1 columns]"
      ]
     },
     "execution_count": 12,
     "metadata": {},
     "output_type": "execute_result"
    }
   ],
   "source": [
    "salary_data"
   ]
  },
  {
   "cell_type": "code",
   "execution_count": 13,
   "metadata": {},
   "outputs": [
    {
     "data": {
      "text/html": [
       "<div>\n",
       "<style scoped>\n",
       "    .dataframe tbody tr th:only-of-type {\n",
       "        vertical-align: middle;\n",
       "    }\n",
       "\n",
       "    .dataframe tbody tr th {\n",
       "        vertical-align: top;\n",
       "    }\n",
       "\n",
       "    .dataframe thead th {\n",
       "        text-align: right;\n",
       "    }\n",
       "</style>\n",
       "<table border=\"1\" class=\"dataframe\">\n",
       "  <thead>\n",
       "    <tr style=\"text-align: right;\">\n",
       "      <th></th>\n",
       "      <th>Salary</th>\n",
       "      <th>Age</th>\n",
       "      <th>Team</th>\n",
       "      <th>Games</th>\n",
       "      <th>Rebounds</th>\n",
       "      <th>Assists</th>\n",
       "      <th>Steals</th>\n",
       "      <th>Blocks</th>\n",
       "      <th>Turnovers</th>\n",
       "      <th>Points</th>\n",
       "    </tr>\n",
       "  </thead>\n",
       "  <tbody>\n",
       "    <tr>\n",
       "      <th>Kobe Bryant</th>\n",
       "      <td>23500000</td>\n",
       "      <td>36</td>\n",
       "      <td>LAL</td>\n",
       "      <td>35</td>\n",
       "      <td>199</td>\n",
       "      <td>197</td>\n",
       "      <td>47</td>\n",
       "      <td>7</td>\n",
       "      <td>128</td>\n",
       "      <td>782</td>\n",
       "    </tr>\n",
       "    <tr>\n",
       "      <th>Amar'e Stoudemire</th>\n",
       "      <td>23410988</td>\n",
       "      <td>32</td>\n",
       "      <td>TOT</td>\n",
       "      <td>59</td>\n",
       "      <td>329</td>\n",
       "      <td>45</td>\n",
       "      <td>29</td>\n",
       "      <td>38</td>\n",
       "      <td>78</td>\n",
       "      <td>680</td>\n",
       "    </tr>\n",
       "    <tr>\n",
       "      <th>Joe Johnson</th>\n",
       "      <td>23180790</td>\n",
       "      <td>33</td>\n",
       "      <td>BRK</td>\n",
       "      <td>80</td>\n",
       "      <td>384</td>\n",
       "      <td>292</td>\n",
       "      <td>59</td>\n",
       "      <td>14</td>\n",
       "      <td>137</td>\n",
       "      <td>1154</td>\n",
       "    </tr>\n",
       "    <tr>\n",
       "      <th>Carmelo Anthony</th>\n",
       "      <td>22458401</td>\n",
       "      <td>30</td>\n",
       "      <td>NYK</td>\n",
       "      <td>40</td>\n",
       "      <td>264</td>\n",
       "      <td>122</td>\n",
       "      <td>40</td>\n",
       "      <td>17</td>\n",
       "      <td>89</td>\n",
       "      <td>966</td>\n",
       "    </tr>\n",
       "    <tr>\n",
       "      <th>Dwight Howard</th>\n",
       "      <td>21436271</td>\n",
       "      <td>29</td>\n",
       "      <td>HOU</td>\n",
       "      <td>41</td>\n",
       "      <td>431</td>\n",
       "      <td>50</td>\n",
       "      <td>28</td>\n",
       "      <td>53</td>\n",
       "      <td>115</td>\n",
       "      <td>646</td>\n",
       "    </tr>\n",
       "    <tr>\n",
       "      <th>...</th>\n",
       "      <td>...</td>\n",
       "      <td>...</td>\n",
       "      <td>...</td>\n",
       "      <td>...</td>\n",
       "      <td>...</td>\n",
       "      <td>...</td>\n",
       "      <td>...</td>\n",
       "      <td>...</td>\n",
       "      <td>...</td>\n",
       "      <td>...</td>\n",
       "    </tr>\n",
       "    <tr>\n",
       "      <th>Sim Bhullar</th>\n",
       "      <td>29843</td>\n",
       "      <td>22</td>\n",
       "      <td>SAC</td>\n",
       "      <td>3</td>\n",
       "      <td>1</td>\n",
       "      <td>1</td>\n",
       "      <td>0</td>\n",
       "      <td>1</td>\n",
       "      <td>0</td>\n",
       "      <td>2</td>\n",
       "    </tr>\n",
       "    <tr>\n",
       "      <th>David Stockton</th>\n",
       "      <td>29843</td>\n",
       "      <td>23</td>\n",
       "      <td>SAC</td>\n",
       "      <td>3</td>\n",
       "      <td>2</td>\n",
       "      <td>9</td>\n",
       "      <td>2</td>\n",
       "      <td>0</td>\n",
       "      <td>4</td>\n",
       "      <td>8</td>\n",
       "    </tr>\n",
       "    <tr>\n",
       "      <th>David Wear</th>\n",
       "      <td>29843</td>\n",
       "      <td>24</td>\n",
       "      <td>SAC</td>\n",
       "      <td>2</td>\n",
       "      <td>2</td>\n",
       "      <td>1</td>\n",
       "      <td>0</td>\n",
       "      <td>0</td>\n",
       "      <td>0</td>\n",
       "      <td>0</td>\n",
       "    </tr>\n",
       "    <tr>\n",
       "      <th>Andre Dawkins</th>\n",
       "      <td>29843</td>\n",
       "      <td>23</td>\n",
       "      <td>MIA</td>\n",
       "      <td>4</td>\n",
       "      <td>2</td>\n",
       "      <td>1</td>\n",
       "      <td>0</td>\n",
       "      <td>0</td>\n",
       "      <td>1</td>\n",
       "      <td>3</td>\n",
       "    </tr>\n",
       "    <tr>\n",
       "      <th>Vander Blue</th>\n",
       "      <td>14409</td>\n",
       "      <td>22</td>\n",
       "      <td>LAL</td>\n",
       "      <td>2</td>\n",
       "      <td>9</td>\n",
       "      <td>8</td>\n",
       "      <td>3</td>\n",
       "      <td>0</td>\n",
       "      <td>6</td>\n",
       "      <td>22</td>\n",
       "    </tr>\n",
       "  </tbody>\n",
       "</table>\n",
       "<p>492 rows × 10 columns</p>\n",
       "</div>"
      ],
      "text/plain": [
       "                     Salary  Age Team  Games  Rebounds  Assists  Steals  \\\n",
       "Kobe Bryant        23500000   36  LAL     35       199      197      47   \n",
       "Amar'e Stoudemire  23410988   32  TOT     59       329       45      29   \n",
       "Joe Johnson        23180790   33  BRK     80       384      292      59   \n",
       "Carmelo Anthony    22458401   30  NYK     40       264      122      40   \n",
       "Dwight Howard      21436271   29  HOU     41       431       50      28   \n",
       "...                     ...  ...  ...    ...       ...      ...     ...   \n",
       "Sim Bhullar           29843   22  SAC      3         1        1       0   \n",
       "David Stockton        29843   23  SAC      3         2        9       2   \n",
       "David Wear            29843   24  SAC      2         2        1       0   \n",
       "Andre Dawkins         29843   23  MIA      4         2        1       0   \n",
       "Vander Blue           14409   22  LAL      2         9        8       3   \n",
       "\n",
       "                   Blocks  Turnovers  Points  \n",
       "Kobe Bryant             7        128     782  \n",
       "Amar'e Stoudemire      38         78     680  \n",
       "Joe Johnson            14        137    1154  \n",
       "Carmelo Anthony        17         89     966  \n",
       "Dwight Howard          53        115     646  \n",
       "...                   ...        ...     ...  \n",
       "Sim Bhullar             1          0       2  \n",
       "David Stockton          0          4       8  \n",
       "David Wear              0          0       0  \n",
       "Andre Dawkins           0          1       3  \n",
       "Vander Blue             0          6      22  \n",
       "\n",
       "[492 rows x 10 columns]"
      ]
     },
     "execution_count": 13,
     "metadata": {},
     "output_type": "execute_result"
    }
   ],
   "source": [
    "full_data"
   ]
  },
  {
   "cell_type": "markdown",
   "metadata": {},
   "source": [
    "Rather than getting data on every player, imagine that we had gotten data on only a smaller subset of the players.  For 492 players, it's not so unreasonable to expect to see all the data, but usually we aren't so lucky.  Instead, we often make *statistical inferences* about a large underlying population using a smaller sample.\n",
    "\n",
    "A **statistical inference** is a statement about some statistic of the underlying population, such as \"the average salary of NBA players in 2014 was $3 million\".  You may have heard the word \"inference\" used in other contexts.  It's important to keep in mind that statistical inferences can be wrong.\n",
    "\n",
    "A general strategy for inference using samples is to estimate statistics of the population by computing the same statistics on a sample.  This strategy sometimes works well and sometimes doesn't.  The degree to which it gives us useful answers depends on several factors, and we'll touch lightly on a few of those today.\n",
    "\n",
    "One very important factor in the utility of samples is how they were gathered.  We have prepared some example sample datasets to simulate inference from different kinds of samples for the NBA player dataset.  Later we'll ask you to create your own samples to see how they behave."
   ]
  },
  {
   "cell_type": "markdown",
   "metadata": {},
   "source": [
    "To save typing and increase the clarity of your code, we will package the loading and analysis code into two functions. This will be useful in the rest of the lab as we will repeatedly need to create histograms and collect summary statistics from that data."
   ]
  },
  {
   "cell_type": "markdown",
   "metadata": {},
   "source": [
    "**Question 2.1**. Complete the `histograms` function, which takes a table with columns `Age` and `Salary` and draws a histogram for each one. Use the min and max functions to pick the bin boundaries so that all data appears for any table passed to your function. Use the same bin widths as before (1 year for `Age` and $1,000,000 for `Salary`). \n",
    "\n",
    "*Hint:* Make sure that your bins **include** the maximum value.  Remember that bins include the left value but exclude the right value."
   ]
  },
  {
   "cell_type": "markdown",
   "metadata": {
    "deletable": false,
    "editable": false
   },
   "source": [
    "<!-- BEGIN QUESTION -->\n",
    "\n",
    "<!--\n",
    "BEGIN QUESTION\n",
    "name: q2_1\n",
    "manual: true\n",
    "-->"
   ]
  },
  {
   "cell_type": "code",
   "execution_count": 14,
   "metadata": {},
   "outputs": [
    {
     "name": "stdout",
     "output_type": "stream",
     "text": [
      "Two histograms should be displayed below\n"
     ]
    },
    {
     "data": {
      "image/png": "[encoded data removed]",
      "text/plain": [
       "<Figure size 432x288 with 1 Axes>"
      ]
     },
     "metadata": {
      "needs_background": "light"
     },
     "output_type": "display_data"
    },
    {
     "data": {
      "image/png": "[encoded data removed]",
      "text/plain": [
       "<Figure size 432x288 with 1 Axes>"
      ]
     },
     "metadata": {
      "needs_background": "light"
     },
     "output_type": "display_data"
    }
   ],
   "source": [
    "def histograms(t):\n",
    "    ages = t.get('Age')\n",
    "    salaries = t.get('Salary')\n",
    "    age_bins = np.arange(15, 40, 1)\n",
    "    salary_bins = np.arange(0, 23500001, 1000000)\n",
    "    \n",
    "    a = plt.figure(1)\n",
    "    plt.hist(ages, bins=age_bins, density=True, alpha=.75)\n",
    "    plt.title('Distribution of Ages')\n",
    "    a.show()\n",
    "    s = plt.figure(2)\n",
    "    plt.hist(salaries, bins=salary_bins, density=True, alpha=.75)\n",
    "    plt.title('Distribution of Salaries')\n",
    "    s.show()\n",
    "    return age_bins, salary_bins # Keep this statement so that your work can be checked\n",
    "    \n",
    "histograms(full_data)\n",
    "print('Two histograms should be displayed below')"
   ]
  },
  {
   "cell_type": "markdown",
   "metadata": {},
   "source": [
    "<!-- END QUESTION -->\n",
    "\n",
    "\n",
    "\n",
    "**Question 2.2**. Create a function called `compute_statistics` that takes a DataFrame containing ages and salaries and:\n",
    "- Draws a histogram of ages\n",
    "- Draws a histogram of salaries\n",
    "- Return a two-element array containing the average age and average salary\n",
    "\n",
    "You can call your `histograms` function to draw the histograms!"
   ]
  },
  {
   "cell_type": "code",
   "execution_count": 15,
   "metadata": {},
   "outputs": [
    {
     "data": {
      "text/plain": [
       "[26.536585365853657, 4269775.766260163]"
      ]
     },
     "execution_count": 15,
     "metadata": {},
     "output_type": "execute_result"
    },
    {
     "data": {
      "image/png": "[encoded data removed]",
      "text/plain": [
       "<Figure size 432x288 with 1 Axes>"
      ]
     },
     "metadata": {
      "needs_background": "light"
     },
     "output_type": "display_data"
    },
    {
     "data": {
      "image/png": "[encoded data removed]",
      "text/plain": [
       "<Figure size 432x288 with 1 Axes>"
      ]
     },
     "metadata": {
      "needs_background": "light"
     },
     "output_type": "display_data"
    }
   ],
   "source": [
    "def compute_statistics(age_and_salary_data):\n",
    "    age = age_and_salary_data.get('Age')\n",
    "    salary = age_and_salary_data.get('Salary')\n",
    "    histograms(age_and_salary_data)\n",
    "    return list(np.array([age.mean(), salary.mean()]))\n",
    "    \n",
    "    \n",
    "full_stats = compute_statistics(full_data)\n",
    "full_stats"
   ]
  },
  {
   "cell_type": "code",
   "execution_count": 16,
   "metadata": {
    "deletable": false,
    "editable": false
   },
   "outputs": [
    {
     "data": {
      "text/html": [
       "\n",
       "    <p><strong>q2_2</strong> passed!</p>\n",
       "    "
      ],
      "text/plain": [
       "q2_2 passed!"
      ]
     },
     "execution_count": 16,
     "metadata": {},
     "output_type": "execute_result"
    }
   ],
   "source": [
    "grader.check(\"q2_2\")"
   ]
  },
  {
   "cell_type": "markdown",
   "metadata": {},
   "source": [
    "### Convenience sampling\n",
    "One sampling methodology, which is **generally a bad idea**, is to choose players who are somehow convenient to sample.  For example, you might choose players from one team that's near your house, since it's easier to survey them.  This is called, somewhat pejoratively, *convenience sampling*.\n",
    "\n",
    "Suppose you survey only *relatively new* players with ages less than 22.  (The more experienced players didn't bother to answer your surveys about their salaries.)\n",
    "\n",
    "**Question 2.3**  Assign `convenience_sample` to a subset of `full_data` that contains only the rows for players under the age of 22."
   ]
  },
  {
   "cell_type": "code",
   "execution_count": 17,
   "metadata": {},
   "outputs": [
    {
     "data": {
      "text/html": [
       "<div>\n",
       "<style scoped>\n",
       "    .dataframe tbody tr th:only-of-type {\n",
       "        vertical-align: middle;\n",
       "    }\n",
       "\n",
       "    .dataframe tbody tr th {\n",
       "        vertical-align: top;\n",
       "    }\n",
       "\n",
       "    .dataframe thead th {\n",
       "        text-align: right;\n",
       "    }\n",
       "</style>\n",
       "<table border=\"1\" class=\"dataframe\">\n",
       "  <thead>\n",
       "    <tr style=\"text-align: right;\">\n",
       "      <th></th>\n",
       "      <th>Salary</th>\n",
       "      <th>Age</th>\n",
       "      <th>Team</th>\n",
       "      <th>Games</th>\n",
       "      <th>Rebounds</th>\n",
       "      <th>Assists</th>\n",
       "      <th>Steals</th>\n",
       "      <th>Blocks</th>\n",
       "      <th>Turnovers</th>\n",
       "      <th>Points</th>\n",
       "    </tr>\n",
       "  </thead>\n",
       "  <tbody>\n",
       "    <tr>\n",
       "      <th>Anthony Davis</th>\n",
       "      <td>5607240</td>\n",
       "      <td>21</td>\n",
       "      <td>NOP</td>\n",
       "      <td>68</td>\n",
       "      <td>696</td>\n",
       "      <td>149</td>\n",
       "      <td>100</td>\n",
       "      <td>200</td>\n",
       "      <td>95</td>\n",
       "      <td>1656</td>\n",
       "    </tr>\n",
       "    <tr>\n",
       "      <th>Anthony Bennett</th>\n",
       "      <td>5563920</td>\n",
       "      <td>21</td>\n",
       "      <td>MIN</td>\n",
       "      <td>57</td>\n",
       "      <td>216</td>\n",
       "      <td>48</td>\n",
       "      <td>27</td>\n",
       "      <td>16</td>\n",
       "      <td>36</td>\n",
       "      <td>298</td>\n",
       "    </tr>\n",
       "    <tr>\n",
       "      <th>Andrew Wiggins</th>\n",
       "      <td>5510640</td>\n",
       "      <td>19</td>\n",
       "      <td>MIN</td>\n",
       "      <td>82</td>\n",
       "      <td>374</td>\n",
       "      <td>170</td>\n",
       "      <td>86</td>\n",
       "      <td>50</td>\n",
       "      <td>177</td>\n",
       "      <td>1387</td>\n",
       "    </tr>\n",
       "    <tr>\n",
       "      <th>Michael Kidd-Gilchrist</th>\n",
       "      <td>5016960</td>\n",
       "      <td>21</td>\n",
       "      <td>CHO</td>\n",
       "      <td>55</td>\n",
       "      <td>416</td>\n",
       "      <td>77</td>\n",
       "      <td>30</td>\n",
       "      <td>38</td>\n",
       "      <td>63</td>\n",
       "      <td>598</td>\n",
       "    </tr>\n",
       "    <tr>\n",
       "      <th>Jabari Parker</th>\n",
       "      <td>4930560</td>\n",
       "      <td>19</td>\n",
       "      <td>MIL</td>\n",
       "      <td>25</td>\n",
       "      <td>138</td>\n",
       "      <td>42</td>\n",
       "      <td>31</td>\n",
       "      <td>5</td>\n",
       "      <td>47</td>\n",
       "      <td>308</td>\n",
       "    </tr>\n",
       "    <tr>\n",
       "      <th>...</th>\n",
       "      <td>...</td>\n",
       "      <td>...</td>\n",
       "      <td>...</td>\n",
       "      <td>...</td>\n",
       "      <td>...</td>\n",
       "      <td>...</td>\n",
       "      <td>...</td>\n",
       "      <td>...</td>\n",
       "      <td>...</td>\n",
       "      <td>...</td>\n",
       "    </tr>\n",
       "    <tr>\n",
       "      <th>Spencer Dinwiddie</th>\n",
       "      <td>700000</td>\n",
       "      <td>21</td>\n",
       "      <td>DET</td>\n",
       "      <td>34</td>\n",
       "      <td>48</td>\n",
       "      <td>104</td>\n",
       "      <td>19</td>\n",
       "      <td>6</td>\n",
       "      <td>33</td>\n",
       "      <td>145</td>\n",
       "    </tr>\n",
       "    <tr>\n",
       "      <th>Johnny O'Bryant</th>\n",
       "      <td>600000</td>\n",
       "      <td>21</td>\n",
       "      <td>MIL</td>\n",
       "      <td>34</td>\n",
       "      <td>64</td>\n",
       "      <td>17</td>\n",
       "      <td>5</td>\n",
       "      <td>4</td>\n",
       "      <td>25</td>\n",
       "      <td>100</td>\n",
       "    </tr>\n",
       "    <tr>\n",
       "      <th>K.J. McDaniels</th>\n",
       "      <td>507336</td>\n",
       "      <td>21</td>\n",
       "      <td>TOT</td>\n",
       "      <td>62</td>\n",
       "      <td>200</td>\n",
       "      <td>72</td>\n",
       "      <td>44</td>\n",
       "      <td>70</td>\n",
       "      <td>105</td>\n",
       "      <td>487</td>\n",
       "    </tr>\n",
       "    <tr>\n",
       "      <th>JaKarr Sampson</th>\n",
       "      <td>507336</td>\n",
       "      <td>21</td>\n",
       "      <td>PHI</td>\n",
       "      <td>74</td>\n",
       "      <td>163</td>\n",
       "      <td>77</td>\n",
       "      <td>38</td>\n",
       "      <td>26</td>\n",
       "      <td>76</td>\n",
       "      <td>386</td>\n",
       "    </tr>\n",
       "    <tr>\n",
       "      <th>Glenn Robinson III</th>\n",
       "      <td>507336</td>\n",
       "      <td>21</td>\n",
       "      <td>TOT</td>\n",
       "      <td>35</td>\n",
       "      <td>39</td>\n",
       "      <td>11</td>\n",
       "      <td>6</td>\n",
       "      <td>1</td>\n",
       "      <td>11</td>\n",
       "      <td>73</td>\n",
       "    </tr>\n",
       "  </tbody>\n",
       "</table>\n",
       "<p>44 rows × 10 columns</p>\n",
       "</div>"
      ],
      "text/plain": [
       "                         Salary  Age Team  Games  Rebounds  Assists  Steals  \\\n",
       "Anthony Davis           5607240   21  NOP     68       696      149     100   \n",
       "Anthony Bennett         5563920   21  MIN     57       216       48      27   \n",
       "Andrew Wiggins          5510640   19  MIN     82       374      170      86   \n",
       "Michael Kidd-Gilchrist  5016960   21  CHO     55       416       77      30   \n",
       "Jabari Parker           4930560   19  MIL     25       138       42      31   \n",
       "...                         ...  ...  ...    ...       ...      ...     ...   \n",
       "Spencer Dinwiddie        700000   21  DET     34        48      104      19   \n",
       "Johnny O'Bryant          600000   21  MIL     34        64       17       5   \n",
       "K.J. McDaniels           507336   21  TOT     62       200       72      44   \n",
       "JaKarr Sampson           507336   21  PHI     74       163       77      38   \n",
       "Glenn Robinson III       507336   21  TOT     35        39       11       6   \n",
       "\n",
       "                        Blocks  Turnovers  Points  \n",
       "Anthony Davis              200         95    1656  \n",
       "Anthony Bennett             16         36     298  \n",
       "Andrew Wiggins              50        177    1387  \n",
       "Michael Kidd-Gilchrist      38         63     598  \n",
       "Jabari Parker                5         47     308  \n",
       "...                        ...        ...     ...  \n",
       "Spencer Dinwiddie            6         33     145  \n",
       "Johnny O'Bryant              4         25     100  \n",
       "K.J. McDaniels              70        105     487  \n",
       "JaKarr Sampson              26         76     386  \n",
       "Glenn Robinson III           1         11      73  \n",
       "\n",
       "[44 rows x 10 columns]"
      ]
     },
     "execution_count": 17,
     "metadata": {},
     "output_type": "execute_result"
    }
   ],
   "source": [
    "convenience_sample = full_data[full_data.get('Age') < 22]\n",
    "convenience_sample"
   ]
  },
  {
   "cell_type": "code",
   "execution_count": 18,
   "metadata": {
    "deletable": false,
    "editable": false
   },
   "outputs": [
    {
     "data": {
      "text/html": [
       "\n",
       "    <p><strong>q2_3</strong> passed!</p>\n",
       "    "
      ],
      "text/plain": [
       "q2_3 passed!"
      ]
     },
     "execution_count": 18,
     "metadata": {},
     "output_type": "execute_result"
    }
   ],
   "source": [
    "grader.check(\"q2_3\")"
   ]
  },
  {
   "cell_type": "markdown",
   "metadata": {},
   "source": [
    "**Question 2.4** Assign `convenience_stats` to an array of the average age and average salary of your convenience sample, using the `compute_statistics` function.  Since they're computed on a sample, these are called *sample averages*. "
   ]
  },
  {
   "cell_type": "code",
   "execution_count": 19,
   "metadata": {},
   "outputs": [
    {
     "data": {
      "text/plain": [
       "[20.363636363636363, 2383533.8181818184]"
      ]
     },
     "execution_count": 19,
     "metadata": {},
     "output_type": "execute_result"
    },
    {
     "data": {
      "image/png": "[encoded data removed]",
      "text/plain": [
       "<Figure size 432x288 with 1 Axes>"
      ]
     },
     "metadata": {
      "needs_background": "light"
     },
     "output_type": "display_data"
    },
    {
     "data": {
      "image/png": "[encoded data removed]",
      "text/plain": [
       "<Figure size 432x288 with 1 Axes>"
      ]
     },
     "metadata": {
      "needs_background": "light"
     },
     "output_type": "display_data"
    }
   ],
   "source": [
    "convenience_stats = compute_statistics(convenience_sample)\n",
    "convenience_stats"
   ]
  },
  {
   "cell_type": "code",
   "execution_count": 20,
   "metadata": {
    "deletable": false,
    "editable": false
   },
   "outputs": [
    {
     "data": {
      "text/html": [
       "\n",
       "    <p><strong>q2_4</strong> passed!</p>\n",
       "    "
      ],
      "text/plain": [
       "q2_4 passed!"
      ]
     },
     "execution_count": 20,
     "metadata": {},
     "output_type": "execute_result"
    }
   ],
   "source": [
    "grader.check(\"q2_4\")"
   ]
  },
  {
   "cell_type": "markdown",
   "metadata": {},
   "source": [
    "Next, we'll compare the convenience sample salaries with the full data salaries."
   ]
  },
  {
   "cell_type": "code",
   "execution_count": 21,
   "metadata": {
    "scrolled": false
   },
   "outputs": [
    {
     "data": {
      "image/png": "[encoded data removed]",
      "text/plain": [
       "<Figure size 432x288 with 1 Axes>"
      ]
     },
     "metadata": {
      "needs_background": "light"
     },
     "output_type": "display_data"
    },
    {
     "data": {
      "image/png": "[encoded data removed]",
      "text/plain": [
       "<Figure size 432x288 with 1 Axes>"
      ]
     },
     "metadata": {
      "needs_background": "light"
     },
     "output_type": "display_data"
    }
   ],
   "source": [
    "# just run this cell, don't change it\n",
    "def compare_salaries(first, second, first_title, second_title):\n",
    "    \"\"\"Compare the salaries in two tables.\"\"\"\n",
    "    bins = np.arange(0, 25_000_000, 1_000_000)\n",
    "    first.plot(kind='hist', y='Salary', bins=bins, density=True)\n",
    "    plt.title(first_title)\n",
    "    second.plot(kind='hist', y='Salary', bins=bins, density=True)\n",
    "    plt.title(second_title)\n",
    "\n",
    "compare_salaries(full_data, convenience_sample, 'All Players', 'Convenience Sample')"
   ]
  },
  {
   "cell_type": "markdown",
   "metadata": {},
   "source": [
    "**Question 2.5** From what you see in the histogram above, does the convenience sample give us an accurate picture of the age and salary of the full population of NBA players in 2014-2015?  Would you expect it to, in general?  Assign either 1, 2, 3, or 4 to the variable `sampling_q5` below. \n",
    "1. Yes. The sample is large enough, so it is an accurate representation of the population.\n",
    "2. No. The sample is too small, so it won't give us an accurate representation of the population.\n",
    "3. No. But this was just an unlucky sample, normally this would give us an accurate representation of the population.\n",
    "4. No. This type of sample doesn't give us an accurate representation of the population."
   ]
  },
  {
   "cell_type": "code",
   "execution_count": 22,
   "metadata": {},
   "outputs": [
    {
     "data": {
      "text/plain": [
       "4"
      ]
     },
     "execution_count": 22,
     "metadata": {},
     "output_type": "execute_result"
    }
   ],
   "source": [
    "sampling_q5 = 4\n",
    "sampling_q5"
   ]
  },
  {
   "cell_type": "code",
   "execution_count": 23,
   "metadata": {
    "deletable": false,
    "editable": false
   },
   "outputs": [
    {
     "data": {
      "text/html": [
       "\n",
       "    <p><strong>q2_5</strong> passed!</p>\n",
       "    "
      ],
      "text/plain": [
       "q2_5 passed!"
      ]
     },
     "execution_count": 23,
     "metadata": {},
     "output_type": "execute_result"
    }
   ],
   "source": [
    "grader.check(\"q2_5\")"
   ]
  },
  {
   "cell_type": "markdown",
   "metadata": {},
   "source": [
    "### Simple random sampling\n",
    "A more principled approach is to sample uniformly at random from the players.  If we ensure that each player is selected at most once, this is a *simple random sample without replacement*, sometimes abbreviated to \"simple random sample\" or \"SRSWOR\".  Imagine writing down each player's name on a card, putting the cards in a hat, and shuffling the hat.  Then, pull out cards one by one and set them aside, stopping when the specified *sample size* is reached.\n",
    "\n",
    "We've produced two samples of the `salary_data` table in this way: `small_srswor_salary.csv` and `large_srswor_salary.csv` contain, respectively, a sample of size 44 (the same as the convenience sample) and a larger sample of size 100.  \n",
    "\n",
    "The `load_data` function below loads a salary table and joins it with `player_data`."
   ]
  },
  {
   "cell_type": "code",
   "execution_count": 24,
   "metadata": {},
   "outputs": [],
   "source": [
    "def load_data(salary_file):\n",
    "    return player_data.merge(bpd.read_csv(salary_file), left_index=True, right_on='PlayerName')"
   ]
  },
  {
   "cell_type": "markdown",
   "metadata": {},
   "source": [
    "**Question 2.6** Run the same analyses on the small and large samples that you previously ran on the full dataset and on the convenience sample.  Compare the accuracy of the estimates of the population statistics that we get from the small simple random sample, the large simple random sample, and the convenience sample. \n",
    "\n",
    "**Note:** `small_srswor_data` and `large_srswor_data` should be DataFrames loaded from their respective `data/small_srswor_salary.csv` and `data/large_srswor_salary.csv`"
   ]
  },
  {
   "cell_type": "code",
   "execution_count": 25,
   "metadata": {},
   "outputs": [
    {
     "name": "stdout",
     "output_type": "stream",
     "text": [
      "Full data stats:                  [26.536585365853657, 4269775.766260163]\n",
      "Small simple random sample stats: [26.318181818181817, 4283910.886363637]\n",
      "Large simple random sample stats: [26.42, 4821322.5]\n",
      "Convenience sample stats:         [20.363636363636363, 2383533.8181818184]\n"
     ]
    },
    {
     "data": {
      "image/png": "[encoded data removed]",
      "text/plain": [
       "<Figure size 432x288 with 1 Axes>"
      ]
     },
     "metadata": {
      "needs_background": "light"
     },
     "output_type": "display_data"
    },
    {
     "data": {
      "image/png": "[encoded data removed]",
      "text/plain": [
       "<Figure size 432x288 with 1 Axes>"
      ]
     },
     "metadata": {
      "needs_background": "light"
     },
     "output_type": "display_data"
    }
   ],
   "source": [
    "small_srswor_data = load_data('data/small_srswor_salary.csv')\n",
    "small_stats = compute_statistics(small_srswor_data)\n",
    "large_srswor_data = load_data('data/large_srswor_salary.csv')\n",
    "large_stats = compute_statistics(large_srswor_data)\n",
    "convenience_stats # = compute_statistics(convenience_stats)\n",
    "\n",
    "plt.figure(1).legend(['Small SRSWOR', 'Large SRSWOR', 'Convenience'])\n",
    "plt.figure(2).legend(['Small SRSWOR', 'Large SRSWOR', 'Convenience'])\n",
    "print('Full data stats:                 ', full_stats)\n",
    "print('Small simple random sample stats:', small_stats)\n",
    "print('Large simple random sample stats:', large_stats)\n",
    "print('Convenience sample stats:        ', convenience_stats)"
   ]
  },
  {
   "cell_type": "code",
   "execution_count": 26,
   "metadata": {
    "deletable": false,
    "editable": false
   },
   "outputs": [
    {
     "data": {
      "text/html": [
       "\n",
       "    <p><strong>q2_6</strong> passed!</p>\n",
       "    "
      ],
      "text/plain": [
       "q2_6 passed!"
      ]
     },
     "execution_count": 26,
     "metadata": {},
     "output_type": "execute_result"
    }
   ],
   "source": [
    "grader.check(\"q2_6\")"
   ]
  },
  {
   "cell_type": "markdown",
   "metadata": {},
   "source": [
    "### Producing simple random samples\n",
    "Often it's useful to take random samples even when we have a larger dataset available.  The randomized response technique was one example we saw in lecture with united flight delays.  Another is to help us understand how inaccurate other samples are.\n",
    "\n",
    "DataFrames provide the method `sample()` for producing random samples.  Note that its default is to sample **without** replacement. To see how to call `sample()` enter`full_data.sample?` into a code cell and press Enter."
   ]
  },
  {
   "cell_type": "code",
   "execution_count": 27,
   "metadata": {},
   "outputs": [],
   "source": [
    "full_data.sample?"
   ]
  },
  {
   "cell_type": "markdown",
   "metadata": {},
   "source": [
    "**Question 2.7** Produce a simple random sample of size 44 from `full_data` *with replacement*.  (You don't need to bother with a merge this time –– just use `full_data.sample(...)` directly.  That will have the same result as sampling from `salary_data` and joining with `player_data`.)  Run your analysis on it again."
   ]
  },
  {
   "cell_type": "code",
   "execution_count": 28,
   "metadata": {},
   "outputs": [
    {
     "data": {
      "text/plain": [
       "[27.386363636363637, 4388616.295454546]"
      ]
     },
     "execution_count": 28,
     "metadata": {},
     "output_type": "execute_result"
    },
    {
     "data": {
      "image/png": "[encoded data removed]",
      "text/plain": [
       "<Figure size 432x288 with 1 Axes>"
      ]
     },
     "metadata": {
      "needs_background": "light"
     },
     "output_type": "display_data"
    },
    {
     "data": {
      "image/png": "[encoded data removed]",
      "text/plain": [
       "<Figure size 432x288 with 1 Axes>"
      ]
     },
     "metadata": {
      "needs_background": "light"
     },
     "output_type": "display_data"
    }
   ],
   "source": [
    "my_small_srswor_data = full_data.sample(44, replace=True)\n",
    "my_small_stats = compute_statistics(my_small_srswor_data)\n",
    "my_small_stats"
   ]
  },
  {
   "cell_type": "markdown",
   "metadata": {},
   "source": [
    "Are your results similar to those in the small sample we provided you? Do things change a lot across separate samples? Run your code several times to get new samples. Assign either 1, 2, 3, or 4 to the variable `sampling_q7` below.\n",
    "1. The results are very different from the small sample, and don't change at all across separate samples.\n",
    "2. The results are very different from the small sample, and change a bit across separate samples.\n",
    "3. The results are slightly different from the small sample, and change a bit across separate samples.\n",
    "4. The results are not at all different from the small sample, and don't change at all across separate samples."
   ]
  },
  {
   "cell_type": "code",
   "execution_count": 29,
   "metadata": {},
   "outputs": [
    {
     "data": {
      "text/plain": [
       "4"
      ]
     },
     "execution_count": 29,
     "metadata": {},
     "output_type": "execute_result"
    }
   ],
   "source": [
    "sampling_q7 = 4\n",
    "sampling_q7"
   ]
  },
  {
   "cell_type": "code",
   "execution_count": 30,
   "metadata": {
    "deletable": false,
    "editable": false
   },
   "outputs": [
    {
     "data": {
      "text/html": [
       "\n",
       "    <p><strong>q2_7</strong> passed!</p>\n",
       "    "
      ],
      "text/plain": [
       "q2_7 passed!"
      ]
     },
     "execution_count": 30,
     "metadata": {},
     "output_type": "execute_result"
    }
   ],
   "source": [
    "grader.check(\"q2_7\")"
   ]
  },
  {
   "cell_type": "markdown",
   "metadata": {},
   "source": [
    "**Question 2.8** As in the previous question, analyze several simple random samples of size 100 from `full_data`."
   ]
  },
  {
   "cell_type": "code",
   "execution_count": 31,
   "metadata": {},
   "outputs": [
    {
     "data": {
      "text/plain": [
       "[25.83, 3736106.62]"
      ]
     },
     "execution_count": 31,
     "metadata": {},
     "output_type": "execute_result"
    },
    {
     "data": {
      "image/png": "[encoded data removed]",
      "text/plain": [
       "<Figure size 432x288 with 1 Axes>"
      ]
     },
     "metadata": {
      "needs_background": "light"
     },
     "output_type": "display_data"
    },
    {
     "data": {
      "image/png": "[encoded data removed]",
      "text/plain": [
       "<Figure size 432x288 with 1 Axes>"
      ]
     },
     "metadata": {
      "needs_background": "light"
     },
     "output_type": "display_data"
    }
   ],
   "source": [
    "my_large_srswor_data = full_data.sample(100, replace=True)\n",
    "my_large_stats = compute_statistics(my_large_srswor_data)\n",
    "my_large_stats"
   ]
  },
  {
   "cell_type": "markdown",
   "metadata": {},
   "source": [
    "Do the average and histogram statistics seem to change more or less across samples of this size than across samples of size 44?  And are the sample averages and histograms closer to their true values for age or for salary?  Assign either 1, 2, 3, 4, or 5 to the variable `sampling_q8` below. \n",
    "\n",
    "Is this what you expected to see?\n",
    "1. The statistics change *less* across samples of this size than across smaller samples. The statistics are closer to their true values for *age* than they are for *salary*.\n",
    "2. The statistics change *less* across samples of this size than across smaller samples. The statistics are closer to their true values for *salary* than they are for *age*.\n",
    "3. The statistics change *more* across samples of this size than across smaller samples. The statistics are closer to their true values for *age* than they are for *salary*.\n",
    "4. The statistics change *more* across samples of this size than across smaller samples. The statistics are closer to their true values for *salary* than they are for *age*.\n",
    "5. The statistics change an *equal amount* across samples of this size as across smaller samples. The statistics for age and salary are *equally close* to their true values."
   ]
  },
  {
   "cell_type": "code",
   "execution_count": 32,
   "metadata": {},
   "outputs": [
    {
     "data": {
      "text/plain": [
       "4"
      ]
     },
     "execution_count": 32,
     "metadata": {},
     "output_type": "execute_result"
    }
   ],
   "source": [
    "sampling_q8 = 4\n",
    "sampling_q8"
   ]
  },
  {
   "cell_type": "code",
   "execution_count": 33,
   "metadata": {
    "deletable": false,
    "editable": false
   },
   "outputs": [
    {
     "data": {
      "text/html": [
       "\n",
       "    <p><strong>q2_8</strong> passed!</p>\n",
       "    "
      ],
      "text/plain": [
       "q2_8 passed!"
      ]
     },
     "execution_count": 33,
     "metadata": {},
     "output_type": "execute_result"
    }
   ],
   "source": [
    "grader.check(\"q2_8\")"
   ]
  },
  {
   "cell_type": "markdown",
   "metadata": {},
   "source": [
    "## 3. Jupyter Notebook Cells"
   ]
  },
  {
   "cell_type": "markdown",
   "metadata": {},
   "source": [
    "Suppose we found a super long Jupyter notebook file with 1000 cells. Some of the cells are Code cells, and the others are Markdown cells. The file `cells.csv` contains 1000 rows, with each row representing the type of a cell in the Jupyter notebook. Let's read `cells.csv` into a table called `cell_table`."
   ]
  },
  {
   "cell_type": "code",
   "execution_count": 34,
   "metadata": {},
   "outputs": [
    {
     "data": {
      "text/html": [
       "<div>\n",
       "<style scoped>\n",
       "    .dataframe tbody tr th:only-of-type {\n",
       "        vertical-align: middle;\n",
       "    }\n",
       "\n",
       "    .dataframe tbody tr th {\n",
       "        vertical-align: top;\n",
       "    }\n",
       "\n",
       "    .dataframe thead th {\n",
       "        text-align: right;\n",
       "    }\n",
       "</style>\n",
       "<table border=\"1\" class=\"dataframe\">\n",
       "  <thead>\n",
       "    <tr style=\"text-align: right;\">\n",
       "      <th></th>\n",
       "      <th>Cell Type</th>\n",
       "    </tr>\n",
       "  </thead>\n",
       "  <tbody>\n",
       "    <tr>\n",
       "      <th>0</th>\n",
       "      <td>Code</td>\n",
       "    </tr>\n",
       "    <tr>\n",
       "      <th>1</th>\n",
       "      <td>Code</td>\n",
       "    </tr>\n",
       "    <tr>\n",
       "      <th>2</th>\n",
       "      <td>Code</td>\n",
       "    </tr>\n",
       "    <tr>\n",
       "      <th>3</th>\n",
       "      <td>Code</td>\n",
       "    </tr>\n",
       "    <tr>\n",
       "      <th>4</th>\n",
       "      <td>Code</td>\n",
       "    </tr>\n",
       "    <tr>\n",
       "      <th>...</th>\n",
       "      <td>...</td>\n",
       "    </tr>\n",
       "    <tr>\n",
       "      <th>995</th>\n",
       "      <td>Code</td>\n",
       "    </tr>\n",
       "    <tr>\n",
       "      <th>996</th>\n",
       "      <td>Markdown</td>\n",
       "    </tr>\n",
       "    <tr>\n",
       "      <th>997</th>\n",
       "      <td>Markdown</td>\n",
       "    </tr>\n",
       "    <tr>\n",
       "      <th>998</th>\n",
       "      <td>Code</td>\n",
       "    </tr>\n",
       "    <tr>\n",
       "      <th>999</th>\n",
       "      <td>Code</td>\n",
       "    </tr>\n",
       "  </tbody>\n",
       "</table>\n",
       "<p>1000 rows × 1 columns</p>\n",
       "</div>"
      ],
      "text/plain": [
       "    Cell Type\n",
       "0        Code\n",
       "1        Code\n",
       "2        Code\n",
       "3        Code\n",
       "4        Code\n",
       "..        ...\n",
       "995      Code\n",
       "996  Markdown\n",
       "997  Markdown\n",
       "998      Code\n",
       "999      Code\n",
       "\n",
       "[1000 rows x 1 columns]"
      ]
     },
     "execution_count": 34,
     "metadata": {},
     "output_type": "execute_result"
    }
   ],
   "source": [
    "cell_table = bpd.read_csv(\"data/cells.csv\")\n",
    "cell_table"
   ]
  },
  {
   "cell_type": "markdown",
   "metadata": {},
   "source": [
    "**Question 3.1.** You're interested in the proportion of Code cells in the file. Calculate the true proportion of Code cells and store it in the variable `code_true_prop`."
   ]
  },
  {
   "cell_type": "code",
   "execution_count": 35,
   "metadata": {},
   "outputs": [
    {
     "data": {
      "text/plain": [
       "0.711"
      ]
     },
     "execution_count": 35,
     "metadata": {},
     "output_type": "execute_result"
    }
   ],
   "source": [
    "code_true_prop = np.count_nonzero(cell_table.get('Cell Type') == 'Code') / cell_table.shape[0]\n",
    "code_true_prop"
   ]
  },
  {
   "cell_type": "code",
   "execution_count": 36,
   "metadata": {
    "deletable": false,
    "editable": false
   },
   "outputs": [
    {
     "data": {
      "text/html": [
       "\n",
       "    <p><strong>q3_1</strong> passed!</p>\n",
       "    "
      ],
      "text/plain": [
       "q3_1 passed!"
      ]
     },
     "execution_count": 36,
     "metadata": {},
     "output_type": "execute_result"
    }
   ],
   "source": [
    "grader.check(\"q3_1\")"
   ]
  },
  {
   "cell_type": "markdown",
   "metadata": {},
   "source": [
    "**Question 3.2.** If you are only able to randomly sample 200 different cells. Which of the following would create a representative sample of the cells in the file? Assign 1, 2, 3, or 4 to `q3_2`.\n",
    "\n",
    "1. `cell_table.take(np.arange(200))`\n",
    "2. `cell_table.iloc[0:200]`\n",
    "3. `cell_table.sample(200, replace=True)`\n",
    "4. `cell_table.sample(200, replace=False)`\n",
    "5. `cell_table[cell_table.get('Cell Type') == 'Code'].sample(200, replace=False)`\n",
    "6. `cell_table[cell_table.get('Cell Type') == 'Markdown'].sample(200, replace=False)`"
   ]
  },
  {
   "cell_type": "code",
   "execution_count": 37,
   "metadata": {},
   "outputs": [
    {
     "data": {
      "text/plain": [
       "4"
      ]
     },
     "execution_count": 37,
     "metadata": {},
     "output_type": "execute_result"
    }
   ],
   "source": [
    "q3_2 = 4\n",
    "q3_2"
   ]
  },
  {
   "cell_type": "code",
   "execution_count": 38,
   "metadata": {
    "deletable": false,
    "editable": false
   },
   "outputs": [
    {
     "data": {
      "text/html": [
       "\n",
       "    <p><strong>q3_2</strong> passed!</p>\n",
       "    "
      ],
      "text/plain": [
       "q3_2 passed!"
      ]
     },
     "execution_count": 38,
     "metadata": {},
     "output_type": "execute_result"
    }
   ],
   "source": [
    "grader.check(\"q3_2\")"
   ]
  },
  {
   "cell_type": "markdown",
   "metadata": {},
   "source": [
    "**Question 3.3.** You decide to pick 200 different cells using the sampling method you chose in question 3.3 above. Write a function called `pick_200_cells` that simulates this. Specifically, the function should take *no* arguments and should return a `babypandas.bpd.DataFrame` of the types of 200 cells."
   ]
  },
  {
   "cell_type": "code",
   "execution_count": 39,
   "metadata": {},
   "outputs": [
    {
     "data": {
      "text/html": [
       "<div>\n",
       "<style scoped>\n",
       "    .dataframe tbody tr th:only-of-type {\n",
       "        vertical-align: middle;\n",
       "    }\n",
       "\n",
       "    .dataframe tbody tr th {\n",
       "        vertical-align: top;\n",
       "    }\n",
       "\n",
       "    .dataframe thead th {\n",
       "        text-align: right;\n",
       "    }\n",
       "</style>\n",
       "<table border=\"1\" class=\"dataframe\">\n",
       "  <thead>\n",
       "    <tr style=\"text-align: right;\">\n",
       "      <th></th>\n",
       "      <th>Cell Type</th>\n",
       "    </tr>\n",
       "  </thead>\n",
       "  <tbody>\n",
       "    <tr>\n",
       "      <th>670</th>\n",
       "      <td>Code</td>\n",
       "    </tr>\n",
       "    <tr>\n",
       "      <th>449</th>\n",
       "      <td>Markdown</td>\n",
       "    </tr>\n",
       "    <tr>\n",
       "      <th>638</th>\n",
       "      <td>Code</td>\n",
       "    </tr>\n",
       "    <tr>\n",
       "      <th>40</th>\n",
       "      <td>Code</td>\n",
       "    </tr>\n",
       "    <tr>\n",
       "      <th>644</th>\n",
       "      <td>Markdown</td>\n",
       "    </tr>\n",
       "    <tr>\n",
       "      <th>...</th>\n",
       "      <td>...</td>\n",
       "    </tr>\n",
       "    <tr>\n",
       "      <th>158</th>\n",
       "      <td>Code</td>\n",
       "    </tr>\n",
       "    <tr>\n",
       "      <th>935</th>\n",
       "      <td>Code</td>\n",
       "    </tr>\n",
       "    <tr>\n",
       "      <th>996</th>\n",
       "      <td>Markdown</td>\n",
       "    </tr>\n",
       "    <tr>\n",
       "      <th>728</th>\n",
       "      <td>Code</td>\n",
       "    </tr>\n",
       "    <tr>\n",
       "      <th>556</th>\n",
       "      <td>Markdown</td>\n",
       "    </tr>\n",
       "  </tbody>\n",
       "</table>\n",
       "<p>200 rows × 1 columns</p>\n",
       "</div>"
      ],
      "text/plain": [
       "    Cell Type\n",
       "670      Code\n",
       "449  Markdown\n",
       "638      Code\n",
       "40       Code\n",
       "644  Markdown\n",
       "..        ...\n",
       "158      Code\n",
       "935      Code\n",
       "996  Markdown\n",
       "728      Code\n",
       "556  Markdown\n",
       "\n",
       "[200 rows x 1 columns]"
      ]
     },
     "execution_count": 39,
     "metadata": {},
     "output_type": "execute_result"
    }
   ],
   "source": [
    "def pick_200_cells():\n",
    "    \"\"\"Randomly select 200 different cells from cell_table.\"\"\"\n",
    "    return cell_table.sample(200, replace=False)\n",
    "pick_200_cells()"
   ]
  },
  {
   "cell_type": "code",
   "execution_count": 40,
   "metadata": {
    "deletable": false,
    "editable": false
   },
   "outputs": [
    {
     "data": {
      "text/html": [
       "\n",
       "    <p><strong>q3_3</strong> passed!</p>\n",
       "    "
      ],
      "text/plain": [
       "q3_3 passed!"
      ]
     },
     "execution_count": 40,
     "metadata": {},
     "output_type": "execute_result"
    }
   ],
   "source": [
    "grader.check(\"q3_3\")"
   ]
  },
  {
   "cell_type": "markdown",
   "metadata": {},
   "source": [
    "**Question 3.4.** You are interested in knowing the true proportion of Code cells of all the cells in the file, but suppose you can only look through 200 cells at a time. Hence, you simulate this experiment in 500 trials. For each trial, you decide to calculate the proportion of Code cells. Simulate the experiment and store the *array* of proportions in the variable `code_empirical_props`.\n",
    "\n",
    "*Note*: Your proportions should be decimals between 0 and 1. Feel free to use functions and create new cells if necessary, but be sure to store the *Numpy array* of proportions in `code_empirical_props`."
   ]
  },
  {
   "cell_type": "code",
   "execution_count": 41,
   "metadata": {},
   "outputs": [
    {
     "data": {
      "text/plain": [
       "array([0.705, 0.705, 0.735, 0.635, 0.75 , 0.755, 0.735, 0.725, 0.69 ,\n",
       "       0.7  , 0.705, 0.8  , 0.735, 0.7  , 0.715, 0.77 , 0.665, 0.755,\n",
       "       0.72 , 0.705, 0.72 , 0.7  , 0.725, 0.675, 0.715, 0.69 , 0.68 ,\n",
       "       0.74 , 0.72 , 0.69 , 0.715, 0.715, 0.765, 0.725, 0.72 , 0.705,\n",
       "       0.655, 0.735, 0.745, 0.73 , 0.725, 0.7  , 0.67 , 0.73 , 0.735,\n",
       "       0.725, 0.7  , 0.655, 0.71 , 0.705, 0.715, 0.685, 0.685, 0.7  ,\n",
       "       0.76 , 0.73 , 0.755, 0.72 , 0.755, 0.695, 0.72 , 0.65 , 0.725,\n",
       "       0.745, 0.72 , 0.725, 0.745, 0.725, 0.705, 0.72 , 0.695, 0.72 ,\n",
       "       0.75 , 0.685, 0.705, 0.655, 0.765, 0.685, 0.72 , 0.74 , 0.675,\n",
       "       0.74 , 0.7  , 0.71 , 0.755, 0.705, 0.72 , 0.695, 0.705, 0.75 ,\n",
       "       0.74 , 0.75 , 0.705, 0.77 , 0.735, 0.705, 0.765, 0.7  , 0.71 ,\n",
       "       0.715, 0.745, 0.725, 0.745, 0.725, 0.69 , 0.735, 0.715, 0.705,\n",
       "       0.695, 0.705, 0.725, 0.695, 0.68 , 0.71 , 0.73 , 0.705, 0.63 ,\n",
       "       0.73 , 0.72 , 0.735, 0.69 , 0.7  , 0.745, 0.675, 0.665, 0.73 ,\n",
       "       0.725, 0.68 , 0.73 , 0.685, 0.685, 0.625, 0.655, 0.655, 0.755,\n",
       "       0.7  , 0.69 , 0.71 , 0.68 , 0.8  , 0.72 , 0.7  , 0.7  , 0.66 ,\n",
       "       0.7  , 0.7  , 0.675, 0.735, 0.73 , 0.75 , 0.71 , 0.735, 0.705,\n",
       "       0.715, 0.75 , 0.72 , 0.72 , 0.74 , 0.715, 0.675, 0.67 , 0.74 ,\n",
       "       0.705, 0.73 , 0.75 , 0.745, 0.71 , 0.725, 0.71 , 0.74 , 0.72 ,\n",
       "       0.77 , 0.71 , 0.755, 0.775, 0.67 , 0.72 , 0.685, 0.705, 0.725,\n",
       "       0.63 , 0.69 , 0.645, 0.655, 0.74 , 0.7  , 0.74 , 0.745, 0.68 ,\n",
       "       0.695, 0.69 , 0.73 , 0.73 , 0.735, 0.695, 0.65 , 0.685, 0.73 ,\n",
       "       0.7  , 0.675, 0.75 , 0.675, 0.695, 0.76 , 0.655, 0.7  , 0.73 ,\n",
       "       0.695, 0.72 , 0.7  , 0.74 , 0.7  , 0.74 , 0.69 , 0.72 , 0.68 ,\n",
       "       0.725, 0.685, 0.705, 0.68 , 0.695, 0.715, 0.68 , 0.72 , 0.755,\n",
       "       0.745, 0.705, 0.67 , 0.645, 0.735, 0.715, 0.695, 0.695, 0.73 ,\n",
       "       0.675, 0.67 , 0.75 , 0.72 , 0.65 , 0.77 , 0.715, 0.725, 0.675,\n",
       "       0.68 , 0.7  , 0.69 , 0.7  , 0.73 , 0.75 , 0.77 , 0.695, 0.64 ,\n",
       "       0.72 , 0.705, 0.675, 0.735, 0.715, 0.705, 0.67 , 0.76 , 0.75 ,\n",
       "       0.73 , 0.67 , 0.695, 0.675, 0.745, 0.74 , 0.725, 0.68 , 0.72 ,\n",
       "       0.665, 0.705, 0.665, 0.7  , 0.76 , 0.655, 0.71 , 0.74 , 0.715,\n",
       "       0.725, 0.705, 0.75 , 0.71 , 0.71 , 0.685, 0.685, 0.72 , 0.76 ,\n",
       "       0.735, 0.73 , 0.685, 0.74 , 0.75 , 0.69 , 0.715, 0.685, 0.76 ,\n",
       "       0.71 , 0.735, 0.71 , 0.7  , 0.71 , 0.745, 0.745, 0.735, 0.73 ,\n",
       "       0.75 , 0.665, 0.735, 0.735, 0.71 , 0.735, 0.735, 0.7  , 0.745,\n",
       "       0.69 , 0.75 , 0.67 , 0.72 , 0.695, 0.71 , 0.74 , 0.715, 0.72 ,\n",
       "       0.685, 0.695, 0.705, 0.71 , 0.73 , 0.695, 0.68 , 0.72 , 0.755,\n",
       "       0.685, 0.715, 0.725, 0.705, 0.67 , 0.71 , 0.695, 0.69 , 0.725,\n",
       "       0.675, 0.735, 0.68 , 0.71 , 0.67 , 0.705, 0.685, 0.715, 0.72 ,\n",
       "       0.695, 0.71 , 0.67 , 0.705, 0.645, 0.755, 0.74 , 0.705, 0.735,\n",
       "       0.74 , 0.695, 0.73 , 0.72 , 0.68 , 0.725, 0.655, 0.715, 0.715,\n",
       "       0.715, 0.72 , 0.745, 0.69 , 0.725, 0.685, 0.695, 0.705, 0.73 ,\n",
       "       0.715, 0.675, 0.7  , 0.7  , 0.665, 0.655, 0.645, 0.735, 0.715,\n",
       "       0.735, 0.71 , 0.685, 0.73 , 0.73 , 0.715, 0.69 , 0.665, 0.67 ,\n",
       "       0.755, 0.705, 0.715, 0.71 , 0.745, 0.7  , 0.71 , 0.73 , 0.68 ,\n",
       "       0.68 , 0.695, 0.695, 0.735, 0.71 , 0.67 , 0.725, 0.735, 0.72 ,\n",
       "       0.685, 0.715, 0.7  , 0.695, 0.715, 0.715, 0.725, 0.68 , 0.69 ,\n",
       "       0.725, 0.7  , 0.71 , 0.68 , 0.75 , 0.685, 0.69 , 0.725, 0.71 ,\n",
       "       0.74 , 0.72 , 0.705, 0.735, 0.725, 0.705, 0.755, 0.695, 0.71 ,\n",
       "       0.72 , 0.705, 0.71 , 0.665, 0.72 , 0.68 , 0.76 , 0.715, 0.745,\n",
       "       0.72 , 0.74 , 0.725, 0.665, 0.645, 0.655, 0.715, 0.735, 0.715,\n",
       "       0.725, 0.68 , 0.695, 0.65 , 0.68 , 0.74 , 0.745, 0.72 , 0.7  ,\n",
       "       0.695, 0.725, 0.655, 0.655, 0.69 , 0.73 , 0.73 , 0.73 , 0.715,\n",
       "       0.73 , 0.7  , 0.69 , 0.68 , 0.715, 0.74 , 0.71 , 0.705, 0.72 ,\n",
       "       0.715, 0.695, 0.74 , 0.73 , 0.71 , 0.745, 0.72 , 0.735, 0.7  ,\n",
       "       0.72 , 0.665, 0.685, 0.73 , 0.7  ])"
      ]
     },
     "execution_count": 41,
     "metadata": {},
     "output_type": "execute_result"
    }
   ],
   "source": [
    "code_empirical_props = np.array([])\n",
    "for i in np.arange(500):\n",
    "    two_hundred = pick_200_cells()\n",
    "    code_empirical_props = np.append(code_empirical_props, \n",
    "                                     np.count_nonzero(two_hundred.get('Cell Type') == 'Code') / two_hundred.shape[0])\n",
    "\n",
    "\n",
    "code_empirical_props"
   ]
  },
  {
   "cell_type": "code",
   "execution_count": 42,
   "metadata": {
    "deletable": false,
    "editable": false
   },
   "outputs": [
    {
     "data": {
      "text/html": [
       "\n",
       "    <p><strong>q3_4</strong> passed!</p>\n",
       "    "
      ],
      "text/plain": [
       "q3_4 passed!"
      ]
     },
     "execution_count": 42,
     "metadata": {},
     "output_type": "execute_result"
    }
   ],
   "source": [
    "grader.check(\"q3_4\")"
   ]
  },
  {
   "cell_type": "markdown",
   "metadata": {},
   "source": [
    "**Question 3.5.** You are wondering what the proportion of the Markdown cells for each of the 500 trials would be. Store the *array* of the proportion of the Markdown cells for each of the 500 trials from Question 3.5 in `markdown_empirical_props`.\n",
    "\n",
    "*Note*: You **should not** run another simulation. Think about which operation you can use on `code_empirical_props` to find the corresponding proportions of Markdown cells, since you know that there are only Code or Markdown cells in `cell_table`. This is the cool part about Numpy arrays!"
   ]
  },
  {
   "cell_type": "code",
   "execution_count": 43,
   "metadata": {},
   "outputs": [
    {
     "data": {
      "text/plain": [
       "array([0.295, 0.295, 0.265, 0.365, 0.25 , 0.245, 0.265, 0.275, 0.31 ,\n",
       "       0.3  , 0.295, 0.2  , 0.265, 0.3  , 0.285, 0.23 , 0.335, 0.245,\n",
       "       0.28 , 0.295, 0.28 , 0.3  , 0.275, 0.325, 0.285, 0.31 , 0.32 ,\n",
       "       0.26 , 0.28 , 0.31 , 0.285, 0.285, 0.235, 0.275, 0.28 , 0.295,\n",
       "       0.345, 0.265, 0.255, 0.27 , 0.275, 0.3  , 0.33 , 0.27 , 0.265,\n",
       "       0.275, 0.3  , 0.345, 0.29 , 0.295, 0.285, 0.315, 0.315, 0.3  ,\n",
       "       0.24 , 0.27 , 0.245, 0.28 , 0.245, 0.305, 0.28 , 0.35 , 0.275,\n",
       "       0.255, 0.28 , 0.275, 0.255, 0.275, 0.295, 0.28 , 0.305, 0.28 ,\n",
       "       0.25 , 0.315, 0.295, 0.345, 0.235, 0.315, 0.28 , 0.26 , 0.325,\n",
       "       0.26 , 0.3  , 0.29 , 0.245, 0.295, 0.28 , 0.305, 0.295, 0.25 ,\n",
       "       0.26 , 0.25 , 0.295, 0.23 , 0.265, 0.295, 0.235, 0.3  , 0.29 ,\n",
       "       0.285, 0.255, 0.275, 0.255, 0.275, 0.31 , 0.265, 0.285, 0.295,\n",
       "       0.305, 0.295, 0.275, 0.305, 0.32 , 0.29 , 0.27 , 0.295, 0.37 ,\n",
       "       0.27 , 0.28 , 0.265, 0.31 , 0.3  , 0.255, 0.325, 0.335, 0.27 ,\n",
       "       0.275, 0.32 , 0.27 , 0.315, 0.315, 0.375, 0.345, 0.345, 0.245,\n",
       "       0.3  , 0.31 , 0.29 , 0.32 , 0.2  , 0.28 , 0.3  , 0.3  , 0.34 ,\n",
       "       0.3  , 0.3  , 0.325, 0.265, 0.27 , 0.25 , 0.29 , 0.265, 0.295,\n",
       "       0.285, 0.25 , 0.28 , 0.28 , 0.26 , 0.285, 0.325, 0.33 , 0.26 ,\n",
       "       0.295, 0.27 , 0.25 , 0.255, 0.29 , 0.275, 0.29 , 0.26 , 0.28 ,\n",
       "       0.23 , 0.29 , 0.245, 0.225, 0.33 , 0.28 , 0.315, 0.295, 0.275,\n",
       "       0.37 , 0.31 , 0.355, 0.345, 0.26 , 0.3  , 0.26 , 0.255, 0.32 ,\n",
       "       0.305, 0.31 , 0.27 , 0.27 , 0.265, 0.305, 0.35 , 0.315, 0.27 ,\n",
       "       0.3  , 0.325, 0.25 , 0.325, 0.305, 0.24 , 0.345, 0.3  , 0.27 ,\n",
       "       0.305, 0.28 , 0.3  , 0.26 , 0.3  , 0.26 , 0.31 , 0.28 , 0.32 ,\n",
       "       0.275, 0.315, 0.295, 0.32 , 0.305, 0.285, 0.32 , 0.28 , 0.245,\n",
       "       0.255, 0.295, 0.33 , 0.355, 0.265, 0.285, 0.305, 0.305, 0.27 ,\n",
       "       0.325, 0.33 , 0.25 , 0.28 , 0.35 , 0.23 , 0.285, 0.275, 0.325,\n",
       "       0.32 , 0.3  , 0.31 , 0.3  , 0.27 , 0.25 , 0.23 , 0.305, 0.36 ,\n",
       "       0.28 , 0.295, 0.325, 0.265, 0.285, 0.295, 0.33 , 0.24 , 0.25 ,\n",
       "       0.27 , 0.33 , 0.305, 0.325, 0.255, 0.26 , 0.275, 0.32 , 0.28 ,\n",
       "       0.335, 0.295, 0.335, 0.3  , 0.24 , 0.345, 0.29 , 0.26 , 0.285,\n",
       "       0.275, 0.295, 0.25 , 0.29 , 0.29 , 0.315, 0.315, 0.28 , 0.24 ,\n",
       "       0.265, 0.27 , 0.315, 0.26 , 0.25 , 0.31 , 0.285, 0.315, 0.24 ,\n",
       "       0.29 , 0.265, 0.29 , 0.3  , 0.29 , 0.255, 0.255, 0.265, 0.27 ,\n",
       "       0.25 , 0.335, 0.265, 0.265, 0.29 , 0.265, 0.265, 0.3  , 0.255,\n",
       "       0.31 , 0.25 , 0.33 , 0.28 , 0.305, 0.29 , 0.26 , 0.285, 0.28 ,\n",
       "       0.315, 0.305, 0.295, 0.29 , 0.27 , 0.305, 0.32 , 0.28 , 0.245,\n",
       "       0.315, 0.285, 0.275, 0.295, 0.33 , 0.29 , 0.305, 0.31 , 0.275,\n",
       "       0.325, 0.265, 0.32 , 0.29 , 0.33 , 0.295, 0.315, 0.285, 0.28 ,\n",
       "       0.305, 0.29 , 0.33 , 0.295, 0.355, 0.245, 0.26 , 0.295, 0.265,\n",
       "       0.26 , 0.305, 0.27 , 0.28 , 0.32 , 0.275, 0.345, 0.285, 0.285,\n",
       "       0.285, 0.28 , 0.255, 0.31 , 0.275, 0.315, 0.305, 0.295, 0.27 ,\n",
       "       0.285, 0.325, 0.3  , 0.3  , 0.335, 0.345, 0.355, 0.265, 0.285,\n",
       "       0.265, 0.29 , 0.315, 0.27 , 0.27 , 0.285, 0.31 , 0.335, 0.33 ,\n",
       "       0.245, 0.295, 0.285, 0.29 , 0.255, 0.3  , 0.29 , 0.27 , 0.32 ,\n",
       "       0.32 , 0.305, 0.305, 0.265, 0.29 , 0.33 , 0.275, 0.265, 0.28 ,\n",
       "       0.315, 0.285, 0.3  , 0.305, 0.285, 0.285, 0.275, 0.32 , 0.31 ,\n",
       "       0.275, 0.3  , 0.29 , 0.32 , 0.25 , 0.315, 0.31 , 0.275, 0.29 ,\n",
       "       0.26 , 0.28 , 0.295, 0.265, 0.275, 0.295, 0.245, 0.305, 0.29 ,\n",
       "       0.28 , 0.295, 0.29 , 0.335, 0.28 , 0.32 , 0.24 , 0.285, 0.255,\n",
       "       0.28 , 0.26 , 0.275, 0.335, 0.355, 0.345, 0.285, 0.265, 0.285,\n",
       "       0.275, 0.32 , 0.305, 0.35 , 0.32 , 0.26 , 0.255, 0.28 , 0.3  ,\n",
       "       0.305, 0.275, 0.345, 0.345, 0.31 , 0.27 , 0.27 , 0.27 , 0.285,\n",
       "       0.27 , 0.3  , 0.31 , 0.32 , 0.285, 0.26 , 0.29 , 0.295, 0.28 ,\n",
       "       0.285, 0.305, 0.26 , 0.27 , 0.29 , 0.255, 0.28 , 0.265, 0.3  ,\n",
       "       0.28 , 0.335, 0.315, 0.27 , 0.3  ])"
      ]
     },
     "execution_count": 43,
     "metadata": {},
     "output_type": "execute_result"
    }
   ],
   "source": [
    "markdown_empirical_props = np.array([])\n",
    "for index, proportion in enumerate(code_empirical_props):\n",
    "    markdown = 1 - proportion\n",
    "    markdown_empirical_props = np.append(markdown_empirical_props, markdown)\n",
    "\n",
    "markdown_empirical_props"
   ]
  },
  {
   "cell_type": "code",
   "execution_count": 44,
   "metadata": {
    "deletable": false,
    "editable": false
   },
   "outputs": [
    {
     "data": {
      "text/html": [
       "\n",
       "    <p><strong>q3_5</strong> passed!</p>\n",
       "    "
      ],
      "text/plain": [
       "q3_5 passed!"
      ]
     },
     "execution_count": 44,
     "metadata": {},
     "output_type": "execute_result"
    }
   ],
   "source": [
    "grader.check(\"q3_5\")"
   ]
  },
  {
   "cell_type": "markdown",
   "metadata": {},
   "source": [
    "**Question 3.6.** Now, compute the average of `code_empirical_props`. You claim that this average is a good estimate of the proportion of Code cells. Store your average in `code_claim_prop`."
   ]
  },
  {
   "cell_type": "code",
   "execution_count": 45,
   "metadata": {},
   "outputs": [
    {
     "data": {
      "text/plain": [
       "0.7105199999999999"
      ]
     },
     "execution_count": 45,
     "metadata": {},
     "output_type": "execute_result"
    }
   ],
   "source": [
    "code_claim_prop = code_empirical_props.mean()\n",
    "code_claim_prop"
   ]
  },
  {
   "cell_type": "code",
   "execution_count": 46,
   "metadata": {
    "deletable": false,
    "editable": false
   },
   "outputs": [
    {
     "data": {
      "text/html": [
       "\n",
       "    <p><strong>q3_6</strong> passed!</p>\n",
       "    "
      ],
      "text/plain": [
       "q3_6 passed!"
      ]
     },
     "execution_count": 46,
     "metadata": {},
     "output_type": "execute_result"
    }
   ],
   "source": [
    "grader.check(\"q3_6\")"
   ]
  },
  {
   "cell_type": "markdown",
   "metadata": {},
   "source": [
    "**Question 3.7.**  How far away is your claim from the true proportion of Code cells? Compute the absolute difference between the two and store it in the variable `error`. Remember that you calculated the true proportion of Code cells in Question 3.1."
   ]
  },
  {
   "cell_type": "code",
   "execution_count": 47,
   "metadata": {},
   "outputs": [
    {
     "data": {
      "text/plain": [
       "0.00048000000000003595"
      ]
     },
     "execution_count": 47,
     "metadata": {},
     "output_type": "execute_result"
    }
   ],
   "source": [
    "error = abs(code_claim_prop - code_true_prop)\n",
    "error"
   ]
  },
  {
   "cell_type": "code",
   "execution_count": 48,
   "metadata": {
    "deletable": false,
    "editable": false
   },
   "outputs": [
    {
     "data": {
      "text/html": [
       "\n",
       "    <p><strong>q3_7</strong> passed!</p>\n",
       "    "
      ],
      "text/plain": [
       "q3_7 passed!"
      ]
     },
     "execution_count": 48,
     "metadata": {},
     "output_type": "execute_result"
    }
   ],
   "source": [
    "grader.check(\"q3_7\")"
   ]
  },
  {
   "cell_type": "markdown",
   "metadata": {},
   "source": [
    "**Question 3.8.** When you ran your simulation 500 times, you got 500 different estimates for the proportion of Code cells. Plot the distribution of these estimates as a histogram."
   ]
  },
  {
   "cell_type": "markdown",
   "metadata": {
    "deletable": false,
    "editable": false
   },
   "source": [
    "<!-- BEGIN QUESTION -->\n",
    "\n",
    "<!--\n",
    "BEGIN QUESTION\n",
    "name: q3_8\n",
    "manual: true\n",
    "-->"
   ]
  },
  {
   "cell_type": "code",
   "execution_count": 49,
   "metadata": {
    "scrolled": true
   },
   "outputs": [
    {
     "data": {
      "text/plain": [
       "<AxesSubplot:ylabel='Frequency'>"
      ]
     },
     "execution_count": 49,
     "metadata": {},
     "output_type": "execute_result"
    },
    {
     "data": {
      "image/png": "[encoded data removed]",
      "text/plain": [
       "<Figure size 432x288 with 1 Axes>"
      ]
     },
     "metadata": {
      "needs_background": "light"
     },
     "output_type": "display_data"
    }
   ],
   "source": [
    "bpd.DataFrame().assign(\n",
    "    Code_Proportions=code_empirical_props\n",
    ").plot(kind='hist')"
   ]
  },
  {
   "cell_type": "markdown",
   "metadata": {},
   "source": [
    "<!-- END QUESTION -->\n",
    "\n",
    "\n",
    "\n",
    "## 4. Powerball\n",
    "\n",
    "You go to the nearest supermarket (or the gas station if you prefer) and buy a Powerball lottery ticket.\n",
    "\n",
    "You pick five different numbers, one at a time, from 1 to 77. Then you separately pick a number from 1 to 33. These are your numbers, for example (59, 12, 85, 20, 3, 25).\n",
    "\n",
    "The winning numbers are chosen by somebody drawing five balls, one at a time, from a collection of white balls numbered 1 to 77. Then they draw a red ball (the powerball) from a collection of red balls numbered 1 to 33.\n",
    "\n",
    "We’ll assume for this problem that in order to win the biggest prize (the jackpot), all your numbers need to match the winning numbers and be in the exact same order. However, you can still win some money if you have some numbers that match the winning numbers and appear in the same position as the corresponding winning number."
   ]
  },
  {
   "cell_type": "markdown",
   "metadata": {},
   "source": [
    "**Question 4.1.** What is the probability that you win the jackpot? Calculate your answer by hand and assign it to `jackpot_chance`. It should be a decimal number between 0 and 1.\n",
    "\n",
    "Hint: Since you are choosing five different numbers for the white balls, the denominator should be decreasing. The probability of getting the first number correct is 1/77, the second is 1/76, and so on..."
   ]
  },
  {
   "cell_type": "code",
   "execution_count": 50,
   "metadata": {},
   "outputs": [
    {
     "data": {
      "text/plain": [
       "1.2781031329894147e-11"
      ]
     },
     "execution_count": 50,
     "metadata": {},
     "output_type": "execute_result"
    }
   ],
   "source": [
    "jackpot_chance = 1/77 * 1/76 * 1/75 * 1/74 * 1/73 * 1/33\n",
    "jackpot_chance"
   ]
  },
  {
   "cell_type": "code",
   "execution_count": 51,
   "metadata": {
    "deletable": false,
    "editable": false
   },
   "outputs": [
    {
     "data": {
      "text/html": [
       "\n",
       "    <p><strong>q4_1</strong> passed!</p>\n",
       "    "
      ],
      "text/plain": [
       "q4_1 passed!"
      ]
     },
     "execution_count": 51,
     "metadata": {},
     "output_type": "execute_result"
    }
   ],
   "source": [
    "grader.check(\"q4_1\")"
   ]
  },
  {
   "cell_type": "markdown",
   "metadata": {},
   "source": [
    "**Question 4.2.** Your chance of winning the jackpot is quite low, but you can still win some money if you have at least one number correct, in the same position as the winning number. What is the probability that you get at least one number correct and win some money? Assign your answer to `non_losing_prob`."
   ]
  },
  {
   "cell_type": "code",
   "execution_count": 52,
   "metadata": {},
   "outputs": [
    {
     "data": {
      "text/plain": [
       "0.0932703659976386"
      ]
     },
     "execution_count": 52,
     "metadata": {},
     "output_type": "execute_result"
    }
   ],
   "source": [
    "non_losing_prob = 1 - (76/77 * 75/76 * 74/75 * 73/74 * 72/73 * 32/33)\n",
    "non_losing_prob"
   ]
  },
  {
   "cell_type": "code",
   "execution_count": 53,
   "metadata": {
    "deletable": false,
    "editable": false
   },
   "outputs": [
    {
     "data": {
      "text/html": [
       "\n",
       "    <p><strong>q4_2</strong> passed!</p>\n",
       "    "
      ],
      "text/plain": [
       "q4_2 passed!"
      ]
     },
     "execution_count": 53,
     "metadata": {},
     "output_type": "execute_result"
    }
   ],
   "source": [
    "grader.check(\"q4_2\")"
   ]
  },
  {
   "cell_type": "markdown",
   "metadata": {},
   "source": [
    "**Question 4.3.** Write a function called `simulate_one_ticket`. It should take no arguments, and it should return an array with 6 random numbers. The first five numbers should all be randomly chosen (without replacement) from between 1 and 77. The last number should be between 1 and 33."
   ]
  },
  {
   "cell_type": "code",
   "execution_count": 54,
   "metadata": {},
   "outputs": [],
   "source": [
    "def simulate_one_ticket():\n",
    "    \"\"\"Simulate one ticket that you buy.\"\"\"\n",
    "    ticket = np.array([])\n",
    "    ticket = np.random.choice(77, 5, replace=False)\n",
    "    ticket = np.append(ticket, np.random.choice(33))\n",
    "    return ticket\n"
   ]
  },
  {
   "cell_type": "code",
   "execution_count": 55,
   "metadata": {
    "deletable": false,
    "editable": false
   },
   "outputs": [
    {
     "data": {
      "text/html": [
       "\n",
       "    <p><strong>q4_3</strong> passed!</p>\n",
       "    "
      ],
      "text/plain": [
       "q4_3 passed!"
      ]
     },
     "execution_count": 55,
     "metadata": {},
     "output_type": "execute_result"
    }
   ],
   "source": [
    "grader.check(\"q4_3\")"
   ]
  },
  {
   "cell_type": "markdown",
   "metadata": {},
   "source": [
    "**Question 4.4.** It's draw day, and you checked the lucky numbers posted, which happened to be (13, 68, 24, 37, 77, 1). Suppose you didn't win the jackpot, and you are quite upset. You want to remind yourself how unlikely it is to win a jackpot. Call the function simulate_one_ticket 100,000 times (this would cost at least $300,000 if you were to buy that many!). How many times did you win the jackpot? Assign your answer to `count_jackpot`.\n",
    "\n",
    "Hint: Try it first with only buying 10 tickets. Once you are sure you have that figured out, change it to 100,000 tickets. It will take a little while (about a minute) for Python to perform the calculations when you are buying 100,000 tickets.\n",
    "\n",
    "Hint 2: You'll have to count how many of the numbers you chose match the numbers that were drawn. One way to do this involves np.count_nonzero()."
   ]
  },
  {
   "cell_type": "code",
   "execution_count": 56,
   "metadata": {},
   "outputs": [
    {
     "data": {
      "text/plain": [
       "0"
      ]
     },
     "execution_count": 56,
     "metadata": {},
     "output_type": "execute_result"
    }
   ],
   "source": [
    "count_jackpot = 0\n",
    "winning = np.array([13, 68, 24, 37, 77, 1])\n",
    "\n",
    "for i in np.arange(100000):\n",
    "    if ( (np.count_nonzero(simulate_one_ticket() == winning) / 6 ) == 1 ):\n",
    "        count_jackpot +=1 \n",
    "        \n",
    "count_jackpot        "
   ]
  },
  {
   "cell_type": "code",
   "execution_count": 57,
   "metadata": {
    "deletable": false,
    "editable": false
   },
   "outputs": [
    {
     "data": {
      "text/html": [
       "\n",
       "    <p><strong>q4_4</strong> passed!</p>\n",
       "    "
      ],
      "text/plain": [
       "q4_4 passed!"
      ]
     },
     "execution_count": 57,
     "metadata": {},
     "output_type": "execute_result"
    }
   ],
   "source": [
    "grader.check(\"q4_4\")"
   ]
  },
  {
   "cell_type": "markdown",
   "metadata": {},
   "source": [
    "**Question 4.5.** Suppose you can win a smaller prize if you match 1-5 numbers on the ticket. Simulate 100,000 tickets and observe what is the greatest prize you can win. In other words, try to find the maximum number of ticket number matches that would give you a prize and assign this to `wins`."
   ]
  },
  {
   "cell_type": "code",
   "execution_count": 58,
   "metadata": {},
   "outputs": [
    {
     "data": {
      "text/plain": [
       "3"
      ]
     },
     "execution_count": 58,
     "metadata": {},
     "output_type": "execute_result"
    }
   ],
   "source": [
    "match_count = np.array([])\n",
    "winning = np.array([13, 68, 24, 37, 77, 1])\n",
    "\n",
    "for i in np.arange(100000):\n",
    "    simulation = simulate_one_ticket()\n",
    "    if (np.count_nonzero(simulation == winning) > 0):\n",
    "        match_count = np.append(match_count, np.count_nonzero(simulation == winning))\n",
    "    \n",
    "wins = int(match_count.max())\n",
    "wins "
   ]
  },
  {
   "cell_type": "code",
   "execution_count": 59,
   "metadata": {
    "deletable": false,
    "editable": false
   },
   "outputs": [
    {
     "data": {
      "text/html": [
       "\n",
       "    <p><strong>q4_5</strong> passed!</p>\n",
       "    "
      ],
      "text/plain": [
       "q4_5 passed!"
      ]
     },
     "execution_count": 59,
     "metadata": {},
     "output_type": "execute_result"
    }
   ],
   "source": [
    "grader.check(\"q4_5\")"
   ]
  },
  {
   "cell_type": "markdown",
   "metadata": {},
   "source": [
    "Suppose one draw costs $3.\n",
    "\n",
    "The ticket is advertised that you will never lose with the following winning scheme:\n",
    "\n",
    "- Win $10 with 1-number match\n",
    "\n",
    "- Win $150 with 2-numbers match\n",
    "\n",
    "- Win $1,500 with 3-numbers match\n",
    "\n",
    "- Win $15,000 with 4-numbers match\n",
    "\n",
    "- Win $150,000 with 5-numbers match\n",
    "\n",
    "- Win $1,500,000 for Jackpot\n",
    "\n",
    "**Question 4.6.** If you had the money to buy 100,000 tickets, how much money are you likely to win? Is it true that you won’t be losing money? Assign the amount to `winning_money`."
   ]
  },
  {
   "cell_type": "code",
   "execution_count": 60,
   "metadata": {},
   "outputs": [
    {
     "data": {
      "text/plain": [
       "121340"
      ]
     },
     "execution_count": 60,
     "metadata": {},
     "output_type": "execute_result"
    }
   ],
   "source": [
    "match_count = np.array([])\n",
    "winning = np.array([13, 68, 24, 37, 77, 1])\n",
    "\n",
    "for i in np.arange(100000):\n",
    "    simulation = simulate_one_ticket()\n",
    "    if (np.count_nonzero(simulation == winning) > 0):\n",
    "        match_count = np.append(match_count, np.count_nonzero(simulation == winning))\n",
    "\n",
    "winning_money = 0\n",
    "\n",
    "for index,match in enumerate(match_count):\n",
    "    if match == 1:\n",
    "        winning_money += 10\n",
    "    elif match == 2:\n",
    "        winning_money += 150   \n",
    "    elif match == 3:\n",
    "        winning_money += 1500\n",
    "    elif match == 4:\n",
    "        winning_money += 15000\n",
    "    elif match == 5:\n",
    "        winning_money += 150000\n",
    "    elif match == 6:\n",
    "        winning_money += 1500000\n",
    "\n",
    "winning_money"
   ]
  },
  {
   "cell_type": "code",
   "execution_count": 61,
   "metadata": {
    "deletable": false,
    "editable": false
   },
   "outputs": [
    {
     "data": {
      "text/html": [
       "\n",
       "    <p><strong>q4_6</strong> passed!</p>\n",
       "    "
      ],
      "text/plain": [
       "q4_6 passed!"
      ]
     },
     "execution_count": 61,
     "metadata": {},
     "output_type": "execute_result"
    }
   ],
   "source": [
    "grader.check(\"q4_6\")"
   ]
  },
  {
   "cell_type": "markdown",
   "metadata": {},
   "source": [
    "# Finish Line"
   ]
  },
  {
   "cell_type": "markdown",
   "metadata": {},
   "source": [
    "To submit your assignment:\n",
    "\n",
    "1. Select `Kernel -> Restart & Run All` to ensure that you have executed all cells, including the test cells.\n",
    "2. Read through the notebook to make sure everything is fine and all tests passed.\n",
    "3. Run the cell below to run all tests, and make sure that they all pass.\n",
    "4. Download your notebook using `File -> Download as -> Notebook (.ipynb)`, then upload your notebook to Gradescope."
   ]
  },
  {
   "cell_type": "code",
   "execution_count": 62,
   "metadata": {
    "scrolled": false
   },
   "outputs": [
    {
     "data": {
      "text/html": [
       "\n",
       "    <p><strong>q1_1</strong> passed!</p>\n",
       "    \n",
       "\n",
       "\n",
       "    <p><strong>q1_2</strong> passed!</p>\n",
       "    \n",
       "\n",
       "\n",
       "    <p><strong>q1_3</strong> passed!</p>\n",
       "    \n",
       "\n",
       "\n",
       "    <p><strong>q1_4</strong> passed!</p>\n",
       "    \n",
       "\n",
       "\n",
       "    <p><strong>q2_2</strong> passed!</p>\n",
       "    \n",
       "\n",
       "\n",
       "    <p><strong>q2_3</strong> passed!</p>\n",
       "    \n",
       "\n",
       "\n",
       "    <p><strong>q2_4</strong> passed!</p>\n",
       "    \n",
       "\n",
       "\n",
       "    <p><strong>q2_5</strong> passed!</p>\n",
       "    \n",
       "\n",
       "\n",
       "    <p><strong>q2_6</strong> passed!</p>\n",
       "    \n",
       "\n",
       "\n",
       "    <p><strong>q2_7</strong> passed!</p>\n",
       "    \n",
       "\n",
       "\n",
       "    <p><strong>q2_8</strong> passed!</p>\n",
       "    \n",
       "\n",
       "\n",
       "    <p><strong>q3_1</strong> passed!</p>\n",
       "    \n",
       "\n",
       "\n",
       "    <p><strong>q3_2</strong> passed!</p>\n",
       "    \n",
       "\n",
       "\n",
       "    <p><strong>q3_3</strong> passed!</p>\n",
       "    \n",
       "\n",
       "\n",
       "    <p><strong>q3_4</strong> passed!</p>\n",
       "    \n",
       "\n",
       "\n",
       "    <p><strong>q3_5</strong> passed!</p>\n",
       "    \n",
       "\n",
       "\n",
       "    <p><strong>q3_6</strong> passed!</p>\n",
       "    \n",
       "\n",
       "\n",
       "    <p><strong>q3_7</strong> passed!</p>\n",
       "    \n",
       "\n",
       "\n",
       "    <p><strong>q4_1</strong> passed!</p>\n",
       "    \n",
       "\n",
       "\n",
       "    <p><strong>q4_2</strong> passed!</p>\n",
       "    \n",
       "\n",
       "\n",
       "    <p><strong>q4_3</strong> passed!</p>\n",
       "    \n",
       "\n",
       "\n",
       "    <p><strong>q4_4</strong> passed!</p>\n",
       "    \n",
       "\n",
       "\n",
       "    <p><strong>q4_5</strong> passed!</p>\n",
       "    \n",
       "\n",
       "\n",
       "    <p><strong>q4_6</strong> passed!</p>\n",
       "    \n",
       "\n"
      ],
      "text/plain": [
       "q1_1 passed!\n",
       "\n",
       "q1_2 passed!\n",
       "\n",
       "q1_3 passed!\n",
       "\n",
       "q1_4 passed!\n",
       "\n",
       "q2_2 passed!\n",
       "\n",
       "q2_3 passed!\n",
       "\n",
       "q2_4 passed!\n",
       "\n",
       "q2_5 passed!\n",
       "\n",
       "q2_6 passed!\n",
       "\n",
       "q2_7 passed!\n",
       "\n",
       "q2_8 passed!\n",
       "\n",
       "q3_1 passed!\n",
       "\n",
       "q3_2 passed!\n",
       "\n",
       "q3_3 passed!\n",
       "\n",
       "q3_4 passed!\n",
       "\n",
       "q3_5 passed!\n",
       "\n",
       "q3_6 passed!\n",
       "\n",
       "q3_7 passed!\n",
       "\n",
       "q4_1 passed!\n",
       "\n",
       "q4_2 passed!\n",
       "\n",
       "q4_3 passed!\n",
       "\n",
       "q4_4 passed!\n",
       "\n",
       "q4_5 passed!\n",
       "\n",
       "q4_6 passed!\n"
      ]
     },
     "execution_count": 62,
     "metadata": {},
     "output_type": "execute_result"
    }
   ],
   "source": [
    "grader.check_all()"
   ]
  }
 ],
 "metadata": {
  "kernelspec": {
   "display_name": "Python 3",
   "language": "python",
   "name": "python3"
  },
  "language_info": {
   "codemirror_mode": {
    "name": "ipython",
    "version": 3
   },
   "file_extension": ".py",
   "mimetype": "text/x-python",
   "name": "python",
   "nbconvert_exporter": "python",
   "pygments_lexer": "ipython3",
   "version": "3.8.6"
  },
  "metadata": {
   "interpreter": {
    "hash": "d14bf01c5751beb52eb588f7824a6fade61c9bc8f053bb69c402d424df45244a"
   }
  }
 },
 "nbformat": 4,
 "nbformat_minor": 1
}
