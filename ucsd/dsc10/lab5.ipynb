{
 "cells": [
  {
   "cell_type": "markdown",
   "metadata": {},
   "source": [
    "# Lab 5: Hypothesis Testing\n",
    "\n",
    "Welcome to Lab 5! In this lab we will learn about Hypothesis Testing and go through a couple of examples. More information about Hypothesis Testing can be found in the [textbook](https://eldridgejm.github.io/dive_into_data_science/front.html). This lab is due on **Tuesday, 5/11 at 11:59pm.**"
   ]
  },
  {
   "cell_type": "code",
   "execution_count": 1,
   "metadata": {},
   "outputs": [],
   "source": [
    "import numpy as np\n",
    "import babypandas as bpd\n",
    "import math\n",
    "\n",
    "# These lines set up graphing capabilities.\n",
    "import matplotlib\n",
    "import matplotlib.pyplot as plt\n",
    "plt.style.use('fivethirtyeight')\n",
    "%matplotlib inline\n",
    "\n",
    "import otter\n",
    "grader = otter.Notebook()"
   ]
  },
  {
   "cell_type": "markdown",
   "metadata": {},
   "source": [
    "## 1: Hypothesis Techniques and Examining the Therapeutic Touch\n",
    "\n",
    "In this section, we'll use hypothesis testing techniques that were introduced in lecture to test the idea of the therapeutic touch, the idea that some practictioners can feel and massage your human energy field. "
   ]
  },
  {
   "cell_type": "markdown",
   "metadata": {},
   "source": [
    "### What is Therapeutic Touch?\n",
    "\n",
    "Therapeutic Touch (TT) is an energy therapy that practitioners claim can promote health and relaxation. Practitioners place their hands near a patient and say they are able to detect and manipulate the patient's so-called Human Energy Field (HEF). \n",
    "TT was popular throughout the 20th century and was toted as a great way to bring balance to a person's health. \n",
    "\n",
    "### Emily Rosa\n",
    "\n",
    "Emily Rosa was a 4th grade student who had wide exposure to the world of TT due to her parents, who were both medical practitioners and skeptics of the idea of TT. \n",
    "\n",
    "For her 4th grade science fair project, Emily decided to test whether or not TT practitioners could truly interact with a person's HEF. "
   ]
  },
  {
   "cell_type": "markdown",
   "metadata": {},
   "source": [
    "### Emily's Experiment\n",
    "\n",
    "Emily's experiment was clean, simple, and effective. Due to her parents' occupations in the medical field, she had wide access to people who claimed to be TT practitioners. \n",
    "\n",
    "Emily took 21 TT practitioners and used them for her science experiment. She would take a TT practitioner and let them examine her hands to determine which had the stronger energy field. Then she had extend their hands through a screen so they could not see her. On the other side of the screen, Emily would flip a coin. Depending on how the coin landed, she would put out either her left hand or her right hand. The TT practitioner would then have to correctly answer which hand Emily put out. Overall, in 210 samples, the practitioner picked the correct hand 44% of the time. \n",
    "\n",
    "Emily's main goal here was to test whether or not the TT practicioners' guesses were random, like the flip of a coin. In most medical experiments, this is the norm. We want to test whether or not the treatment has an effect, *not* whether or not the treatment actually works. \n",
    "\n",
    "We will now begin to formulate this experiment in terms of the terminology we learned in this course. "
   ]
  },
  {
   "cell_type": "markdown",
   "metadata": {},
   "source": [
    "**Question 1**: What are the null and alternative hypotheses for Emily's experiment? "
   ]
  },
  {
   "cell_type": "markdown",
   "metadata": {
    "for_assignment_type": "student"
   },
   "source": [
    "**Your Answer Here:**\n",
    "\n",
    "Null Hypothesis: \n",
    "\n",
    "Alternative Hypothesis: "
   ]
  },
  {
   "cell_type": "markdown",
   "metadata": {},
   "source": [
    "***Null hypothesis would indicate that Emily's experiment is true and that 44% is wholly due to random chance.***\n",
    "\n",
    "***Alternative hypothesis would indicate that Emily'e experiment is false and that there is some other reason.***"
   ]
  },
  {
   "cell_type": "markdown",
   "metadata": {},
   "source": [
    "**Question 2:** Remember that the practitioner got the correct answer 44% of the time. According to the null hypothesis, on average, what proportion of times do we expect the practitioner to guess the correct hand? Make sure your answer is between 0 and 1. "
   ]
  },
  {
   "cell_type": "code",
   "execution_count": 2,
   "metadata": {},
   "outputs": [
    {
     "data": {
      "text/plain": [
       "0.5"
      ]
     },
     "execution_count": 2,
     "metadata": {},
     "output_type": "execute_result"
    }
   ],
   "source": [
    "expected_correct = .5\n",
    "expected_correct"
   ]
  },
  {
   "cell_type": "code",
   "execution_count": 3,
   "metadata": {
    "deletable": false,
    "editable": false
   },
   "outputs": [
    {
     "data": {
      "text/html": [
       "\n",
       "    <p><strong>q12</strong> passed!</p>\n",
       "    "
      ],
      "text/plain": [
       "q12 passed!"
      ]
     },
     "execution_count": 3,
     "metadata": {},
     "output_type": "execute_result"
    }
   ],
   "source": [
    "grader.check(\"q12\")"
   ]
  },
  {
   "cell_type": "markdown",
   "metadata": {},
   "source": [
    "The goal now is to see if our deviation from this expected proportion of correct answers is due to something other than chance. \n",
    "\n",
    "**Question 3:** Which of the following is the best statistic for testing this model? Assign `best_ts` to 1, 2, or 3.\n",
    "\n",
    "1. The difference of the expected percent correct and the actual percent correct\n",
    "2. The absolute difference of the expected percent correct and the actual percent correct\n",
    "3. The sum of the expected percent correct and the actual percent correct"
   ]
  },
  {
   "cell_type": "code",
   "execution_count": 4,
   "metadata": {},
   "outputs": [
    {
     "data": {
      "text/plain": [
       "2"
      ]
     },
     "execution_count": 4,
     "metadata": {},
     "output_type": "execute_result"
    }
   ],
   "source": [
    "best_ts = 2\n",
    "best_ts"
   ]
  },
  {
   "cell_type": "code",
   "execution_count": 5,
   "metadata": {
    "deletable": false,
    "editable": false
   },
   "outputs": [
    {
     "data": {
      "text/html": [
       "\n",
       "    <p><strong>q13</strong> passed!</p>\n",
       "    "
      ],
      "text/plain": [
       "q13 passed!"
      ]
     },
     "execution_count": 5,
     "metadata": {},
     "output_type": "execute_result"
    }
   ],
   "source": [
    "grader.check(\"q13\")"
   ]
  },
  {
   "cell_type": "markdown",
   "metadata": {},
   "source": [
    "**Question 4:** Define the function `test_statistic` which takes in an expected proportion and an actual proportion, and returns the value of the test statistic chosen above. Assume that you are taking in proportions between 0 and 1, but you want to return your answer as a percentage between 0 and 100. \n",
    "\n",
    "*Hint:* Remember we are asking for a **percentage** between 0 and 100, not a proportion between 0 and 1. "
   ]
  },
  {
   "cell_type": "code",
   "execution_count": 6,
   "metadata": {},
   "outputs": [],
   "source": [
    "def test_statistic(expected_prop, actual_prop):\n",
    "    expected_perc = expected_prop * 100\n",
    "    actual_perc = actual_prop * 100 \n",
    "    return abs(expected_perc - actual_perc)"
   ]
  },
  {
   "cell_type": "code",
   "execution_count": 7,
   "metadata": {
    "deletable": false,
    "editable": false
   },
   "outputs": [
    {
     "data": {
      "text/html": [
       "\n",
       "    <p><strong>q14</strong> passed!</p>\n",
       "    "
      ],
      "text/plain": [
       "q14 passed!"
      ]
     },
     "execution_count": 7,
     "metadata": {},
     "output_type": "execute_result"
    }
   ],
   "source": [
    "grader.check(\"q14\")"
   ]
  },
  {
   "cell_type": "markdown",
   "metadata": {},
   "source": [
    "**Question 5:** Use your newly defined function to calculate the observed test statistic from Emily's experiment. "
   ]
  },
  {
   "cell_type": "code",
   "execution_count": 8,
   "metadata": {},
   "outputs": [
    {
     "data": {
      "text/plain": [
       "6.0"
      ]
     },
     "execution_count": 8,
     "metadata": {},
     "output_type": "execute_result"
    }
   ],
   "source": [
    "observed_test_statistic = test_statistic(expected_correct, 0.44)\n",
    "observed_test_statistic"
   ]
  },
  {
   "cell_type": "code",
   "execution_count": 9,
   "metadata": {
    "deletable": false,
    "editable": false
   },
   "outputs": [
    {
     "data": {
      "text/html": [
       "\n",
       "    <p><strong>q15</strong> passed!</p>\n",
       "    "
      ],
      "text/plain": [
       "q15 passed!"
      ]
     },
     "execution_count": 9,
     "metadata": {},
     "output_type": "execute_result"
    }
   ],
   "source": [
    "grader.check(\"q15\")"
   ]
  },
  {
   "cell_type": "markdown",
   "metadata": {},
   "source": [
    "**Is this test statistic likely if the null hypothesis was true? Or is the deviation from the expected proportion due to something other than chance?**\n",
    "\n",
    "In order to answer this question, we must simulate the experiment as though the null hypothesis was true, and calculate the test statistic per each simulation.\n",
    "\n",
    "**Question 6:** To begin simulating, we should start by creating an array which has two items in it. The first item should be the proportion of times, assuming the null model is true, a TT practictioner picks the correct hand. The second item should be the proportion of times, under the same assumption, that the TT practicioner picks the incorrect hand. Assign `model_proportions` to this array. After this, simulate, using the `np.random.multinomial` function, Emily running through this experiment 210 times (as done in real life), and assign the proportion of correct answers to `simulation_proportion`. Lastly, define `one_test_statistic` to the test statistic of this one simulation. \n",
    "\n",
    "*Hint:* `np.random.multinomial` usage can be found here: [here](https://numpy.org/doc/stable/reference/random/generated/numpy.random.multinomial.html)"
   ]
  },
  {
   "cell_type": "code",
   "execution_count": 10,
   "metadata": {},
   "outputs": [
    {
     "data": {
      "text/plain": [
       "10.0"
      ]
     },
     "execution_count": 10,
     "metadata": {},
     "output_type": "execute_result"
    }
   ],
   "source": [
    "possible_choices = [.44,.56]\n",
    "model_proportions = [.5,.5]\n",
    "simulation_proportion = np.random.multinomial(210, possible_choices)\n",
    "simulation_proportion = simulation_proportion[0] / 210\n",
    "one_test_statistic = test_statistic(.5, simulation_proportion)\n",
    "one_test_statistic"
   ]
  },
  {
   "cell_type": "code",
   "execution_count": 11,
   "metadata": {
    "deletable": false,
    "editable": false
   },
   "outputs": [
    {
     "data": {
      "text/html": [
       "\n",
       "    <p><strong>q16</strong> passed!</p>\n",
       "    "
      ],
      "text/plain": [
       "q16 passed!"
      ]
     },
     "execution_count": 11,
     "metadata": {},
     "output_type": "execute_result"
    }
   ],
   "source": [
    "grader.check(\"q16\")"
   ]
  },
  {
   "cell_type": "markdown",
   "metadata": {},
   "source": [
    "**Question 7:** Let's now see what the distribution of test statistics is actually like under our fully specified model. Assign `simulated_test_statistics` to an array of 1000 test statistics that you simulated assuming the null hypothesis is true. \n",
    "\n",
    "*Hint:* This should follow the same pattern as normal simulations, in combination with the code you did in the previous problem.  "
   ]
  },
  {
   "cell_type": "code",
   "execution_count": 12,
   "metadata": {
    "for_assignment_type": "student",
    "scrolled": true
   },
   "outputs": [
    {
     "data": {
      "text/plain": [
       "array([ 9.04761905,  8.0952381 ,  9.52380952,  9.52380952,  8.57142857,\n",
       "        0.95238095,  7.14285714, 11.9047619 ,  9.52380952, 10.95238095,\n",
       "        1.42857143, 13.33333333,  1.42857143,  1.42857143,  5.23809524,\n",
       "       11.42857143,  5.71428571,  2.85714286,  1.42857143,  0.47619048,\n",
       "        7.61904762,  4.28571429,  4.28571429,  7.61904762, 10.95238095,\n",
       "        8.57142857,  2.38095238,  6.19047619,  6.19047619,  5.23809524,\n",
       "        8.57142857,  6.66666667,  2.38095238,  6.19047619,  7.61904762,\n",
       "        7.61904762,  4.28571429,  1.9047619 ,  4.28571429,  1.9047619 ,\n",
       "       11.9047619 ,  7.14285714,  3.33333333,  0.47619048,  8.57142857,\n",
       "        4.76190476,  9.52380952,  0.95238095,  5.71428571, 11.42857143,\n",
       "       10.47619048,  6.19047619,  4.76190476, 10.        , 10.        ,\n",
       "        4.76190476,  3.33333333, 13.80952381,  4.76190476,  4.28571429,\n",
       "       10.        ,  5.23809524,  6.19047619, 13.33333333, 13.80952381,\n",
       "        3.80952381,  7.61904762,  7.14285714,  3.33333333, 10.47619048,\n",
       "        6.19047619, 11.9047619 ,  5.23809524, 13.33333333,  1.42857143,\n",
       "        7.61904762, 10.47619048,  5.23809524,  9.04761905,  5.71428571,\n",
       "       10.        , 10.        ,  5.71428571,  1.9047619 ,  5.23809524,\n",
       "       15.71428571,  3.33333333,  7.14285714,  2.38095238,  0.95238095,\n",
       "        4.28571429,  2.85714286,  5.23809524,  7.14285714, 11.42857143,\n",
       "       12.85714286,  0.47619048,  5.71428571,  4.76190476,  8.0952381 ,\n",
       "        7.61904762,  6.19047619,  6.66666667,  5.23809524, 10.        ,\n",
       "        7.61904762,  3.80952381,  9.52380952,  3.80952381,  7.61904762,\n",
       "        9.52380952,  1.42857143,  8.0952381 ,  5.71428571,  5.23809524,\n",
       "        1.42857143,  6.66666667,  9.04761905, 13.33333333, 10.47619048,\n",
       "       13.33333333,  1.9047619 ,  3.80952381,  8.57142857,  7.61904762,\n",
       "        5.23809524, 15.71428571, 10.        ,  7.61904762,  2.85714286,\n",
       "        1.9047619 ,  2.85714286,  5.23809524, 11.42857143,  1.42857143,\n",
       "       10.47619048, 10.        , 10.95238095,  7.61904762,  6.66666667,\n",
       "        6.66666667,  0.47619048, 13.80952381,  5.71428571,  4.28571429,\n",
       "        9.04761905,  9.04761905,  6.66666667,  5.71428571,  1.42857143,\n",
       "        8.0952381 ,  1.42857143,  8.0952381 ,  3.80952381,  6.19047619,\n",
       "        2.85714286,  7.61904762,  6.19047619,  4.28571429, 14.28571429,\n",
       "        5.23809524,  9.04761905,  5.71428571,  5.71428571,  3.33333333,\n",
       "        2.38095238,  6.66666667,  2.38095238, 10.        ,  6.66666667,\n",
       "        4.76190476,  3.33333333,  3.80952381,  3.33333333,  4.76190476,\n",
       "        0.95238095,  4.28571429,  8.57142857,  5.23809524,  7.61904762,\n",
       "        6.66666667,  4.76190476,  9.04761905,  3.33333333,  6.19047619,\n",
       "       10.95238095, 13.80952381,  2.85714286,  4.28571429, 15.23809524,\n",
       "       10.        ,  3.33333333,  9.52380952, 13.33333333,  7.14285714,\n",
       "       10.47619048,  6.66666667,  6.19047619,  6.19047619,  4.28571429,\n",
       "        2.85714286,  0.95238095,  4.76190476,  3.80952381,  6.19047619,\n",
       "       11.42857143,  7.61904762,  5.23809524,  6.66666667,  6.66666667,\n",
       "        4.76190476, 12.85714286, 13.33333333,  6.66666667,  5.71428571,\n",
       "        6.66666667,  0.95238095,  8.0952381 ,  7.61904762,  2.85714286,\n",
       "        0.        , 11.9047619 , 14.28571429,  5.23809524,  6.19047619,\n",
       "       10.47619048,  5.23809524, 11.9047619 ,  6.19047619,  2.85714286,\n",
       "        4.28571429, 10.        ,  8.57142857,  8.57142857, 10.47619048,\n",
       "        5.23809524,  7.61904762,  7.14285714,  0.95238095,  6.19047619,\n",
       "       10.        , 14.76190476,  3.33333333,  8.57142857,  2.85714286,\n",
       "        3.33333333,  1.9047619 ,  7.61904762,  5.23809524,  6.66666667,\n",
       "        4.28571429, 10.        ,  5.71428571,  2.38095238, 10.47619048,\n",
       "        5.23809524,  7.61904762, 12.38095238, 11.9047619 ,  6.19047619,\n",
       "        6.19047619, 10.47619048,  1.42857143,  3.80952381,  4.76190476,\n",
       "        4.28571429,  4.76190476,  9.52380952,  5.71428571,  6.19047619,\n",
       "        1.9047619 ,  9.04761905,  0.95238095,  7.61904762,  2.85714286,\n",
       "        0.47619048, 10.95238095,  8.0952381 ,  2.38095238,  8.0952381 ,\n",
       "        7.61904762,  4.76190476,  4.76190476,  2.85714286,  2.38095238,\n",
       "        4.76190476,  5.71428571,  9.52380952,  8.57142857,  4.76190476,\n",
       "        2.38095238,  4.28571429,  3.80952381,  6.66666667,  3.80952381,\n",
       "        6.19047619,  0.95238095,  2.85714286,  7.14285714,  4.28571429,\n",
       "        0.95238095, 12.85714286,  4.76190476,  3.80952381,  2.85714286,\n",
       "        6.19047619,  7.14285714,  8.57142857,  8.57142857,  6.19047619,\n",
       "        6.19047619, 10.47619048,  5.23809524,  5.23809524,  1.9047619 ,\n",
       "        8.57142857,  6.66666667,  0.47619048,  7.61904762, 10.95238095,\n",
       "        0.95238095,  6.66666667,  2.38095238,  7.14285714,  4.76190476,\n",
       "        3.33333333,  3.80952381,  5.71428571,  4.76190476,  5.23809524,\n",
       "        3.80952381,  8.57142857,  7.61904762,  7.14285714,  3.80952381,\n",
       "        7.61904762,  2.85714286,  2.85714286,  7.14285714,  5.23809524,\n",
       "       11.42857143,  4.76190476, 10.        ,  7.14285714, 10.95238095,\n",
       "       10.47619048,  4.28571429, 10.        ,  4.76190476,  8.0952381 ,\n",
       "        8.0952381 ,  3.80952381,  6.66666667,  2.85714286,  6.66666667,\n",
       "        8.0952381 ,  3.80952381,  8.0952381 ,  5.71428571,  8.57142857,\n",
       "        9.52380952,  2.85714286,  1.9047619 ,  2.38095238,  8.57142857,\n",
       "        0.47619048,  0.47619048,  4.76190476,  9.52380952,  2.38095238,\n",
       "        6.66666667,  3.80952381,  8.0952381 ,  5.23809524,  6.66666667,\n",
       "        2.38095238,  2.38095238,  4.28571429,  3.33333333, 10.        ,\n",
       "        0.95238095,  5.71428571, 13.33333333,  7.14285714,  1.9047619 ,\n",
       "        6.66666667,  1.9047619 ,  1.42857143, 14.76190476, 12.38095238,\n",
       "        6.19047619,  9.04761905,  0.47619048,  6.66666667,  3.33333333,\n",
       "       11.9047619 ,  3.80952381,  9.04761905,  7.14285714,  4.28571429,\n",
       "        7.14285714,  9.52380952,  5.71428571,  5.23809524,  4.76190476,\n",
       "        0.95238095,  8.57142857,  0.47619048,  4.76190476,  5.71428571,\n",
       "        0.95238095, 10.        ,  5.71428571,  5.23809524,  3.33333333,\n",
       "        9.52380952,  2.38095238,  4.76190476,  8.57142857,  2.38095238,\n",
       "        1.42857143,  8.57142857,  0.        ,  4.76190476,  5.71428571,\n",
       "        5.71428571,  7.61904762,  0.47619048, 12.85714286, 10.47619048,\n",
       "       10.95238095,  0.95238095,  6.66666667,  3.80952381,  6.66666667,\n",
       "        7.14285714,  5.23809524,  0.95238095,  3.33333333,  8.0952381 ,\n",
       "        9.04761905,  3.80952381, 11.42857143,  0.47619048, 10.95238095,\n",
       "        6.66666667,  3.80952381, 10.47619048,  7.61904762,  8.0952381 ,\n",
       "        7.14285714,  8.0952381 ,  6.66666667, 13.33333333,  9.52380952,\n",
       "        1.9047619 ,  4.76190476,  7.14285714,  8.0952381 ,  3.33333333,\n",
       "        6.66666667,  8.57142857,  2.85714286,  7.14285714, 10.95238095,\n",
       "        9.04761905,  2.38095238,  1.42857143,  8.57142857, 14.28571429,\n",
       "        4.76190476,  1.9047619 ,  2.38095238,  5.71428571,  8.57142857,\n",
       "       12.38095238,  0.47619048,  1.9047619 ,  1.9047619 ,  6.19047619,\n",
       "        7.61904762,  9.04761905,  5.23809524,  3.33333333,  7.61904762,\n",
       "        5.71428571,  5.23809524,  6.19047619,  4.76190476,  9.52380952,\n",
       "        6.19047619,  7.14285714,  4.28571429,  6.19047619, 10.47619048,\n",
       "        4.28571429,  6.19047619,  4.76190476,  5.71428571,  8.57142857,\n",
       "        4.28571429,  6.66666667, 12.85714286,  8.57142857,  4.76190476,\n",
       "        4.28571429,  3.33333333,  3.80952381,  9.04761905,  3.80952381,\n",
       "        4.76190476,  6.66666667,  3.33333333,  4.28571429,  6.19047619,\n",
       "       10.        ,  5.23809524,  3.33333333,  6.19047619,  7.14285714,\n",
       "        9.52380952,  4.76190476, 10.95238095,  8.0952381 ,  2.38095238,\n",
       "        6.19047619,  4.76190476,  5.23809524,  3.80952381,  3.80952381,\n",
       "        3.80952381,  6.66666667, 10.        , 10.        ,  7.61904762,\n",
       "        9.52380952,  6.19047619,  2.85714286,  6.19047619,  7.14285714,\n",
       "        5.71428571,  5.71428571,  4.28571429,  0.47619048,  5.71428571,\n",
       "        4.76190476,  9.04761905,  4.76190476,  7.14285714,  5.71428571,\n",
       "        3.33333333,  3.33333333,  7.61904762, 10.        ,  4.76190476,\n",
       "        1.42857143, 10.        , 10.        , 12.38095238,  1.42857143,\n",
       "        5.23809524,  5.23809524,  7.14285714, 11.9047619 ,  2.85714286,\n",
       "        0.95238095,  3.80952381,  4.28571429, 11.9047619 , 12.85714286,\n",
       "        8.0952381 ,  3.33333333,  2.85714286,  8.0952381 ,  7.61904762,\n",
       "        7.14285714,  4.28571429,  9.52380952, 10.47619048, 10.47619048,\n",
       "        7.14285714,  4.76190476,  8.0952381 ,  6.19047619,  0.47619048,\n",
       "        7.61904762,  3.33333333,  4.28571429, 10.        ,  9.52380952,\n",
       "        8.0952381 ,  2.38095238,  9.52380952, 12.38095238, 11.9047619 ,\n",
       "       10.95238095,  6.66666667,  2.38095238,  4.76190476,  6.66666667,\n",
       "        2.85714286,  8.57142857,  3.33333333,  3.33333333,  6.19047619,\n",
       "        6.66666667, 10.95238095,  4.28571429,  5.23809524,  5.23809524,\n",
       "        6.66666667,  9.52380952,  0.95238095,  9.52380952,  8.0952381 ,\n",
       "        4.76190476, 12.38095238,  7.14285714,  4.28571429,  4.28571429,\n",
       "        7.14285714,  4.76190476, 10.        ,  3.80952381,  9.04761905,\n",
       "       10.95238095,  5.23809524,  5.71428571, 12.38095238,  4.28571429,\n",
       "        9.04761905,  4.76190476,  7.14285714,  7.61904762, 13.80952381,\n",
       "       13.33333333,  9.04761905,  5.71428571,  9.04761905,  5.23809524,\n",
       "        7.61904762,  8.57142857,  7.61904762,  4.76190476,  7.61904762,\n",
       "       10.95238095, 10.        ,  6.19047619,  0.95238095,  3.80952381,\n",
       "        7.14285714,  8.57142857,  4.28571429,  2.85714286, 10.47619048,\n",
       "        6.19047619,  6.19047619,  0.95238095,  0.95238095,  1.42857143,\n",
       "        6.19047619, 10.        ,  9.52380952,  4.76190476, 12.85714286,\n",
       "        6.66666667,  4.76190476,  7.61904762,  4.76190476,  0.95238095,\n",
       "        7.14285714,  2.85714286,  2.38095238,  7.61904762,  5.23809524,\n",
       "        2.85714286,  4.28571429,  4.76190476,  6.19047619,  5.23809524,\n",
       "        1.42857143,  0.47619048,  4.28571429,  6.19047619,  2.38095238,\n",
       "        7.14285714, 11.9047619 ,  6.66666667,  3.80952381,  5.71428571,\n",
       "       12.85714286,  2.38095238,  5.71428571,  7.14285714,  6.19047619,\n",
       "        5.71428571,  1.42857143,  9.04761905,  8.57142857,  6.19047619,\n",
       "        2.38095238,  8.57142857,  2.85714286,  0.47619048,  8.0952381 ,\n",
       "        7.14285714,  3.33333333,  8.0952381 , 10.95238095,  8.57142857,\n",
       "        4.76190476,  6.66666667, 10.95238095, 12.38095238,  4.28571429,\n",
       "        2.85714286, 11.42857143, 10.47619048,  0.95238095,  4.76190476,\n",
       "        4.28571429,  5.23809524,  6.19047619,  1.9047619 ,  4.28571429,\n",
       "       10.        ,  9.04761905,  5.23809524,  2.85714286,  6.19047619,\n",
       "       10.47619048,  6.66666667,  1.42857143,  2.85714286,  6.19047619,\n",
       "       10.47619048,  2.38095238,  7.14285714, 12.38095238,  7.14285714,\n",
       "        2.85714286,  6.66666667,  8.0952381 ,  1.9047619 , 10.47619048,\n",
       "       10.47619048,  4.28571429,  6.66666667,  7.14285714,  6.19047619,\n",
       "        4.28571429,  9.04761905,  0.        ,  2.85714286,  9.52380952,\n",
       "        6.19047619,  5.71428571,  2.85714286,  6.19047619, 10.        ,\n",
       "        9.04761905,  3.80952381, 13.80952381,  6.19047619,  3.33333333,\n",
       "        2.38095238,  9.04761905,  2.85714286,  5.23809524,  2.85714286,\n",
       "        8.57142857,  6.19047619, 12.38095238, 10.47619048,  9.04761905,\n",
       "        8.57142857,  8.0952381 ,  7.61904762, 13.33333333,  0.        ,\n",
       "        2.85714286,  2.38095238,  6.66666667, 15.23809524, 13.80952381,\n",
       "        0.95238095,  2.38095238,  0.47619048, 10.        ,  6.19047619,\n",
       "        5.71428571,  1.9047619 ,  0.47619048,  6.66666667,  0.47619048,\n",
       "        4.76190476,  6.19047619,  6.66666667, 13.33333333,  0.95238095,\n",
       "        3.80952381,  3.80952381, 11.9047619 ,  4.76190476,  1.9047619 ,\n",
       "        2.38095238,  7.14285714, 15.23809524,  7.14285714,  3.80952381,\n",
       "        6.66666667,  5.23809524, 10.        ,  8.57142857,  3.80952381,\n",
       "        7.61904762,  9.04761905,  7.14285714,  6.66666667,  8.57142857,\n",
       "        9.52380952,  6.19047619,  6.19047619,  9.52380952,  4.76190476,\n",
       "        2.38095238, 10.95238095,  6.66666667,  6.66666667,  4.76190476,\n",
       "       10.47619048,  8.57142857,  9.52380952,  5.71428571,  8.57142857,\n",
       "        0.        ,  9.52380952,  7.14285714, 13.33333333,  9.52380952,\n",
       "        1.9047619 , 10.95238095,  9.04761905,  1.42857143,  6.19047619,\n",
       "        8.57142857,  5.23809524,  5.71428571,  6.19047619,  2.38095238,\n",
       "        4.28571429,  0.95238095,  7.14285714,  8.57142857,  4.76190476,\n",
       "        6.19047619,  8.57142857,  8.57142857,  9.52380952,  7.14285714,\n",
       "        3.80952381,  4.28571429,  1.42857143,  5.23809524,  5.71428571,\n",
       "        8.57142857,  6.66666667, 11.9047619 ,  5.71428571,  0.95238095,\n",
       "        1.42857143,  4.28571429,  4.76190476,  0.47619048,  4.76190476,\n",
       "        9.52380952,  0.95238095,  8.57142857,  2.85714286,  0.47619048,\n",
       "        1.9047619 ,  8.0952381 ,  4.76190476,  5.23809524,  5.23809524,\n",
       "        7.14285714,  1.9047619 , 15.71428571,  5.23809524,  3.80952381,\n",
       "        5.23809524,  8.0952381 ,  2.85714286, 15.23809524,  1.42857143,\n",
       "        2.38095238, 11.9047619 ,  6.66666667,  8.0952381 ,  9.52380952,\n",
       "        7.14285714,  7.61904762,  4.28571429,  7.61904762,  8.57142857,\n",
       "        9.52380952,  9.52380952,  6.66666667,  7.14285714,  7.61904762,\n",
       "        8.57142857,  2.38095238,  5.23809524,  9.52380952,  7.61904762,\n",
       "        6.19047619, 10.47619048, 11.9047619 ,  1.9047619 ,  4.28571429,\n",
       "       12.85714286,  7.61904762,  6.19047619,  7.14285714, 16.66666667,\n",
       "        6.19047619,  5.71428571,  6.19047619,  3.33333333,  5.71428571,\n",
       "        4.76190476,  5.71428571,  2.85714286,  2.38095238,  8.0952381 ,\n",
       "        9.04761905,  5.23809524,  0.95238095,  3.33333333,  3.80952381,\n",
       "       11.9047619 , 10.95238095,  4.76190476,  7.61904762, 15.71428571,\n",
       "       10.47619048,  7.14285714,  6.19047619,  3.33333333, 10.        ,\n",
       "        2.85714286,  5.23809524,  0.47619048,  2.85714286, 10.47619048,\n",
       "        1.9047619 ,  9.52380952, 10.        ,  6.19047619,  2.85714286,\n",
       "       10.95238095,  6.19047619, 10.95238095,  2.38095238, 13.33333333,\n",
       "        4.76190476,  2.85714286,  5.23809524, 10.        ,  1.9047619 ,\n",
       "        4.76190476,  2.38095238,  6.66666667,  2.38095238,  5.23809524,\n",
       "        4.76190476, 12.38095238,  0.47619048,  4.28571429,  5.71428571,\n",
       "       11.9047619 ,  0.        ,  6.19047619,  7.61904762,  7.14285714,\n",
       "        7.14285714,  1.42857143,  1.42857143,  0.95238095,  9.52380952,\n",
       "        4.28571429,  5.71428571,  9.52380952,  9.04761905,  8.57142857,\n",
       "        3.80952381,  6.66666667,  1.9047619 ,  7.61904762,  3.80952381])"
      ]
     },
     "execution_count": 12,
     "metadata": {},
     "output_type": "execute_result"
    }
   ],
   "source": [
    "num_repetitions = 1000\n",
    "num_guesses = 1000 * 210\n",
    "simulated_test_statistics = np.array([])\n",
    "\n",
    "for i in np.arange(num_repetitions):\n",
    "    simulation_proportion = np.random.multinomial(210, possible_choices)\n",
    "    simulation_proportion = simulation_proportion[0] / 210\n",
    "    one_test_statistic = test_statistic(.5, simulation_proportion)\n",
    "    simulated_test_statistics = np.append(simulated_test_statistics, one_test_statistic)\n",
    "    \n",
    "simulated_test_statistics    "
   ]
  },
  {
   "cell_type": "code",
   "execution_count": 13,
   "metadata": {
    "deletable": false,
    "editable": false
   },
   "outputs": [
    {
     "data": {
      "text/html": [
       "\n",
       "    <p><strong>q17</strong> passed!</p>\n",
       "    "
      ],
      "text/plain": [
       "q17 passed!"
      ]
     },
     "execution_count": 13,
     "metadata": {},
     "output_type": "execute_result"
    }
   ],
   "source": [
    "grader.check(\"q17\")"
   ]
  },
  {
   "cell_type": "markdown",
   "metadata": {},
   "source": [
    "Let's view the distribution of the simulated test statistics under the null, and visually compare how the observed test statistic lies against the rest. "
   ]
  },
  {
   "cell_type": "code",
   "execution_count": 14,
   "metadata": {},
   "outputs": [
    {
     "data": {
      "text/plain": [
       "<AxesSubplot:ylabel='Frequency'>"
      ]
     },
     "execution_count": 14,
     "metadata": {},
     "output_type": "execute_result"
    },
    {
     "data": {
      "image/png": "[encoded data removed]",
      "text/plain": [
       "<Figure size 432x288 with 1 Axes>"
      ]
     },
     "metadata": {
      "needs_background": "light"
     },
     "output_type": "display_data"
    }
   ],
   "source": [
    "t = bpd.DataFrame().assign(Simulated_Test_Statistics = simulated_test_statistics)\n",
    "t.plot(kind='hist')"
   ]
  },
  {
   "cell_type": "markdown",
   "metadata": {},
   "source": [
    "We can make a visual argument as to whether or not we believe the observed test statistic is likely to occur under the null, or we can use the definition of p-values to help us make a more formal argument. \n",
    "\n",
    "**Question 8:** Assume `p_value` to the integer corresponding to the correct definition of what a p-value really is. \n",
    "\n",
    "1. The chance, under the null hypothesis, that the test statistic is equal to the value that was observed\n",
    "2. The chance, under the null hypothesis, that the test statistic is equal to the value that was observed or is even further in the direction of the alternative\n",
    "3. The chance, under the alternative hypothesis, that the test statistic is equal to the value that was observed or is even further in the direction of the null \n",
    "4. The number of times, under the null hypothesis, that the test statistic is equal to the value that was observed or is even further in the direction of the alternative"
   ]
  },
  {
   "cell_type": "code",
   "execution_count": 15,
   "metadata": {},
   "outputs": [
    {
     "data": {
      "text/plain": [
       "2"
      ]
     },
     "execution_count": 15,
     "metadata": {},
     "output_type": "execute_result"
    }
   ],
   "source": [
    "p_value = 2\n",
    "p_value"
   ]
  },
  {
   "cell_type": "code",
   "execution_count": 16,
   "metadata": {
    "deletable": false,
    "editable": false
   },
   "outputs": [
    {
     "data": {
      "text/html": [
       "\n",
       "    <p><strong>q18</strong> passed!</p>\n",
       "    "
      ],
      "text/plain": [
       "q18 passed!"
      ]
     },
     "execution_count": 16,
     "metadata": {},
     "output_type": "execute_result"
    }
   ],
   "source": [
    "grader.check(\"q18\")"
   ]
  },
  {
   "cell_type": "markdown",
   "metadata": {},
   "source": [
    "**Question 9:** Using the definition above, calculate the p-value of Emily's observed value in this experiment. \n",
    "\n",
    "*Hint:* If our test statistic is further in the direction of the alternative, will larger value or a smaller value? \n",
    "\n",
    "*Hint:* The [textbook](https://eldridgejm.github.io/dive_into_data_science/front.html) contains an example of calculating an empirical p-value."
   ]
  },
  {
   "cell_type": "code",
   "execution_count": 17,
   "metadata": {},
   "outputs": [
    {
     "data": {
      "text/plain": [
       "0.527"
      ]
     },
     "execution_count": 17,
     "metadata": {},
     "output_type": "execute_result"
    }
   ],
   "source": [
    "emily_p_val = np.count_nonzero(simulated_test_statistics >= observed_test_statistic) / 1000\n",
    "emily_p_val"
   ]
  },
  {
   "cell_type": "code",
   "execution_count": 18,
   "metadata": {
    "deletable": false,
    "editable": false
   },
   "outputs": [
    {
     "data": {
      "text/html": [
       "\n",
       "    <p><strong>q19</strong> passed!</p>\n",
       "    "
      ],
      "text/plain": [
       "q19 passed!"
      ]
     },
     "execution_count": 18,
     "metadata": {},
     "output_type": "execute_result"
    }
   ],
   "source": [
    "grader.check(\"q19\")"
   ]
  },
  {
   "cell_type": "markdown",
   "metadata": {},
   "source": [
    "If our p-value is less than or equal to .05, then this is in favor of our alternative and we reject the null hypothesis. Otherwise, we do not have enough evidence against our null hypothesis. Note that this does **not** say we side in favor with the null hypothesis and accept it, but rather, that we just fail to reject it. \n",
    "\n",
    "This should help you make your own conclusions about Emily Rosa's experiment. \n",
    "\n",
    "Therapeutic touch fell out of use after this experiment, which was eventually accepted into one of the premier medical journals. TT practitioners hit back and accused Emily and her family of tampering with the results, while some claimed that Emily's bad spiritual mood towards therapeutic touch made it difficult to read her HEF. Whatever it may be, Emily's experiment is a classic example about how anyone, with the right resources, can test anything they want!"
   ]
  },
  {
   "cell_type": "markdown",
   "metadata": {},
   "source": [
    "## 2. No Class Participation??"
   ]
  },
  {
   "cell_type": "markdown",
   "metadata": {},
   "source": [
    "An iClicker manufacturing company claims that it produces iClickers that are 98% non-faulty. In other words, only 2% of the iClickers that they manufacture have some fault in them. They open a retail shop near UCSD right before the new school year. Since this new store sells iClickers at a somewhat reasonable price for college students, 100 UCSD freshmen have bought iClickers at this shop. However, it is soon discovered that six of the students have faulty iClickers and are complaining about lack of attendance credit. You're angry and argue that the company's claim is wrong. But the company is adament that they are right. You decide to investigate."
   ]
  },
  {
   "cell_type": "markdown",
   "metadata": {},
   "source": [
    "**Question 1.** Assign `null_probabilities` to a two-item *array* such that the first element contains the chance of an iClicker being functioning and the second element contains the chance that the phone is faulty under the **null hypothesis**."
   ]
  },
  {
   "cell_type": "code",
   "execution_count": 19,
   "metadata": {},
   "outputs": [
    {
     "data": {
      "text/plain": [
       "[0.98, 0.02]"
      ]
     },
     "execution_count": 19,
     "metadata": {},
     "output_type": "execute_result"
    }
   ],
   "source": [
    "null_probabilities = [.98,.02]\n",
    "null_probabilities"
   ]
  },
  {
   "cell_type": "code",
   "execution_count": 20,
   "metadata": {
    "deletable": false,
    "editable": false
   },
   "outputs": [
    {
     "data": {
      "text/html": [
       "\n",
       "    <p><strong>q21</strong> passed!</p>\n",
       "    "
      ],
      "text/plain": [
       "q21 passed!"
      ]
     },
     "execution_count": 20,
     "metadata": {},
     "output_type": "execute_result"
    }
   ],
   "source": [
    "grader.check(\"q21\")"
   ]
  },
  {
   "cell_type": "markdown",
   "metadata": {},
   "source": [
    "**Question 2.** Using the function you wrote above, simulate the buying of 100 iClickers 5,000 times, using the proportions that you assigned to `null_probabilities`. Create an *array* `simulations` with the number of faulty iClickers in each simulation.\n",
    "\n",
    "Hint: `np.random.multinomial` usage can be found here: [here](https://numpy.org/doc/stable/reference/random/generated/numpy.random.multinomial.html)"
   ]
  },
  {
   "cell_type": "code",
   "execution_count": 21,
   "metadata": {},
   "outputs": [],
   "source": [
    "simulations = np.array([])\n",
    "repetitions = 5000\n",
    "\n",
    "for i in np.arange(repetitions):\n",
    "    simulation_results = np.random.multinomial(100, null_probabilities)\n",
    "    simulations = np.append(simulations, simulation_results[1])\n"
   ]
  },
  {
   "cell_type": "code",
   "execution_count": 22,
   "metadata": {
    "deletable": false,
    "editable": false
   },
   "outputs": [
    {
     "data": {
      "text/html": [
       "\n",
       "    <p><strong>q22</strong> passed!</p>\n",
       "    "
      ],
      "text/plain": [
       "q22 passed!"
      ]
     },
     "execution_count": 22,
     "metadata": {},
     "output_type": "execute_result"
    }
   ],
   "source": [
    "grader.check(\"q22\")"
   ]
  },
  {
   "cell_type": "code",
   "execution_count": 23,
   "metadata": {},
   "outputs": [
    {
     "data": {
      "text/plain": [
       "(array([ 674., 1385., 1320.,  943.,  431.,  172.,   74.]),\n",
       " array([0, 1, 2, 3, 4, 5, 6, 7]),\n",
       " <BarContainer object of 7 artists>)"
      ]
     },
     "execution_count": 23,
     "metadata": {},
     "output_type": "execute_result"
    },
    {
     "data": {
      "image/png": "[encoded data removed]",
      "text/plain": [
       "<Figure size 432x288 with 1 Axes>"
      ]
     },
     "metadata": {
      "needs_background": "light"
     },
     "output_type": "display_data"
    }
   ],
   "source": [
    "#: Consider the resulting histogram of the fault_statistics array\n",
    "plt.hist(simulations, bins=np.arange(8))"
   ]
  },
  {
   "cell_type": "markdown",
   "metadata": {},
   "source": [
    "**Question 3.** Using the results of your simulation, calculate an estimate of the p-value, i.e., the probability of observing six or more faulty iClickers under the null hypothesis. Assign your answer to `p_value_2_3`"
   ]
  },
  {
   "cell_type": "code",
   "execution_count": 24,
   "metadata": {},
   "outputs": [
    {
     "data": {
      "text/plain": [
       "0.015"
      ]
     },
     "execution_count": 24,
     "metadata": {},
     "output_type": "execute_result"
    }
   ],
   "source": [
    "p_value_2_3 = np.count_nonzero(simulations >= 6) / 5000\n",
    "p_value_2_3"
   ]
  },
  {
   "cell_type": "code",
   "execution_count": 25,
   "metadata": {
    "deletable": false,
    "editable": false
   },
   "outputs": [
    {
     "data": {
      "text/html": [
       "\n",
       "    <p><strong>q23</strong> passed!</p>\n",
       "    "
      ],
      "text/plain": [
       "q23 passed!"
      ]
     },
     "execution_count": 25,
     "metadata": {},
     "output_type": "execute_result"
    }
   ],
   "source": [
    "grader.check(\"q23\")"
   ]
  },
  {
   "cell_type": "markdown",
   "metadata": {},
   "source": [
    "**Question 4.** State precisely the null hypothesis and the alternative hypothesis for this experiment."
   ]
  },
  {
   "cell_type": "markdown",
   "metadata": {},
   "source": [
    "<hr style=\"color:Maroon;background-color:Maroon;border:0 none; height: 3px;\">\n",
    "\n",
    "The null hypothesis would indicate this experiment to be true and that 6 faulty iClickers were random.\n",
    "\n",
    "The alternative hypothesis would indicate this experiment to be false and there is some other reason.\n",
    "\n",
    "<hr style=\"color:Maroon;background-color:Maroon;border:0 none; height: 3px;\">"
   ]
  },
  {
   "cell_type": "markdown",
   "metadata": {},
   "source": [
    "**Question 5.** Now that you have the results of your simulation, which hypothesis do you think is true? Set your answer to `hypothesis` in the cell below.\n",
    "\n",
    "- 1) Null Hypothesis\n",
    "- 2) Alternative Hypothesis\n",
    "- 3) Neither"
   ]
  },
  {
   "cell_type": "code",
   "execution_count": 26,
   "metadata": {},
   "outputs": [
    {
     "data": {
      "text/plain": [
       "2"
      ]
     },
     "execution_count": 26,
     "metadata": {},
     "output_type": "execute_result"
    }
   ],
   "source": [
    "hypothesis = 2\n",
    "hypothesis"
   ]
  },
  {
   "cell_type": "code",
   "execution_count": 27,
   "metadata": {
    "deletable": false,
    "editable": false
   },
   "outputs": [
    {
     "data": {
      "text/html": [
       "\n",
       "    <p><strong>q25</strong> passed!</p>\n",
       "    "
      ],
      "text/plain": [
       "q25 passed!"
      ]
     },
     "execution_count": 27,
     "metadata": {},
     "output_type": "execute_result"
    }
   ],
   "source": [
    "grader.check(\"q25\")"
   ]
  },
  {
   "cell_type": "markdown",
   "metadata": {},
   "source": [
    "## Before submitting, select \"Kernel\" -> \"Restart & Run All\" from the menu!\n",
    "\n",
    "Then make sure that all of your cells ran without error."
   ]
  },
  {
   "cell_type": "markdown",
   "metadata": {},
   "source": [
    "Congratulations! You are done with lab05\n",
    "\n",
    "To submit your assignment:\n",
    "\n",
    "1. Select `Kernel -> Restart & Run All` to ensure that you have executed all cells, including the test cells.\n",
    "2. Read through the notebook to make sure everything is fine and all tests passed.\n",
    "3. Run the cell below to run all tests, and make sure that they all pass.\n",
    "4. Download your notebook using `File -> Download as -> Notebook (.ipynb)`, then upload your notebook to Gradescope."
   ]
  },
  {
   "cell_type": "code",
   "execution_count": 28,
   "metadata": {},
   "outputs": [
    {
     "data": {
      "text/html": [
       "\n",
       "    <p><strong>q12</strong> passed!</p>\n",
       "    \n",
       "\n",
       "\n",
       "    <p><strong>q13</strong> passed!</p>\n",
       "    \n",
       "\n",
       "\n",
       "    <p><strong>q14</strong> passed!</p>\n",
       "    \n",
       "\n",
       "\n",
       "    <p><strong>q15</strong> passed!</p>\n",
       "    \n",
       "\n",
       "\n",
       "    <p><strong>q16</strong> passed!</p>\n",
       "    \n",
       "\n",
       "\n",
       "    <p><strong>q17</strong> passed!</p>\n",
       "    \n",
       "\n",
       "\n",
       "    <p><strong>q18</strong> passed!</p>\n",
       "    \n",
       "\n",
       "\n",
       "    <p><strong>q19</strong> passed!</p>\n",
       "    \n",
       "\n",
       "\n",
       "    <p><strong>q21</strong> passed!</p>\n",
       "    \n",
       "\n",
       "\n",
       "    <p><strong>q22</strong> passed!</p>\n",
       "    \n",
       "\n",
       "\n",
       "    <p><strong>q23</strong> passed!</p>\n",
       "    \n",
       "\n",
       "\n",
       "    <p><strong>q25</strong> passed!</p>\n",
       "    \n",
       "\n"
      ],
      "text/plain": [
       "q12 passed!\n",
       "\n",
       "q13 passed!\n",
       "\n",
       "q14 passed!\n",
       "\n",
       "q15 passed!\n",
       "\n",
       "q16 passed!\n",
       "\n",
       "q17 passed!\n",
       "\n",
       "q18 passed!\n",
       "\n",
       "q19 passed!\n",
       "\n",
       "q21 passed!\n",
       "\n",
       "q22 passed!\n",
       "\n",
       "q23 passed!\n",
       "\n",
       "q25 passed!\n"
      ]
     },
     "execution_count": 28,
     "metadata": {},
     "output_type": "execute_result"
    }
   ],
   "source": [
    "# For your convenience, you can run this cell to run all the tests at once!\n",
    "grader.check_all()"
   ]
  }
 ],
 "metadata": {
  "anaconda-cloud": {},
  "kernelspec": {
   "display_name": "Python 3",
   "language": "python",
   "name": "python3"
  },
  "language_info": {
   "codemirror_mode": {
    "name": "ipython",
    "version": 3
   },
   "file_extension": ".py",
   "mimetype": "text/x-python",
   "name": "python",
   "nbconvert_exporter": "python",
   "pygments_lexer": "ipython3",
   "version": "3.8.6"
  }
 },
 "nbformat": 4,
 "nbformat_minor": 1
}
