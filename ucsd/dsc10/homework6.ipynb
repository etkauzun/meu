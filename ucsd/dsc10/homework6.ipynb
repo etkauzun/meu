{
 "cells": [
  {
   "cell_type": "markdown",
   "metadata": {},
   "source": [
    "# Homework 6: Percentiles, Bootstrap, A/B Testing\n",
    "\n",
    "## Due Friday May 21st at 11:59pm\n",
    "\n",
    "Welcome to Homework 6! This week, we will go over percentiles, bootstrapping, and permutation tests. You can find additional help on these topics in [Chapter 07](https://eldridgejm.github.io/dive_into_data_science/07-hypothesis_testing/2_permutation_tests.html) and [Chapter 08](https://eldridgejm.github.io/dive_into_data_science/08-estimation/1_bootstrap.html) of the textbook.\n",
    "\n",
    "Please complete this notebook by filling in the cells provided. Before you begin, execute the following cell to load the provided tests. Each time you start your server, you will need to execute this cell again to load the tests."
   ]
  },
  {
   "cell_type": "code",
   "execution_count": 1,
   "metadata": {},
   "outputs": [],
   "source": [
    "# Don't change this cell; just run it. \n",
    "import numpy as np\n",
    "import babypandas as bpd\n",
    "import math\n",
    "import matplotlib.pyplot as plt\n",
    "\n",
    "%matplotlib inline\n",
    "plt.style.use('fivethirtyeight')\n",
    "\n",
    "import otter\n",
    "grader = otter.Notebook('tests')"
   ]
  },
  {
   "cell_type": "markdown",
   "metadata": {},
   "source": [
    "### Instructions\n",
    "\n",
    "This assignment is due Friday, May 21st at 11:59pm. You are given six slip days thoughout the quarter which can extend the deadline by one day. See the syllabus for more details. With the exception of using slip days, late work will not be accepted unless you have made special arrangements with your instructor.\n",
    "\n",
    "Please be aware of your slip days using the [Slip Day Tracker](https://docs.google.com/spreadsheets/d/197hILI-vHs-OCws3-XkLV31X8s1rdWgM-ArTrwFmU60/edit#gid=0).\n",
    "\n",
    "You should start early so that you have time to get help if you're stuck. You may attend any Tutor's Office Hours. The calendar and links are available on Canvas.\n",
    "\n",
    "**Important**: The `otter` tests don't usually tell you that your answer is correct. More often, they help catch careless mistakes. It's up to you to ensure that your answer is correct. If you're not sure, ask someone (not for the answer, but for some guidance about your approach).\n",
    "\n",
    "Remember that you may work in pairs for this assignment! If you work in a pair, you must submit one notebook to Gradescope for the both of you.\n",
    "\n",
    "Directly sharing answers between groups is not okay, but discussing problems with the course staff or with other students is encouraged. "
   ]
  },
  {
   "cell_type": "markdown",
   "metadata": {},
   "source": [
    "## 1. Ramen Ratings"
   ]
  },
  {
   "cell_type": "markdown",
   "metadata": {},
   "source": [
    "<img src=\"data/ramen.jpeg\" alt=\"ramen bowl\" width=\"400\"/>"
   ]
  },
  {
   "cell_type": "markdown",
   "metadata": {},
   "source": [
    "In this section, we will be using a ramen rating dataset to practice A/B (permutation) testing. The dataset can be found on [Kaggle](https://www.kaggle.com/residentmario/ramen-ratings), but the data has been cleaned and condensed for the purposes of this question. We appreciate any ramen recommendations from students! We would love to hear about your favorite ramen restaurants."
   ]
  },
  {
   "cell_type": "markdown",
   "metadata": {},
   "source": [
    "The ramen data is recorded in a CSV file called `ramen.csv`. It contains five columns: `Brand`, `Variety`, `Style`, `Country`, `Stars`. Read this file into a dataframe called `ramen`."
   ]
  },
  {
   "cell_type": "markdown",
   "metadata": {},
   "source": [
    "|Column|Description|\n",
    "|------|-----------|\n",
    "|Brand|Ramen Brand Name|\n",
    "|Variety|The Product Name within the Brand|\n",
    "|Style|Cup or Pack Ramen|\n",
    "|Country|Country where the Ramen is Sold|\n",
    "|Stars|Quality rating on a scale of 5 stars|"
   ]
  },
  {
   "cell_type": "code",
   "execution_count": 2,
   "metadata": {},
   "outputs": [
    {
     "data": {
      "text/html": [
       "<div>\n",
       "<style scoped>\n",
       "    .dataframe tbody tr th:only-of-type {\n",
       "        vertical-align: middle;\n",
       "    }\n",
       "\n",
       "    .dataframe tbody tr th {\n",
       "        vertical-align: top;\n",
       "    }\n",
       "\n",
       "    .dataframe thead th {\n",
       "        text-align: right;\n",
       "    }\n",
       "</style>\n",
       "<table border=\"1\" class=\"dataframe\">\n",
       "  <thead>\n",
       "    <tr style=\"text-align: right;\">\n",
       "      <th></th>\n",
       "      <th>Brand</th>\n",
       "      <th>Variety</th>\n",
       "      <th>Style</th>\n",
       "      <th>Country</th>\n",
       "      <th>Stars</th>\n",
       "    </tr>\n",
       "  </thead>\n",
       "  <tbody>\n",
       "    <tr>\n",
       "      <th>0</th>\n",
       "      <td>New Touch</td>\n",
       "      <td>T's Restaurant Tantanmen</td>\n",
       "      <td>Cup</td>\n",
       "      <td>Japan</td>\n",
       "      <td>3.75</td>\n",
       "    </tr>\n",
       "    <tr>\n",
       "      <th>1</th>\n",
       "      <td>Just Way</td>\n",
       "      <td>Noodles Spicy Hot Sesame Spicy Hot Sesame Guan...</td>\n",
       "      <td>Pack</td>\n",
       "      <td>Taiwan</td>\n",
       "      <td>1.00</td>\n",
       "    </tr>\n",
       "    <tr>\n",
       "      <th>2</th>\n",
       "      <td>Nissin</td>\n",
       "      <td>Cup Noodles Chicken Vegetable</td>\n",
       "      <td>Cup</td>\n",
       "      <td>United States of America</td>\n",
       "      <td>2.25</td>\n",
       "    </tr>\n",
       "    <tr>\n",
       "      <th>3</th>\n",
       "      <td>Wei Lih</td>\n",
       "      <td>GGE Ramen Snack Tomato Flavor</td>\n",
       "      <td>Pack</td>\n",
       "      <td>Taiwan</td>\n",
       "      <td>2.75</td>\n",
       "    </tr>\n",
       "    <tr>\n",
       "      <th>4</th>\n",
       "      <td>Ching's Secret</td>\n",
       "      <td>Singapore Curry</td>\n",
       "      <td>Pack</td>\n",
       "      <td>India</td>\n",
       "      <td>3.75</td>\n",
       "    </tr>\n",
       "    <tr>\n",
       "      <th>...</th>\n",
       "      <td>...</td>\n",
       "      <td>...</td>\n",
       "      <td>...</td>\n",
       "      <td>...</td>\n",
       "      <td>...</td>\n",
       "    </tr>\n",
       "    <tr>\n",
       "      <th>1973</th>\n",
       "      <td>Vifon</td>\n",
       "      <td>Nam Vang</td>\n",
       "      <td>Pack</td>\n",
       "      <td>Vietnam</td>\n",
       "      <td>2.50</td>\n",
       "    </tr>\n",
       "    <tr>\n",
       "      <th>1974</th>\n",
       "      <td>Wai Wai</td>\n",
       "      <td>Oriental Style Instant Noodles</td>\n",
       "      <td>Pack</td>\n",
       "      <td>Thailand</td>\n",
       "      <td>1.00</td>\n",
       "    </tr>\n",
       "    <tr>\n",
       "      <th>1975</th>\n",
       "      <td>Wai Wai</td>\n",
       "      <td>Tom Yum Shrimp</td>\n",
       "      <td>Pack</td>\n",
       "      <td>Thailand</td>\n",
       "      <td>2.00</td>\n",
       "    </tr>\n",
       "    <tr>\n",
       "      <th>1976</th>\n",
       "      <td>Wai Wai</td>\n",
       "      <td>Tom Yum Chili Flavor</td>\n",
       "      <td>Pack</td>\n",
       "      <td>Thailand</td>\n",
       "      <td>2.00</td>\n",
       "    </tr>\n",
       "    <tr>\n",
       "      <th>1977</th>\n",
       "      <td>Westbrae</td>\n",
       "      <td>Miso Ramen</td>\n",
       "      <td>Pack</td>\n",
       "      <td>United States of America</td>\n",
       "      <td>0.50</td>\n",
       "    </tr>\n",
       "  </tbody>\n",
       "</table>\n",
       "<p>1978 rows × 5 columns</p>\n",
       "</div>"
      ],
      "text/plain": [
       "               Brand                                            Variety Style  \\\n",
       "0          New Touch                           T's Restaurant Tantanmen   Cup   \n",
       "1           Just Way  Noodles Spicy Hot Sesame Spicy Hot Sesame Guan...  Pack   \n",
       "2             Nissin                      Cup Noodles Chicken Vegetable   Cup   \n",
       "3            Wei Lih                      GGE Ramen Snack Tomato Flavor  Pack   \n",
       "4     Ching's Secret                                    Singapore Curry  Pack   \n",
       "...              ...                                                ...   ...   \n",
       "1973           Vifon                                           Nam Vang  Pack   \n",
       "1974         Wai Wai                     Oriental Style Instant Noodles  Pack   \n",
       "1975         Wai Wai                                     Tom Yum Shrimp  Pack   \n",
       "1976         Wai Wai                               Tom Yum Chili Flavor  Pack   \n",
       "1977        Westbrae                                         Miso Ramen  Pack   \n",
       "\n",
       "                       Country  Stars  \n",
       "0                        Japan   3.75  \n",
       "1                       Taiwan   1.00  \n",
       "2     United States of America   2.25  \n",
       "3                       Taiwan   2.75  \n",
       "4                        India   3.75  \n",
       "...                        ...    ...  \n",
       "1973                   Vietnam   2.50  \n",
       "1974                  Thailand   1.00  \n",
       "1975                  Thailand   2.00  \n",
       "1976                  Thailand   2.00  \n",
       "1977  United States of America   0.50  \n",
       "\n",
       "[1978 rows x 5 columns]"
      ]
     },
     "execution_count": 2,
     "metadata": {},
     "output_type": "execute_result"
    }
   ],
   "source": [
    "ramen = bpd.read_csv('data/ramen.csv')\n",
    "ramen"
   ]
  },
  {
   "cell_type": "markdown",
   "metadata": {},
   "source": [
    "We will also be using a dataset that contains country names, codes and the continent they belong in. This dataset can be found [here](https://datahub.io/JohnSnowLabs/country-and-continent-codes-list), but we have cleaned the dataset for this question so information matches with the `ramen` dataset.\n",
    "The country data is recorded in a CSV file called `countries.csv`. It contains six columns: `Continent_Name`, `Continent_Code`, `Country_Name`, `Two_Letter_Country_Code`, `Three_Letter_Country_Code`, `Country_Number`. Read this file into a dataframe called `continents`."
   ]
  },
  {
   "cell_type": "code",
   "execution_count": 3,
   "metadata": {
    "scrolled": false
   },
   "outputs": [
    {
     "data": {
      "text/html": [
       "<div>\n",
       "<style scoped>\n",
       "    .dataframe tbody tr th:only-of-type {\n",
       "        vertical-align: middle;\n",
       "    }\n",
       "\n",
       "    .dataframe tbody tr th {\n",
       "        vertical-align: top;\n",
       "    }\n",
       "\n",
       "    .dataframe thead th {\n",
       "        text-align: right;\n",
       "    }\n",
       "</style>\n",
       "<table border=\"1\" class=\"dataframe\">\n",
       "  <thead>\n",
       "    <tr style=\"text-align: right;\">\n",
       "      <th></th>\n",
       "      <th>Continent_Name</th>\n",
       "      <th>Continent_Code</th>\n",
       "      <th>Country_Name</th>\n",
       "      <th>Two_Letter_Country_Code</th>\n",
       "      <th>Three_Letter_Country_Code</th>\n",
       "      <th>Country_Number</th>\n",
       "    </tr>\n",
       "  </thead>\n",
       "  <tbody>\n",
       "    <tr>\n",
       "      <th>0</th>\n",
       "      <td>Asia</td>\n",
       "      <td>AS</td>\n",
       "      <td>Afghanistan</td>\n",
       "      <td>AF</td>\n",
       "      <td>AFG</td>\n",
       "      <td>4.0</td>\n",
       "    </tr>\n",
       "    <tr>\n",
       "      <th>1</th>\n",
       "      <td>Europe</td>\n",
       "      <td>EU</td>\n",
       "      <td>Albania</td>\n",
       "      <td>AL</td>\n",
       "      <td>ALB</td>\n",
       "      <td>8.0</td>\n",
       "    </tr>\n",
       "    <tr>\n",
       "      <th>2</th>\n",
       "      <td>Antarctica</td>\n",
       "      <td>AN</td>\n",
       "      <td>Antarctica (the territory South of 60 deg S)</td>\n",
       "      <td>AQ</td>\n",
       "      <td>ATA</td>\n",
       "      <td>10.0</td>\n",
       "    </tr>\n",
       "    <tr>\n",
       "      <th>3</th>\n",
       "      <td>Africa</td>\n",
       "      <td>AF</td>\n",
       "      <td>Algeria</td>\n",
       "      <td>DZ</td>\n",
       "      <td>DZA</td>\n",
       "      <td>12.0</td>\n",
       "    </tr>\n",
       "    <tr>\n",
       "      <th>4</th>\n",
       "      <td>Oceania</td>\n",
       "      <td>OC</td>\n",
       "      <td>American Samoa</td>\n",
       "      <td>AS</td>\n",
       "      <td>ASM</td>\n",
       "      <td>16.0</td>\n",
       "    </tr>\n",
       "    <tr>\n",
       "      <th>...</th>\n",
       "      <td>...</td>\n",
       "      <td>...</td>\n",
       "      <td>...</td>\n",
       "      <td>...</td>\n",
       "      <td>...</td>\n",
       "      <td>...</td>\n",
       "    </tr>\n",
       "    <tr>\n",
       "      <th>248</th>\n",
       "      <td>Africa</td>\n",
       "      <td>AF</td>\n",
       "      <td>Zambia</td>\n",
       "      <td>ZM</td>\n",
       "      <td>ZMB</td>\n",
       "      <td>894.0</td>\n",
       "    </tr>\n",
       "    <tr>\n",
       "      <th>249</th>\n",
       "      <td>Oceania</td>\n",
       "      <td>OC</td>\n",
       "      <td>Disputed Territory</td>\n",
       "      <td>XX</td>\n",
       "      <td>NaN</td>\n",
       "      <td>NaN</td>\n",
       "    </tr>\n",
       "    <tr>\n",
       "      <th>250</th>\n",
       "      <td>Asia</td>\n",
       "      <td>AS</td>\n",
       "      <td>Iraq-Saudi Arabia Neutral Zone</td>\n",
       "      <td>XE</td>\n",
       "      <td>NaN</td>\n",
       "      <td>NaN</td>\n",
       "    </tr>\n",
       "    <tr>\n",
       "      <th>251</th>\n",
       "      <td>Asia</td>\n",
       "      <td>AS</td>\n",
       "      <td>United Nations Neutral Zone</td>\n",
       "      <td>XD</td>\n",
       "      <td>NaN</td>\n",
       "      <td>NaN</td>\n",
       "    </tr>\n",
       "    <tr>\n",
       "      <th>252</th>\n",
       "      <td>Asia</td>\n",
       "      <td>AS</td>\n",
       "      <td>Spratly Islands</td>\n",
       "      <td>XS</td>\n",
       "      <td>NaN</td>\n",
       "      <td>NaN</td>\n",
       "    </tr>\n",
       "  </tbody>\n",
       "</table>\n",
       "<p>253 rows × 6 columns</p>\n",
       "</div>"
      ],
      "text/plain": [
       "    Continent_Name Continent_Code  \\\n",
       "0             Asia             AS   \n",
       "1           Europe             EU   \n",
       "2       Antarctica             AN   \n",
       "3           Africa             AF   \n",
       "4          Oceania             OC   \n",
       "..             ...            ...   \n",
       "248         Africa             AF   \n",
       "249        Oceania             OC   \n",
       "250           Asia             AS   \n",
       "251           Asia             AS   \n",
       "252           Asia             AS   \n",
       "\n",
       "                                     Country_Name Two_Letter_Country_Code  \\\n",
       "0                                     Afghanistan                      AF   \n",
       "1                                         Albania                      AL   \n",
       "2    Antarctica (the territory South of 60 deg S)                      AQ   \n",
       "3                                         Algeria                      DZ   \n",
       "4                                  American Samoa                      AS   \n",
       "..                                            ...                     ...   \n",
       "248                                        Zambia                      ZM   \n",
       "249                            Disputed Territory                      XX   \n",
       "250                Iraq-Saudi Arabia Neutral Zone                      XE   \n",
       "251                   United Nations Neutral Zone                      XD   \n",
       "252                               Spratly Islands                      XS   \n",
       "\n",
       "    Three_Letter_Country_Code  Country_Number  \n",
       "0                         AFG             4.0  \n",
       "1                         ALB             8.0  \n",
       "2                         ATA            10.0  \n",
       "3                         DZA            12.0  \n",
       "4                         ASM            16.0  \n",
       "..                        ...             ...  \n",
       "248                       ZMB           894.0  \n",
       "249                       NaN             NaN  \n",
       "250                       NaN             NaN  \n",
       "251                       NaN             NaN  \n",
       "252                       NaN             NaN  \n",
       "\n",
       "[253 rows x 6 columns]"
      ]
     },
     "execution_count": 3,
     "metadata": {},
     "output_type": "execute_result"
    }
   ],
   "source": [
    "continents = bpd.read_csv('data/countries.csv')\n",
    "continents"
   ]
  },
  {
   "cell_type": "markdown",
   "metadata": {},
   "source": [
    "**Question 1.1.** Which country in the `ramen` dataset has the **third** highest average Star rating? Assign the name of this country to `third_highest`. How many `ramen` entries are there for this country? Assign this number to `count_third_highest`."
   ]
  },
  {
   "cell_type": "code",
   "execution_count": 4,
   "metadata": {},
   "outputs": [
    {
     "data": {
      "text/plain": [
       "('Malaysia', 148)"
      ]
     },
     "execution_count": 4,
     "metadata": {},
     "output_type": "execute_result"
    }
   ],
   "source": [
    "third_highest = ramen.groupby('Country').mean().sort_values(by='Stars', ascending=False).index[2]\n",
    "count_third_highest = ramen[ramen.get('Country')==third_highest].shape[0]\n",
    "third_highest, count_third_highest"
   ]
  },
  {
   "cell_type": "code",
   "execution_count": 5,
   "metadata": {
    "deletable": false,
    "editable": false
   },
   "outputs": [
    {
     "data": {
      "text/html": [
       "\n",
       "    <p><strong>q1_1</strong> passed!</p>\n",
       "    "
      ],
      "text/plain": [
       "q1_1 passed!"
      ]
     },
     "execution_count": 5,
     "metadata": {},
     "output_type": "execute_result"
    }
   ],
   "source": [
    "grader.check(\"q1_1\")"
   ]
  },
  {
   "cell_type": "markdown",
   "metadata": {},
   "source": [
    "**Question 1.2.** Assign `ramen_w_continent` to a dataframe that has the continent name (*not* continent code) for each ramen entry from `ramen`. Your dataframe **must** have the columns in this order: `Brand`, `Variety`, `Style`, `Country`, `Continent`, `Stars`."
   ]
  },
  {
   "cell_type": "code",
   "execution_count": 6,
   "metadata": {
    "scrolled": true
   },
   "outputs": [
    {
     "data": {
      "text/html": [
       "<div>\n",
       "<style scoped>\n",
       "    .dataframe tbody tr th:only-of-type {\n",
       "        vertical-align: middle;\n",
       "    }\n",
       "\n",
       "    .dataframe tbody tr th {\n",
       "        vertical-align: top;\n",
       "    }\n",
       "\n",
       "    .dataframe thead th {\n",
       "        text-align: right;\n",
       "    }\n",
       "</style>\n",
       "<table border=\"1\" class=\"dataframe\">\n",
       "  <thead>\n",
       "    <tr style=\"text-align: right;\">\n",
       "      <th></th>\n",
       "      <th>Brand</th>\n",
       "      <th>Variety</th>\n",
       "      <th>Style</th>\n",
       "      <th>Country</th>\n",
       "      <th>Continent</th>\n",
       "      <th>Stars</th>\n",
       "    </tr>\n",
       "  </thead>\n",
       "  <tbody>\n",
       "    <tr>\n",
       "      <th>0</th>\n",
       "      <td>New Touch</td>\n",
       "      <td>T's Restaurant Tantanmen</td>\n",
       "      <td>Cup</td>\n",
       "      <td>Japan</td>\n",
       "      <td>Asia</td>\n",
       "      <td>3.75</td>\n",
       "    </tr>\n",
       "    <tr>\n",
       "      <th>1</th>\n",
       "      <td>Acecook</td>\n",
       "      <td>Spice Deli Tantan Men With Cilantro</td>\n",
       "      <td>Cup</td>\n",
       "      <td>Japan</td>\n",
       "      <td>Asia</td>\n",
       "      <td>4.00</td>\n",
       "    </tr>\n",
       "    <tr>\n",
       "      <th>2</th>\n",
       "      <td>Ripe'n'Dry</td>\n",
       "      <td>Hokkaido Soy Sauce Ramen</td>\n",
       "      <td>Pack</td>\n",
       "      <td>Japan</td>\n",
       "      <td>Asia</td>\n",
       "      <td>0.25</td>\n",
       "    </tr>\n",
       "    <tr>\n",
       "      <th>3</th>\n",
       "      <td>Fujiwara</td>\n",
       "      <td>Hokkaido Hakodate Shoyu Ramen</td>\n",
       "      <td>Pack</td>\n",
       "      <td>Japan</td>\n",
       "      <td>Asia</td>\n",
       "      <td>4.00</td>\n",
       "    </tr>\n",
       "    <tr>\n",
       "      <th>4</th>\n",
       "      <td>Sokensha</td>\n",
       "      <td>Curry Udon</td>\n",
       "      <td>Pack</td>\n",
       "      <td>Japan</td>\n",
       "      <td>Asia</td>\n",
       "      <td>3.50</td>\n",
       "    </tr>\n",
       "    <tr>\n",
       "      <th>...</th>\n",
       "      <td>...</td>\n",
       "      <td>...</td>\n",
       "      <td>...</td>\n",
       "      <td>...</td>\n",
       "      <td>...</td>\n",
       "      <td>...</td>\n",
       "    </tr>\n",
       "    <tr>\n",
       "      <th>1973</th>\n",
       "      <td>Vifon</td>\n",
       "      <td>Pomidorowa (Mild Tomato)</td>\n",
       "      <td>Pack</td>\n",
       "      <td>Poland</td>\n",
       "      <td>Europe</td>\n",
       "      <td>4.00</td>\n",
       "    </tr>\n",
       "    <tr>\n",
       "      <th>1974</th>\n",
       "      <td>Amino</td>\n",
       "      <td>Zurek</td>\n",
       "      <td>Pack</td>\n",
       "      <td>Poland</td>\n",
       "      <td>Europe</td>\n",
       "      <td>3.25</td>\n",
       "    </tr>\n",
       "    <tr>\n",
       "      <th>1975</th>\n",
       "      <td>Golden Mie</td>\n",
       "      <td>Vegetable</td>\n",
       "      <td>Pack</td>\n",
       "      <td>United Arab Emirates</td>\n",
       "      <td>Asia</td>\n",
       "      <td>3.75</td>\n",
       "    </tr>\n",
       "    <tr>\n",
       "      <th>1976</th>\n",
       "      <td>Golden Mie</td>\n",
       "      <td>chicken</td>\n",
       "      <td>Pack</td>\n",
       "      <td>United Arab Emirates</td>\n",
       "      <td>Asia</td>\n",
       "      <td>3.25</td>\n",
       "    </tr>\n",
       "    <tr>\n",
       "      <th>1977</th>\n",
       "      <td>Golden Mie</td>\n",
       "      <td>Chicken Curry</td>\n",
       "      <td>Pack</td>\n",
       "      <td>United Arab Emirates</td>\n",
       "      <td>Asia</td>\n",
       "      <td>3.75</td>\n",
       "    </tr>\n",
       "  </tbody>\n",
       "</table>\n",
       "<p>1978 rows × 6 columns</p>\n",
       "</div>"
      ],
      "text/plain": [
       "           Brand                              Variety Style  \\\n",
       "0      New Touch             T's Restaurant Tantanmen   Cup   \n",
       "1        Acecook  Spice Deli Tantan Men With Cilantro   Cup   \n",
       "2     Ripe'n'Dry             Hokkaido Soy Sauce Ramen  Pack   \n",
       "3       Fujiwara        Hokkaido Hakodate Shoyu Ramen  Pack   \n",
       "4       Sokensha                           Curry Udon  Pack   \n",
       "...          ...                                  ...   ...   \n",
       "1973       Vifon             Pomidorowa (Mild Tomato)  Pack   \n",
       "1974       Amino                                Zurek  Pack   \n",
       "1975  Golden Mie                            Vegetable  Pack   \n",
       "1976  Golden Mie                              chicken  Pack   \n",
       "1977  Golden Mie                        Chicken Curry  Pack   \n",
       "\n",
       "                   Country Continent  Stars  \n",
       "0                    Japan      Asia   3.75  \n",
       "1                    Japan      Asia   4.00  \n",
       "2                    Japan      Asia   0.25  \n",
       "3                    Japan      Asia   4.00  \n",
       "4                    Japan      Asia   3.50  \n",
       "...                    ...       ...    ...  \n",
       "1973                Poland    Europe   4.00  \n",
       "1974                Poland    Europe   3.25  \n",
       "1975  United Arab Emirates      Asia   3.75  \n",
       "1976  United Arab Emirates      Asia   3.25  \n",
       "1977  United Arab Emirates      Asia   3.75  \n",
       "\n",
       "[1978 rows x 6 columns]"
      ]
     },
     "execution_count": 6,
     "metadata": {},
     "output_type": "execute_result"
    }
   ],
   "source": [
    "ramen_w_continent = bpd.DataFrame().assign(\n",
    "    Brand=ramen.get(\"Brand\"), \n",
    "    Variety=ramen.get(\"Variety\"), \n",
    "    Style=ramen.get(\"Style\"), \n",
    "    Country=ramen.get(\"Country\"), \n",
    "    #Continent=ramen.get(\"Style\"), \n",
    "    Stars=ramen.get(\"Stars\")\n",
    ") \n",
    "ramen_w_continent = ramen_w_continent.merge(continents, left_on = 'Country', right_on= 'Country_Name')\n",
    "ramen_w_continent = ramen_w_continent.drop(\n",
    "    columns = ['Continent_Code','Country_Name','Two_Letter_Country_Code',\n",
    "    'Three_Letter_Country_Code','Country_Number']\n",
    ")\n",
    "ramen_w_continent = ramen_w_continent.assign(Continent=ramen_w_continent.get('Continent_Name'))\n",
    "ramen_w_continent = ramen_w_continent.drop(columns='Continent_Name').assign(star=ramen_w_continent.get('Stars'))\n",
    "ramen_w_continent = ramen_w_continent.drop(columns='Stars')\n",
    "ramen_w_continent = ramen_w_continent.assign(Stars=ramen_w_continent.get('star'))\n",
    "ramen_w_continent = ramen_w_continent.drop(columns='star')\n",
    "ramen_w_continent"
   ]
  },
  {
   "cell_type": "code",
   "execution_count": 7,
   "metadata": {
    "deletable": false,
    "editable": false
   },
   "outputs": [
    {
     "data": {
      "text/html": [
       "\n",
       "    <p><strong>q1_2</strong> passed!</p>\n",
       "    "
      ],
      "text/plain": [
       "q1_2 passed!"
      ]
     },
     "execution_count": 7,
     "metadata": {},
     "output_type": "execute_result"
    }
   ],
   "source": [
    "grader.check(\"q1_2\")"
   ]
  },
  {
   "cell_type": "markdown",
   "metadata": {},
   "source": [
    "**Question 1.3.** Now that you have the continent names for each ramen, calculate the difference between the mean star ratings of ramen from Asia and South America. Assign your answer to `diff_asia_sa`.\n",
    "\n",
    "$$\\text{diff_asia_sa} = \\text{mean Asia stars} - \\text{mean South America stars}$$"
   ]
  },
  {
   "cell_type": "code",
   "execution_count": 8,
   "metadata": {},
   "outputs": [
    {
     "data": {
      "text/plain": [
       "-0.01875183639889544"
      ]
     },
     "execution_count": 8,
     "metadata": {},
     "output_type": "execute_result"
    }
   ],
   "source": [
    "mean_asia_stars = ramen_w_continent.groupby('Continent').mean().loc['Asia']\n",
    "mean_soamerica_stars = ramen_w_continent.groupby('Continent').mean().loc['South America']\n",
    "diff_asia_sa = (mean_asia_stars - mean_soamerica_stars).iloc[0]\n",
    "diff_asia_sa"
   ]
  },
  {
   "cell_type": "code",
   "execution_count": 9,
   "metadata": {
    "deletable": false,
    "editable": false
   },
   "outputs": [
    {
     "data": {
      "text/html": [
       "\n",
       "    <p><strong>q1_3</strong> passed!</p>\n",
       "    "
      ],
      "text/plain": [
       "q1_3 passed!"
      ]
     },
     "execution_count": 9,
     "metadata": {},
     "output_type": "execute_result"
    }
   ],
   "source": [
    "grader.check(\"q1_3\")"
   ]
  },
  {
   "cell_type": "markdown",
   "metadata": {},
   "source": [
    "Based on our answer, it seems like ramen from South America has a higher average star rating than ramen from Asia. Does that mean it's better?\n",
    "\n",
    "\n",
    "Probably not. We can see that there are significantly fewer ramen entries from South America than Asia, so its average is higher. There is a lot of bias when the sample size is this small. \n",
    "\n",
    "\n",
    "Since there are so many ramen entries from Asia, let's compare it to a more sizeable group: all the entries not from Asia."
   ]
  },
  {
   "cell_type": "markdown",
   "metadata": {},
   "source": [
    "**Question 1.4.** Now that you have the continent names for each ramen, using `ramen_w_continent`, calculate the difference between the mean star ratings of ramen from Asia and ramen not from Asia. Assign your answer to `observed_difference`.\n",
    "\n",
    "$$\\text{observed_difference} = \\text{mean Asia stars} - \\text{mean non-Asia stars}$$\n",
    "\n",
    "*Hint*: It may help to use an intermediary variable that tells whether a ramen is from Asia or not from Asia. Just make sure not to alter `ramen_w_continent`!"
   ]
  },
  {
   "cell_type": "code",
   "execution_count": 10,
   "metadata": {
    "scrolled": true
   },
   "outputs": [
    {
     "data": {
      "text/plain": [
       "0.45646963586434053"
      ]
     },
     "execution_count": 10,
     "metadata": {},
     "output_type": "execute_result"
    }
   ],
   "source": [
    "continent_sum_table = ramen_w_continent.groupby('Continent').sum()\n",
    "ramen_continent_count = continent_sum_table.assign(Count=ramen_w_continent.groupby('Continent').count().get('Stars'))\n",
    "ramen_means = ramen_continent_count.assign(Mean=ramen_continent_count.get('Stars') / ramen_continent_count.get('Count'))\n",
    "mean_non_asia = ramen_means.take([0,2,3,4,5]).get('Stars').sum() / ramen_means.take([0,2,3,4,5]).get('Count').sum()\n",
    "observed_difference = (mean_asia_stars).iloc[0] - mean_non_asia\n",
    "observed_difference"
   ]
  },
  {
   "cell_type": "code",
   "execution_count": 11,
   "metadata": {
    "deletable": false,
    "editable": false
   },
   "outputs": [
    {
     "data": {
      "text/html": [
       "\n",
       "    <p><strong>q1_4</strong> passed!</p>\n",
       "    "
      ],
      "text/plain": [
       "q1_4 passed!"
      ]
     },
     "execution_count": 11,
     "metadata": {},
     "output_type": "execute_result"
    }
   ],
   "source": [
    "grader.check(\"q1_4\")"
   ]
  },
  {
   "cell_type": "markdown",
   "metadata": {},
   "source": [
    "**Question 1.5.** Interpret in words the number you obtained for `observed_difference` and assign either 1, 2, 3, or 4 to `q1_3`."
   ]
  },
  {
   "cell_type": "markdown",
   "metadata": {},
   "source": [
    "1. In our sample, the mean stars for Asian ramen is lower than the mean stars for non-Asian ramen by about 46 percent.\n",
    "2. In our sample, the mean stars for Asian ramen is higher than the mean stars for non-Asian ramen by about 46 percent.\n",
    "3. In our sample, the mean stars for Asian ramen is lower than the mean stars for non-Asian ramen by about 0.46 stars.\n",
    "4. In our sample, the mean stars for Asian ramen is higher than the mean stars for non-Asian ramen by about 0.46 stars."
   ]
  },
  {
   "cell_type": "code",
   "execution_count": 12,
   "metadata": {},
   "outputs": [],
   "source": [
    "q1_5 = 4"
   ]
  },
  {
   "cell_type": "code",
   "execution_count": 13,
   "metadata": {
    "deletable": false,
    "editable": false
   },
   "outputs": [
    {
     "data": {
      "text/html": [
       "\n",
       "    <p><strong>q1_5</strong> passed!</p>\n",
       "    "
      ],
      "text/plain": [
       "q1_5 passed!"
      ]
     },
     "execution_count": 13,
     "metadata": {},
     "output_type": "execute_result"
    }
   ],
   "source": [
    "grader.check(\"q1_5\")"
   ]
  },
  {
   "cell_type": "markdown",
   "metadata": {},
   "source": [
    "Now we want to conduct an A/B test (i.e. Permutation Test) to see if it is by chance that the average star rating for the Asian ramen is greater than non-Asian ramen's average star rating, or if the Asian ramen really does have higher ratings than the non-Asian ramen. To remind you on the process of an A/B test, here is the textbook reference for the [process](https://eldridgejm.github.io/dive_into_data_science/07-hypothesis_testing/2_permutation_tests.html).\n",
    "\n",
    "**Null hypothesis ($H_0$):** Star ratings of Asian ramen and non-Asian ramen come from the same distribution.  \n",
    "**Alternative hypothesis ($H_1$/$H_a$):** Star ratings of Asian ramen is typically higher than that of non-Asian ramen.\n",
    "\n",
    "*Hint*: To make your simulation go faster, drop the irrelevant columns before our A/B test. Make a smaller dataframe that has only the relevant columns and shuffle using that dataframe. "
   ]
  },
  {
   "cell_type": "markdown",
   "metadata": {},
   "source": [
    "**Question 1.6.** Use a permutation test to calculate 500 differences using random permutations of the data. Store your 500 differences in the `differences` array."
   ]
  },
  {
   "cell_type": "code",
   "execution_count": 14,
   "metadata": {},
   "outputs": [
    {
     "data": {
      "text/plain": [
       "array([ 0.23309377,  0.0947527 ,  0.04759493,  0.07648124,  0.12787335,\n",
       "        0.11505432,  0.12613321,  0.1322817 ,  0.08245571,  0.01754852,\n",
       "        0.14405664,  0.17752532,  0.10293135,  0.14608681,  0.1247411 ,\n",
       "        0.15594759,  0.07868541,  0.07381302,  0.07798936,  0.10919585,\n",
       "        0.123581  ,  0.09266453,  0.09771094,  0.05942787,  0.09643483,\n",
       "        0.10623762,  0.04075038,  0.11325618,  0.00954388,  0.08448588,\n",
       "        0.11209609,  0.10020513,  0.13761813,  0.11406824,  0.05130722,\n",
       "        0.13030954,  0.17137683,  0.12914945,  0.0147643 ,  0.07265293,\n",
       "        0.09133042,  0.08170165,  0.08378982,  0.08773414,  0.08761813,\n",
       "       -0.00426122,  0.12700328,  0.14620281,  0.06488031,  0.09318657,\n",
       "        0.06511233,  0.13785015,  0.06812857,  0.12752532,  0.05942787,\n",
       "        0.07439307,  0.06279214,  0.11546036,  0.11047196,  0.17450908,\n",
       "        0.0822817 ,  0.05815177,  0.00420745,  0.14782694,  0.09747892,\n",
       "        0.07450908,  0.11035595,  0.16720049,  0.14005432,  0.13239771,\n",
       "        0.04689887,  0.15432346,  0.16244411,  0.12323298,  0.10832578,\n",
       "        0.00757172,  0.07636523,  0.12694527,  0.06029794,  0.15536755,\n",
       "        0.07160885,  0.10037915,  0.13135363,  0.03001952,  0.12439307,\n",
       "        0.09782694,  0.11244411,  0.12404504,  0.03332578,  0.05142323,\n",
       "        0.18767613,  0.05820978,  0.1373281 ,  0.14701488,  0.08796616,\n",
       "        0.06093599,  0.13007752,  0.09283855,  0.17387103,  0.05641163,\n",
       "        0.1409824 ,  0.08193367,  0.06766453,  0.173581  ,  0.02039075,\n",
       "        0.0959708 ,  0.08344179,  0.00542555,  0.11870861,  0.01418425,\n",
       "        0.10612161,  0.07207288,  0.06012393,  0.0398223 ,  0.15316337,\n",
       "        0.12845339,  0.12184087,  0.0723049 ,  0.08181766,  0.17990351,\n",
       "        0.03941627,  0.09689887,  0.13088959,  0.14655084,  0.07068077,\n",
       "        0.11372022,  0.11720049,  0.16047196,  0.10142323,  0.09585479,\n",
       "        0.11685247,  0.10490351,  0.05896384,  0.12323298,  0.13935827,\n",
       "        0.14388263,  0.09446268,  0.1648223 ,  0.12764133,  0.06917265,\n",
       "        0.06296616,  0.09771094,  0.07421906,  0.1584998 ,  0.08941627,\n",
       "        0.10403344,  0.04805896,  0.12456708,  0.19991511,  0.07079678,\n",
       "        0.08019353,  0.08785015,  0.10762973,  0.12903344,  0.1185346 ,\n",
       "        0.02218889,  0.15571558,  0.05188727,  0.0898223 ,  0.07706128,\n",
       "        0.08518193,  0.12874342,  0.17798936,  0.011052  ,  0.10467149,\n",
       "        0.07984551,  0.10403344,  0.01267613,  0.12682926,  0.07514713,\n",
       "        0.13204968,  0.11714249,  0.07236291,  0.03112161,  0.10200328,\n",
       "        0.07914945,  0.12578518,  0.0722469 ,  0.12508913,  0.14046036,\n",
       "        0.08993831,  0.06818657,  0.10733971,  0.12114481,  0.09736291,\n",
       "        0.1084998 ,  0.15513553,  0.14968309,  0.03088959,  0.21499632,\n",
       "        0.0722469 ,  0.10664365,  0.14243251,  0.08785015,  0.05803576,\n",
       "        0.03274574,  0.06163205,  0.16035595,  0.12056476,  0.12810537,\n",
       "        0.05501952,  0.06343019,  0.09127242,  0.10588959,  0.09040235,\n",
       "        0.09655084,  0.09283855,  0.12682926,  0.13912625,  0.05873182,\n",
       "        0.06691047,  0.06325618,  0.04318657,  0.09272254,  0.14829098,\n",
       "        0.13541395,  0.06151604,  0.07787335,  0.03773414,  0.11882462,\n",
       "        0.01859261,  0.11917265,  0.09318657,  0.08402184,  0.04063437,\n",
       "        0.1122701 ,  0.09504272,  0.1147643 ,  0.07004272,  0.02137683,\n",
       "        0.07114481,  0.10327938,  0.08425386,  0.10948588,  0.07810537,\n",
       "        0.10206128,  0.06882462,  0.02874342,  0.06743251,  0.13843019,\n",
       "        0.04034435,  0.07810537,  0.09515873,  0.06743251,  0.06673646,\n",
       "        0.13460189,  0.16743251,  0.13407984,  0.09295455,  0.14997312,\n",
       "        0.02027474,  0.185994  ,  0.09254852,  0.10258332,  0.02508913,\n",
       "        0.03912625,  0.06824458,  0.08552996,  0.05124922,  0.06662045,\n",
       "        0.14614481,  0.15443947,  0.13042555,  0.09788495,  0.14666685,\n",
       "        0.08274574,  0.1010172 ,  0.12688727,  0.06807056,  0.17798936,\n",
       "        0.10409145,  0.07822138,  0.1072237 ,  0.06435827,  0.07839539,\n",
       "        0.10965989,  0.07265293,  0.11174806,  0.06140003,  0.1460288 ,\n",
       "        0.10188727,  0.04179446,  0.12172486,  0.17903344,  0.08309377,\n",
       "        0.09933507,  0.15449748,  0.05896384,  0.01627242,  0.09736291,\n",
       "        0.12682926,  0.15513553,  0.10536755,  0.12938147,  0.07891743,\n",
       "        0.0747411 ,  0.09156244,  0.05513553,  0.135994  ,  0.11058797,\n",
       "        0.15177126,  0.08013553,  0.10339539,  0.11250212,  0.09150444,\n",
       "        0.11325618,  0.07613321,  0.02862741,  0.18088959,  0.03123762,\n",
       "        0.09788495,  0.10455548,  0.09446268,  0.07880142,  0.18065757,\n",
       "        0.06012393,  0.08390583,  0.05768773,  0.00907984,  0.06998472,\n",
       "        0.15716569,  0.13262973,  0.12578518,  0.10838379,  0.0010752 ,\n",
       "        0.14109841,  0.16569237,  0.08436987,  0.16406824,  0.08193367,\n",
       "        0.14272254,  0.15003112,  0.07798936,  0.05786175,  0.09191047,\n",
       "        0.04608681,  0.14063437,  0.08309377,  0.08506592,  0.13506592,\n",
       "        0.11012393,  0.15409145,  0.21714249,  0.11035595,  0.10061117,\n",
       "        0.09794295,  0.10188727,  0.10090119,  0.04521674, -0.01029371,\n",
       "        0.09434667,  0.11302416,  0.13512393,  0.08112161,  0.08460189,\n",
       "        0.09863901,  0.17578518,  0.09463669,  0.03912625,  0.11000792,\n",
       "        0.02694527,  0.0847179 ,  0.04017033,  0.14394063,  0.19457868,\n",
       "        0.11052996,  0.17450908,  0.110994  ,  0.20420745,  0.07885943,\n",
       "        0.07868541,  0.12914945,  0.07184087,  0.09220049,  0.09260653,\n",
       "        0.1347759 ,  0.09579678,  0.15153924,  0.10652764,  0.13390583,\n",
       "        0.08692207,  0.04829098,  0.05525154,  0.1435346 ,  0.17543715,\n",
       "        0.16174806,  0.07323298,  0.12450908,  0.04539075,  0.0822817 ,\n",
       "        0.15240931,  0.08297776,  0.04051836,  0.14330258,  0.15130722,\n",
       "        0.12752532,  0.01882462,  0.14863901,  0.06395223,  0.02114481,\n",
       "        0.10327938,  0.06290815,  0.1873281 ,  0.05513553,  0.11580838,\n",
       "        0.07114481,  0.03158565,  0.09573878,  0.15072718,  0.07932346,\n",
       "        0.03494991,  0.08761813,  0.0210288 ,  0.12769933,  0.08436987,\n",
       "        0.07891743,  0.10896384,  0.06899864,  0.04666685,  0.08019353,\n",
       "        0.10559957,  0.1285694 ,  0.04921906,  0.07694527,  0.19747892,\n",
       "        0.06894063,  0.1372701 ,  0.15130722,  0.17398704,  0.08866221,\n",
       "        0.03320978,  0.13796616,  0.12334899,  0.05896384,  0.12207288,\n",
       "        0.05588959,  0.1335578 ,  0.0909824 ,  0.09249052,  0.08297776,\n",
       "        0.07561117,  0.03912625,  0.05322138,  0.14075038,  0.08634203,\n",
       "        0.16580838,  0.11580838,  0.07079678,  0.10873182,  0.05119121,\n",
       "        0.03611001,  0.04486871,  0.17079678,  0.09341859,  0.03558797,\n",
       "        0.09028634,  0.06563437,  0.10414945,  0.05739771,  0.17543715,\n",
       "        0.16412625,  0.11836059,  0.0723049 ,  0.15594759,  0.07532114,\n",
       "        0.15554156,  0.09260653,  0.02462509,  0.06209609,  0.16656244,\n",
       "        0.09272254,  0.04272254,  0.05965989,  0.10699168,  0.13019353,\n",
       "        0.12207288,  0.1497991 ,  0.04492671,  0.10281534,  0.16186407,\n",
       "        0.0409824 ,  0.03959029,  0.10652764,  0.09608681,  0.01511233,\n",
       "        0.19162045,  0.04283855,  0.08645803,  0.05136523,  0.085994  ,\n",
       "        0.11151604,  0.05681766,  0.07561117,  0.03297776,  0.10525154,\n",
       "        0.0597759 ,  0.09840699,  0.02537915,  0.10768773,  0.12311697])"
      ]
     },
     "execution_count": 14,
     "metadata": {},
     "output_type": "execute_result"
    }
   ],
   "source": [
    "new_ramen = ramen_w_continent.drop(\n",
    "    columns=['Variety','Style','Brand','Country']\n",
    ")\n",
    "differences = np.array([])\n",
    "\n",
    "for i in np.arange(500):\n",
    "    shuffled_ramen = new_ramen.assign(\n",
    "        Shuffled_Stars = np.random.permutation(new_ramen.get('Stars'))\n",
    "    )\n",
    "    \n",
    "    continent_sum_table = shuffled_ramen.groupby('Continent').sum()\n",
    "    ramen_continent_count = continent_sum_table.assign(Count=shuffled_ramen.groupby('Continent').count().get('Shuffled_Stars'))\n",
    "    ramen_means = ramen_continent_count.assign(Mean=ramen_continent_count.get('Shuffled_Stars') / ramen_continent_count.get('Count'))\n",
    "    nonasian_mean = ramen_means.take([0,2,3,4,5]).get('Shuffled_Stars').sum() / ramen_means.take([0,2,3,4,5]).get('Count').sum()\n",
    "    \n",
    "    difference = mean_asia_stars - nonasian_mean\n",
    "    differences = np.append(differences, difference)\n",
    "\n",
    "differences"
   ]
  },
  {
   "cell_type": "code",
   "execution_count": 15,
   "metadata": {
    "deletable": false,
    "editable": false
   },
   "outputs": [
    {
     "data": {
      "text/html": [
       "\n",
       "    <p><strong>q1_6</strong> passed!</p>\n",
       "    "
      ],
      "text/plain": [
       "q1_6 passed!"
      ]
     },
     "execution_count": 15,
     "metadata": {},
     "output_type": "execute_result"
    }
   ],
   "source": [
    "grader.check(\"q1_6\")"
   ]
  },
  {
   "cell_type": "markdown",
   "metadata": {},
   "source": [
    "**Question 1.7.** Compute a p-value for the hypothesis. That is, under the null hypothesis, compute the probability that we would have obtained a difference at least as extreme as `observed_difference` by chance alone. Make sure the p-value reflects the direction in the alternative hypothesis. Assign your answer to `p_val`."
   ]
  },
  {
   "cell_type": "code",
   "execution_count": 16,
   "metadata": {},
   "outputs": [
    {
     "data": {
      "text/plain": [
       "0.0"
      ]
     },
     "execution_count": 16,
     "metadata": {},
     "output_type": "execute_result"
    }
   ],
   "source": [
    "p_val = np.count_nonzero(differences >= observed_difference) / 500\n",
    "p_val"
   ]
  },
  {
   "cell_type": "code",
   "execution_count": 17,
   "metadata": {
    "deletable": false,
    "editable": false
   },
   "outputs": [
    {
     "data": {
      "text/html": [
       "\n",
       "    <p><strong>q1_7</strong> passed!</p>\n",
       "    "
      ],
      "text/plain": [
       "q1_7 passed!"
      ]
     },
     "execution_count": 17,
     "metadata": {},
     "output_type": "execute_result"
    }
   ],
   "source": [
    "grader.check(\"q1_7\")"
   ]
  },
  {
   "cell_type": "markdown",
   "metadata": {},
   "source": [
    "**Question 1.8.** At the 5% significance level, what is your conclusion? Store the numbers of the correct statements in a list called `q1_8`."
   ]
  },
  {
   "cell_type": "markdown",
   "metadata": {},
   "source": [
    "1. We reject the null hypothesis at the 0.05 significance level.\n",
    "2. We fail to reject the null hypothesis at the 0.05 significance level.\n",
    "3. We accept the alternative hypothesis at the 0.05 significance level.\n",
    "4. We accept the null hypothesis at the 0.05 significance level.\n",
    "5. We have insufficient evidence to accept the alternative hypothesis at the 0.05 significance level."
   ]
  },
  {
   "cell_type": "code",
   "execution_count": 18,
   "metadata": {},
   "outputs": [],
   "source": [
    "q1_8 = [1,3]"
   ]
  },
  {
   "cell_type": "code",
   "execution_count": 19,
   "metadata": {
    "deletable": false,
    "editable": false
   },
   "outputs": [
    {
     "data": {
      "text/html": [
       "\n",
       "    <p><strong>q1_8</strong> passed!</p>\n",
       "    "
      ],
      "text/plain": [
       "q1_8 passed!"
      ]
     },
     "execution_count": 19,
     "metadata": {},
     "output_type": "execute_result"
    }
   ],
   "source": [
    "grader.check(\"q1_8\")"
   ]
  },
  {
   "cell_type": "markdown",
   "metadata": {},
   "source": [
    "**Question 1.9.** Suppose in this question you had shuffled the column representing the continent and kept the `Stars` column constant. \n",
    "Which of the following is a true statement? Assign `q1_9` to either 1, 2, 3, or 4 depending on the number of the correct statement.\n",
    "\n",
    "1. Your new p-value would be 1 - (old p-value), where new p-value is with the continent column shuffled and old p-value is with `Stars` shuffled.\n",
    "2. We would conclude that Asian ramen would have the same star ratings than non-Asian ramen.\n",
    "3. There would be no difference in the A/B Test if we had shuffled the `Style` column instead.\n",
    "4. The column for continents cannot be shuffled because it is categorical."
   ]
  },
  {
   "cell_type": "code",
   "execution_count": 20,
   "metadata": {},
   "outputs": [],
   "source": [
    "q1_9 = 3"
   ]
  },
  {
   "cell_type": "code",
   "execution_count": 21,
   "metadata": {
    "deletable": false,
    "editable": false
   },
   "outputs": [
    {
     "data": {
      "text/html": [
       "\n",
       "    <p><strong>q1_9</strong> passed!</p>\n",
       "    "
      ],
      "text/plain": [
       "q1_9 passed!"
      ]
     },
     "execution_count": 21,
     "metadata": {},
     "output_type": "execute_result"
    }
   ],
   "source": [
    "grader.check(\"q1_9\")"
   ]
  },
  {
   "cell_type": "markdown",
   "metadata": {},
   "source": [
    "## 2. Percentiles"
   ]
  },
  {
   "cell_type": "markdown",
   "metadata": {},
   "source": [
    "**The General Definition**\n",
    "\n",
    "> Let $p$ be a number between 0 and 100. The $p$th percentile of a collection is the smallest value in the collection that is *at least as large* as $p$% of all the values. "
   ]
  },
  {
   "cell_type": "markdown",
   "metadata": {},
   "source": [
    "![](data/percentile_example.jpg)"
   ]
  },
  {
   "cell_type": "markdown",
   "metadata": {},
   "source": [
    "By this definition, any percentile between 0 and 100 can be computed for any collection of values and is always an element of the collection. Suppose there are $n$ elements in the collection. To find the $p$th percentile:\n",
    "\n",
    "1. Sort the collection in increasing order.\n",
    "2. Find $p$% of $n$: $\\frac p{100}*n$. Call that $h$. If $h$ is an integer, define $k = h$. Otherwise, let $k$ be the smallest integer greater than $h$.\n",
    "3. Take the $k$th element of the sorted collection."
   ]
  },
  {
   "cell_type": "markdown",
   "metadata": {},
   "source": [
    "**Question 2.1.** Assign the number of elements in `values` to the variable `n`. Define `k` as above -- your answer should be an integer. Assign the 47th percentile of the array `values` to `forty_seventh_percentile`. You must use the variables provided for you when solving this problem. For this problem only, you may *not* use `np.percentile()`.\n",
    "\n",
    "*Hint:* Using `math.ceil()` will round up a number to the next nearest whole number. `math` has already been imported for you."
   ]
  },
  {
   "cell_type": "code",
   "execution_count": 22,
   "metadata": {},
   "outputs": [
    {
     "data": {
      "text/plain": [
       "array([ 10,  23,  23,  35,  39,  48,  54,  60,  71,  76,  86,  94, 106])"
      ]
     },
     "execution_count": 22,
     "metadata": {},
     "output_type": "execute_result"
    }
   ],
   "source": [
    "# don't change the values in this array!\n",
    "values = np.array([23, 76, 94, 60, 71, 35, 23, 106, 54, 86, 39, 10, 48])\n",
    "values.sort()  # This line sorts the array\n",
    "values"
   ]
  },
  {
   "cell_type": "code",
   "execution_count": 23,
   "metadata": {},
   "outputs": [
    {
     "data": {
      "text/plain": [
       "7"
      ]
     },
     "execution_count": 23,
     "metadata": {},
     "output_type": "execute_result"
    }
   ],
   "source": [
    "n = len(values)\n",
    "h = (47/100) * n\n",
    "k = math.ceil(h)\n",
    "forty_seventh_percentile = k\n",
    "forty_seventh_percentile"
   ]
  },
  {
   "cell_type": "code",
   "execution_count": 24,
   "metadata": {
    "deletable": false,
    "editable": false
   },
   "outputs": [
    {
     "data": {
      "text/html": [
       "\n",
       "    <p><strong>q2_1</strong> passed!</p>\n",
       "    "
      ],
      "text/plain": [
       "q2_1 passed!"
      ]
     },
     "execution_count": 24,
     "metadata": {},
     "output_type": "execute_result"
    }
   ],
   "source": [
    "grader.check(\"q2_1\")"
   ]
  },
  {
   "cell_type": "markdown",
   "metadata": {},
   "source": [
    "**Question 2.2.** The csv file `mcdonalds.csv` contains some selected information on menu items taken from [kaggle](https://www.kaggle.com/mcdonalds/nutrition-facts). The columns include `Category`, `Item`, `Calories`, `Sodium`, `Total Fat`, `Carbohydrates`, `Sugars`, `Protein`. Pick the appropriate bins to plot a histogram showing the distribution of `Calories`."
   ]
  },
  {
   "cell_type": "code",
   "execution_count": 25,
   "metadata": {},
   "outputs": [],
   "source": [
    "# do not change this cell\n",
    "mcd = bpd.read_csv('data/mcdonalds.csv',index_col = 0)"
   ]
  },
  {
   "cell_type": "markdown",
   "metadata": {},
   "source": [
    "1. mcd_bins = np.arange(0, 200, 100)\n",
    "2. mcd_bins = np.arange(0, 2000, 100)\n",
    "3. mcd_bins = np.arange(0, 4000, 100)"
   ]
  },
  {
   "cell_type": "code",
   "execution_count": 26,
   "metadata": {},
   "outputs": [
    {
     "data": {
      "text/plain": [
       "2"
      ]
     },
     "execution_count": 26,
     "metadata": {},
     "output_type": "execute_result"
    }
   ],
   "source": [
    "q2_2 = 2\n",
    "q2_2"
   ]
  },
  {
   "cell_type": "code",
   "execution_count": 27,
   "metadata": {
    "deletable": false,
    "editable": false
   },
   "outputs": [
    {
     "data": {
      "text/html": [
       "\n",
       "    <p><strong>q2_2</strong> passed!</p>\n",
       "    "
      ],
      "text/plain": [
       "q2_2 passed!"
      ]
     },
     "execution_count": 27,
     "metadata": {},
     "output_type": "execute_result"
    }
   ],
   "source": [
    "grader.check(\"q2_2\")"
   ]
  },
  {
   "cell_type": "markdown",
   "metadata": {},
   "source": [
    "Plot a histogram showing the distribution of `Calories` using the bins chosen from Question 2.2"
   ]
  },
  {
   "cell_type": "code",
   "execution_count": 28,
   "metadata": {},
   "outputs": [
    {
     "data": {
      "text/plain": [
       "<AxesSubplot:ylabel='Frequency'>"
      ]
     },
     "execution_count": 28,
     "metadata": {},
     "output_type": "execute_result"
    },
    {
     "data": {
      "image/png": "[encoded data removed]",
      "text/plain": [
       "<Figure size 432x288 with 1 Axes>"
      ]
     },
     "metadata": {},
     "output_type": "display_data"
    }
   ],
   "source": [
    "mcd_bins = np.arange(0,2000,100)\n",
    "mcd.plot(kind='hist', y='Calories', bins=mcd_bins)"
   ]
  },
  {
   "cell_type": "markdown",
   "metadata": {},
   "source": [
    "**Question 2.3.** From the plotted histogram, we notice that there is an item on the menu with a significantly larger calorie count than the rest of the menu items. Assign the outlier's item name to `item_outlier` and its calorie count to `calorie_outlier`."
   ]
  },
  {
   "cell_type": "code",
   "execution_count": 29,
   "metadata": {},
   "outputs": [
    {
     "data": {
      "text/html": [
       "<div>\n",
       "<style scoped>\n",
       "    .dataframe tbody tr th:only-of-type {\n",
       "        vertical-align: middle;\n",
       "    }\n",
       "\n",
       "    .dataframe tbody tr th {\n",
       "        vertical-align: top;\n",
       "    }\n",
       "\n",
       "    .dataframe thead th {\n",
       "        text-align: right;\n",
       "    }\n",
       "</style>\n",
       "<table border=\"1\" class=\"dataframe\">\n",
       "  <thead>\n",
       "    <tr style=\"text-align: right;\">\n",
       "      <th></th>\n",
       "      <th>Category</th>\n",
       "      <th>Item</th>\n",
       "      <th>Calories</th>\n",
       "      <th>Sodium</th>\n",
       "      <th>Total Fat</th>\n",
       "      <th>Carbohydrates</th>\n",
       "      <th>Sugars</th>\n",
       "      <th>Protein</th>\n",
       "    </tr>\n",
       "  </thead>\n",
       "  <tbody>\n",
       "    <tr>\n",
       "      <th>0</th>\n",
       "      <td>Breakfast</td>\n",
       "      <td>Egg McMuffin</td>\n",
       "      <td>300</td>\n",
       "      <td>750</td>\n",
       "      <td>13.0</td>\n",
       "      <td>31</td>\n",
       "      <td>3</td>\n",
       "      <td>17</td>\n",
       "    </tr>\n",
       "    <tr>\n",
       "      <th>1</th>\n",
       "      <td>Breakfast</td>\n",
       "      <td>Egg White Delight</td>\n",
       "      <td>250</td>\n",
       "      <td>770</td>\n",
       "      <td>8.0</td>\n",
       "      <td>30</td>\n",
       "      <td>3</td>\n",
       "      <td>18</td>\n",
       "    </tr>\n",
       "    <tr>\n",
       "      <th>2</th>\n",
       "      <td>Breakfast</td>\n",
       "      <td>Sausage McMuffin</td>\n",
       "      <td>370</td>\n",
       "      <td>780</td>\n",
       "      <td>23.0</td>\n",
       "      <td>29</td>\n",
       "      <td>2</td>\n",
       "      <td>14</td>\n",
       "    </tr>\n",
       "    <tr>\n",
       "      <th>3</th>\n",
       "      <td>Breakfast</td>\n",
       "      <td>Sausage McMuffin with Egg</td>\n",
       "      <td>450</td>\n",
       "      <td>860</td>\n",
       "      <td>28.0</td>\n",
       "      <td>30</td>\n",
       "      <td>2</td>\n",
       "      <td>21</td>\n",
       "    </tr>\n",
       "    <tr>\n",
       "      <th>4</th>\n",
       "      <td>Breakfast</td>\n",
       "      <td>Sausage McMuffin with Egg Whites</td>\n",
       "      <td>400</td>\n",
       "      <td>880</td>\n",
       "      <td>23.0</td>\n",
       "      <td>30</td>\n",
       "      <td>2</td>\n",
       "      <td>21</td>\n",
       "    </tr>\n",
       "    <tr>\n",
       "      <th>...</th>\n",
       "      <td>...</td>\n",
       "      <td>...</td>\n",
       "      <td>...</td>\n",
       "      <td>...</td>\n",
       "      <td>...</td>\n",
       "      <td>...</td>\n",
       "      <td>...</td>\n",
       "      <td>...</td>\n",
       "    </tr>\n",
       "    <tr>\n",
       "      <th>255</th>\n",
       "      <td>Smoothies &amp; Shakes</td>\n",
       "      <td>McFlurry with Oreo Cookies (Small)</td>\n",
       "      <td>510</td>\n",
       "      <td>280</td>\n",
       "      <td>17.0</td>\n",
       "      <td>80</td>\n",
       "      <td>64</td>\n",
       "      <td>12</td>\n",
       "    </tr>\n",
       "    <tr>\n",
       "      <th>256</th>\n",
       "      <td>Smoothies &amp; Shakes</td>\n",
       "      <td>McFlurry with Oreo Cookies (Medium)</td>\n",
       "      <td>690</td>\n",
       "      <td>380</td>\n",
       "      <td>23.0</td>\n",
       "      <td>106</td>\n",
       "      <td>85</td>\n",
       "      <td>15</td>\n",
       "    </tr>\n",
       "    <tr>\n",
       "      <th>257</th>\n",
       "      <td>Smoothies &amp; Shakes</td>\n",
       "      <td>McFlurry with Oreo Cookies (Snack)</td>\n",
       "      <td>340</td>\n",
       "      <td>190</td>\n",
       "      <td>11.0</td>\n",
       "      <td>53</td>\n",
       "      <td>43</td>\n",
       "      <td>8</td>\n",
       "    </tr>\n",
       "    <tr>\n",
       "      <th>258</th>\n",
       "      <td>Smoothies &amp; Shakes</td>\n",
       "      <td>McFlurry with Reese's Peanut Butter Cups (Medium)</td>\n",
       "      <td>810</td>\n",
       "      <td>400</td>\n",
       "      <td>32.0</td>\n",
       "      <td>114</td>\n",
       "      <td>103</td>\n",
       "      <td>21</td>\n",
       "    </tr>\n",
       "    <tr>\n",
       "      <th>259</th>\n",
       "      <td>Smoothies &amp; Shakes</td>\n",
       "      <td>McFlurry with Reese's Peanut Butter Cups (Snack)</td>\n",
       "      <td>410</td>\n",
       "      <td>200</td>\n",
       "      <td>16.0</td>\n",
       "      <td>57</td>\n",
       "      <td>51</td>\n",
       "      <td>10</td>\n",
       "    </tr>\n",
       "  </tbody>\n",
       "</table>\n",
       "<p>260 rows × 8 columns</p>\n",
       "</div>"
      ],
      "text/plain": [
       "               Category                                               Item  \\\n",
       "0             Breakfast                                       Egg McMuffin   \n",
       "1             Breakfast                                  Egg White Delight   \n",
       "2             Breakfast                                   Sausage McMuffin   \n",
       "3             Breakfast                          Sausage McMuffin with Egg   \n",
       "4             Breakfast                   Sausage McMuffin with Egg Whites   \n",
       "..                  ...                                                ...   \n",
       "255  Smoothies & Shakes                 McFlurry with Oreo Cookies (Small)   \n",
       "256  Smoothies & Shakes                McFlurry with Oreo Cookies (Medium)   \n",
       "257  Smoothies & Shakes                 McFlurry with Oreo Cookies (Snack)   \n",
       "258  Smoothies & Shakes  McFlurry with Reese's Peanut Butter Cups (Medium)   \n",
       "259  Smoothies & Shakes   McFlurry with Reese's Peanut Butter Cups (Snack)   \n",
       "\n",
       "     Calories  Sodium  Total Fat  Carbohydrates  Sugars  Protein  \n",
       "0         300     750       13.0             31       3       17  \n",
       "1         250     770        8.0             30       3       18  \n",
       "2         370     780       23.0             29       2       14  \n",
       "3         450     860       28.0             30       2       21  \n",
       "4         400     880       23.0             30       2       21  \n",
       "..        ...     ...        ...            ...     ...      ...  \n",
       "255       510     280       17.0             80      64       12  \n",
       "256       690     380       23.0            106      85       15  \n",
       "257       340     190       11.0             53      43        8  \n",
       "258       810     400       32.0            114     103       21  \n",
       "259       410     200       16.0             57      51       10  \n",
       "\n",
       "[260 rows x 8 columns]"
      ]
     },
     "execution_count": 29,
     "metadata": {},
     "output_type": "execute_result"
    }
   ],
   "source": [
    "mcd"
   ]
  },
  {
   "cell_type": "code",
   "execution_count": 30,
   "metadata": {},
   "outputs": [
    {
     "data": {
      "text/plain": [
       "('Chicken McNuggets (40 piece)', 1880)"
      ]
     },
     "execution_count": 30,
     "metadata": {},
     "output_type": "execute_result"
    }
   ],
   "source": [
    "item_outlier = mcd[mcd.get('Calories') > 1500].get('Item').iloc[0]\n",
    "calorie_outlier = mcd[mcd.get('Calories') > 1500].get('Calories').iloc[0]\n",
    "item_outlier, calorie_outlier"
   ]
  },
  {
   "cell_type": "code",
   "execution_count": 31,
   "metadata": {
    "deletable": false,
    "editable": false
   },
   "outputs": [
    {
     "data": {
      "text/html": [
       "\n",
       "    <p><strong>q2_3</strong> passed!</p>\n",
       "    "
      ],
      "text/plain": [
       "q2_3 passed!"
      ]
     },
     "execution_count": 31,
     "metadata": {},
     "output_type": "execute_result"
    }
   ],
   "source": [
    "grader.check(\"q2_3\")"
   ]
  },
  {
   "cell_type": "markdown",
   "metadata": {},
   "source": [
    "**Question 2.4.** Compare the calorie distribution between categories `Coffee & Tea` **AND** `Smoothies & Shakes` (group 1) **versus** category `Desserts` (group 2). Find the absolute difference between the 85th percentile of the two group's `Calories` column and assign it to `absolute_difference`. You may use `np.percentile()`."
   ]
  },
  {
   "cell_type": "code",
   "execution_count": 32,
   "metadata": {},
   "outputs": [
    {
     "data": {
      "text/plain": [
       "219.0"
      ]
     },
     "execution_count": 32,
     "metadata": {},
     "output_type": "execute_result"
    }
   ],
   "source": [
    "group_1 = mcd[(mcd.get('Category') == 'Coffee & Tea') | (mcd.get('Category') == 'Smoothies & Shakes')].get('Calories')\n",
    "group_2 = mcd[mcd.get('Category') == 'Desserts'].get('Calories')\n",
    "\n",
    "calories_group_1 = np.array([])\n",
    "for i in np.arange(len(group_1)):\n",
    "    calories_group_1 = np.append(calories_group_1, group_1.iloc[i])\n",
    "    calories_group_1 = np.sort(calories_group_1)\n",
    "    \n",
    "calories_group_2 = np.array([])\n",
    "for i in np.arange(len(group_2)):\n",
    "    calories_group_2 = np.append(calories_group_2, group_2.iloc[i])\n",
    "    calories_group_2 = np.sort(calories_group_2)\n",
    "    \n",
    "absolute_difference = abs(np.percentile(calories_group_1, 85) - np.percentile(calories_group_2, 85))\n",
    "absolute_difference"
   ]
  },
  {
   "cell_type": "code",
   "execution_count": 33,
   "metadata": {
    "deletable": false,
    "editable": false
   },
   "outputs": [
    {
     "data": {
      "text/html": [
       "\n",
       "    <p><strong>q2_4</strong> passed!</p>\n",
       "    "
      ],
      "text/plain": [
       "q2_4 passed!"
      ]
     },
     "execution_count": 33,
     "metadata": {},
     "output_type": "execute_result"
    }
   ],
   "source": [
    "grader.check(\"q2_4\")"
   ]
  },
  {
   "cell_type": "markdown",
   "metadata": {},
   "source": [
    "**Question 2.5**. In an array `carb_quartiles`, put the values for the first, second, and third quartiles (in that order) of the `Carbohydrates` data provided, but only for items not in the `Smoothies & Shakes` category. Make sure your values are in the correct order. You may use `np.percentile()`."
   ]
  },
  {
   "cell_type": "code",
   "execution_count": 34,
   "metadata": {},
   "outputs": [
    {
     "data": {
      "text/plain": [
       "array([29., 42., 55.])"
      ]
     },
     "execution_count": 34,
     "metadata": {},
     "output_type": "execute_result"
    }
   ],
   "source": [
    "carbo_ss = mcd[mcd.get('Category') != 'Smoothies & Shakes'].get('Carbohydrates')\n",
    "carbo_ss_array = np.array([])\n",
    "\n",
    "for i in np.arange(len(carbo_ss)):\n",
    "    carbo_ss_array = np.append(carbo_ss_array, carbo_ss.iloc[i])\n",
    "    carbo_ss_array = np.sort(carbo_ss_array)\n",
    "    \n",
    "carb_quartiles =np.array([np.percentile(carbo_ss_array, 25), np.percentile(carbo_ss_array, 50), np.percentile(carbo_ss_array, 75)])\n",
    "carb_quartiles"
   ]
  },
  {
   "cell_type": "code",
   "execution_count": 35,
   "metadata": {
    "deletable": false,
    "editable": false
   },
   "outputs": [
    {
     "data": {
      "text/html": [
       "\n",
       "    <p><strong>q2_5</strong> passed!</p>\n",
       "    "
      ],
      "text/plain": [
       "q2_5 passed!"
      ]
     },
     "execution_count": 35,
     "metadata": {},
     "output_type": "execute_result"
    }
   ],
   "source": [
    "grader.check(\"q2_5\")"
   ]
  },
  {
   "cell_type": "markdown",
   "metadata": {},
   "source": [
    "**Quetion 2.6.** Say that McDonald's wants to add in a new Smoothie called `Mocha Almond Fudge (Large)` which has 90 grams of sugar. What would the `Sugars` percentile range of this new smoothie be out of the **Large** only `Smoothies & Shakes` `Category`? Give the result back as two numbers (1-100). The smallest percentile that will return the new drink should be returned as `lower_bound` and the largest percentile that will return the new drink should be labeled `upper_bound`. For example, if the new smoothie would be returned back when finding the 70th percentile and 80th percentile of the Large Smoothies, but not at the 69th and 81st percentile, then lower_bound = 70, upper_bound = 80.\n",
    "\n",
    "**Hint:** If you're unsure about percentiles, refer back to the general definition above Question 1."
   ]
  },
  {
   "cell_type": "code",
   "execution_count": 36,
   "metadata": {},
   "outputs": [
    {
     "name": "stdout",
     "output_type": "stream",
     "text": [
      "90.11\n",
      "90.88000000000001\n"
     ]
    }
   ],
   "source": [
    "smoothies = mcd[mcd.get('Category') == 'Smoothies & Shakes']\n",
    "large_smoothies = smoothies[smoothies.get('Item').str.contains('Large')]\n",
    "sugars = np.array([large_smoothies.get('Sugars')])\n",
    "sugars_added = np.array([])\n",
    "sugars_added = np.append(sugars, 90)\n",
    "sugars_added = np.sort(sugars_added)\n",
    "\n",
    "print(np.percentile(sugars_added, 43))\n",
    "print((np.percentile(sugars_added, 44)))\n",
    "\n",
    "lower_bound = 43\n",
    "upper_bound = 44"
   ]
  },
  {
   "cell_type": "code",
   "execution_count": 37,
   "metadata": {
    "deletable": false,
    "editable": false
   },
   "outputs": [
    {
     "data": {
      "text/html": [
       "\n",
       "    <p><strong>q2_6</strong> passed!</p>\n",
       "    "
      ],
      "text/plain": [
       "q2_6 passed!"
      ]
     },
     "execution_count": 37,
     "metadata": {},
     "output_type": "execute_result"
    }
   ],
   "source": [
    "grader.check(\"q2_6\")"
   ]
  },
  {
   "cell_type": "markdown",
   "metadata": {},
   "source": [
    "**Question 2.7.** Shaun surveyed his class to find the total number of pets each of his classmates has. You can see his findings below in the table `pets`. For instance, 2 people have 0 pets, 4 have 1 pet, and so on. If one of his classmates, Jake, has some number of pets that falls in the 75th percentile of Shaun's data, how many pets does Jake have? Assign your answer to the value `jake_pets`. You may use `np.percentile()`.\n",
    "\n",
    "*Hint*: A possible solution uses [np.repeat](https://docs.scipy.org/doc/numpy/reference/generated/numpy.repeat.html). (Also described in part 4.3)"
   ]
  },
  {
   "cell_type": "code",
   "execution_count": 38,
   "metadata": {
    "scrolled": true
   },
   "outputs": [
    {
     "data": {
      "text/html": [
       "<div>\n",
       "<style scoped>\n",
       "    .dataframe tbody tr th:only-of-type {\n",
       "        vertical-align: middle;\n",
       "    }\n",
       "\n",
       "    .dataframe tbody tr th {\n",
       "        vertical-align: top;\n",
       "    }\n",
       "\n",
       "    .dataframe thead th {\n",
       "        text-align: right;\n",
       "    }\n",
       "</style>\n",
       "<table border=\"1\" class=\"dataframe\">\n",
       "  <thead>\n",
       "    <tr style=\"text-align: right;\">\n",
       "      <th></th>\n",
       "      <th>Pets</th>\n",
       "      <th>Frequency</th>\n",
       "    </tr>\n",
       "  </thead>\n",
       "  <tbody>\n",
       "    <tr>\n",
       "      <th>0</th>\n",
       "      <td>0</td>\n",
       "      <td>4</td>\n",
       "    </tr>\n",
       "    <tr>\n",
       "      <th>1</th>\n",
       "      <td>1</td>\n",
       "      <td>5</td>\n",
       "    </tr>\n",
       "    <tr>\n",
       "      <th>2</th>\n",
       "      <td>2</td>\n",
       "      <td>6</td>\n",
       "    </tr>\n",
       "    <tr>\n",
       "      <th>3</th>\n",
       "      <td>3</td>\n",
       "      <td>3</td>\n",
       "    </tr>\n",
       "    <tr>\n",
       "      <th>4</th>\n",
       "      <td>4</td>\n",
       "      <td>2</td>\n",
       "    </tr>\n",
       "    <tr>\n",
       "      <th>5</th>\n",
       "      <td>5</td>\n",
       "      <td>1</td>\n",
       "    </tr>\n",
       "    <tr>\n",
       "      <th>6</th>\n",
       "      <td>10</td>\n",
       "      <td>1</td>\n",
       "    </tr>\n",
       "  </tbody>\n",
       "</table>\n",
       "</div>"
      ],
      "text/plain": [
       "   Pets  Frequency\n",
       "0     0          4\n",
       "1     1          5\n",
       "2     2          6\n",
       "3     3          3\n",
       "4     4          2\n",
       "5     5          1\n",
       "6    10          1"
      ]
     },
     "execution_count": 38,
     "metadata": {},
     "output_type": "execute_result"
    }
   ],
   "source": [
    "# load the data\n",
    "pets = bpd.read_csv('data/pets.csv')\n",
    "pets"
   ]
  },
  {
   "cell_type": "code",
   "execution_count": 39,
   "metadata": {},
   "outputs": [
    {
     "data": {
      "text/plain": [
       "3.0"
      ]
     },
     "execution_count": 39,
     "metadata": {},
     "output_type": "execute_result"
    }
   ],
   "source": [
    "pets_data = [0,0,0,0,1,1,1,1,1,2,2,2,2,2,2,3,3,3,4,4,5,10]\n",
    "jake_pets = np.percentile(pets_data, 75)\n",
    "jake_pets"
   ]
  },
  {
   "cell_type": "code",
   "execution_count": 40,
   "metadata": {
    "deletable": false,
    "editable": false
   },
   "outputs": [
    {
     "data": {
      "text/html": [
       "\n",
       "    <p><strong>q2_7</strong> passed!</p>\n",
       "    "
      ],
      "text/plain": [
       "q2_7 passed!"
      ]
     },
     "execution_count": 40,
     "metadata": {},
     "output_type": "execute_result"
    }
   ],
   "source": [
    "grader.check(\"q2_7\")"
   ]
  },
  {
   "cell_type": "markdown",
   "metadata": {},
   "source": [
    "## 3. In-N-Out and Five Guys"
   ]
  },
  {
   "cell_type": "markdown",
   "metadata": {},
   "source": [
    "Suppose you are a burger lover and a regular at In-N-Out. When you get your third In-N-Out burger of the week, you notice that your patty is extremely small. Your friend tells you In-N-Out patties have always been this small, but you are doubtful and decide to investigate.\n",
    "\n",
    "Ideally, you would want to figure out the exact mean weight of all In-N-Out burger patties. However, it's not feasible to obtain the mean weight of *all* In-N-Out patties (i.e. the mean weight of the population)."
   ]
  },
  {
   "cell_type": "markdown",
   "metadata": {},
   "source": [
    "**Question 3.1.** Complete the statement below by filling in the blanks."
   ]
  },
  {
   "cell_type": "markdown",
   "metadata": {},
   "source": [
    "<hr style=\"color:Maroon;background-color:Maroon;border:0 none; height: 3px;\">\n",
    "\n",
    "Therefore, you want to collect a sample of In-N-Out patties to obtain a ____________ statistic to estimate the ____________ parameter.\n",
    "\n",
    "<hr style=\"color:Maroon;background-color:Maroon;border:0 none; height: 3px;\">"
   ]
  },
  {
   "cell_type": "markdown",
   "metadata": {},
   "source": [
    "1. sample; population\n",
    "2. population; sample"
   ]
  },
  {
   "cell_type": "code",
   "execution_count": 41,
   "metadata": {},
   "outputs": [],
   "source": [
    "q3_1 = 1"
   ]
  },
  {
   "cell_type": "code",
   "execution_count": 42,
   "metadata": {
    "deletable": false,
    "editable": false
   },
   "outputs": [
    {
     "data": {
      "text/html": [
       "\n",
       "    <p><strong>q3_1</strong> passed!</p>\n",
       "    "
      ],
      "text/plain": [
       "q3_1 passed!"
      ]
     },
     "execution_count": 42,
     "metadata": {},
     "output_type": "execute_result"
    }
   ],
   "source": [
    "grader.check(\"q3_1\")"
   ]
  },
  {
   "cell_type": "markdown",
   "metadata": {},
   "source": [
    "Your other friend, who works at In-N-Out, agreed to weigh all the patties during his shift. He also does the same with Five Guys, since he works there as well. You decide to use this data as your sample."
   ]
  },
  {
   "cell_type": "markdown",
   "metadata": {},
   "source": [
    "**Question 3.2.** Your data is recorded in a CSV file called `burgers.csv`. Read this file into a table named `burgers`."
   ]
  },
  {
   "cell_type": "code",
   "execution_count": 43,
   "metadata": {},
   "outputs": [
    {
     "data": {
      "text/html": [
       "<div>\n",
       "<style scoped>\n",
       "    .dataframe tbody tr th:only-of-type {\n",
       "        vertical-align: middle;\n",
       "    }\n",
       "\n",
       "    .dataframe tbody tr th {\n",
       "        vertical-align: top;\n",
       "    }\n",
       "\n",
       "    .dataframe thead th {\n",
       "        text-align: right;\n",
       "    }\n",
       "</style>\n",
       "<table border=\"1\" class=\"dataframe\">\n",
       "  <thead>\n",
       "    <tr style=\"text-align: right;\">\n",
       "      <th></th>\n",
       "      <th>Place</th>\n",
       "      <th>Patty Weight (Ounces)</th>\n",
       "    </tr>\n",
       "  </thead>\n",
       "  <tbody>\n",
       "    <tr>\n",
       "      <th>0</th>\n",
       "      <td>In-N-Out</td>\n",
       "      <td>2.039654</td>\n",
       "    </tr>\n",
       "    <tr>\n",
       "      <th>1</th>\n",
       "      <td>Five Guys</td>\n",
       "      <td>3.248876</td>\n",
       "    </tr>\n",
       "    <tr>\n",
       "      <th>2</th>\n",
       "      <td>In-N-Out</td>\n",
       "      <td>1.977957</td>\n",
       "    </tr>\n",
       "    <tr>\n",
       "      <th>3</th>\n",
       "      <td>Five Guys</td>\n",
       "      <td>3.403185</td>\n",
       "    </tr>\n",
       "    <tr>\n",
       "      <th>4</th>\n",
       "      <td>Five Guys</td>\n",
       "      <td>3.120933</td>\n",
       "    </tr>\n",
       "    <tr>\n",
       "      <th>...</th>\n",
       "      <td>...</td>\n",
       "      <td>...</td>\n",
       "    </tr>\n",
       "    <tr>\n",
       "      <th>95</th>\n",
       "      <td>Five Guys</td>\n",
       "      <td>3.193695</td>\n",
       "    </tr>\n",
       "    <tr>\n",
       "      <th>96</th>\n",
       "      <td>In-N-Out</td>\n",
       "      <td>2.061263</td>\n",
       "    </tr>\n",
       "    <tr>\n",
       "      <th>97</th>\n",
       "      <td>In-N-Out</td>\n",
       "      <td>2.150006</td>\n",
       "    </tr>\n",
       "    <tr>\n",
       "      <th>98</th>\n",
       "      <td>In-N-Out</td>\n",
       "      <td>1.739588</td>\n",
       "    </tr>\n",
       "    <tr>\n",
       "      <th>99</th>\n",
       "      <td>Five Guys</td>\n",
       "      <td>3.381488</td>\n",
       "    </tr>\n",
       "  </tbody>\n",
       "</table>\n",
       "<p>100 rows × 2 columns</p>\n",
       "</div>"
      ],
      "text/plain": [
       "        Place  Patty Weight (Ounces)\n",
       "0    In-N-Out               2.039654\n",
       "1   Five Guys               3.248876\n",
       "2    In-N-Out               1.977957\n",
       "3   Five Guys               3.403185\n",
       "4   Five Guys               3.120933\n",
       "..        ...                    ...\n",
       "95  Five Guys               3.193695\n",
       "96   In-N-Out               2.061263\n",
       "97   In-N-Out               2.150006\n",
       "98   In-N-Out               1.739588\n",
       "99  Five Guys               3.381488\n",
       "\n",
       "[100 rows x 2 columns]"
      ]
     },
     "execution_count": 43,
     "metadata": {},
     "output_type": "execute_result"
    }
   ],
   "source": [
    "burgers = bpd.read_csv('data/burgers.csv')\n",
    "burgers"
   ]
  },
  {
   "cell_type": "markdown",
   "metadata": {},
   "source": [
    "**Question 3.3.** For now, you only care about the weights of the In-N-Out patties. Create a new table with the rows of `burgers` where the value of `Place` is \"In-N-Out\". Assign this new table to `in_n_out`."
   ]
  },
  {
   "cell_type": "code",
   "execution_count": 44,
   "metadata": {
    "scrolled": true
   },
   "outputs": [
    {
     "data": {
      "text/html": [
       "<div>\n",
       "<style scoped>\n",
       "    .dataframe tbody tr th:only-of-type {\n",
       "        vertical-align: middle;\n",
       "    }\n",
       "\n",
       "    .dataframe tbody tr th {\n",
       "        vertical-align: top;\n",
       "    }\n",
       "\n",
       "    .dataframe thead th {\n",
       "        text-align: right;\n",
       "    }\n",
       "</style>\n",
       "<table border=\"1\" class=\"dataframe\">\n",
       "  <thead>\n",
       "    <tr style=\"text-align: right;\">\n",
       "      <th></th>\n",
       "      <th>Place</th>\n",
       "      <th>Patty Weight (Ounces)</th>\n",
       "    </tr>\n",
       "  </thead>\n",
       "  <tbody>\n",
       "    <tr>\n",
       "      <th>0</th>\n",
       "      <td>In-N-Out</td>\n",
       "      <td>2.039654</td>\n",
       "    </tr>\n",
       "    <tr>\n",
       "      <th>2</th>\n",
       "      <td>In-N-Out</td>\n",
       "      <td>1.977957</td>\n",
       "    </tr>\n",
       "    <tr>\n",
       "      <th>5</th>\n",
       "      <td>In-N-Out</td>\n",
       "      <td>1.966266</td>\n",
       "    </tr>\n",
       "    <tr>\n",
       "      <th>6</th>\n",
       "      <td>In-N-Out</td>\n",
       "      <td>2.058461</td>\n",
       "    </tr>\n",
       "    <tr>\n",
       "      <th>8</th>\n",
       "      <td>In-N-Out</td>\n",
       "      <td>1.985435</td>\n",
       "    </tr>\n",
       "    <tr>\n",
       "      <th>...</th>\n",
       "      <td>...</td>\n",
       "      <td>...</td>\n",
       "    </tr>\n",
       "    <tr>\n",
       "      <th>93</th>\n",
       "      <td>In-N-Out</td>\n",
       "      <td>2.107875</td>\n",
       "    </tr>\n",
       "    <tr>\n",
       "      <th>94</th>\n",
       "      <td>In-N-Out</td>\n",
       "      <td>1.969110</td>\n",
       "    </tr>\n",
       "    <tr>\n",
       "      <th>96</th>\n",
       "      <td>In-N-Out</td>\n",
       "      <td>2.061263</td>\n",
       "    </tr>\n",
       "    <tr>\n",
       "      <th>97</th>\n",
       "      <td>In-N-Out</td>\n",
       "      <td>2.150006</td>\n",
       "    </tr>\n",
       "    <tr>\n",
       "      <th>98</th>\n",
       "      <td>In-N-Out</td>\n",
       "      <td>1.739588</td>\n",
       "    </tr>\n",
       "  </tbody>\n",
       "</table>\n",
       "<p>50 rows × 2 columns</p>\n",
       "</div>"
      ],
      "text/plain": [
       "       Place  Patty Weight (Ounces)\n",
       "0   In-N-Out               2.039654\n",
       "2   In-N-Out               1.977957\n",
       "5   In-N-Out               1.966266\n",
       "6   In-N-Out               2.058461\n",
       "8   In-N-Out               1.985435\n",
       "..       ...                    ...\n",
       "93  In-N-Out               2.107875\n",
       "94  In-N-Out               1.969110\n",
       "96  In-N-Out               2.061263\n",
       "97  In-N-Out               2.150006\n",
       "98  In-N-Out               1.739588\n",
       "\n",
       "[50 rows x 2 columns]"
      ]
     },
     "execution_count": 44,
     "metadata": {},
     "output_type": "execute_result"
    }
   ],
   "source": [
    "in_n_out = burgers[burgers.get('Place') == 'In-N-Out']\n",
    "in_n_out"
   ]
  },
  {
   "cell_type": "code",
   "execution_count": 45,
   "metadata": {
    "deletable": false,
    "editable": false
   },
   "outputs": [
    {
     "data": {
      "text/html": [
       "\n",
       "    <p><strong>q3_3</strong> passed!</p>\n",
       "    "
      ],
      "text/plain": [
       "q3_3 passed!"
      ]
     },
     "execution_count": 45,
     "metadata": {},
     "output_type": "execute_result"
    }
   ],
   "source": [
    "grader.check(\"q3_3\")"
   ]
  },
  {
   "cell_type": "markdown",
   "metadata": {},
   "source": [
    "**Question 3.4.** Calculate the mean weight of `in_n_out` patties and assign it to `in_n_out_mean`. "
   ]
  },
  {
   "cell_type": "code",
   "execution_count": 46,
   "metadata": {},
   "outputs": [
    {
     "data": {
      "text/plain": [
       "2.0076955103010907"
      ]
     },
     "execution_count": 46,
     "metadata": {},
     "output_type": "execute_result"
    }
   ],
   "source": [
    "in_n_out_mean = in_n_out.get('Patty Weight (Ounces)').mean()\n",
    "in_n_out_mean"
   ]
  },
  {
   "cell_type": "code",
   "execution_count": 47,
   "metadata": {
    "deletable": false,
    "editable": false
   },
   "outputs": [
    {
     "data": {
      "text/html": [
       "\n",
       "    <p><strong>q3_4</strong> passed!</p>\n",
       "    "
      ],
      "text/plain": [
       "q3_4 passed!"
      ]
     },
     "execution_count": 47,
     "metadata": {},
     "output_type": "execute_result"
    }
   ],
   "source": [
    "grader.check(\"q3_4\")"
   ]
  },
  {
   "cell_type": "markdown",
   "metadata": {},
   "source": [
    "You're done! Or are you? You have a single point estimate for the true mean In-N-Out patty weight. However, you don't know how uncertain your estimate is and you don't know how much these estimates could vary. In other words, you don't have a sense of how good your estimate is. You may have gotten a particular statistic for one sample, but you could also get a completely different one for another sample.\n",
    "\n",
    "This is where the idea of resampling via the [bootstrap](http://sierra.ucsd.edu/dsc10-book/chapters/13/2/Bootstrap.html) comes in. Let's assume that our original sample resembles the population fairly well. We can then resample from our original sample to produce even more estimates, which we can then use to produce an interval estimate for the true mean weight of In-N-Out patties."
   ]
  },
  {
   "cell_type": "markdown",
   "metadata": {},
   "source": [
    "**Question 3.5.** Fill out the following code to produce 1,000 bootstrapped estimates for the  *mean* weight of In-N-Out patties. Store your 1,000 estimates in the `in_n_out_means` array."
   ]
  },
  {
   "cell_type": "code",
   "execution_count": 48,
   "metadata": {},
   "outputs": [],
   "source": [
    "in_n_out_means = np.array([])\n",
    "for i in np.arange(1000):\n",
    "    resample = in_n_out.sample(in_n_out.shape[0], replace=True)\n",
    "    resample_mean = resample.get('Patty Weight (Ounces)').mean()\n",
    "    in_n_out_means = np.append(in_n_out_means, resample_mean)"
   ]
  },
  {
   "cell_type": "code",
   "execution_count": 49,
   "metadata": {
    "deletable": false,
    "editable": false
   },
   "outputs": [
    {
     "data": {
      "text/html": [
       "\n",
       "    <p><strong>q3_5</strong> passed!</p>\n",
       "    "
      ],
      "text/plain": [
       "q3_5 passed!"
      ]
     },
     "execution_count": 49,
     "metadata": {},
     "output_type": "execute_result"
    }
   ],
   "source": [
    "grader.check(\"q3_5\")"
   ]
  },
  {
   "cell_type": "code",
   "execution_count": 50,
   "metadata": {},
   "outputs": [
    {
     "data": {
      "text/plain": [
       "<AxesSubplot:ylabel='Frequency'>"
      ]
     },
     "execution_count": 50,
     "metadata": {},
     "output_type": "execute_result"
    },
    {
     "data": {
      "image/png": "[encoded data removed]",
      "text/plain": [
       "<Figure size 432x288 with 1 Axes>"
      ]
     },
     "metadata": {},
     "output_type": "display_data"
    }
   ],
   "source": [
    "#: This cell displays a histogram of in_n_out_means\n",
    "bpd.DataFrame().assign(Estimated_Mean = in_n_out_means).plot(kind = 'hist')"
   ]
  },
  {
   "cell_type": "markdown",
   "metadata": {},
   "source": [
    "**Question 3.6.** Which of the following would make the histogram narrower? Assign either 1 or 2 to `q3_6`.\n",
    "1. Starting with a larger original sample size.\n",
    "2. Increasing the number of resamples (repetitions of bootstrap)."
   ]
  },
  {
   "cell_type": "code",
   "execution_count": 51,
   "metadata": {},
   "outputs": [
    {
     "data": {
      "text/plain": [
       "1"
      ]
     },
     "execution_count": 51,
     "metadata": {},
     "output_type": "execute_result"
    }
   ],
   "source": [
    "q3_6 = 1\n",
    "q3_6"
   ]
  },
  {
   "cell_type": "code",
   "execution_count": 52,
   "metadata": {
    "deletable": false,
    "editable": false
   },
   "outputs": [
    {
     "data": {
      "text/html": [
       "\n",
       "    <p><strong>q3_6</strong> passed!</p>\n",
       "    "
      ],
      "text/plain": [
       "q3_6 passed!"
      ]
     },
     "execution_count": 52,
     "metadata": {},
     "output_type": "execute_result"
    }
   ],
   "source": [
    "grader.check(\"q3_6\")"
   ]
  },
  {
   "cell_type": "markdown",
   "metadata": {},
   "source": [
    "**Question 3.7.** Using the array `in_n_out_means`, compute an approximate 95% confidence interval for the true mean weight of In-N-Out patties. (Compute the lower and upper ends of the interval, named `lower_bound_in_n_out` and `upper_bound_in_n_out`, respectively.)\n",
    "\n",
    "*Hint:* Use `percentile()`."
   ]
  },
  {
   "cell_type": "code",
   "execution_count": 53,
   "metadata": {},
   "outputs": [
    {
     "name": "stdout",
     "output_type": "stream",
     "text": [
      "Bootstrapped 95% confidence interval for the true mean weight of In-N-Out patties: [1.964361, 2.048018]\n"
     ]
    }
   ],
   "source": [
    "lower_bound_in_n_out = np.percentile(in_n_out_means, 2.5)\n",
    "upper_bound_in_n_out = np.percentile(in_n_out_means, 97.5)\n",
    "\n",
    "#: the confidence interval\n",
    "print(\"Bootstrapped 95% confidence interval for the true mean weight of In-N-Out patties: [{:f}, {:f}]\".format(lower_bound_in_n_out, upper_bound_in_n_out))"
   ]
  },
  {
   "cell_type": "code",
   "execution_count": 54,
   "metadata": {
    "deletable": false,
    "editable": false
   },
   "outputs": [
    {
     "data": {
      "text/html": [
       "\n",
       "    <p><strong>q3_7</strong> passed!</p>\n",
       "    "
      ],
      "text/plain": [
       "q3_7 passed!"
      ]
     },
     "execution_count": 54,
     "metadata": {},
     "output_type": "execute_result"
    }
   ],
   "source": [
    "grader.check(\"q3_7\")"
   ]
  },
  {
   "cell_type": "markdown",
   "metadata": {},
   "source": [
    "**Question 3.8.** Suppose you want to find the weight of the heaviest In-N-Out patty (maximum weight out of the entire population). Would your bootstrap procedure be effective in estimating the weight of the heaviest In-N-Out patty?"
   ]
  },
  {
   "cell_type": "markdown",
   "metadata": {},
   "source": [
    "1. Yes, a bootstrap procedure would be effective in estimating the weight of the heaviest In-N-Out patty.\n",
    "2. No, a bootstrap procedure would not be effective in estimating the weight of the heaviest In-N-Out patty."
   ]
  },
  {
   "cell_type": "code",
   "execution_count": 55,
   "metadata": {},
   "outputs": [],
   "source": [
    "q3_8 = 1"
   ]
  },
  {
   "cell_type": "code",
   "execution_count": 56,
   "metadata": {
    "deletable": false,
    "editable": false
   },
   "outputs": [
    {
     "data": {
      "text/html": [
       "\n",
       "    <p><strong>q3_8</strong> passed!</p>\n",
       "    "
      ],
      "text/plain": [
       "q3_8 passed!"
      ]
     },
     "execution_count": 56,
     "metadata": {},
     "output_type": "execute_result"
    }
   ],
   "source": [
    "grader.check(\"q3_8\")"
   ]
  },
  {
   "cell_type": "markdown",
   "metadata": {},
   "source": [
    "**Question 3.9.** Suppose you're wondering how heavy the average In-N-Out patty is compared to the average Five Guys patty. Using the same bootstrap procedure, compute an approximate 95% confidence interval for the true mean difference in weight between In-N-Out and Five Guys patties. Store your 1,000 estimates in the `difference_means` array. Use the original `burgers` table for this.\n",
    "\n",
    "$$\\text{difference_mean} := \\text{mean weight of In-N-Out} - \\text{mean weight of Five Guys}$$"
   ]
  },
  {
   "cell_type": "code",
   "execution_count": 57,
   "metadata": {},
   "outputs": [
    {
     "data": {
      "text/plain": [
       "array([-1.28544971, -1.26605474, -1.31595526, -1.31599478, -1.28283353,\n",
       "       -1.26950673, -1.26194412, -1.27085653, -1.24897599, -1.30314267,\n",
       "       -1.25227675, -1.31696377, -1.21960133, -1.24909251, -1.28621193,\n",
       "       -1.25805606, -1.24632643, -1.27488845, -1.26250213, -1.27122759,\n",
       "       -1.27932594, -1.31868897, -1.26450663, -1.19352489, -1.32716897,\n",
       "       -1.32858565, -1.26932877, -1.3042425 , -1.34501179, -1.30220385,\n",
       "       -1.31208368, -1.29751767, -1.31187363, -1.25720715, -1.28533557,\n",
       "       -1.2655074 , -1.2791492 , -1.31949638, -1.31462906, -1.36195481,\n",
       "       -1.30255858, -1.22509818, -1.31834494, -1.32986607, -1.26807084,\n",
       "       -1.28672026, -1.30969958, -1.32279208, -1.25177898, -1.30022989,\n",
       "       -1.28683956, -1.28397657, -1.28753304, -1.25887358, -1.31536519,\n",
       "       -1.26066031, -1.29367874, -1.280809  , -1.38091707, -1.30031535,\n",
       "       -1.32629111, -1.27379497, -1.29070403, -1.32530913, -1.25286249,\n",
       "       -1.31039567, -1.33479939, -1.24131913, -1.33555617, -1.29889723,\n",
       "       -1.31816947, -1.30679481, -1.2432817 , -1.39192527, -1.3260247 ,\n",
       "       -1.29819475, -1.25255224, -1.31835232, -1.24050963, -1.27406934,\n",
       "       -1.25991997, -1.36500896, -1.27558465, -1.28298244, -1.29042519,\n",
       "       -1.31210762, -1.27223431, -1.25533755, -1.30549029, -1.23969278,\n",
       "       -1.25097764, -1.27441973, -1.29706885, -1.32247665, -1.30762318,\n",
       "       -1.28896356, -1.296076  , -1.28401862, -1.30370626, -1.26315957,\n",
       "       -1.28715591, -1.31417578, -1.22662744, -1.26153775, -1.31082456,\n",
       "       -1.3071062 , -1.27331766, -1.29129293, -1.23181421, -1.27784949,\n",
       "       -1.24244136, -1.22729327, -1.28268537, -1.25258165, -1.28466911,\n",
       "       -1.25835064, -1.26195213, -1.26892091, -1.27499229, -1.30163964,\n",
       "       -1.23770549, -1.31971739, -1.32887337, -1.2530777 , -1.30975513,\n",
       "       -1.24122808, -1.32978715, -1.32551056, -1.29059725, -1.28512299,\n",
       "       -1.27030724, -1.28744929, -1.26140621, -1.29393976, -1.30833684,\n",
       "       -1.25087107, -1.2917541 , -1.24559961, -1.28081368, -1.20100168,\n",
       "       -1.3037338 , -1.26344552, -1.26808527, -1.29954848, -1.27310078,\n",
       "       -1.34474707, -1.21264362, -1.30166253, -1.30685118, -1.30565738,\n",
       "       -1.31318971, -1.34066391, -1.27987536, -1.33650719, -1.27233238,\n",
       "       -1.30523897, -1.27926355, -1.29337418, -1.37720963, -1.26515791,\n",
       "       -1.28247151, -1.3123515 , -1.27359835, -1.25746367, -1.30393266,\n",
       "       -1.30825326, -1.35025636, -1.3287396 , -1.37360573, -1.33682775,\n",
       "       -1.32023048, -1.26368177, -1.30003392, -1.21984483, -1.34498778,\n",
       "       -1.265852  , -1.26803727, -1.3668507 , -1.26040107, -1.32458365,\n",
       "       -1.19764023, -1.25435121, -1.31654244, -1.30138085, -1.28126996,\n",
       "       -1.35697998, -1.32798571, -1.26348092, -1.34522319, -1.22035046,\n",
       "       -1.27229223, -1.32447349, -1.2915671 , -1.27498158, -1.27704613,\n",
       "       -1.32010621, -1.28487295, -1.29554364, -1.31438114, -1.26165946,\n",
       "       -1.32308438, -1.28052475, -1.30925199, -1.30411304, -1.24631488,\n",
       "       -1.30752709, -1.33445379, -1.34029275, -1.26971563, -1.34002941,\n",
       "       -1.23331253, -1.323243  , -1.27408941, -1.26002664, -1.29260706,\n",
       "       -1.23606382, -1.31775071, -1.27873017, -1.30823418, -1.32358466,\n",
       "       -1.30039592, -1.29236164, -1.24335303, -1.26368912, -1.256258  ,\n",
       "       -1.24606586, -1.31785243, -1.21441116, -1.30257723, -1.3352236 ,\n",
       "       -1.30570162, -1.26672119, -1.26979953, -1.32635123, -1.28636577,\n",
       "       -1.35680132, -1.24071373, -1.33882828, -1.27385158, -1.32187614,\n",
       "       -1.23938638, -1.32403224, -1.26714913, -1.29008761, -1.31673374,\n",
       "       -1.2814267 , -1.33812029, -1.2582013 , -1.23962652, -1.28650779,\n",
       "       -1.28854816, -1.22026257, -1.3049401 , -1.22491988, -1.31643909,\n",
       "       -1.25452312, -1.28376448, -1.26450794, -1.26137206, -1.3515915 ,\n",
       "       -1.26809915, -1.417964  , -1.23803959, -1.33647602, -1.2972958 ,\n",
       "       -1.2914409 , -1.27381932, -1.24478463, -1.28353908, -1.3272095 ,\n",
       "       -1.31526105, -1.32282743, -1.31370185, -1.26158438, -1.22168962,\n",
       "       -1.29748747, -1.31923064, -1.27067693, -1.25465331, -1.25914649,\n",
       "       -1.26593274, -1.32459713, -1.23988487, -1.24959739, -1.28862725,\n",
       "       -1.29367478, -1.33630444, -1.26887615, -1.22565392, -1.32573712,\n",
       "       -1.31525238, -1.27721372, -1.20609668, -1.29850101, -1.28725953,\n",
       "       -1.23973289, -1.24650211, -1.25718668, -1.29669675, -1.26910217,\n",
       "       -1.28079662, -1.29161803, -1.30888894, -1.25238146, -1.32076108,\n",
       "       -1.31805488, -1.27898869, -1.23245866, -1.221256  , -1.27154731,\n",
       "       -1.29259198, -1.34102151, -1.31381107, -1.28895812, -1.27692749,\n",
       "       -1.25898879, -1.35918299, -1.29951611, -1.32300548, -1.25871546,\n",
       "       -1.26802359, -1.28371537, -1.32835161, -1.26462553, -1.24633674,\n",
       "       -1.29299028, -1.35569766, -1.31591754, -1.25907027, -1.32898529,\n",
       "       -1.23989199, -1.31483217, -1.19414909, -1.3083588 , -1.3026485 ,\n",
       "       -1.26352491, -1.26453648, -1.33215405, -1.31309715, -1.26512604,\n",
       "       -1.26934615, -1.2667137 , -1.3102447 , -1.34180172, -1.25833254,\n",
       "       -1.2932114 , -1.26549591, -1.26101932, -1.24264829, -1.27102709,\n",
       "       -1.28264169, -1.24953403, -1.31517356, -1.34638295, -1.21967619,\n",
       "       -1.24541776, -1.22561436, -1.28429146, -1.21860564, -1.30018419,\n",
       "       -1.29734834, -1.27712579, -1.26904347, -1.26215626, -1.29965432,\n",
       "       -1.27859835, -1.24712296, -1.29502267, -1.22935308, -1.26727954,\n",
       "       -1.15144042, -1.23947059, -1.27468287, -1.24169974, -1.30313974,\n",
       "       -1.33581254, -1.31423497, -1.27670414, -1.26947219, -1.31378684,\n",
       "       -1.19696351, -1.32353821, -1.2446193 , -1.29944164, -1.28347221,\n",
       "       -1.30019325, -1.30751472, -1.2995997 , -1.23316876, -1.26665059,\n",
       "       -1.31439548, -1.30617011, -1.32977535, -1.28797426, -1.26052422,\n",
       "       -1.27776026, -1.23896437, -1.2562803 , -1.21861122, -1.33128156,\n",
       "       -1.25704009, -1.30919764, -1.42486165, -1.2850674 , -1.31478751,\n",
       "       -1.28983508, -1.2663584 , -1.26533876, -1.36423044, -1.32876687,\n",
       "       -1.27738348, -1.28531976, -1.29439721, -1.28642859, -1.29280443,\n",
       "       -1.3158129 , -1.2862635 , -1.27000435, -1.30940769, -1.2955708 ,\n",
       "       -1.3662404 , -1.27611689, -1.25555781, -1.2699532 , -1.23333238,\n",
       "       -1.25271707, -1.31885193, -1.23398591, -1.25040913, -1.3510093 ,\n",
       "       -1.29222412, -1.31055899, -1.31109575, -1.32001084, -1.29258054,\n",
       "       -1.30623495, -1.31846926, -1.27632221, -1.29629315, -1.30819791,\n",
       "       -1.25657413, -1.21592424, -1.27566906, -1.26319348, -1.28502522,\n",
       "       -1.22020433, -1.2779049 , -1.27299982, -1.28635186, -1.29948417,\n",
       "       -1.30896834, -1.31792065, -1.24879591, -1.28826085, -1.29916721,\n",
       "       -1.37148411, -1.26532007, -1.26025672, -1.26528865, -1.33024157,\n",
       "       -1.2830884 , -1.32049739, -1.32382668, -1.28209407, -1.27143194,\n",
       "       -1.29435139, -1.25591385, -1.31106804, -1.24032582, -1.30822517,\n",
       "       -1.25577462, -1.29299049, -1.24910462, -1.26773791, -1.26296789,\n",
       "       -1.28651237, -1.3078464 , -1.27871437, -1.34624178, -1.28551106,\n",
       "       -1.28531475, -1.27290308, -1.24631873, -1.26696576, -1.30050486,\n",
       "       -1.29943063, -1.31639599, -1.26917128, -1.29621812, -1.23999202,\n",
       "       -1.25881604, -1.27603578, -1.27737991, -1.26661772, -1.28135805,\n",
       "       -1.26864211, -1.27118222, -1.29606273, -1.31120708, -1.25440947,\n",
       "       -1.2410048 , -1.25577062, -1.25340664, -1.27666033, -1.30189317,\n",
       "       -1.2468248 , -1.33480533, -1.31677411, -1.27950066, -1.24298044,\n",
       "       -1.27829272, -1.27703762, -1.32888209, -1.33758714, -1.24951283,\n",
       "       -1.25361592, -1.25447034, -1.29947006, -1.28929356, -1.27870576,\n",
       "       -1.28684167, -1.27951827, -1.29978633, -1.28507563, -1.28002988,\n",
       "       -1.29174136, -1.36852049, -1.20609074, -1.18733088, -1.29438668,\n",
       "       -1.29857599, -1.30691745, -1.2949833 , -1.2586477 , -1.30106072,\n",
       "       -1.21082498, -1.24502766, -1.27578821, -1.3178884 , -1.32086912,\n",
       "       -1.31162534, -1.3019365 , -1.32180975, -1.26770827, -1.29450982,\n",
       "       -1.24031525, -1.29104512, -1.23986432, -1.26765741, -1.25166107,\n",
       "       -1.2735711 , -1.32580535, -1.31612285, -1.29530978, -1.30808037,\n",
       "       -1.28524476, -1.2736303 , -1.27960151, -1.28501494, -1.33334837,\n",
       "       -1.23901159, -1.31296004, -1.27390681, -1.25728567, -1.28467182,\n",
       "       -1.34387617, -1.23149378, -1.28225927, -1.31179638, -1.28873595,\n",
       "       -1.33387403, -1.25171694, -1.26171242, -1.30043949, -1.25322114,\n",
       "       -1.35106378, -1.25384302, -1.31335103, -1.3362424 , -1.26489325,\n",
       "       -1.35091379, -1.31484635, -1.27365019, -1.32313005, -1.30791324,\n",
       "       -1.22306999, -1.30892618, -1.30130511, -1.31076832, -1.29142424,\n",
       "       -1.35430927, -1.32478827, -1.30617713, -1.30181755, -1.42180474,\n",
       "       -1.3050981 , -1.2280308 , -1.31381913, -1.28635741, -1.31160532,\n",
       "       -1.29554556, -1.24516234, -1.25916617, -1.27970554, -1.30192431,\n",
       "       -1.21643931, -1.26537358, -1.31050543, -1.25972675, -1.23993198,\n",
       "       -1.29725064, -1.29886167, -1.25039904, -1.24958697, -1.28585035,\n",
       "       -1.30576775, -1.26457783, -1.27693462, -1.34057273, -1.28079283,\n",
       "       -1.2314931 , -1.26437136, -1.33004341, -1.28044625, -1.37422736,\n",
       "       -1.29372141, -1.32689946, -1.32476455, -1.22957089, -1.34524495,\n",
       "       -1.29819658, -1.29766585, -1.29939434, -1.30220254, -1.26179099,\n",
       "       -1.30761228, -1.33208989, -1.27457791, -1.24843581, -1.3209336 ,\n",
       "       -1.32521221, -1.32503454, -1.2730747 , -1.25675232, -1.288095  ,\n",
       "       -1.25701442, -1.30979603, -1.25666644, -1.28274941, -1.26467202,\n",
       "       -1.27528594, -1.35241155, -1.25715326, -1.27228544, -1.27526833,\n",
       "       -1.29850463, -1.27626433, -1.29741653, -1.23138803, -1.27489093,\n",
       "       -1.30417213, -1.24402856, -1.28282508, -1.24911207, -1.23714214,\n",
       "       -1.35703193, -1.20300262, -1.28530971, -1.33400718, -1.34292832,\n",
       "       -1.32459747, -1.24228839, -1.26478339, -1.21907369, -1.3055618 ,\n",
       "       -1.3043232 , -1.28681205, -1.31499303, -1.25190222, -1.35125404,\n",
       "       -1.30517639, -1.26864027, -1.39561267, -1.28446923, -1.33135551,\n",
       "       -1.31288912, -1.28474535, -1.28384843, -1.34834758, -1.26559906,\n",
       "       -1.32832233, -1.30152537, -1.2253672 , -1.24576664, -1.31237159,\n",
       "       -1.25453528, -1.31768694, -1.3212257 , -1.3152621 , -1.34068079,\n",
       "       -1.27151366, -1.28165929, -1.32529907, -1.27559653, -1.20451017,\n",
       "       -1.25651548, -1.27403278, -1.28883774, -1.31180294, -1.2908286 ,\n",
       "       -1.25182771, -1.3206298 , -1.25313216, -1.25553816, -1.39523584,\n",
       "       -1.33728726, -1.303464  , -1.24315954, -1.32369557, -1.30908473,\n",
       "       -1.25848023, -1.31850378, -1.22922685, -1.22220817, -1.28622622,\n",
       "       -1.2834579 , -1.27039979, -1.30004243, -1.25750796, -1.30415081,\n",
       "       -1.29184934, -1.2898193 , -1.28374268, -1.34309249, -1.27398387,\n",
       "       -1.25683219, -1.23629088, -1.35321879, -1.30818862, -1.31638934,\n",
       "       -1.27032891, -1.24267712, -1.28366677, -1.25997032, -1.31524078,\n",
       "       -1.30665439, -1.25249913, -1.27893759, -1.30160312, -1.23559632,\n",
       "       -1.34411863, -1.29787128, -1.3094902 , -1.282437  , -1.27083451,\n",
       "       -1.3056792 , -1.24263875, -1.3196461 , -1.3267086 , -1.33147416,\n",
       "       -1.29295149, -1.37173245, -1.28824133, -1.29756272, -1.32171575,\n",
       "       -1.28339655, -1.27958004, -1.3031717 , -1.24485997, -1.29232716,\n",
       "       -1.29146775, -1.28418303, -1.29001262, -1.30803047, -1.28013144,\n",
       "       -1.23867512, -1.32766316, -1.28095017, -1.26748835, -1.34395362,\n",
       "       -1.31595772, -1.37165359, -1.31206789, -1.28079794, -1.2466532 ,\n",
       "       -1.31375979, -1.31263953, -1.26303414, -1.29501082, -1.29316255,\n",
       "       -1.28697781, -1.29525906, -1.31697299, -1.25658741, -1.32217734,\n",
       "       -1.30257479, -1.30117517, -1.29914335, -1.34059459, -1.28214234,\n",
       "       -1.3283625 , -1.31381937, -1.29686138, -1.1924819 , -1.2352857 ,\n",
       "       -1.28773186, -1.30089414, -1.28839104, -1.31789195, -1.25465236,\n",
       "       -1.30730068, -1.22903488, -1.37103109, -1.24920776, -1.29202244,\n",
       "       -1.31703958, -1.27824438, -1.29506677, -1.29552389, -1.32745967,\n",
       "       -1.29759837, -1.26667729, -1.28049209, -1.33043394, -1.29401962,\n",
       "       -1.31945107, -1.3292658 , -1.32733404, -1.31248448, -1.27837119,\n",
       "       -1.24645663, -1.28422629, -1.31849655, -1.29553721, -1.28048451,\n",
       "       -1.29043343, -1.32283425, -1.26245191, -1.20071427, -1.33666685,\n",
       "       -1.21401113, -1.31621872, -1.31911836, -1.27883011, -1.24776852,\n",
       "       -1.3226147 , -1.29960885, -1.2341763 , -1.28805348, -1.26512691,\n",
       "       -1.24261442, -1.26592797, -1.31116449, -1.27914297, -1.27541749,\n",
       "       -1.27199249, -1.24089604, -1.39119062, -1.26188806, -1.25298236,\n",
       "       -1.32236354, -1.25817908, -1.30704436, -1.36579588, -1.33812179,\n",
       "       -1.26947292, -1.29987549, -1.2973388 , -1.30669681, -1.33869506,\n",
       "       -1.22369591, -1.27188763, -1.34136489, -1.28876261, -1.34932908,\n",
       "       -1.32905186, -1.28992453, -1.23755844, -1.24836072, -1.28874583,\n",
       "       -1.32602106, -1.32650273, -1.29489296, -1.25980187, -1.34005644,\n",
       "       -1.25421314, -1.24560377, -1.32968325, -1.31581863, -1.32699103,\n",
       "       -1.28090442, -1.30253921, -1.29122661, -1.27225585, -1.27320588,\n",
       "       -1.33337728, -1.23051093, -1.33212826, -1.33089102, -1.2895136 ,\n",
       "       -1.24023118, -1.36098247, -1.33956376, -1.34447907, -1.31994376,\n",
       "       -1.3023531 , -1.35806069, -1.2694079 , -1.28070797, -1.22842844,\n",
       "       -1.36647913, -1.28832241, -1.30271466, -1.2658955 , -1.30465006,\n",
       "       -1.29902572, -1.2754336 , -1.21855197, -1.2909032 , -1.20599011,\n",
       "       -1.28290731, -1.30672015, -1.2519741 , -1.21869522, -1.23039797,\n",
       "       -1.25531444, -1.32493404, -1.30217184, -1.28752173, -1.30359675,\n",
       "       -1.24306179, -1.26997629, -1.27065535, -1.23658891, -1.26634324,\n",
       "       -1.27814173, -1.26193175, -1.30263053, -1.24777071, -1.28411228,\n",
       "       -1.27274393, -1.30949104, -1.31118332, -1.32929392, -1.26363479,\n",
       "       -1.31888204, -1.28658815, -1.31402252, -1.33182237, -1.29091976,\n",
       "       -1.33836722, -1.29605089, -1.34733229, -1.3313594 , -1.31551929,\n",
       "       -1.3029934 , -1.31072605, -1.26399742, -1.31897293, -1.27482301,\n",
       "       -1.22591295, -1.34895846, -1.23858561, -1.31665057, -1.33518598,\n",
       "       -1.29904513, -1.24800242, -1.24390137, -1.32958004, -1.27403906,\n",
       "       -1.26750282, -1.30987695, -1.26450365, -1.30100833, -1.27904753,\n",
       "       -1.29262191, -1.30029341, -1.23199462, -1.31014224, -1.31357904,\n",
       "       -1.29784903, -1.31866018, -1.23005114, -1.25352111, -1.36239034,\n",
       "       -1.21730389, -1.22409987, -1.27472254, -1.25623926, -1.27426698,\n",
       "       -1.27201536, -1.28669635, -1.27345137, -1.17494161, -1.31803651,\n",
       "       -1.32796915, -1.32063214, -1.22882748, -1.25154171, -1.27208842])"
      ]
     },
     "execution_count": 57,
     "metadata": {},
     "output_type": "execute_result"
    }
   ],
   "source": [
    "difference_means = np.array([])\n",
    "fiveguys = burgers[burgers.get('Place') == 'Five Guys']\n",
    "fiveguys_means = np.array([])\n",
    "for i in np.arange(1000):\n",
    "    resample = fiveguys.sample(fiveguys.shape[0], replace=True)\n",
    "    resample_mean = resample.get('Patty Weight (Ounces)').mean()\n",
    "    fiveguys_means = np.append(fiveguys_means, resample_mean)\n",
    "\n",
    "    \n",
    "difference_means = in_n_out_means - fiveguys_means\n",
    "difference_means"
   ]
  },
  {
   "cell_type": "code",
   "execution_count": 58,
   "metadata": {
    "deletable": false,
    "editable": false
   },
   "outputs": [
    {
     "data": {
      "text/html": [
       "\n",
       "    <p><strong>q3_9</strong> passed!</p>\n",
       "    "
      ],
      "text/plain": [
       "q3_9 passed!"
      ]
     },
     "execution_count": 58,
     "metadata": {},
     "output_type": "execute_result"
    }
   ],
   "source": [
    "grader.check(\"q3_9\")"
   ]
  },
  {
   "cell_type": "code",
   "execution_count": 59,
   "metadata": {},
   "outputs": [
    {
     "data": {
      "text/plain": [
       "<AxesSubplot:ylabel='Frequency'>"
      ]
     },
     "execution_count": 59,
     "metadata": {},
     "output_type": "execute_result"
    },
    {
     "data": {
      "image/png": "[encoded data removed]",
      "text/plain": [
       "<Figure size 432x288 with 1 Axes>"
      ]
     },
     "metadata": {},
     "output_type": "display_data"
    }
   ],
   "source": [
    "# This cell displays a histogram of difference_means\n",
    "bpd.DataFrame().assign(Estimated_Mean_Difference = difference_means).plot(kind = 'hist')"
   ]
  },
  {
   "cell_type": "markdown",
   "metadata": {},
   "source": [
    "**Question 3.10.** Compute the 95% confidence interval for the mean difference in weights of In-N-Out and Five Guys patties. Assign the left and right endpoints to `left_endpoint` and `right_endpoint` respectively. "
   ]
  },
  {
   "cell_type": "code",
   "execution_count": 60,
   "metadata": {},
   "outputs": [
    {
     "name": "stdout",
     "output_type": "stream",
     "text": [
      "Bootstrapped 95% confidence interval for the mean difference in weights of In-N-Out and Five Guys patties: [-1.359228, -1.218693]\n"
     ]
    }
   ],
   "source": [
    "left_endpoint = np.percentile(difference_means, 2.5)\n",
    "right_endpoint = np.percentile(difference_means, 97.5)\n",
    "\n",
    "print(\"Bootstrapped 95% confidence interval for the mean difference in weights of In-N-Out and Five Guys patties: [{:f}, {:f}]\".format(left_endpoint, right_endpoint))"
   ]
  },
  {
   "cell_type": "code",
   "execution_count": 61,
   "metadata": {
    "deletable": false,
    "editable": false
   },
   "outputs": [
    {
     "data": {
      "text/html": [
       "\n",
       "    <p><strong>q3_10</strong> passed!</p>\n",
       "    "
      ],
      "text/plain": [
       "q3_10 passed!"
      ]
     },
     "execution_count": 61,
     "metadata": {},
     "output_type": "execute_result"
    }
   ],
   "source": [
    "grader.check(\"q3_10\")"
   ]
  },
  {
   "cell_type": "code",
   "execution_count": 62,
   "metadata": {},
   "outputs": [
    {
     "data": {
      "text/plain": [
       "[<matplotlib.lines.Line2D at 0x7f5504a79d60>]"
      ]
     },
     "execution_count": 62,
     "metadata": {},
     "output_type": "execute_result"
    },
    {
     "data": {
      "image/png": "[encoded data removed]",
      "text/plain": [
       "<Figure size 432x288 with 1 Axes>"
      ]
     },
     "metadata": {},
     "output_type": "display_data"
    }
   ],
   "source": [
    "# This cell visualizes our 95% confidence interval on the histogram\n",
    "bpd.DataFrame().assign(Estimated_Mean_Difference = difference_means).plot(kind = 'hist')\n",
    "plt.plot([left_endpoint, right_endpoint], [0, 0], color='lime', linewidth=10)"
   ]
  },
  {
   "cell_type": "markdown",
   "metadata": {},
   "source": [
    "**Question 3.11:** Based on your histogram and confidence interval, would you say that the mean In-N-Out patty is likely to be lighter than the mean Five Guys patty?"
   ]
  },
  {
   "cell_type": "markdown",
   "metadata": {},
   "source": [
    "1. Yes, it is likely that the mean In-N-Out patty is lighter than the mean Five Guys patty.\n",
    "2. No, it is not likely that the mean In-N-Out patty is lighter than the mean Five Guys patty."
   ]
  },
  {
   "cell_type": "code",
   "execution_count": 63,
   "metadata": {},
   "outputs": [],
   "source": [
    "q3_11 = 1"
   ]
  },
  {
   "cell_type": "code",
   "execution_count": 64,
   "metadata": {
    "deletable": false,
    "editable": false
   },
   "outputs": [
    {
     "data": {
      "text/html": [
       "\n",
       "    <p><strong>q3_11</strong> passed!</p>\n",
       "    "
      ],
      "text/plain": [
       "q3_11 passed!"
      ]
     },
     "execution_count": 64,
     "metadata": {},
     "output_type": "execute_result"
    }
   ],
   "source": [
    "grader.check(\"q3_11\")"
   ]
  },
  {
   "cell_type": "markdown",
   "metadata": {},
   "source": [
    "**Question 3.12.** Would changing the units of weight from ounces to grams change your conclusion? Assign a boolean (`True` if it would and `False` otherwise) to the variable `q3_12`."
   ]
  },
  {
   "cell_type": "code",
   "execution_count": 65,
   "metadata": {},
   "outputs": [],
   "source": [
    "q3_12 = False"
   ]
  },
  {
   "cell_type": "code",
   "execution_count": 66,
   "metadata": {
    "deletable": false,
    "editable": false
   },
   "outputs": [
    {
     "data": {
      "text/html": [
       "\n",
       "    <p><strong>q3_12</strong> passed!</p>\n",
       "    "
      ],
      "text/plain": [
       "q3_12 passed!"
      ]
     },
     "execution_count": 66,
     "metadata": {},
     "output_type": "execute_result"
    }
   ],
   "source": [
    "grader.check(\"q3_12\")"
   ]
  },
  {
   "cell_type": "markdown",
   "metadata": {},
   "source": [
    "# 4. Conceptual Questions"
   ]
  },
  {
   "cell_type": "markdown",
   "metadata": {},
   "source": [
    "**Question 4.1.** Choose the best test (hypothesis, permutation (A/B), bootstrap) to test the following: <br>\n",
    "You claim that the proportion of students from Socal that likes In-N-Out over five guys is higher than the proportion of students from Norcal that likes In-N-Out.\n",
    "1. hypothesis testing\n",
    "2. permutation (A/B) testing\n",
    "3. bootstrap"
   ]
  },
  {
   "cell_type": "code",
   "execution_count": 67,
   "metadata": {},
   "outputs": [],
   "source": [
    "q4_1 = 1"
   ]
  },
  {
   "cell_type": "code",
   "execution_count": 68,
   "metadata": {
    "deletable": false,
    "editable": false
   },
   "outputs": [
    {
     "data": {
      "text/html": [
       "\n",
       "    <p><strong>q4_1</strong> passed!</p>\n",
       "    "
      ],
      "text/plain": [
       "q4_1 passed!"
      ]
     },
     "execution_count": 68,
     "metadata": {},
     "output_type": "execute_result"
    }
   ],
   "source": [
    "grader.check(\"q4_1\")"
   ]
  },
  {
   "cell_type": "markdown",
   "metadata": {},
   "source": [
    "**Question 4.2.** Which test statistic(s) could we use to test the claim from 4.1? Put all that are valid into a list.\n",
    "1. the number of Norcal students that likes In-N-Out over the total number of students that likes In-N-Out\n",
    "2. the difference between the proportion of Norcal students that likes In-N-Out and proportion of Socal students that likes In-N-Out\n",
    "3. total variation distance between the proportion of Norcal students that likes In-N-Out from Norcal and proportion of Socal students that likes In-N-Out\n"
   ]
  },
  {
   "cell_type": "code",
   "execution_count": 69,
   "metadata": {},
   "outputs": [],
   "source": [
    "q4_2 = [2,3]"
   ]
  },
  {
   "cell_type": "code",
   "execution_count": 70,
   "metadata": {
    "deletable": false,
    "editable": false
   },
   "outputs": [
    {
     "data": {
      "text/html": [
       "\n",
       "    <p><strong>q4_2</strong> passed!</p>\n",
       "    "
      ],
      "text/plain": [
       "q4_2 passed!"
      ]
     },
     "execution_count": 70,
     "metadata": {},
     "output_type": "execute_result"
    }
   ],
   "source": [
    "grader.check(\"q4_2\")"
   ]
  },
  {
   "cell_type": "markdown",
   "metadata": {},
   "source": [
    "**Question 4.3.** Choose the best test (hypothesis, permutation (A/B), bootstrap) to test the following: <br>\n",
    "You claim that the proportion of students that prefer Norcal burgers over Socal burgers is less than the proportion of students that prefer Socal burgers.\n",
    "1. hypothesis testing\n",
    "2. permutation (A/B) testing\n",
    "3. bootstrap"
   ]
  },
  {
   "cell_type": "code",
   "execution_count": 71,
   "metadata": {},
   "outputs": [],
   "source": [
    "q4_3 = 2"
   ]
  },
  {
   "cell_type": "code",
   "execution_count": 72,
   "metadata": {
    "deletable": false,
    "editable": false
   },
   "outputs": [
    {
     "data": {
      "text/html": [
       "\n",
       "    <p><strong>q4_3</strong> passed!</p>\n",
       "    "
      ],
      "text/plain": [
       "q4_3 passed!"
      ]
     },
     "execution_count": 72,
     "metadata": {},
     "output_type": "execute_result"
    }
   ],
   "source": [
    "grader.check(\"q4_3\")"
   ]
  },
  {
   "cell_type": "markdown",
   "metadata": {},
   "source": [
    "**Question 4.4.** Which test statistic(s) could we use to test the claim from 4.3? Put all that are valid into a list.\n",
    "1. the number of students that prefer Norcal burgers over total number of students\n",
    "2. the difference between the proportion of students that prefer Norcal burgers and proportion of students that prefer Socal burgers\n",
    "3. total variation distance between the proportion of students that prefer Norcal burgers and proportion of students that prefer Socal burgers"
   ]
  },
  {
   "cell_type": "code",
   "execution_count": 73,
   "metadata": {},
   "outputs": [],
   "source": [
    "q4_4 = [1]"
   ]
  },
  {
   "cell_type": "code",
   "execution_count": 74,
   "metadata": {
    "deletable": false,
    "editable": false
   },
   "outputs": [
    {
     "data": {
      "text/html": [
       "\n",
       "    <p><strong>q4_4</strong> passed!</p>\n",
       "    "
      ],
      "text/plain": [
       "q4_4 passed!"
      ]
     },
     "execution_count": 74,
     "metadata": {},
     "output_type": "execute_result"
    }
   ],
   "source": [
    "grader.check(\"q4_4\")"
   ]
  },
  {
   "cell_type": "markdown",
   "metadata": {},
   "source": [
    "**Question 4.5.** Choose the best test (hypothesis, permutation (A/B), bootstrap) to test the following:\n",
    "You want to find the true median number of weekly burgers consumed by a student.\n",
    "1. hypothesis testing\n",
    "2. permutation (A/B) testing\n",
    "3. bootstrap"
   ]
  },
  {
   "cell_type": "code",
   "execution_count": 75,
   "metadata": {},
   "outputs": [],
   "source": [
    "q4_5 = 3"
   ]
  },
  {
   "cell_type": "code",
   "execution_count": 76,
   "metadata": {
    "deletable": false,
    "editable": false
   },
   "outputs": [
    {
     "data": {
      "text/html": [
       "\n",
       "    <p><strong>q4_5</strong> passed!</p>\n",
       "    "
      ],
      "text/plain": [
       "q4_5 passed!"
      ]
     },
     "execution_count": 76,
     "metadata": {},
     "output_type": "execute_result"
    }
   ],
   "source": [
    "grader.check(\"q4_5\")"
   ]
  },
  {
   "cell_type": "markdown",
   "metadata": {},
   "source": [
    "**Question 4.6.** After peforming bootstrapping, we construct several 95% confidence intervals. Which of the following is true about the confidence intervals?"
   ]
  },
  {
   "cell_type": "markdown",
   "metadata": {},
   "source": [
    "1. The true parameter has a roughly 95% chance of falling in a confidence interval.\n",
    "2. Roughly 95% of the population lie within the confidence intervals.\n",
    "3. Roughly 95% of the confidence intervals constructed capture the true parameter. "
   ]
  },
  {
   "cell_type": "code",
   "execution_count": 77,
   "metadata": {},
   "outputs": [],
   "source": [
    "q4_6 = 3"
   ]
  },
  {
   "cell_type": "code",
   "execution_count": 78,
   "metadata": {
    "deletable": false,
    "editable": false
   },
   "outputs": [
    {
     "data": {
      "text/html": [
       "\n",
       "    <p><strong>q4_6</strong> passed!</p>\n",
       "    "
      ],
      "text/plain": [
       "q4_6 passed!"
      ]
     },
     "execution_count": 78,
     "metadata": {},
     "output_type": "execute_result"
    }
   ],
   "source": [
    "grader.check(\"q4_6\")"
   ]
  },
  {
   "cell_type": "markdown",
   "metadata": {},
   "source": [
    "**Question 4.7.** Which of the follow choices best describes the purpose of the permutation test with regards to A/B testing? Assign either 1, 2, or 3 to `q4_7`.\n",
    "1. The permutation test is a special case of the bootstrap and allows us to produce interval estimates.\n",
    "2. The permutation test generates a null distribution which we can use in testing our hypothesis.\n",
    "3. The permutation test mitigates noise in our data by generating new permutations of the data."
   ]
  },
  {
   "cell_type": "code",
   "execution_count": 79,
   "metadata": {},
   "outputs": [],
   "source": [
    "q4_7 = 1"
   ]
  },
  {
   "cell_type": "code",
   "execution_count": 80,
   "metadata": {
    "deletable": false,
    "editable": false
   },
   "outputs": [
    {
     "data": {
      "text/html": [
       "\n",
       "    <p><strong>q4_7</strong> passed!</p>\n",
       "    "
      ],
      "text/plain": [
       "q4_7 passed!"
      ]
     },
     "execution_count": 80,
     "metadata": {},
     "output_type": "execute_result"
    }
   ],
   "source": [
    "grader.check(\"q4_7\")"
   ]
  },
  {
   "cell_type": "markdown",
   "metadata": {},
   "source": [
    "**Question 4.8.** An A/B test in a Randomized Controlled Trial (RCT) supports causality. Assign a boolean (`True` if it would and `False` otherwise) to the variable `q4_8`."
   ]
  },
  {
   "cell_type": "code",
   "execution_count": 81,
   "metadata": {},
   "outputs": [],
   "source": [
    "q4_8 = True"
   ]
  },
  {
   "cell_type": "code",
   "execution_count": 82,
   "metadata": {
    "deletable": false,
    "editable": false
   },
   "outputs": [
    {
     "data": {
      "text/html": [
       "\n",
       "    <p><strong>q4_8</strong> passed!</p>\n",
       "    "
      ],
      "text/plain": [
       "q4_8 passed!"
      ]
     },
     "execution_count": 82,
     "metadata": {},
     "output_type": "execute_result"
    }
   ],
   "source": [
    "grader.check(\"q4_8\")"
   ]
  },
  {
   "cell_type": "markdown",
   "metadata": {},
   "source": [
    "# Finish Line\n",
    "\n",
    "Congratulations! You are done with homework 6.\n",
    "\n",
    "To submit your assignment:\n",
    "\n",
    "1. Select `Kernel -> Restart & Run All` to ensure that you have executed all cells, including the test cells.\n",
    "2. Read through the notebook to make sure everything is fine and all tests passed.\n",
    "3. Run the cell below to run all tests, and make sure that they all pass.\n",
    "4. Download your notebook using `File -> Download as -> Notebook (.ipynb)`, then upload your notebook to Gradescope."
   ]
  },
  {
   "cell_type": "code",
   "execution_count": 83,
   "metadata": {
    "scrolled": false
   },
   "outputs": [
    {
     "data": {
      "text/html": [
       "\n",
       "    <p><strong>q1_1</strong> passed!</p>\n",
       "    \n",
       "\n",
       "\n",
       "    <p><strong>q1_2</strong> passed!</p>\n",
       "    \n",
       "\n",
       "\n",
       "    <p><strong>q1_3</strong> passed!</p>\n",
       "    \n",
       "\n",
       "\n",
       "    <p><strong>q1_4</strong> passed!</p>\n",
       "    \n",
       "\n",
       "\n",
       "    <p><strong>q1_5</strong> passed!</p>\n",
       "    \n",
       "\n",
       "\n",
       "    <p><strong>q1_6</strong> passed!</p>\n",
       "    \n",
       "\n",
       "\n",
       "    <p><strong>q1_7</strong> passed!</p>\n",
       "    \n",
       "\n",
       "\n",
       "    <p><strong>q1_8</strong> passed!</p>\n",
       "    \n",
       "\n",
       "\n",
       "    <p><strong>q1_9</strong> passed!</p>\n",
       "    \n",
       "\n",
       "\n",
       "    <p><strong>q2_1</strong> passed!</p>\n",
       "    \n",
       "\n",
       "\n",
       "    <p><strong>q2_2</strong> passed!</p>\n",
       "    \n",
       "\n",
       "\n",
       "    <p><strong>q2_3</strong> passed!</p>\n",
       "    \n",
       "\n",
       "\n",
       "    <p><strong>q2_4</strong> passed!</p>\n",
       "    \n",
       "\n",
       "\n",
       "    <p><strong>q2_5</strong> passed!</p>\n",
       "    \n",
       "\n",
       "\n",
       "    <p><strong>q2_6</strong> passed!</p>\n",
       "    \n",
       "\n",
       "\n",
       "    <p><strong>q2_7</strong> passed!</p>\n",
       "    \n",
       "\n",
       "\n",
       "    <p><strong>q3_1</strong> passed!</p>\n",
       "    \n",
       "\n",
       "\n",
       "    <p><strong>q3_10</strong> passed!</p>\n",
       "    \n",
       "\n",
       "\n",
       "    <p><strong>q3_11</strong> passed!</p>\n",
       "    \n",
       "\n",
       "\n",
       "    <p><strong>q3_12</strong> passed!</p>\n",
       "    \n",
       "\n",
       "\n",
       "    <p><strong>q3_3</strong> passed!</p>\n",
       "    \n",
       "\n",
       "\n",
       "    <p><strong>q3_4</strong> passed!</p>\n",
       "    \n",
       "\n",
       "\n",
       "    <p><strong>q3_5</strong> passed!</p>\n",
       "    \n",
       "\n",
       "\n",
       "    <p><strong>q3_6</strong> passed!</p>\n",
       "    \n",
       "\n",
       "\n",
       "    <p><strong>q3_7</strong> passed!</p>\n",
       "    \n",
       "\n",
       "\n",
       "    <p><strong>q3_8</strong> passed!</p>\n",
       "    \n",
       "\n",
       "\n",
       "    <p><strong>q3_9</strong> passed!</p>\n",
       "    \n",
       "\n",
       "\n",
       "    <p><strong>q4_1</strong> passed!</p>\n",
       "    \n",
       "\n",
       "\n",
       "    <p><strong>q4_2</strong> passed!</p>\n",
       "    \n",
       "\n",
       "\n",
       "    <p><strong>q4_3</strong> passed!</p>\n",
       "    \n",
       "\n",
       "\n",
       "    <p><strong>q4_4</strong> passed!</p>\n",
       "    \n",
       "\n",
       "\n",
       "    <p><strong>q4_5</strong> passed!</p>\n",
       "    \n",
       "\n",
       "\n",
       "    <p><strong>q4_6</strong> passed!</p>\n",
       "    \n",
       "\n",
       "\n",
       "    <p><strong>q4_7</strong> passed!</p>\n",
       "    \n",
       "\n",
       "\n",
       "    <p><strong>q4_8</strong> passed!</p>\n",
       "    \n",
       "\n"
      ],
      "text/plain": [
       "q1_1 passed!\n",
       "\n",
       "q1_2 passed!\n",
       "\n",
       "q1_3 passed!\n",
       "\n",
       "q1_4 passed!\n",
       "\n",
       "q1_5 passed!\n",
       "\n",
       "q1_6 passed!\n",
       "\n",
       "q1_7 passed!\n",
       "\n",
       "q1_8 passed!\n",
       "\n",
       "q1_9 passed!\n",
       "\n",
       "q2_1 passed!\n",
       "\n",
       "q2_2 passed!\n",
       "\n",
       "q2_3 passed!\n",
       "\n",
       "q2_4 passed!\n",
       "\n",
       "q2_5 passed!\n",
       "\n",
       "q2_6 passed!\n",
       "\n",
       "q2_7 passed!\n",
       "\n",
       "q3_1 passed!\n",
       "\n",
       "q3_10 passed!\n",
       "\n",
       "q3_11 passed!\n",
       "\n",
       "q3_12 passed!\n",
       "\n",
       "q3_3 passed!\n",
       "\n",
       "q3_4 passed!\n",
       "\n",
       "q3_5 passed!\n",
       "\n",
       "q3_6 passed!\n",
       "\n",
       "q3_7 passed!\n",
       "\n",
       "q3_8 passed!\n",
       "\n",
       "q3_9 passed!\n",
       "\n",
       "q4_1 passed!\n",
       "\n",
       "q4_2 passed!\n",
       "\n",
       "q4_3 passed!\n",
       "\n",
       "q4_4 passed!\n",
       "\n",
       "q4_5 passed!\n",
       "\n",
       "q4_6 passed!\n",
       "\n",
       "q4_7 passed!\n",
       "\n",
       "q4_8 passed!\n"
      ]
     },
     "execution_count": 83,
     "metadata": {},
     "output_type": "execute_result"
    }
   ],
   "source": [
    "# For your convenience, you can run this cell to run all the tests at once!\n",
    "grader.check_all()"
   ]
  }
 ],
 "metadata": {
  "kernelspec": {
   "display_name": "Python 3",
   "language": "python",
   "name": "python3"
  },
  "language_info": {
   "codemirror_mode": {
    "name": "ipython",
    "version": 3
   },
   "file_extension": ".py",
   "mimetype": "text/x-python",
   "name": "python",
   "nbconvert_exporter": "python",
   "pygments_lexer": "ipython3",
   "version": "3.8.6"
  }
 },
 "nbformat": 4,
 "nbformat_minor": 2
}
