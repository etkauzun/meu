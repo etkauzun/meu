{
 "cells": [
  {
   "cell_type": "markdown",
   "metadata": {},
   "source": [
    "# Homework 3: Functions\n",
    "\n",
    "## Due Friday, April 23th at 11:59pm\n",
    "\n",
    "Welcome to Homework 3! This week, we will go over defining functions, histograms, and exploring data. You can find additional help on these topics in [Chapter 02](https://eldridgejm.github.io/dive_into_data_science/front.html) of the textbook."
   ]
  },
  {
   "cell_type": "markdown",
   "metadata": {},
   "source": [
    "### Instructions\n",
    "\n",
    "This assignment is due Friday, April 23th at 11:59pm. You are given seven slip days thoughout the quarter which can extend the deadline by one day. See the syllabus for more details. With the exception of using slip days, late work will not be accepted unless you have made special arrangements with your instructor.\n",
    "\n",
    "**Important**: The `otter` tests don't usually tell you that your answer is correct. More often, they help catch careless mistakes. It's up to you to ensure that your answer is correct. If you're not sure, ask someone (not for the answer, but for some guidance about your approach).\n",
    "\n",
    "Remember that you may work in pairs for this assignment! If you work in a pair, you should submit one notebook to Gradescope for the both of you.\n",
    "\n",
    "Directly sharing answers between groups is not okay, but discussing problems with the course staff or with other students is encouraged. \n",
    "\n",
    "You should start early so that you have time to get help if you're stuck. A calendar with lab hour times and locations appears on [the course webpage](http://dsc10.com)."
   ]
  },
  {
   "cell_type": "code",
   "execution_count": 1,
   "metadata": {},
   "outputs": [],
   "source": [
    "# please don't change this cell, but do make sure to run it\n",
    "import babypandas as bpd\n",
    "import matplotlib.pyplot as plt\n",
    "import numpy as np\n",
    "import otter\n",
    "grader = otter.Notebook()"
   ]
  },
  {
   "cell_type": "markdown",
   "metadata": {},
   "source": [
    "## 1. Avocadopocalypse"
   ]
  },
  {
   "cell_type": "markdown",
   "metadata": {},
   "source": [
    "In early 2017, reduced harvests and labor strikes caused avocado production in Mexico, Peru, and California to  dramatically decrease. In this problem we will investigate how and where prices fluctuated in response to the \"avocadopocalypse\".\n",
    "\n",
    "The source of the avocado price data is [here](https://urldefense.com/v3/__http://www.hassavocadoboard.com/retail/volume-and-price-data__;!!Mih3wA!UQwVlo9PvACY7t4CCustkKZq0RfPE-hGk1xDpoo20dpsixLTa8OgXRoiGUehMic$ ). We will use a subset of the data. The data has the following columns:\n",
    "\n",
    "|Column|Description|\n",
    "|------|-----------|\n",
    "|Date|The date on which a price was recorded in YEAR-MONTH format|\n",
    "|Type|The type of avocado. Either \"conventional\" or \"organic\".|\n",
    "|Region|Where the price was recorded.|\n",
    "|Price|The average avocado price for that time period/location.|\n",
    "|Volume|The number of avocados sold (in thousands).|"
   ]
  },
  {
   "cell_type": "markdown",
   "metadata": {},
   "source": [
    "**Question 1.1.** The data are in a CSV called `avocado.csv`. Read this file into a table named `avocado`. There is not good columns to use as the index, so don't set one!"
   ]
  },
  {
   "cell_type": "code",
   "execution_count": 2,
   "metadata": {},
   "outputs": [
    {
     "data": {
      "text/html": [
       "<div>\n",
       "<style scoped>\n",
       "    .dataframe tbody tr th:only-of-type {\n",
       "        vertical-align: middle;\n",
       "    }\n",
       "\n",
       "    .dataframe tbody tr th {\n",
       "        vertical-align: top;\n",
       "    }\n",
       "\n",
       "    .dataframe thead th {\n",
       "        text-align: right;\n",
       "    }\n",
       "</style>\n",
       "<table border=\"1\" class=\"dataframe\">\n",
       "  <thead>\n",
       "    <tr style=\"text-align: right;\">\n",
       "      <th></th>\n",
       "      <th>Date</th>\n",
       "      <th>Region</th>\n",
       "      <th>Type</th>\n",
       "      <th>Price</th>\n",
       "      <th>Volume</th>\n",
       "    </tr>\n",
       "  </thead>\n",
       "  <tbody>\n",
       "    <tr>\n",
       "      <th>0</th>\n",
       "      <td>2015-01</td>\n",
       "      <td>Boise</td>\n",
       "      <td>conventional</td>\n",
       "      <td>1.0750</td>\n",
       "      <td>66.582385</td>\n",
       "    </tr>\n",
       "    <tr>\n",
       "      <th>1</th>\n",
       "      <td>2016-06</td>\n",
       "      <td>Sacramento</td>\n",
       "      <td>conventional</td>\n",
       "      <td>1.1925</td>\n",
       "      <td>498.762617</td>\n",
       "    </tr>\n",
       "    <tr>\n",
       "      <th>2</th>\n",
       "      <td>2016-10</td>\n",
       "      <td>Indianapolis</td>\n",
       "      <td>organic</td>\n",
       "      <td>1.7080</td>\n",
       "      <td>3.403160</td>\n",
       "    </tr>\n",
       "    <tr>\n",
       "      <th>3</th>\n",
       "      <td>2017-03</td>\n",
       "      <td>Indianapolis</td>\n",
       "      <td>organic</td>\n",
       "      <td>1.1975</td>\n",
       "      <td>6.276205</td>\n",
       "    </tr>\n",
       "    <tr>\n",
       "      <th>4</th>\n",
       "      <td>2017-09</td>\n",
       "      <td>StLouis</td>\n",
       "      <td>organic</td>\n",
       "      <td>2.6750</td>\n",
       "      <td>4.368665</td>\n",
       "    </tr>\n",
       "    <tr>\n",
       "      <th>...</th>\n",
       "      <td>...</td>\n",
       "      <td>...</td>\n",
       "      <td>...</td>\n",
       "      <td>...</td>\n",
       "      <td>...</td>\n",
       "    </tr>\n",
       "    <tr>\n",
       "      <th>4129</th>\n",
       "      <td>2015-09</td>\n",
       "      <td>BaltimoreWashington</td>\n",
       "      <td>organic</td>\n",
       "      <td>1.5575</td>\n",
       "      <td>11.213677</td>\n",
       "    </tr>\n",
       "    <tr>\n",
       "      <th>4130</th>\n",
       "      <td>2015-03</td>\n",
       "      <td>GrandRapids</td>\n",
       "      <td>conventional</td>\n",
       "      <td>1.0800</td>\n",
       "      <td>199.245174</td>\n",
       "    </tr>\n",
       "    <tr>\n",
       "      <th>4131</th>\n",
       "      <td>2015-09</td>\n",
       "      <td>SouthCentral</td>\n",
       "      <td>organic</td>\n",
       "      <td>1.5125</td>\n",
       "      <td>65.335567</td>\n",
       "    </tr>\n",
       "    <tr>\n",
       "      <th>4132</th>\n",
       "      <td>2018-01</td>\n",
       "      <td>Charlotte</td>\n",
       "      <td>conventional</td>\n",
       "      <td>1.3050</td>\n",
       "      <td>268.444935</td>\n",
       "    </tr>\n",
       "    <tr>\n",
       "      <th>4133</th>\n",
       "      <td>2015-04</td>\n",
       "      <td>California</td>\n",
       "      <td>organic</td>\n",
       "      <td>1.5100</td>\n",
       "      <td>123.095327</td>\n",
       "    </tr>\n",
       "  </tbody>\n",
       "</table>\n",
       "<p>4134 rows × 5 columns</p>\n",
       "</div>"
      ],
      "text/plain": [
       "         Date               Region          Type   Price      Volume\n",
       "0     2015-01                Boise  conventional  1.0750   66.582385\n",
       "1     2016-06           Sacramento  conventional  1.1925  498.762617\n",
       "2     2016-10         Indianapolis       organic  1.7080    3.403160\n",
       "3     2017-03         Indianapolis       organic  1.1975    6.276205\n",
       "4     2017-09              StLouis       organic  2.6750    4.368665\n",
       "...       ...                  ...           ...     ...         ...\n",
       "4129  2015-09  BaltimoreWashington       organic  1.5575   11.213677\n",
       "4130  2015-03          GrandRapids  conventional  1.0800  199.245174\n",
       "4131  2015-09         SouthCentral       organic  1.5125   65.335567\n",
       "4132  2018-01            Charlotte  conventional  1.3050  268.444935\n",
       "4133  2015-04           California       organic  1.5100  123.095327\n",
       "\n",
       "[4134 rows x 5 columns]"
      ]
     },
     "execution_count": 2,
     "metadata": {},
     "output_type": "execute_result"
    }
   ],
   "source": [
    "avocado = bpd.read_csv('data/avocado.csv')\n",
    "avocado"
   ]
  },
  {
   "cell_type": "code",
   "execution_count": 3,
   "metadata": {
    "deletable": false,
    "editable": false
   },
   "outputs": [
    {
     "data": {
      "text/html": [
       "\n",
       "    <p><strong>q1_1</strong> passed!</p>\n",
       "    "
      ],
      "text/plain": [
       "q1_1 passed!"
      ]
     },
     "execution_count": 3,
     "metadata": {},
     "output_type": "execute_result"
    }
   ],
   "source": [
    "grader.check(\"q1_1\")"
   ]
  },
  {
   "cell_type": "markdown",
   "metadata": {},
   "source": [
    "It might look like the `Date` column would make a good index, but it turns out that its entries are not unique! We can see this using the `.describe()` method, which gives us some useful information about a column:"
   ]
  },
  {
   "cell_type": "code",
   "execution_count": 4,
   "metadata": {},
   "outputs": [
    {
     "data": {
      "text/plain": [
       "count        4134\n",
       "unique         39\n",
       "top       2016-09\n",
       "freq          106\n",
       "Name: Date, dtype: object"
      ]
     },
     "execution_count": 4,
     "metadata": {},
     "output_type": "execute_result"
    }
   ],
   "source": [
    "avocado.get('Date').describe()"
   ]
  },
  {
   "cell_type": "markdown",
   "metadata": {},
   "source": [
    "We see that although there are 4134 entries, only 39 of them are unique. This is because the same date will appear once for each city in the data set."
   ]
  },
  {
   "cell_type": "markdown",
   "metadata": {},
   "source": [
    "**Question 1.2.** Assign `cheapest` to the name of the region which had the cheapest avocados (of any type, and any date), and similarly assign `most_expensive` to the name of the region with the most expensive avocados (of any type, and any date)."
   ]
  },
  {
   "cell_type": "code",
   "execution_count": 5,
   "metadata": {},
   "outputs": [],
   "source": [
    "cheapest = avocado.groupby('Region').min().get('Price').sort_values().index[0]\n",
    "most_expensive = avocado.groupby('Region').max().get('Price').sort_values().index[-1]"
   ]
  },
  {
   "cell_type": "code",
   "execution_count": 6,
   "metadata": {
    "deletable": false,
    "editable": false
   },
   "outputs": [
    {
     "data": {
      "text/html": [
       "\n",
       "    <p><strong>q1_2</strong> passed!</p>\n",
       "    "
      ],
      "text/plain": [
       "q1_2 passed!"
      ]
     },
     "execution_count": 6,
     "metadata": {},
     "output_type": "execute_result"
    }
   ],
   "source": [
    "grader.check(\"q1_2\")"
   ]
  },
  {
   "cell_type": "markdown",
   "metadata": {},
   "source": [
    "**Question 1.3.** Avocados are sold in two types: organic and conventional. Make a table named `organic` containing only the data for organic avocados, and a table named `conventional` for conventional avocados."
   ]
  },
  {
   "cell_type": "code",
   "execution_count": 7,
   "metadata": {},
   "outputs": [],
   "source": [
    "organic = avocado[avocado.get('Type') == 'organic']\n",
    "conventional = avocado[avocado.get('Type') == 'conventional']"
   ]
  },
  {
   "cell_type": "code",
   "execution_count": 8,
   "metadata": {
    "deletable": false,
    "editable": false
   },
   "outputs": [
    {
     "data": {
      "text/html": [
       "\n",
       "    <p><strong>q1_3</strong> passed!</p>\n",
       "    "
      ],
      "text/plain": [
       "q1_3 passed!"
      ]
     },
     "execution_count": 8,
     "metadata": {},
     "output_type": "execute_result"
    }
   ],
   "source": [
    "grader.check(\"q1_3\")"
   ]
  },
  {
   "cell_type": "markdown",
   "metadata": {},
   "source": [
    "**Question 1.4.** Create a table named `sd_total` which contains one column, `Volume`. The `Volume` column should be equal to the total volume of avocados (organic + conventional) sold in San Diego for each date. The index of your table should contain the dates.\n",
    "\n",
    "*Hint*: if you do this right, you won't need to use `.set_index()` to make the date the row label.\n",
    "\n",
    "*Hint*: Are the region names separated by a space?"
   ]
  },
  {
   "cell_type": "code",
   "execution_count": 9,
   "metadata": {},
   "outputs": [
    {
     "data": {
      "text/html": [
       "<div>\n",
       "<style scoped>\n",
       "    .dataframe tbody tr th:only-of-type {\n",
       "        vertical-align: middle;\n",
       "    }\n",
       "\n",
       "    .dataframe tbody tr th {\n",
       "        vertical-align: top;\n",
       "    }\n",
       "\n",
       "    .dataframe thead th {\n",
       "        text-align: right;\n",
       "    }\n",
       "</style>\n",
       "<table border=\"1\" class=\"dataframe\">\n",
       "  <thead>\n",
       "    <tr style=\"text-align: right;\">\n",
       "      <th></th>\n",
       "      <th>Volume</th>\n",
       "    </tr>\n",
       "    <tr>\n",
       "      <th>Date</th>\n",
       "      <th></th>\n",
       "    </tr>\n",
       "  </thead>\n",
       "  <tbody>\n",
       "    <tr>\n",
       "      <th>2015-01</th>\n",
       "      <td>484.678510</td>\n",
       "    </tr>\n",
       "    <tr>\n",
       "      <th>2015-02</th>\n",
       "      <td>550.288003</td>\n",
       "    </tr>\n",
       "    <tr>\n",
       "      <th>2015-03</th>\n",
       "      <td>513.243538</td>\n",
       "    </tr>\n",
       "    <tr>\n",
       "      <th>2015-04</th>\n",
       "      <td>488.004870</td>\n",
       "    </tr>\n",
       "    <tr>\n",
       "      <th>2015-05</th>\n",
       "      <td>579.081808</td>\n",
       "    </tr>\n",
       "    <tr>\n",
       "      <th>...</th>\n",
       "      <td>...</td>\n",
       "    </tr>\n",
       "    <tr>\n",
       "      <th>2017-11</th>\n",
       "      <td>443.204205</td>\n",
       "    </tr>\n",
       "    <tr>\n",
       "      <th>2017-12</th>\n",
       "      <td>545.614502</td>\n",
       "    </tr>\n",
       "    <tr>\n",
       "      <th>2018-01</th>\n",
       "      <td>501.497322</td>\n",
       "    </tr>\n",
       "    <tr>\n",
       "      <th>2018-02</th>\n",
       "      <td>619.342863</td>\n",
       "    </tr>\n",
       "    <tr>\n",
       "      <th>2018-03</th>\n",
       "      <td>547.622438</td>\n",
       "    </tr>\n",
       "  </tbody>\n",
       "</table>\n",
       "<p>39 rows × 1 columns</p>\n",
       "</div>"
      ],
      "text/plain": [
       "             Volume\n",
       "Date               \n",
       "2015-01  484.678510\n",
       "2015-02  550.288003\n",
       "2015-03  513.243538\n",
       "2015-04  488.004870\n",
       "2015-05  579.081808\n",
       "...             ...\n",
       "2017-11  443.204205\n",
       "2017-12  545.614502\n",
       "2018-01  501.497322\n",
       "2018-02  619.342863\n",
       "2018-03  547.622438\n",
       "\n",
       "[39 rows x 1 columns]"
      ]
     },
     "execution_count": 9,
     "metadata": {},
     "output_type": "execute_result"
    }
   ],
   "source": [
    "sd_total = avocado[avocado.get('Region') == 'SanDiego'].groupby('Date').sum().drop(columns='Price')\n",
    "sd_total"
   ]
  },
  {
   "cell_type": "code",
   "execution_count": 10,
   "metadata": {
    "deletable": false,
    "editable": false
   },
   "outputs": [
    {
     "data": {
      "text/html": [
       "\n",
       "    <p><strong>q1_4</strong> passed!</p>\n",
       "    "
      ],
      "text/plain": [
       "q1_4 passed!"
      ]
     },
     "execution_count": 10,
     "metadata": {},
     "output_type": "execute_result"
    }
   ],
   "source": [
    "grader.check(\"q1_4\")"
   ]
  },
  {
   "cell_type": "markdown",
   "metadata": {},
   "source": [
    "**Question 1.5.** Create a table named `median_price` containing one column named `MedianPrice` containing the median price of **conventional avocados** sold on each date. Your table should have one row for each date, and the row label should be the date."
   ]
  },
  {
   "cell_type": "code",
   "execution_count": 11,
   "metadata": {},
   "outputs": [
    {
     "data": {
      "text/html": [
       "<div>\n",
       "<style scoped>\n",
       "    .dataframe tbody tr th:only-of-type {\n",
       "        vertical-align: middle;\n",
       "    }\n",
       "\n",
       "    .dataframe tbody tr th {\n",
       "        vertical-align: top;\n",
       "    }\n",
       "\n",
       "    .dataframe thead th {\n",
       "        text-align: right;\n",
       "    }\n",
       "</style>\n",
       "<table border=\"1\" class=\"dataframe\">\n",
       "  <thead>\n",
       "    <tr style=\"text-align: right;\">\n",
       "      <th></th>\n",
       "      <th>MedianPrice</th>\n",
       "    </tr>\n",
       "    <tr>\n",
       "      <th>Date</th>\n",
       "      <th></th>\n",
       "    </tr>\n",
       "  </thead>\n",
       "  <tbody>\n",
       "    <tr>\n",
       "      <th>2015-01</th>\n",
       "      <td>1.1150</td>\n",
       "    </tr>\n",
       "    <tr>\n",
       "      <th>2015-02</th>\n",
       "      <td>1.0725</td>\n",
       "    </tr>\n",
       "    <tr>\n",
       "      <th>2015-03</th>\n",
       "      <td>1.1220</td>\n",
       "    </tr>\n",
       "    <tr>\n",
       "      <th>2015-04</th>\n",
       "      <td>1.1175</td>\n",
       "    </tr>\n",
       "    <tr>\n",
       "      <th>2015-05</th>\n",
       "      <td>1.1160</td>\n",
       "    </tr>\n",
       "    <tr>\n",
       "      <th>...</th>\n",
       "      <td>...</td>\n",
       "    </tr>\n",
       "    <tr>\n",
       "      <th>2017-11</th>\n",
       "      <td>1.3100</td>\n",
       "    </tr>\n",
       "    <tr>\n",
       "      <th>2017-12</th>\n",
       "      <td>1.1460</td>\n",
       "    </tr>\n",
       "    <tr>\n",
       "      <th>2018-01</th>\n",
       "      <td>1.2050</td>\n",
       "    </tr>\n",
       "    <tr>\n",
       "      <th>2018-02</th>\n",
       "      <td>1.0975</td>\n",
       "    </tr>\n",
       "    <tr>\n",
       "      <th>2018-03</th>\n",
       "      <td>1.1575</td>\n",
       "    </tr>\n",
       "  </tbody>\n",
       "</table>\n",
       "<p>39 rows × 1 columns</p>\n",
       "</div>"
      ],
      "text/plain": [
       "         MedianPrice\n",
       "Date                \n",
       "2015-01       1.1150\n",
       "2015-02       1.0725\n",
       "2015-03       1.1220\n",
       "2015-04       1.1175\n",
       "2015-05       1.1160\n",
       "...              ...\n",
       "2017-11       1.3100\n",
       "2017-12       1.1460\n",
       "2018-01       1.2050\n",
       "2018-02       1.0975\n",
       "2018-03       1.1575\n",
       "\n",
       "[39 rows x 1 columns]"
      ]
     },
     "execution_count": 11,
     "metadata": {},
     "output_type": "execute_result"
    }
   ],
   "source": [
    "median_price = avocado[avocado.get('Type') == 'conventional'].groupby('Date').median().drop(columns='Volume')\n",
    "median_price = median_price.assign(MedianPrice=median_price.get('Price')).drop(columns='Price')\n",
    "median_price"
   ]
  },
  {
   "cell_type": "code",
   "execution_count": 12,
   "metadata": {
    "deletable": false,
    "editable": false
   },
   "outputs": [
    {
     "data": {
      "text/html": [
       "\n",
       "    <p><strong>q1_5</strong> passed!</p>\n",
       "    "
      ],
      "text/plain": [
       "q1_5 passed!"
      ]
     },
     "execution_count": 12,
     "metadata": {},
     "output_type": "execute_result"
    }
   ],
   "source": [
    "grader.check(\"q1_5\")"
   ]
  },
  {
   "cell_type": "markdown",
   "metadata": {},
   "source": [
    "**Question 1.6.** Plot the median price of conventional avocados in the entire US as a function of date. Does the data support the \"avocadopocalypse\"; that is, were prices higher in 2017? Describe how you could use the given data to investigate the *reason* that prices were higher."
   ]
  },
  {
   "cell_type": "markdown",
   "metadata": {
    "deletable": false,
    "editable": false
   },
   "source": [
    "<!-- BEGIN QUESTION -->\n",
    "\n",
    "<!--\n",
    "BEGIN QUESTION\n",
    "name: q1_6\n",
    "manual: true\n",
    "-->"
   ]
  },
  {
   "cell_type": "code",
   "execution_count": 13,
   "metadata": {},
   "outputs": [
    {
     "data": {
      "text/plain": [
       "<AxesSubplot:xlabel='Date'>"
      ]
     },
     "execution_count": 13,
     "metadata": {},
     "output_type": "execute_result"
    },
    {
     "data": {
      "image/png": "[encoded data removed]",
      "text/plain": [
       "<Figure size 1080x576 with 1 Axes>"
      ]
     },
     "metadata": {
      "needs_background": "light"
     },
     "output_type": "display_data"
    }
   ],
   "source": [
    "# Make your plot here\n",
    "median_price.plot(kind='bar', figsize=[15,8])"
   ]
  },
  {
   "cell_type": "markdown",
   "metadata": {},
   "source": [
    "Data supports the 'avocadopocalypse' as median prices in 2017 were higher. The data shows that prices were at highest in 2017-09 and 2017-10--same thing occured in the same months of 2016. So this could suggest that, aside from overall median prices being higher in 2017 than other years, price increases may be somehow related to July, August, and September months. "
   ]
  },
  {
   "cell_type": "markdown",
   "metadata": {},
   "source": [
    "<!-- END QUESTION -->\n",
    "\n",
    "\n",
    "\n",
    "## 2. Power Outages\n"
   ]
  },
  {
   "cell_type": "markdown",
   "metadata": {},
   "source": [
    "The dataset below contains information about power outages that occurred in North America between 2000 to 2014. The data is a subset of the data available [here](https://urldefense.com/v3/__https://www.kaggle.com/autunno/15-years-of-power-outages__;!!Mih3wA!UQwVlo9PvACY7t4CCustkKZq0RfPE-hGk1xDpoo20dpsixLTa8OgXRoiwcEkHHY$ ).  Run the next cell to load the data."
   ]
  },
  {
   "cell_type": "code",
   "execution_count": 14,
   "metadata": {
    "scrolled": false
   },
   "outputs": [
    {
     "data": {
      "text/html": [
       "<div>\n",
       "<style scoped>\n",
       "    .dataframe tbody tr th:only-of-type {\n",
       "        vertical-align: middle;\n",
       "    }\n",
       "\n",
       "    .dataframe tbody tr th {\n",
       "        vertical-align: top;\n",
       "    }\n",
       "\n",
       "    .dataframe thead th {\n",
       "        text-align: right;\n",
       "    }\n",
       "</style>\n",
       "<table border=\"1\" class=\"dataframe\">\n",
       "  <thead>\n",
       "    <tr style=\"text-align: right;\">\n",
       "      <th></th>\n",
       "      <th>Event Description</th>\n",
       "      <th>Year</th>\n",
       "      <th>Time Event Began</th>\n",
       "      <th>Date of Restoration</th>\n",
       "      <th>Time of Restoration</th>\n",
       "      <th>Respondent</th>\n",
       "      <th>Geographic Areas</th>\n",
       "      <th>NERC Region</th>\n",
       "      <th>Number of Customers Affected</th>\n",
       "      <th>Tags</th>\n",
       "    </tr>\n",
       "  </thead>\n",
       "  <tbody>\n",
       "    <tr>\n",
       "      <th>0</th>\n",
       "      <td>Severe Weather - Thunderstorms</td>\n",
       "      <td>2014</td>\n",
       "      <td>8:00 PM</td>\n",
       "      <td>7/2/2014</td>\n",
       "      <td>6:30 PM</td>\n",
       "      <td>Exelon Corporation/ComEd</td>\n",
       "      <td>Illinois</td>\n",
       "      <td>RFC</td>\n",
       "      <td>420,000</td>\n",
       "      <td>severe weather, thunderstorm</td>\n",
       "    </tr>\n",
       "    <tr>\n",
       "      <th>1</th>\n",
       "      <td>Severe Weather - Thunderstorms</td>\n",
       "      <td>2014</td>\n",
       "      <td>11:20 PM</td>\n",
       "      <td>7/1/2014</td>\n",
       "      <td>5:00 PM</td>\n",
       "      <td>Northern Indiana Public Service Company</td>\n",
       "      <td>North Central Indiana</td>\n",
       "      <td>RFC</td>\n",
       "      <td>127,000</td>\n",
       "      <td>severe weather, thunderstorm</td>\n",
       "    </tr>\n",
       "    <tr>\n",
       "      <th>2</th>\n",
       "      <td>Severe Weather - Thunderstorms</td>\n",
       "      <td>2014</td>\n",
       "      <td>5:55 PM</td>\n",
       "      <td>7/1/2014</td>\n",
       "      <td>2:53 AM</td>\n",
       "      <td>We Energies</td>\n",
       "      <td>Southeast  Wisconsin</td>\n",
       "      <td>MRO</td>\n",
       "      <td>120,000</td>\n",
       "      <td>severe weather, thunderstorm</td>\n",
       "    </tr>\n",
       "    <tr>\n",
       "      <th>3</th>\n",
       "      <td>Fuel Supply Emergency - Coal</td>\n",
       "      <td>2014</td>\n",
       "      <td>1:21 PM</td>\n",
       "      <td>Unknown</td>\n",
       "      <td>Unknown</td>\n",
       "      <td>We Energies</td>\n",
       "      <td>Wisconsin</td>\n",
       "      <td>MRO</td>\n",
       "      <td>Unknown</td>\n",
       "      <td>fuel supply emergency, coal</td>\n",
       "    </tr>\n",
       "    <tr>\n",
       "      <th>4</th>\n",
       "      <td>Physical Attack - Vandalism</td>\n",
       "      <td>2014</td>\n",
       "      <td>2:54 PM</td>\n",
       "      <td>6/24/2014</td>\n",
       "      <td>2:55 PM</td>\n",
       "      <td>Tennessee Valley Authority</td>\n",
       "      <td>Nashville, Tennessee</td>\n",
       "      <td>SERC</td>\n",
       "      <td>Unknown</td>\n",
       "      <td>vandalism, physical</td>\n",
       "    </tr>\n",
       "    <tr>\n",
       "      <th>...</th>\n",
       "      <td>...</td>\n",
       "      <td>...</td>\n",
       "      <td>...</td>\n",
       "      <td>...</td>\n",
       "      <td>...</td>\n",
       "      <td>...</td>\n",
       "      <td>...</td>\n",
       "      <td>...</td>\n",
       "      <td>...</td>\n",
       "      <td>...</td>\n",
       "    </tr>\n",
       "    <tr>\n",
       "      <th>1647</th>\n",
       "      <td>Transmission Line Loss</td>\n",
       "      <td>2000</td>\n",
       "      <td>4:00 p.m.</td>\n",
       "      <td>3/18/2000</td>\n",
       "      <td>5:10:00 PM</td>\n",
       "      <td>El Paso Elec. Co.</td>\n",
       "      <td>Texas</td>\n",
       "      <td>MAIN</td>\n",
       "      <td>100,000</td>\n",
       "      <td>transmission interruption</td>\n",
       "    </tr>\n",
       "    <tr>\n",
       "      <th>1648</th>\n",
       "      <td>Vandalism</td>\n",
       "      <td>2000</td>\n",
       "      <td>9:06 p.m.</td>\n",
       "      <td>NaN</td>\n",
       "      <td>NaN</td>\n",
       "      <td>Alliant Energy</td>\n",
       "      <td>Maine</td>\n",
       "      <td>MAIN</td>\n",
       "      <td>NaN</td>\n",
       "      <td>vandalism</td>\n",
       "    </tr>\n",
       "    <tr>\n",
       "      <th>1649</th>\n",
       "      <td>Ice Storm</td>\n",
       "      <td>2000</td>\n",
       "      <td>10:00 p.m.</td>\n",
       "      <td>2/3/2000</td>\n",
       "      <td>12:00:00 PM</td>\n",
       "      <td>Duke Power Co.</td>\n",
       "      <td>South Carolina</td>\n",
       "      <td>SERC</td>\n",
       "      <td>81,000</td>\n",
       "      <td>severe weather, winter storm</td>\n",
       "    </tr>\n",
       "    <tr>\n",
       "      <th>1650</th>\n",
       "      <td>Ice Storm</td>\n",
       "      <td>2000</td>\n",
       "      <td>7:00 p.m.</td>\n",
       "      <td>NaN</td>\n",
       "      <td>NaN</td>\n",
       "      <td>Carolina Power &amp; Light</td>\n",
       "      <td>North Carolina &amp; Northern South Carolina</td>\n",
       "      <td>SERC</td>\n",
       "      <td>173,000</td>\n",
       "      <td>severe weather, winter storm</td>\n",
       "    </tr>\n",
       "    <tr>\n",
       "      <th>1651</th>\n",
       "      <td>Ice Storm</td>\n",
       "      <td>2000</td>\n",
       "      <td>8:00 a.m.</td>\n",
       "      <td>1/28/2000</td>\n",
       "      <td>12:00:00 PM</td>\n",
       "      <td>Duke Power Co.</td>\n",
       "      <td>South Carolina</td>\n",
       "      <td>SERC</td>\n",
       "      <td>133,000</td>\n",
       "      <td>severe weather, winter storm</td>\n",
       "    </tr>\n",
       "  </tbody>\n",
       "</table>\n",
       "<p>1652 rows × 10 columns</p>\n",
       "</div>"
      ],
      "text/plain": [
       "                   Event Description  Year Time Event Began  \\\n",
       "0     Severe Weather - Thunderstorms  2014          8:00 PM   \n",
       "1     Severe Weather - Thunderstorms  2014         11:20 PM   \n",
       "2     Severe Weather - Thunderstorms  2014          5:55 PM   \n",
       "3       Fuel Supply Emergency - Coal  2014          1:21 PM   \n",
       "4        Physical Attack - Vandalism  2014          2:54 PM   \n",
       "...                              ...   ...              ...   \n",
       "1647          Transmission Line Loss  2000        4:00 p.m.   \n",
       "1648                       Vandalism  2000        9:06 p.m.   \n",
       "1649                       Ice Storm  2000       10:00 p.m.   \n",
       "1650                       Ice Storm  2000        7:00 p.m.   \n",
       "1651                       Ice Storm  2000        8:00 a.m.   \n",
       "\n",
       "     Date of Restoration Time of Restoration  \\\n",
       "0               7/2/2014             6:30 PM   \n",
       "1               7/1/2014             5:00 PM   \n",
       "2               7/1/2014             2:53 AM   \n",
       "3                Unknown             Unknown   \n",
       "4              6/24/2014             2:55 PM   \n",
       "...                  ...                 ...   \n",
       "1647           3/18/2000          5:10:00 PM   \n",
       "1648                 NaN                 NaN   \n",
       "1649            2/3/2000         12:00:00 PM   \n",
       "1650                 NaN                 NaN   \n",
       "1651           1/28/2000         12:00:00 PM   \n",
       "\n",
       "                                   Respondent  \\\n",
       "0                    Exelon Corporation/ComEd   \n",
       "1     Northern Indiana Public Service Company   \n",
       "2                                 We Energies   \n",
       "3                                 We Energies   \n",
       "4                  Tennessee Valley Authority   \n",
       "...                                       ...   \n",
       "1647                        El Paso Elec. Co.   \n",
       "1648                           Alliant Energy   \n",
       "1649                           Duke Power Co.   \n",
       "1650                   Carolina Power & Light   \n",
       "1651                           Duke Power Co.   \n",
       "\n",
       "                              Geographic Areas NERC Region  \\\n",
       "0                                     Illinois         RFC   \n",
       "1                        North Central Indiana         RFC   \n",
       "2                         Southeast  Wisconsin         MRO   \n",
       "3                                    Wisconsin         MRO   \n",
       "4                         Nashville, Tennessee        SERC   \n",
       "...                                        ...         ...   \n",
       "1647                                     Texas        MAIN   \n",
       "1648                                     Maine        MAIN   \n",
       "1649                            South Carolina        SERC   \n",
       "1650  North Carolina & Northern South Carolina        SERC   \n",
       "1651                            South Carolina        SERC   \n",
       "\n",
       "     Number of Customers Affected                          Tags  \n",
       "0                         420,000  severe weather, thunderstorm  \n",
       "1                         127,000  severe weather, thunderstorm  \n",
       "2                         120,000  severe weather, thunderstorm  \n",
       "3                         Unknown   fuel supply emergency, coal  \n",
       "4                         Unknown           vandalism, physical  \n",
       "...                           ...                           ...  \n",
       "1647                      100,000     transmission interruption  \n",
       "1648                          NaN                     vandalism  \n",
       "1649                       81,000  severe weather, winter storm  \n",
       "1650                      173,000  severe weather, winter storm  \n",
       "1651                      133,000  severe weather, winter storm  \n",
       "\n",
       "[1652 rows x 10 columns]"
      ]
     },
     "execution_count": 14,
     "metadata": {},
     "output_type": "execute_result"
    }
   ],
   "source": [
    "# just run this cell\n",
    "power = bpd.read_csv(\"data/powerdata.csv\")\n",
    "power"
   ]
  },
  {
   "cell_type": "markdown",
   "metadata": {},
   "source": [
    "**Question 2.1.** Find the proportion of all power outages that occured in the year 2013. Save your answer to the variable `outage_2013`."
   ]
  },
  {
   "cell_type": "code",
   "execution_count": 15,
   "metadata": {
    "scrolled": false
   },
   "outputs": [
    {
     "data": {
      "text/plain": [
       "0.1053268765133172"
      ]
     },
     "execution_count": 15,
     "metadata": {},
     "output_type": "execute_result"
    }
   ],
   "source": [
    "outage_2013 = (power[power.get('Year') == 2013].get('Year').count()) / (power.get('Year').count())\n",
    "outage_2013"
   ]
  },
  {
   "cell_type": "code",
   "execution_count": 16,
   "metadata": {
    "deletable": false,
    "editable": false
   },
   "outputs": [
    {
     "data": {
      "text/html": [
       "\n",
       "    <p><strong>q2_1</strong> passed!</p>\n",
       "    "
      ],
      "text/plain": [
       "q2_1 passed!"
      ]
     },
     "execution_count": 16,
     "metadata": {},
     "output_type": "execute_result"
    }
   ],
   "source": [
    "grader.check(\"q2_1\")"
   ]
  },
  {
   "cell_type": "markdown",
   "metadata": {},
   "source": [
    "**Question 2.2.** Make a horizontal bar chart showing the number of outages per NERC Region. Make sure that the bars are sorted from longest to shortest. You can learn more about what a NERC region is [here](https://www.nerc.com/Pages/default.aspx)."
   ]
  },
  {
   "cell_type": "markdown",
   "metadata": {
    "deletable": false,
    "editable": false
   },
   "source": [
    "<!-- BEGIN QUESTION -->\n",
    "\n",
    "<!--\n",
    "BEGIN QUESTION\n",
    "name: q2_2\n",
    "manual: true\n",
    "-->"
   ]
  },
  {
   "cell_type": "code",
   "execution_count": 17,
   "metadata": {
    "scrolled": true
   },
   "outputs": [
    {
     "data": {
      "text/plain": [
       "<AxesSubplot:ylabel='NERC Region'>"
      ]
     },
     "execution_count": 17,
     "metadata": {},
     "output_type": "execute_result"
    },
    {
     "data": {
      "image/png": "[encoded data removed]",
      "text/plain": [
       "<Figure size 576x360 with 1 Axes>"
      ]
     },
     "metadata": {
      "needs_background": "light"
     },
     "output_type": "display_data"
    }
   ],
   "source": [
    "#put your code here\n",
    "barc = power.groupby('NERC Region').count().get('Year').sort_values()\n",
    "barc.plot(kind='barh', figsize=[8,5])"
   ]
  },
  {
   "cell_type": "markdown",
   "metadata": {},
   "source": [
    "<!-- END QUESTION -->\n",
    "\n",
    "\n",
    "\n",
    "**Question 2.3.** Draw a line plot of the count of power outages by year."
   ]
  },
  {
   "cell_type": "markdown",
   "metadata": {
    "deletable": false,
    "editable": false
   },
   "source": [
    "<!-- BEGIN QUESTION -->\n",
    "\n",
    "<!--\n",
    "BEGIN QUESTION\n",
    "name: q2_3\n",
    "manual: true\n",
    "-->"
   ]
  },
  {
   "cell_type": "code",
   "execution_count": 18,
   "metadata": {
    "scrolled": true
   },
   "outputs": [
    {
     "data": {
      "text/plain": [
       "<AxesSubplot:xlabel='Year'>"
      ]
     },
     "execution_count": 18,
     "metadata": {},
     "output_type": "execute_result"
    },
    {
     "data": {
      "image/png": "[encoded data removed]",
      "text/plain": [
       "<Figure size 432x288 with 1 Axes>"
      ]
     },
     "metadata": {
      "needs_background": "light"
     },
     "output_type": "display_data"
    }
   ],
   "source": [
    "#put your code here\n",
    "power.groupby('Year').count().get('Event Description').plot(kind='line')"
   ]
  },
  {
   "cell_type": "markdown",
   "metadata": {},
   "source": [
    "<!-- END QUESTION -->\n",
    "\n",
    "\n",
    "\n",
    "**Question 2.4.** We notice that there is a spike in power outages in the year 2011. Let's explore some of the data of the outages in the year 2011. Create a table named `power_2011` which has one column, `Count`, which is a count of the number of times that `Event Description` occured in 2011. The index should contain the event descriptions."
   ]
  },
  {
   "cell_type": "code",
   "execution_count": 19,
   "metadata": {
    "scrolled": false
   },
   "outputs": [
    {
     "data": {
      "text/html": [
       "<div>\n",
       "<style scoped>\n",
       "    .dataframe tbody tr th:only-of-type {\n",
       "        vertical-align: middle;\n",
       "    }\n",
       "\n",
       "    .dataframe tbody tr th {\n",
       "        vertical-align: top;\n",
       "    }\n",
       "\n",
       "    .dataframe thead th {\n",
       "        text-align: right;\n",
       "    }\n",
       "</style>\n",
       "<table border=\"1\" class=\"dataframe\">\n",
       "  <thead>\n",
       "    <tr style=\"text-align: right;\">\n",
       "      <th></th>\n",
       "      <th>Count</th>\n",
       "    </tr>\n",
       "    <tr>\n",
       "      <th>Event Description</th>\n",
       "      <th></th>\n",
       "    </tr>\n",
       "  </thead>\n",
       "  <tbody>\n",
       "    <tr>\n",
       "      <th>Actual Physical Attack</th>\n",
       "      <td>1</td>\n",
       "    </tr>\n",
       "    <tr>\n",
       "      <th>Cold Weather Event</th>\n",
       "      <td>1</td>\n",
       "    </tr>\n",
       "    <tr>\n",
       "      <th>Distribution System Interruption</th>\n",
       "      <td>1</td>\n",
       "    </tr>\n",
       "    <tr>\n",
       "      <th>Earthquake</th>\n",
       "      <td>1</td>\n",
       "    </tr>\n",
       "    <tr>\n",
       "      <th>Electrical Fault at Generator</th>\n",
       "      <td>1</td>\n",
       "    </tr>\n",
       "    <tr>\n",
       "      <th>...</th>\n",
       "      <td>...</td>\n",
       "    </tr>\n",
       "    <tr>\n",
       "      <th>Transmission Level Interruption</th>\n",
       "      <td>1</td>\n",
       "    </tr>\n",
       "    <tr>\n",
       "      <th>Transmission Level Outage</th>\n",
       "      <td>1</td>\n",
       "    </tr>\n",
       "    <tr>\n",
       "      <th>Transmission/Distribution Interruption; Load Shed; Generation Inadequacy</th>\n",
       "      <td>1</td>\n",
       "    </tr>\n",
       "    <tr>\n",
       "      <th>Vandalism</th>\n",
       "      <td>79</td>\n",
       "    </tr>\n",
       "    <tr>\n",
       "      <th>Winter Storm</th>\n",
       "      <td>10</td>\n",
       "    </tr>\n",
       "  </tbody>\n",
       "</table>\n",
       "<p>33 rows × 1 columns</p>\n",
       "</div>"
      ],
      "text/plain": [
       "                                                    Count\n",
       "Event Description                                        \n",
       "Actual Physical Attack                                  1\n",
       "Cold Weather Event                                      1\n",
       "Distribution System Interruption                        1\n",
       "Earthquake                                              1\n",
       "Electrical Fault at Generator                           1\n",
       "...                                                   ...\n",
       "Transmission Level Interruption                         1\n",
       "Transmission Level Outage                               1\n",
       "Transmission/Distribution Interruption; Load Sh...      1\n",
       "Vandalism                                              79\n",
       "Winter Storm                                           10\n",
       "\n",
       "[33 rows x 1 columns]"
      ]
     },
     "execution_count": 19,
     "metadata": {},
     "output_type": "execute_result"
    }
   ],
   "source": [
    "power_2011 = power[power.get('Year') == 2011].groupby('Event Description').count()\n",
    "power_2011 = power_2011.drop(\n",
    "    columns=['Time Event Began', 'Date of Restoration', 'Time of Restoration' , 'Respondent',\n",
    "            'Geographic Areas', 'NERC Region', 'Number of Customers Affected', 'Tags']\n",
    ")\n",
    "power_2011 = power_2011.assign(Count=power_2011.get('Year')).drop(columns='Year')\n",
    "power_2011"
   ]
  },
  {
   "cell_type": "code",
   "execution_count": 20,
   "metadata": {
    "deletable": false,
    "editable": false
   },
   "outputs": [
    {
     "data": {
      "text/html": [
       "\n",
       "    <p><strong>q2_4</strong> passed!</p>\n",
       "    "
      ],
      "text/plain": [
       "q2_4 passed!"
      ]
     },
     "execution_count": 20,
     "metadata": {},
     "output_type": "execute_result"
    }
   ],
   "source": [
    "grader.check(\"q2_4\")"
   ]
  },
  {
   "cell_type": "markdown",
   "metadata": {},
   "source": [
    "**Question 2.5.** How many outages were there in Texas in 2012?\n",
    "\n",
    "*Hint*: There are many geographic areas in Texas. For instance, \"Central Texas\" is one, \"Texas\" is another."
   ]
  },
  {
   "cell_type": "code",
   "execution_count": 21,
   "metadata": {},
   "outputs": [
    {
     "data": {
      "text/plain": [
       "104"
      ]
     },
     "execution_count": 21,
     "metadata": {},
     "output_type": "execute_result"
    }
   ],
   "source": [
    "texas_outages = power[power.get('Geographic Areas').str.contains('Texas')].shape[0]\n",
    "texas_outages"
   ]
  },
  {
   "cell_type": "code",
   "execution_count": 22,
   "metadata": {
    "deletable": false,
    "editable": false
   },
   "outputs": [
    {
     "data": {
      "text/html": [
       "\n",
       "    <p><strong>q2_5</strong> passed!</p>\n",
       "    "
      ],
      "text/plain": [
       "q2_5 passed!"
      ]
     },
     "execution_count": 22,
     "metadata": {},
     "output_type": "execute_result"
    }
   ],
   "source": [
    "grader.check(\"q2_5\")"
   ]
  },
  {
   "cell_type": "markdown",
   "metadata": {},
   "source": [
    "## 3. Defining Functions\n",
    "\n",
    "In this problem we'll define functions for working with coordinates.\n",
    "A coordinate in 2-dimensional space is easily represented with a Python list of length two. For instance, the point $(1,3)$ can be represented as:"
   ]
  },
  {
   "cell_type": "code",
   "execution_count": 23,
   "metadata": {},
   "outputs": [
    {
     "data": {
      "text/plain": [
       "[1, 3]"
      ]
     },
     "execution_count": 23,
     "metadata": {},
     "output_type": "execute_result"
    }
   ],
   "source": [
    "[1, 3]"
   ]
  },
  {
   "cell_type": "markdown",
   "metadata": {},
   "source": [
    "**Question 3.1.** \n",
    "\n",
    "Define a function named `find_slope` that takes in two coordinates, [x1, y1] and [x2, y2], and returns the slope of the line connecting the two points. Assume x1 and x2 are not equal."
   ]
  },
  {
   "cell_type": "code",
   "execution_count": 24,
   "metadata": {},
   "outputs": [],
   "source": [
    "def find_slope(coordinate_1, coordinate_2):\n",
    "    return ((coordinate_2[1] - coordinate_1[1]) / (coordinate_2[0] - coordinate_1[0]))"
   ]
  },
  {
   "cell_type": "code",
   "execution_count": 25,
   "metadata": {
    "deletable": false,
    "editable": false
   },
   "outputs": [
    {
     "data": {
      "text/html": [
       "\n",
       "    <p><strong>q3_1</strong> passed!</p>\n",
       "    "
      ],
      "text/plain": [
       "q3_1 passed!"
      ]
     },
     "execution_count": 25,
     "metadata": {},
     "output_type": "execute_result"
    }
   ],
   "source": [
    "grader.check(\"q3_1\")"
   ]
  },
  {
   "cell_type": "markdown",
   "metadata": {},
   "source": [
    "**Question 3.2.** Define a function named `find_intercepts` that takes in two coordinates, [x1, y1] and [x2, y2], and returns the x-intercept and y-intercept of the line connecting the two points. Assume x1 and x2 are not equal and that y1 and y2 are not equal.\n",
    "\n",
    "*Hint*: The `find_slope` function may help you."
   ]
  },
  {
   "cell_type": "code",
   "execution_count": 26,
   "metadata": {},
   "outputs": [
    {
     "data": {
      "text/plain": [
       "(0.0, 2.0)"
      ]
     },
     "execution_count": 26,
     "metadata": {},
     "output_type": "execute_result"
    }
   ],
   "source": [
    "def find_intercepts(coordinate_1, coordinate_2):\n",
    "    x = coordinate_1[0]\n",
    "    y = coordinate_1[1]\n",
    "    m = find_slope(coordinate_1, coordinate_2)\n",
    "    y_intercept = y - (m * x)\n",
    "    x_intercept = 0 - m * x\n",
    "    return (x_intercept, y_intercept)\n",
    "\n",
    "find_intercepts([5,2],[7,2])"
   ]
  },
  {
   "cell_type": "code",
   "execution_count": 27,
   "metadata": {
    "deletable": false,
    "editable": false
   },
   "outputs": [
    {
     "data": {
      "text/html": [
       "\n",
       "    <p><strong>q3_2</strong> passed!</p>\n",
       "    "
      ],
      "text/plain": [
       "q3_2 passed!"
      ]
     },
     "execution_count": 27,
     "metadata": {},
     "output_type": "execute_result"
    }
   ],
   "source": [
    "grader.check(\"q3_2\")"
   ]
  },
  {
   "cell_type": "markdown",
   "metadata": {},
   "source": [
    "One of the simplest ways of predicting the future is to assume that change happens linearly. For instance, suppose a person's height at 10 years old is 48 inches, and their height at 14 years old is 53 inches. We can predict their height at 20 years of age by drawing a straight line between (10, 48) and (14, 53), and finding its value at x = 20."
   ]
  },
  {
   "cell_type": "markdown",
   "metadata": {},
   "source": [
    "**Question 3.3.** Define a function named `predict_heights` that takes in two coordinates [age_1, height_1] and [age_2, height_2] and the age to predict the person's height for. Return the predicted height. Assume age_1 and age_2 are not equal. Assume height_1 and height_2 are not equal."
   ]
  },
  {
   "cell_type": "code",
   "execution_count": 28,
   "metadata": {},
   "outputs": [],
   "source": [
    "def predict_heights(age_and_height_1, age_and_height_2, age_to_predict):\n",
    "    change = find_slope(age_and_height_1,age_and_height_2)\n",
    "    predicted_height = ( (age_to_predict - age_and_height_2[0]) * change ) + age_and_height_2[1]\n",
    "    return predicted_height"
   ]
  },
  {
   "cell_type": "code",
   "execution_count": 29,
   "metadata": {
    "deletable": false,
    "editable": false
   },
   "outputs": [
    {
     "data": {
      "text/html": [
       "\n",
       "    <p><strong>q3_4</strong> passed!</p>\n",
       "    "
      ],
      "text/plain": [
       "q3_4 passed!"
      ]
     },
     "execution_count": 29,
     "metadata": {},
     "output_type": "execute_result"
    }
   ],
   "source": [
    "grader.check(\"q3_4\")"
   ]
  },
  {
   "cell_type": "markdown",
   "metadata": {},
   "source": [
    "**Question 3.4.** Is this a good way of predicting heights? When might it give poor results?"
   ]
  },
  {
   "cell_type": "markdown",
   "metadata": {
    "deletable": false,
    "editable": false
   },
   "source": [
    "<!-- BEGIN QUESTION -->\n",
    "\n",
    "<!--\n",
    "BEGIN QUESTION\n",
    "name: q3_4\n",
    "manual: true\n",
    "-->"
   ]
  },
  {
   "cell_type": "markdown",
   "metadata": {},
   "source": [
    "No, this is not a good way of predicting heights because one's height does not grow linearly as it stops when adolescence hits. "
   ]
  },
  {
   "cell_type": "markdown",
   "metadata": {},
   "source": [
    "<!-- END QUESTION -->\n",
    "\n",
    "\n",
    "\n",
    "## 4. Olympic Medals"
   ]
  },
  {
   "cell_type": "markdown",
   "metadata": {},
   "source": [
    "In this question, we will analyze data on Olympic athletes who won medals in the Winter Olympic Games from 1896-2014. You can find the data [here](https://www.kaggle.com/the-guardian/olympic-games#dictionary.csv)"
   ]
  },
  {
   "cell_type": "markdown",
   "metadata": {},
   "source": [
    "The data is in a CSV file called `winter.csv`. Read this file into a table named `winter`. There is no good index, we will leave it unset."
   ]
  },
  {
   "cell_type": "code",
   "execution_count": 30,
   "metadata": {},
   "outputs": [
    {
     "data": {
      "text/html": [
       "<div>\n",
       "<style scoped>\n",
       "    .dataframe tbody tr th:only-of-type {\n",
       "        vertical-align: middle;\n",
       "    }\n",
       "\n",
       "    .dataframe tbody tr th {\n",
       "        vertical-align: top;\n",
       "    }\n",
       "\n",
       "    .dataframe thead th {\n",
       "        text-align: right;\n",
       "    }\n",
       "</style>\n",
       "<table border=\"1\" class=\"dataframe\">\n",
       "  <thead>\n",
       "    <tr style=\"text-align: right;\">\n",
       "      <th></th>\n",
       "      <th>Year</th>\n",
       "      <th>City</th>\n",
       "      <th>Sport</th>\n",
       "      <th>Discipline</th>\n",
       "      <th>Athlete</th>\n",
       "      <th>Country</th>\n",
       "      <th>Gender</th>\n",
       "      <th>Event</th>\n",
       "      <th>Medal</th>\n",
       "    </tr>\n",
       "  </thead>\n",
       "  <tbody>\n",
       "    <tr>\n",
       "      <th>0</th>\n",
       "      <td>1924</td>\n",
       "      <td>Chamonix</td>\n",
       "      <td>Biathlon</td>\n",
       "      <td>Biathlon</td>\n",
       "      <td>BERTHET, G.</td>\n",
       "      <td>FRA</td>\n",
       "      <td>Men</td>\n",
       "      <td>Military Patrol</td>\n",
       "      <td>Bronze</td>\n",
       "    </tr>\n",
       "    <tr>\n",
       "      <th>1</th>\n",
       "      <td>1924</td>\n",
       "      <td>Chamonix</td>\n",
       "      <td>Biathlon</td>\n",
       "      <td>Biathlon</td>\n",
       "      <td>MANDRILLON, C.</td>\n",
       "      <td>FRA</td>\n",
       "      <td>Men</td>\n",
       "      <td>Military Patrol</td>\n",
       "      <td>Bronze</td>\n",
       "    </tr>\n",
       "    <tr>\n",
       "      <th>2</th>\n",
       "      <td>1924</td>\n",
       "      <td>Chamonix</td>\n",
       "      <td>Biathlon</td>\n",
       "      <td>Biathlon</td>\n",
       "      <td>MANDRILLON, Maurice</td>\n",
       "      <td>FRA</td>\n",
       "      <td>Men</td>\n",
       "      <td>Military Patrol</td>\n",
       "      <td>Bronze</td>\n",
       "    </tr>\n",
       "    <tr>\n",
       "      <th>3</th>\n",
       "      <td>1924</td>\n",
       "      <td>Chamonix</td>\n",
       "      <td>Biathlon</td>\n",
       "      <td>Biathlon</td>\n",
       "      <td>VANDELLE, André</td>\n",
       "      <td>FRA</td>\n",
       "      <td>Men</td>\n",
       "      <td>Military Patrol</td>\n",
       "      <td>Bronze</td>\n",
       "    </tr>\n",
       "    <tr>\n",
       "      <th>4</th>\n",
       "      <td>1924</td>\n",
       "      <td>Chamonix</td>\n",
       "      <td>Biathlon</td>\n",
       "      <td>Biathlon</td>\n",
       "      <td>AUFDENBLATTEN, Adolf</td>\n",
       "      <td>SUI</td>\n",
       "      <td>Men</td>\n",
       "      <td>Military Patrol</td>\n",
       "      <td>Gold</td>\n",
       "    </tr>\n",
       "    <tr>\n",
       "      <th>...</th>\n",
       "      <td>...</td>\n",
       "      <td>...</td>\n",
       "      <td>...</td>\n",
       "      <td>...</td>\n",
       "      <td>...</td>\n",
       "      <td>...</td>\n",
       "      <td>...</td>\n",
       "      <td>...</td>\n",
       "      <td>...</td>\n",
       "    </tr>\n",
       "    <tr>\n",
       "      <th>5765</th>\n",
       "      <td>2014</td>\n",
       "      <td>Sochi</td>\n",
       "      <td>Skiing</td>\n",
       "      <td>Snowboard</td>\n",
       "      <td>JONES, Jenny</td>\n",
       "      <td>GBR</td>\n",
       "      <td>Women</td>\n",
       "      <td>Slopestyle</td>\n",
       "      <td>Bronze</td>\n",
       "    </tr>\n",
       "    <tr>\n",
       "      <th>5766</th>\n",
       "      <td>2014</td>\n",
       "      <td>Sochi</td>\n",
       "      <td>Skiing</td>\n",
       "      <td>Snowboard</td>\n",
       "      <td>ANDERSON, Jamie</td>\n",
       "      <td>USA</td>\n",
       "      <td>Women</td>\n",
       "      <td>Slopestyle</td>\n",
       "      <td>Gold</td>\n",
       "    </tr>\n",
       "    <tr>\n",
       "      <th>5767</th>\n",
       "      <td>2014</td>\n",
       "      <td>Sochi</td>\n",
       "      <td>Skiing</td>\n",
       "      <td>Snowboard</td>\n",
       "      <td>MALTAIS, Dominique</td>\n",
       "      <td>CAN</td>\n",
       "      <td>Women</td>\n",
       "      <td>Snowboard Cross</td>\n",
       "      <td>Silver</td>\n",
       "    </tr>\n",
       "    <tr>\n",
       "      <th>5768</th>\n",
       "      <td>2014</td>\n",
       "      <td>Sochi</td>\n",
       "      <td>Skiing</td>\n",
       "      <td>Snowboard</td>\n",
       "      <td>SAMKOVA, Eva</td>\n",
       "      <td>CZE</td>\n",
       "      <td>Women</td>\n",
       "      <td>Snowboard Cross</td>\n",
       "      <td>Gold</td>\n",
       "    </tr>\n",
       "    <tr>\n",
       "      <th>5769</th>\n",
       "      <td>2014</td>\n",
       "      <td>Sochi</td>\n",
       "      <td>Skiing</td>\n",
       "      <td>Snowboard</td>\n",
       "      <td>TRESPEUCH, Chloe</td>\n",
       "      <td>FRA</td>\n",
       "      <td>Women</td>\n",
       "      <td>Snowboard Cross</td>\n",
       "      <td>Bronze</td>\n",
       "    </tr>\n",
       "  </tbody>\n",
       "</table>\n",
       "<p>5770 rows × 9 columns</p>\n",
       "</div>"
      ],
      "text/plain": [
       "      Year      City     Sport Discipline               Athlete Country  \\\n",
       "0     1924  Chamonix  Biathlon   Biathlon           BERTHET, G.     FRA   \n",
       "1     1924  Chamonix  Biathlon   Biathlon        MANDRILLON, C.     FRA   \n",
       "2     1924  Chamonix  Biathlon   Biathlon   MANDRILLON, Maurice     FRA   \n",
       "3     1924  Chamonix  Biathlon   Biathlon       VANDELLE, André     FRA   \n",
       "4     1924  Chamonix  Biathlon   Biathlon  AUFDENBLATTEN, Adolf     SUI   \n",
       "...    ...       ...       ...        ...                   ...     ...   \n",
       "5765  2014     Sochi    Skiing  Snowboard          JONES, Jenny     GBR   \n",
       "5766  2014     Sochi    Skiing  Snowboard       ANDERSON, Jamie     USA   \n",
       "5767  2014     Sochi    Skiing  Snowboard    MALTAIS, Dominique     CAN   \n",
       "5768  2014     Sochi    Skiing  Snowboard          SAMKOVA, Eva     CZE   \n",
       "5769  2014     Sochi    Skiing  Snowboard      TRESPEUCH, Chloe     FRA   \n",
       "\n",
       "     Gender            Event   Medal  \n",
       "0       Men  Military Patrol  Bronze  \n",
       "1       Men  Military Patrol  Bronze  \n",
       "2       Men  Military Patrol  Bronze  \n",
       "3       Men  Military Patrol  Bronze  \n",
       "4       Men  Military Patrol    Gold  \n",
       "...     ...              ...     ...  \n",
       "5765  Women       Slopestyle  Bronze  \n",
       "5766  Women       Slopestyle    Gold  \n",
       "5767  Women  Snowboard Cross  Silver  \n",
       "5768  Women  Snowboard Cross    Gold  \n",
       "5769  Women  Snowboard Cross  Bronze  \n",
       "\n",
       "[5770 rows x 9 columns]"
      ]
     },
     "execution_count": 30,
     "metadata": {},
     "output_type": "execute_result"
    }
   ],
   "source": [
    "winter_data = bpd.read_csv('data/winter.csv')\n",
    "winter_data"
   ]
  },
  {
   "cell_type": "markdown",
   "metadata": {},
   "source": [
    "The `Country` column contains International Olympic Committee (IOC) [country codes](https://olympics.fandom.com/wiki/List_of_IOC_country_codes). We want to convert these country codes into actual country names that everyone can understand.\n",
    "\n",
    "We'll use a Python [dictionary](https://www.tutorialspoint.com/python/python_dictionary.htm) to help us with this conversion. A dictionary is a simple way to map a unique key to a value. For example, the below dictionary maps course codes to course names."
   ]
  },
  {
   "cell_type": "code",
   "execution_count": 31,
   "metadata": {},
   "outputs": [],
   "source": [
    "dsc_courses = {\n",
    "    'DSC 10': 'Principles of Data Science',\n",
    "    'DSC 20': 'Programming and Basic Data Structures for Data Science',\n",
    "    'DSC 30': 'Data Structures and Algorithms for Data Science',\n",
    "    'DSC 40A': 'Theoretical Foundations of Data Science I',\n",
    "    'DSC 40B': 'Theoretical Foundations of Data Science II',\n",
    "    'DSC 80': 'The Practice and Application of Data Science'\n",
    "}"
   ]
  },
  {
   "cell_type": "markdown",
   "metadata": {},
   "source": [
    "We can access the value corresponding to each key using bracket notation."
   ]
  },
  {
   "cell_type": "code",
   "execution_count": 32,
   "metadata": {},
   "outputs": [
    {
     "data": {
      "text/plain": [
       "'Principles of Data Science'"
      ]
     },
     "execution_count": 32,
     "metadata": {},
     "output_type": "execute_result"
    }
   ],
   "source": [
    "dsc10_name = dsc_courses['DSC 10']\n",
    "dsc10_name"
   ]
  },
  {
   "cell_type": "markdown",
   "metadata": {},
   "source": [
    "Here, `DSC 10` is the key and `Principles of Data Science` is the value.\n",
    "\n",
    "Let's use a dictionary to help us with our country code to country name conversion. Below is a dictionary containing country codes as keys and country names as values for each of the countries in our dataset of Winter Olympic medal winners."
   ]
  },
  {
   "cell_type": "code",
   "execution_count": 33,
   "metadata": {},
   "outputs": [],
   "source": [
    "country_codes = {\n",
    " 'USA': 'United States',\n",
    " 'CAN': 'Canada',\n",
    " 'NOR': 'Norway',\n",
    " 'URS': 'Soviet Union',\n",
    " 'FIN': 'Finland',\n",
    " 'SWE': 'Sweden',\n",
    " 'GER': 'Germany',\n",
    " 'SUI': 'Switzerland',\n",
    " 'AUT': 'Austria',\n",
    " 'RUS': 'Russia',\n",
    " 'ITA': 'Italy',\n",
    " 'GDR': 'East Germany',\n",
    " 'TCH': 'Czechoslovakia',\n",
    " 'FRA': 'France',\n",
    " 'NED': 'Netherlands',\n",
    " 'FRG': 'West Germany',\n",
    " 'KOR': 'Korea, South',\n",
    " 'CHN': 'China',\n",
    " 'GBR': 'United Kingdom',\n",
    " 'CZE': 'Czech Republic',\n",
    " 'JPN': 'Japan',\n",
    " 'EUN': 'Unified Team',\n",
    " 'POL': 'Poland',\n",
    " 'EUA': 'United Team of Germany',\n",
    " 'SLO': 'Slovenia',\n",
    " 'AUS': 'Australia',\n",
    " 'BLR': 'Belarus',\n",
    " 'LAT': 'Latvia',\n",
    " 'BEL': 'Belgium',\n",
    " 'HUN': 'Hungary',\n",
    " 'UKR': 'Ukraine',\n",
    " 'CRO': 'Croatia',\n",
    " 'LIE': 'Liechtenstein',\n",
    " 'YUG': 'Yugoslavia',\n",
    " 'EST': 'Estonia',\n",
    " 'KAZ': 'Kazakhstan',\n",
    " 'BUL': 'Bulgaria',\n",
    " 'DEN': 'Denmark',\n",
    " 'SVK': 'Slovakia',\n",
    " 'ROU': 'Romania',\n",
    " 'ESP': 'Spain',\n",
    " 'PRK': 'Korea, North',\n",
    " 'LUX': 'Luxembourg',\n",
    " 'NZL': 'New Zealand',\n",
    " 'UZB': 'Uzbekistan'}"
   ]
  },
  {
   "cell_type": "markdown",
   "metadata": {},
   "source": [
    "**Question 4.1.** Using `country_codes`, define a function named `code_to_country` that takes as input a country code and returns the corresponding country name. (Should be only one line)"
   ]
  },
  {
   "cell_type": "code",
   "execution_count": 34,
   "metadata": {},
   "outputs": [],
   "source": [
    "def code_to_country(code):\n",
    "    return country_codes[code]"
   ]
  },
  {
   "cell_type": "code",
   "execution_count": 35,
   "metadata": {
    "deletable": false,
    "editable": false
   },
   "outputs": [
    {
     "data": {
      "text/html": [
       "\n",
       "    <p><strong>q4_1</strong> passed!</p>\n",
       "    "
      ],
      "text/plain": [
       "q4_1 passed!"
      ]
     },
     "execution_count": 35,
     "metadata": {},
     "output_type": "execute_result"
    }
   ],
   "source": [
    "grader.check(\"q4_1\")"
   ]
  },
  {
   "cell_type": "markdown",
   "metadata": {},
   "source": [
    "**Question 4.2.** Using your `code_to_country` function, use `.get(col).apply()` to convert all of the country codes into country names in the `Country` column. Do this without creating an additional column. Store your result in `winter`.\n",
    "\n",
    "*Hint*: Is there a way to use the `.assign` method to *replace* values in these two columns without creating additional columns?"
   ]
  },
  {
   "cell_type": "code",
   "execution_count": 36,
   "metadata": {
    "scrolled": false
   },
   "outputs": [
    {
     "data": {
      "text/html": [
       "<div>\n",
       "<style scoped>\n",
       "    .dataframe tbody tr th:only-of-type {\n",
       "        vertical-align: middle;\n",
       "    }\n",
       "\n",
       "    .dataframe tbody tr th {\n",
       "        vertical-align: top;\n",
       "    }\n",
       "\n",
       "    .dataframe thead th {\n",
       "        text-align: right;\n",
       "    }\n",
       "</style>\n",
       "<table border=\"1\" class=\"dataframe\">\n",
       "  <thead>\n",
       "    <tr style=\"text-align: right;\">\n",
       "      <th></th>\n",
       "      <th>Year</th>\n",
       "      <th>City</th>\n",
       "      <th>Sport</th>\n",
       "      <th>Discipline</th>\n",
       "      <th>Athlete</th>\n",
       "      <th>Country</th>\n",
       "      <th>Gender</th>\n",
       "      <th>Event</th>\n",
       "      <th>Medal</th>\n",
       "    </tr>\n",
       "  </thead>\n",
       "  <tbody>\n",
       "    <tr>\n",
       "      <th>0</th>\n",
       "      <td>1924</td>\n",
       "      <td>Chamonix</td>\n",
       "      <td>Biathlon</td>\n",
       "      <td>Biathlon</td>\n",
       "      <td>BERTHET, G.</td>\n",
       "      <td>France</td>\n",
       "      <td>Men</td>\n",
       "      <td>Military Patrol</td>\n",
       "      <td>Bronze</td>\n",
       "    </tr>\n",
       "    <tr>\n",
       "      <th>1</th>\n",
       "      <td>1924</td>\n",
       "      <td>Chamonix</td>\n",
       "      <td>Biathlon</td>\n",
       "      <td>Biathlon</td>\n",
       "      <td>MANDRILLON, C.</td>\n",
       "      <td>France</td>\n",
       "      <td>Men</td>\n",
       "      <td>Military Patrol</td>\n",
       "      <td>Bronze</td>\n",
       "    </tr>\n",
       "    <tr>\n",
       "      <th>2</th>\n",
       "      <td>1924</td>\n",
       "      <td>Chamonix</td>\n",
       "      <td>Biathlon</td>\n",
       "      <td>Biathlon</td>\n",
       "      <td>MANDRILLON, Maurice</td>\n",
       "      <td>France</td>\n",
       "      <td>Men</td>\n",
       "      <td>Military Patrol</td>\n",
       "      <td>Bronze</td>\n",
       "    </tr>\n",
       "    <tr>\n",
       "      <th>3</th>\n",
       "      <td>1924</td>\n",
       "      <td>Chamonix</td>\n",
       "      <td>Biathlon</td>\n",
       "      <td>Biathlon</td>\n",
       "      <td>VANDELLE, André</td>\n",
       "      <td>France</td>\n",
       "      <td>Men</td>\n",
       "      <td>Military Patrol</td>\n",
       "      <td>Bronze</td>\n",
       "    </tr>\n",
       "    <tr>\n",
       "      <th>4</th>\n",
       "      <td>1924</td>\n",
       "      <td>Chamonix</td>\n",
       "      <td>Biathlon</td>\n",
       "      <td>Biathlon</td>\n",
       "      <td>AUFDENBLATTEN, Adolf</td>\n",
       "      <td>Switzerland</td>\n",
       "      <td>Men</td>\n",
       "      <td>Military Patrol</td>\n",
       "      <td>Gold</td>\n",
       "    </tr>\n",
       "    <tr>\n",
       "      <th>...</th>\n",
       "      <td>...</td>\n",
       "      <td>...</td>\n",
       "      <td>...</td>\n",
       "      <td>...</td>\n",
       "      <td>...</td>\n",
       "      <td>...</td>\n",
       "      <td>...</td>\n",
       "      <td>...</td>\n",
       "      <td>...</td>\n",
       "    </tr>\n",
       "    <tr>\n",
       "      <th>5765</th>\n",
       "      <td>2014</td>\n",
       "      <td>Sochi</td>\n",
       "      <td>Skiing</td>\n",
       "      <td>Snowboard</td>\n",
       "      <td>JONES, Jenny</td>\n",
       "      <td>United Kingdom</td>\n",
       "      <td>Women</td>\n",
       "      <td>Slopestyle</td>\n",
       "      <td>Bronze</td>\n",
       "    </tr>\n",
       "    <tr>\n",
       "      <th>5766</th>\n",
       "      <td>2014</td>\n",
       "      <td>Sochi</td>\n",
       "      <td>Skiing</td>\n",
       "      <td>Snowboard</td>\n",
       "      <td>ANDERSON, Jamie</td>\n",
       "      <td>United States</td>\n",
       "      <td>Women</td>\n",
       "      <td>Slopestyle</td>\n",
       "      <td>Gold</td>\n",
       "    </tr>\n",
       "    <tr>\n",
       "      <th>5767</th>\n",
       "      <td>2014</td>\n",
       "      <td>Sochi</td>\n",
       "      <td>Skiing</td>\n",
       "      <td>Snowboard</td>\n",
       "      <td>MALTAIS, Dominique</td>\n",
       "      <td>Canada</td>\n",
       "      <td>Women</td>\n",
       "      <td>Snowboard Cross</td>\n",
       "      <td>Silver</td>\n",
       "    </tr>\n",
       "    <tr>\n",
       "      <th>5768</th>\n",
       "      <td>2014</td>\n",
       "      <td>Sochi</td>\n",
       "      <td>Skiing</td>\n",
       "      <td>Snowboard</td>\n",
       "      <td>SAMKOVA, Eva</td>\n",
       "      <td>Czech Republic</td>\n",
       "      <td>Women</td>\n",
       "      <td>Snowboard Cross</td>\n",
       "      <td>Gold</td>\n",
       "    </tr>\n",
       "    <tr>\n",
       "      <th>5769</th>\n",
       "      <td>2014</td>\n",
       "      <td>Sochi</td>\n",
       "      <td>Skiing</td>\n",
       "      <td>Snowboard</td>\n",
       "      <td>TRESPEUCH, Chloe</td>\n",
       "      <td>France</td>\n",
       "      <td>Women</td>\n",
       "      <td>Snowboard Cross</td>\n",
       "      <td>Bronze</td>\n",
       "    </tr>\n",
       "  </tbody>\n",
       "</table>\n",
       "<p>5770 rows × 9 columns</p>\n",
       "</div>"
      ],
      "text/plain": [
       "      Year      City     Sport Discipline               Athlete  \\\n",
       "0     1924  Chamonix  Biathlon   Biathlon           BERTHET, G.   \n",
       "1     1924  Chamonix  Biathlon   Biathlon        MANDRILLON, C.   \n",
       "2     1924  Chamonix  Biathlon   Biathlon   MANDRILLON, Maurice   \n",
       "3     1924  Chamonix  Biathlon   Biathlon       VANDELLE, André   \n",
       "4     1924  Chamonix  Biathlon   Biathlon  AUFDENBLATTEN, Adolf   \n",
       "...    ...       ...       ...        ...                   ...   \n",
       "5765  2014     Sochi    Skiing  Snowboard          JONES, Jenny   \n",
       "5766  2014     Sochi    Skiing  Snowboard       ANDERSON, Jamie   \n",
       "5767  2014     Sochi    Skiing  Snowboard    MALTAIS, Dominique   \n",
       "5768  2014     Sochi    Skiing  Snowboard          SAMKOVA, Eva   \n",
       "5769  2014     Sochi    Skiing  Snowboard      TRESPEUCH, Chloe   \n",
       "\n",
       "             Country Gender            Event   Medal  \n",
       "0             France    Men  Military Patrol  Bronze  \n",
       "1             France    Men  Military Patrol  Bronze  \n",
       "2             France    Men  Military Patrol  Bronze  \n",
       "3             France    Men  Military Patrol  Bronze  \n",
       "4        Switzerland    Men  Military Patrol    Gold  \n",
       "...              ...    ...              ...     ...  \n",
       "5765  United Kingdom  Women       Slopestyle  Bronze  \n",
       "5766   United States  Women       Slopestyle    Gold  \n",
       "5767          Canada  Women  Snowboard Cross  Silver  \n",
       "5768  Czech Republic  Women  Snowboard Cross    Gold  \n",
       "5769          France  Women  Snowboard Cross  Bronze  \n",
       "\n",
       "[5770 rows x 9 columns]"
      ]
     },
     "execution_count": 36,
     "metadata": {},
     "output_type": "execute_result"
    }
   ],
   "source": [
    "winter = winter_data.assign(\n",
    "    Country=winter_data.get('Country').apply(code_to_country)\n",
    ")    \n",
    "winter"
   ]
  },
  {
   "cell_type": "code",
   "execution_count": 37,
   "metadata": {
    "deletable": false,
    "editable": false
   },
   "outputs": [
    {
     "data": {
      "text/html": [
       "\n",
       "    <p><strong>q4_2</strong> passed!</p>\n",
       "    "
      ],
      "text/plain": [
       "q4_2 passed!"
      ]
     },
     "execution_count": 37,
     "metadata": {},
     "output_type": "execute_result"
    }
   ],
   "source": [
    "grader.check(\"q4_2\")"
   ]
  },
  {
   "cell_type": "markdown",
   "metadata": {},
   "source": [
    "**Question 4.3.** \n",
    "Define a function named `lastname_length` that returns the length of the last name of a name. It should take as an input the name of the athlete. Notice that the name consists of the 'lastname, firstname' of the athlete.\n",
    "\n",
    "*Hint:* Use the string function [`.split()`](https://docs.python.org/3/library/stdtypes.html#str.split). This is useful in splitting the name into a lastname and a firstname.\n",
    "\n",
    "*Hint:* Notice that there is a space after the comma. "
   ]
  },
  {
   "cell_type": "code",
   "execution_count": 38,
   "metadata": {},
   "outputs": [],
   "source": [
    "def lastname_length(name):\n",
    "    lastname = name.split(',')[0]\n",
    "    return len(lastname)"
   ]
  },
  {
   "cell_type": "code",
   "execution_count": 39,
   "metadata": {
    "deletable": false,
    "editable": false
   },
   "outputs": [
    {
     "data": {
      "text/html": [
       "\n",
       "    <p><strong>q4_3</strong> passed!</p>\n",
       "    "
      ],
      "text/plain": [
       "q4_3 passed!"
      ]
     },
     "execution_count": 39,
     "metadata": {},
     "output_type": "execute_result"
    }
   ],
   "source": [
    "grader.check(\"q4_3\")"
   ]
  },
  {
   "cell_type": "markdown",
   "metadata": {},
   "source": [
    "**Question 4.4.** Create a function named `mean_values` that takes as an input the name of a country and returns the mean last name length of the athletes from that country. \n",
    "\n",
    "*Hint:* use the previously defined function!"
   ]
  },
  {
   "cell_type": "code",
   "execution_count": 40,
   "metadata": {},
   "outputs": [],
   "source": [
    "def mean_values(country):\n",
    "    return winter[winter.get('Country') == country].get('Athlete').apply(lastname_length).mean()"
   ]
  },
  {
   "cell_type": "code",
   "execution_count": 41,
   "metadata": {
    "deletable": false,
    "editable": false
   },
   "outputs": [
    {
     "data": {
      "text/html": [
       "\n",
       "    <p><strong>q4_4</strong> passed!</p>\n",
       "    "
      ],
      "text/plain": [
       "q4_4 passed!"
      ]
     },
     "execution_count": 41,
     "metadata": {},
     "output_type": "execute_result"
    }
   ],
   "source": [
    "grader.check(\"q4_4\")"
   ]
  },
  {
   "cell_type": "markdown",
   "metadata": {},
   "source": [
    "**Question 4.5.** \n",
    "Create a table called `last_names` with original columns `Year`, `Sport`, `Athlete` and `Country` and new column `Last_Name_Length` that has the length of the last name, with the shortest name at the top and longest at bottom.\n",
    "\n",
    "*Hint*: Remember that you can create intermediate variables. This is a good time to do so!"
   ]
  },
  {
   "cell_type": "code",
   "execution_count": 42,
   "metadata": {},
   "outputs": [
    {
     "data": {
      "text/html": [
       "<div>\n",
       "<style scoped>\n",
       "    .dataframe tbody tr th:only-of-type {\n",
       "        vertical-align: middle;\n",
       "    }\n",
       "\n",
       "    .dataframe tbody tr th {\n",
       "        vertical-align: top;\n",
       "    }\n",
       "\n",
       "    .dataframe thead th {\n",
       "        text-align: right;\n",
       "    }\n",
       "</style>\n",
       "<table border=\"1\" class=\"dataframe\">\n",
       "  <thead>\n",
       "    <tr style=\"text-align: right;\">\n",
       "      <th></th>\n",
       "      <th>Year</th>\n",
       "      <th>Sport</th>\n",
       "      <th>Athlete</th>\n",
       "      <th>Country</th>\n",
       "      <th>Last_Name_Length</th>\n",
       "    </tr>\n",
       "  </thead>\n",
       "  <tbody>\n",
       "    <tr>\n",
       "      <th>3903</th>\n",
       "      <td>2002</td>\n",
       "      <td>Skating</td>\n",
       "      <td>AN, Yulong</td>\n",
       "      <td>China</td>\n",
       "      <td>2</td>\n",
       "    </tr>\n",
       "    <tr>\n",
       "      <th>5091</th>\n",
       "      <td>2010</td>\n",
       "      <td>Skiing</td>\n",
       "      <td>LI, Nina</td>\n",
       "      <td>China</td>\n",
       "      <td>2</td>\n",
       "    </tr>\n",
       "    <tr>\n",
       "      <th>3565</th>\n",
       "      <td>1998</td>\n",
       "      <td>Skiing</td>\n",
       "      <td>XU, Nannan</td>\n",
       "      <td>China</td>\n",
       "      <td>2</td>\n",
       "    </tr>\n",
       "    <tr>\n",
       "      <th>3886</th>\n",
       "      <td>2002</td>\n",
       "      <td>Skating</td>\n",
       "      <td>LI, JiaJun</td>\n",
       "      <td>China</td>\n",
       "      <td>2</td>\n",
       "    </tr>\n",
       "    <tr>\n",
       "      <th>5486</th>\n",
       "      <td>2014</td>\n",
       "      <td>Skating</td>\n",
       "      <td>AN, Victor</td>\n",
       "      <td>Russia</td>\n",
       "      <td>2</td>\n",
       "    </tr>\n",
       "    <tr>\n",
       "      <th>...</th>\n",
       "      <td>...</td>\n",
       "      <td>...</td>\n",
       "      <td>...</td>\n",
       "      <td>...</td>\n",
       "      <td>...</td>\n",
       "    </tr>\n",
       "    <tr>\n",
       "      <th>2421</th>\n",
       "      <td>1988</td>\n",
       "      <td>Skiing</td>\n",
       "      <td>KINSHOFER GUETHLEIN, Christa</td>\n",
       "      <td>West Germany</td>\n",
       "      <td>19</td>\n",
       "    </tr>\n",
       "    <tr>\n",
       "      <th>2417</th>\n",
       "      <td>1988</td>\n",
       "      <td>Skiing</td>\n",
       "      <td>KINSHOFER GUETHLEIN, Christa</td>\n",
       "      <td>West Germany</td>\n",
       "      <td>19</td>\n",
       "    </tr>\n",
       "    <tr>\n",
       "      <th>5083</th>\n",
       "      <td>2010</td>\n",
       "      <td>Skiing</td>\n",
       "      <td>SACHENBACHER-STEHLE, Evi</td>\n",
       "      <td>Germany</td>\n",
       "      <td>19</td>\n",
       "    </tr>\n",
       "    <tr>\n",
       "      <th>5057</th>\n",
       "      <td>2010</td>\n",
       "      <td>Skiing</td>\n",
       "      <td>SACHENBACHER-STEHLE, Evi</td>\n",
       "      <td>Germany</td>\n",
       "      <td>19</td>\n",
       "    </tr>\n",
       "    <tr>\n",
       "      <th>4173</th>\n",
       "      <td>2006</td>\n",
       "      <td>Bobsleigh</td>\n",
       "      <td>HOLLINGSWORTH-RICHARDS, Mellisa</td>\n",
       "      <td>Canada</td>\n",
       "      <td>22</td>\n",
       "    </tr>\n",
       "  </tbody>\n",
       "</table>\n",
       "<p>5770 rows × 5 columns</p>\n",
       "</div>"
      ],
      "text/plain": [
       "      Year      Sport                          Athlete       Country  \\\n",
       "3903  2002    Skating                       AN, Yulong         China   \n",
       "5091  2010     Skiing                         LI, Nina         China   \n",
       "3565  1998     Skiing                       XU, Nannan         China   \n",
       "3886  2002    Skating                       LI, JiaJun         China   \n",
       "5486  2014    Skating                       AN, Victor        Russia   \n",
       "...    ...        ...                              ...           ...   \n",
       "2421  1988     Skiing     KINSHOFER GUETHLEIN, Christa  West Germany   \n",
       "2417  1988     Skiing     KINSHOFER GUETHLEIN, Christa  West Germany   \n",
       "5083  2010     Skiing         SACHENBACHER-STEHLE, Evi       Germany   \n",
       "5057  2010     Skiing         SACHENBACHER-STEHLE, Evi       Germany   \n",
       "4173  2006  Bobsleigh  HOLLINGSWORTH-RICHARDS, Mellisa        Canada   \n",
       "\n",
       "      Last_Name_Length  \n",
       "3903                 2  \n",
       "5091                 2  \n",
       "3565                 2  \n",
       "3886                 2  \n",
       "5486                 2  \n",
       "...                ...  \n",
       "2421                19  \n",
       "2417                19  \n",
       "5083                19  \n",
       "5057                19  \n",
       "4173                22  \n",
       "\n",
       "[5770 rows x 5 columns]"
      ]
     },
     "execution_count": 42,
     "metadata": {},
     "output_type": "execute_result"
    }
   ],
   "source": [
    "last_names = winter.drop(columns=['City','Discipline','Gender','Event', 'Medal'])\n",
    "last_names = last_names.assign(Last_Name_Length=last_names.get('Athlete').apply(lastname_length)).sort_values(by='Last_Name_Length', ascending=True)\n",
    "last_names"
   ]
  },
  {
   "cell_type": "code",
   "execution_count": 43,
   "metadata": {
    "deletable": false,
    "editable": false
   },
   "outputs": [
    {
     "data": {
      "text/html": [
       "\n",
       "    <p><strong>q4_5</strong> passed!</p>\n",
       "    "
      ],
      "text/plain": [
       "q4_5 passed!"
      ]
     },
     "execution_count": 43,
     "metadata": {},
     "output_type": "execute_result"
    }
   ],
   "source": [
    "grader.check(\"q4_5\")"
   ]
  },
  {
   "cell_type": "markdown",
   "metadata": {},
   "source": [
    "**Question 4.6.** What is the length of the longest last name? Assign this number to `longest_name_length`. What is the length of the shortest last name? Assign this number to `shortest_name_length`. What is the length difference between the longest and shortest last name? Assign this number to `range_name_length`."
   ]
  },
  {
   "cell_type": "code",
   "execution_count": 44,
   "metadata": {},
   "outputs": [
    {
     "data": {
      "text/plain": [
       "20"
      ]
     },
     "execution_count": 44,
     "metadata": {},
     "output_type": "execute_result"
    }
   ],
   "source": [
    "longest_name_length = last_names.get('Last_Name_Length').max()\n",
    "shortest_name_length = last_names.get('Last_Name_Length').min()\n",
    "range_name_length = longest_name_length - shortest_name_length\n",
    "range_name_length"
   ]
  },
  {
   "cell_type": "code",
   "execution_count": 45,
   "metadata": {
    "deletable": false,
    "editable": false
   },
   "outputs": [
    {
     "data": {
      "text/html": [
       "\n",
       "    <p><strong>q4_6</strong> passed!</p>\n",
       "    "
      ],
      "text/plain": [
       "q4_6 passed!"
      ]
     },
     "execution_count": 45,
     "metadata": {},
     "output_type": "execute_result"
    }
   ],
   "source": [
    "grader.check(\"q4_6\")"
   ]
  },
  {
   "cell_type": "markdown",
   "metadata": {},
   "source": [
    "**Question 4.7.** Make a function called `point_total` that takes in a country name (string) and awards points based on olympic medals. The country gets 1 point for every bronze medal, 3 points for every silver and 5 for every gold."
   ]
  },
  {
   "cell_type": "code",
   "execution_count": 46,
   "metadata": {},
   "outputs": [],
   "source": [
    "def point_total(country):\n",
    "    sorting = winter[winter.get('Country') == country].groupby('Medal').count()\n",
    "    gold = (sorting.loc['Gold'].max()) * 5\n",
    "    silver = (sorting.loc['Silver'].max()) * 3\n",
    "    bronze = sorting.loc['Bronze'].max()\n",
    "    return gold + silver + bronze"
   ]
  },
  {
   "cell_type": "code",
   "execution_count": 47,
   "metadata": {
    "deletable": false,
    "editable": false
   },
   "outputs": [
    {
     "data": {
      "text/html": [
       "\n",
       "    <p><strong>q4_7</strong> passed!</p>\n",
       "    "
      ],
      "text/plain": [
       "q4_7 passed!"
      ]
     },
     "execution_count": 47,
     "metadata": {},
     "output_type": "execute_result"
    }
   ],
   "source": [
    "grader.check(\"q4_7\")"
   ]
  },
  {
   "cell_type": "markdown",
   "metadata": {},
   "source": [
    "**Question 4.8.** Among the five countries listed below, which has the highest point count overall?:\n",
    "\n",
    "1. United States\n",
    "2. Russia\n",
    "3. United Kingdom\n",
    "4. China\n",
    "5. France\n",
    "\n",
    "Save the name of the country as `country` and the number of points as `points`. You can set the value of `country` and `points` by hand."
   ]
  },
  {
   "cell_type": "code",
   "execution_count": 48,
   "metadata": {},
   "outputs": [],
   "source": [
    "#us = point_total('United States')\n",
    "#russia = point_total('Russia')\n",
    "#uk = point_total('United Kingdom')\n",
    "#china = point_total('China')\n",
    "#france = point_total('France')\n",
    "country = 'United States'\n",
    "points = 1959"
   ]
  },
  {
   "cell_type": "code",
   "execution_count": 49,
   "metadata": {
    "deletable": false,
    "editable": false
   },
   "outputs": [
    {
     "data": {
      "text/html": [
       "\n",
       "    <p><strong>q4_8</strong> passed!</p>\n",
       "    "
      ],
      "text/plain": [
       "q4_8 passed!"
      ]
     },
     "execution_count": 49,
     "metadata": {},
     "output_type": "execute_result"
    }
   ],
   "source": [
    "grader.check(\"q4_8\")"
   ]
  },
  {
   "cell_type": "markdown",
   "metadata": {},
   "source": [
    "**Question 4.9.** Create a horizontal bar chart of the mean last name length by country. Use your chart to answer the question: which country has the shortest mean last name? Write your answer by hand by assigning the country code to `country_shortest_name`."
   ]
  },
  {
   "cell_type": "code",
   "execution_count": 50,
   "metadata": {},
   "outputs": [
    {
     "data": {
      "image/png": "[encoded data removed]",
      "text/plain": [
       "<Figure size 720x1080 with 1 Axes>"
      ]
     },
     "metadata": {
      "needs_background": "light"
     },
     "output_type": "display_data"
    }
   ],
   "source": [
    "last_names.groupby('Country').mean().get('Last_Name_Length').sort_values().plot(kind='barh', figsize=[10, 15])\n",
    "country_shortest_name = 'KOR'"
   ]
  },
  {
   "cell_type": "code",
   "execution_count": 51,
   "metadata": {
    "deletable": false,
    "editable": false
   },
   "outputs": [
    {
     "data": {
      "text/html": [
       "\n",
       "    <p><strong>q4_9</strong> passed!</p>\n",
       "    "
      ],
      "text/plain": [
       "q4_9 passed!"
      ]
     },
     "execution_count": 51,
     "metadata": {},
     "output_type": "execute_result"
    }
   ],
   "source": [
    "grader.check(\"q4_9\")"
   ]
  },
  {
   "cell_type": "markdown",
   "metadata": {},
   "source": [
    "## 5. Histograms"
   ]
  },
  {
   "cell_type": "markdown",
   "metadata": {},
   "source": [
    "Suppose we have a table called `data` with two numerical columns, \"x\" and \"y\". Consider the following scatter plot, which was generated by calling `data.plot(kind='scatter', x='x', y='y')`:\n",
    "\n",
    "![](data/scatter.png)\n",
    "\n",
    "Now consider these two histograms:\n",
    "\n",
    "**Histogram A**:\n",
    "\n",
    "![](data/hist_one.png)\n",
    "\n",
    "**Histogram B**:\n",
    "\n",
    "![](data/hist_two.png)"
   ]
  },
  {
   "cell_type": "markdown",
   "metadata": {},
   "source": [
    "**Question 5.1.** Which of these two lines of code generated Histogram B?\n",
    " 1. `data.plot(kind='hist', y='x')`\n",
    " 2. `data.plot(kind='hist', y='y')`  \n",
    " \n",
    " Which line generated Histogram B? Assign either `1` or `2` to `which_histogram`."
   ]
  },
  {
   "cell_type": "code",
   "execution_count": 52,
   "metadata": {},
   "outputs": [],
   "source": [
    "which_histogram = 1"
   ]
  },
  {
   "cell_type": "code",
   "execution_count": 53,
   "metadata": {
    "deletable": false,
    "editable": false
   },
   "outputs": [
    {
     "data": {
      "text/html": [
       "\n",
       "    <p><strong>q5_1</strong> passed!</p>\n",
       "    "
      ],
      "text/plain": [
       "q5_1 passed!"
      ]
     },
     "execution_count": 53,
     "metadata": {},
     "output_type": "execute_result"
    }
   ],
   "source": [
    "grader.check(\"q5_1\")"
   ]
  },
  {
   "cell_type": "markdown",
   "metadata": {},
   "source": [
    "**Question 5.2.** Suppose we run this line of code:\n",
    "\n",
    "    new_data = bpd.DataFrame().assign(\n",
    "        x = data.get('x') / 2,\n",
    "        y = data.get('y')\n",
    "    )\n",
    "    \n",
    " We then run `new_data.plot(kind = 'hist', y='x')`. What does the new histogram look like (as opposed to `data.plot(kind = 'hist', y='x')` on the same scale)?"
   ]
  },
  {
   "cell_type": "markdown",
   "metadata": {
    "deletable": false,
    "editable": false
   },
   "source": [
    "<!-- BEGIN QUESTION -->\n",
    "\n",
    "<!--\n",
    "BEGIN QUESTION\n",
    "name: q5_2\n",
    "manual: true\n",
    "-->"
   ]
  },
  {
   "cell_type": "markdown",
   "metadata": {},
   "source": [
    "The new_data shrinks the x data by half. So when we plot the as above, the y axis will now be shorter as there will be less data."
   ]
  },
  {
   "cell_type": "markdown",
   "metadata": {},
   "source": [
    "<!-- END QUESTION -->\n",
    "\n",
    "\n",
    "\n",
    "**Question 5.3.** According to the histograms above, approximately what percent of points in the scatterplot have an `y` value between 1 and 2 (inclusive)? Return the number (1 - 4) of the correct percentage listed below in the variable `y_between`.\n",
    "\n",
    "1. 25\n",
    "2. 33\n",
    "3. 50\n",
    "4. 100"
   ]
  },
  {
   "cell_type": "code",
   "execution_count": 54,
   "metadata": {},
   "outputs": [],
   "source": [
    "y_between = 2"
   ]
  },
  {
   "cell_type": "code",
   "execution_count": 55,
   "metadata": {
    "deletable": false,
    "editable": false
   },
   "outputs": [
    {
     "data": {
      "text/html": [
       "\n",
       "    <p><strong>q5_3</strong> passed!</p>\n",
       "    "
      ],
      "text/plain": [
       "q5_3 passed!"
      ]
     },
     "execution_count": 55,
     "metadata": {},
     "output_type": "execute_result"
    }
   ],
   "source": [
    "grader.check(\"q5_3\")"
   ]
  },
  {
   "cell_type": "markdown",
   "metadata": {},
   "source": [
    "# Finish Line"
   ]
  },
  {
   "cell_type": "markdown",
   "metadata": {},
   "source": [
    "To submit your assignment:\n",
    "\n",
    "1. Select `Kernel -> Restart & Run All` to ensure that you have executed all cells, including the test cells.\n",
    "2. Read through the notebook to make sure everything is fine and all tests passed.\n",
    "3. Run the cell below to run all tests, and make sure that they all pass.\n",
    "4. Download your notebook using `File -> Download as -> Notebook (.ipynb)`, then upload your notebook to Gradescope."
   ]
  },
  {
   "cell_type": "code",
   "execution_count": 56,
   "metadata": {
    "scrolled": false
   },
   "outputs": [
    {
     "data": {
      "text/html": [
       "\n",
       "    <p><strong>q1_1</strong> passed!</p>\n",
       "    \n",
       "\n",
       "\n",
       "    <p><strong>q1_2</strong> passed!</p>\n",
       "    \n",
       "\n",
       "\n",
       "    <p><strong>q1_3</strong> passed!</p>\n",
       "    \n",
       "\n",
       "\n",
       "    <p><strong>q1_4</strong> passed!</p>\n",
       "    \n",
       "\n",
       "\n",
       "    <p><strong>q1_5</strong> passed!</p>\n",
       "    \n",
       "\n",
       "\n",
       "    <p><strong>q2_1</strong> passed!</p>\n",
       "    \n",
       "\n",
       "\n",
       "    <p><strong>q2_4</strong> passed!</p>\n",
       "    \n",
       "\n",
       "\n",
       "    <p><strong>q2_5</strong> passed!</p>\n",
       "    \n",
       "\n",
       "\n",
       "    <p><strong>q3_1</strong> passed!</p>\n",
       "    \n",
       "\n",
       "\n",
       "    <p><strong>q3_2</strong> passed!</p>\n",
       "    \n",
       "\n",
       "\n",
       "    <p><strong>q3_4</strong> passed!</p>\n",
       "    \n",
       "\n",
       "\n",
       "    <p><strong>q4_1</strong> passed!</p>\n",
       "    \n",
       "\n",
       "\n",
       "    <p><strong>q4_2</strong> passed!</p>\n",
       "    \n",
       "\n",
       "\n",
       "    <p><strong>q4_3</strong> passed!</p>\n",
       "    \n",
       "\n",
       "\n",
       "    <p><strong>q4_4</strong> passed!</p>\n",
       "    \n",
       "\n",
       "\n",
       "    <p><strong>q4_5</strong> passed!</p>\n",
       "    \n",
       "\n",
       "\n",
       "    <p><strong>q4_6</strong> passed!</p>\n",
       "    \n",
       "\n",
       "\n",
       "    <p><strong>q4_7</strong> passed!</p>\n",
       "    \n",
       "\n",
       "\n",
       "    <p><strong>q4_8</strong> passed!</p>\n",
       "    \n",
       "\n",
       "\n",
       "    <p><strong>q4_9</strong> passed!</p>\n",
       "    \n",
       "\n",
       "\n",
       "    <p><strong>q5_1</strong> passed!</p>\n",
       "    \n",
       "\n",
       "\n",
       "    <p><strong>q5_3</strong> passed!</p>\n",
       "    \n",
       "\n"
      ],
      "text/plain": [
       "q1_1 passed!\n",
       "\n",
       "q1_2 passed!\n",
       "\n",
       "q1_3 passed!\n",
       "\n",
       "q1_4 passed!\n",
       "\n",
       "q1_5 passed!\n",
       "\n",
       "q2_1 passed!\n",
       "\n",
       "q2_4 passed!\n",
       "\n",
       "q2_5 passed!\n",
       "\n",
       "q3_1 passed!\n",
       "\n",
       "q3_2 passed!\n",
       "\n",
       "q3_4 passed!\n",
       "\n",
       "q4_1 passed!\n",
       "\n",
       "q4_2 passed!\n",
       "\n",
       "q4_3 passed!\n",
       "\n",
       "q4_4 passed!\n",
       "\n",
       "q4_5 passed!\n",
       "\n",
       "q4_6 passed!\n",
       "\n",
       "q4_7 passed!\n",
       "\n",
       "q4_8 passed!\n",
       "\n",
       "q4_9 passed!\n",
       "\n",
       "q5_1 passed!\n",
       "\n",
       "q5_3 passed!\n"
      ]
     },
     "execution_count": 56,
     "metadata": {},
     "output_type": "execute_result"
    }
   ],
   "source": [
    "grader.check_all()"
   ]
  }
 ],
 "metadata": {
  "kernelspec": {
   "display_name": "Python 3",
   "language": "python",
   "name": "python3"
  },
  "language_info": {
   "codemirror_mode": {
    "name": "ipython",
    "version": 3
   },
   "file_extension": ".py",
   "mimetype": "text/x-python",
   "name": "python",
   "nbconvert_exporter": "python",
   "pygments_lexer": "ipython3",
   "version": "3.8.6"
  }
 },
 "nbformat": 4,
 "nbformat_minor": 1
}
