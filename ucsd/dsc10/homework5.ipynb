{
 "cells": [
  {
   "cell_type": "markdown",
   "metadata": {},
   "source": [
    "# Homework 5: Probability and Hypothesis Testing\n",
    "## Due Friday May 14th at 11:59pm\n",
    "\n",
    "Welcome to Homework 05! This week, we will go over probability and hypothesis testing. Directly sharing answers is not okay, but discussing problems with the course staff or with other students is encouraged. \n",
    "\n",
    "You should start early so that you have time to get help if you're stuck."
   ]
  },
  {
   "cell_type": "markdown",
   "metadata": {},
   "source": [
    "### Instructions\n",
    "\n",
    "This assignment is due Friday, May 14th at 11:59pm. You are given six slip days thoughout the quarter which can extend the deadline by one day. See the syllabus for more details. With the exception of using slip days, late work will not be accepted unless you have made special arrangements with your instructor.\n",
    "\n",
    "You should start early so that you have time to get help if you're stuck. You may attend any Tutor's Office Hours. The calendar and links are available on Canvas.\n",
    "\n",
    "**Important**: The `otter` tests don't usually tell you that your answer is correct. More often, they help catch careless mistakes. It's up to you to ensure that your answer is correct. If you're not sure, ask someone (not for the answer, but for some guidance about your approach).\n",
    "\n",
    "Remember that you may work in pairs for this assignment! If you work in a pair, you should submit one notebook to Gradescope for the both of you.\n",
    "\n",
    "Directly sharing answers between groups is not okay, but discussing problems with the course staff or with other students is encouraged."
   ]
  },
  {
   "cell_type": "code",
   "execution_count": 1,
   "metadata": {},
   "outputs": [],
   "source": [
    "# please don't change this cell, but do make sure to run it\n",
    "import babypandas as bpd\n",
    "import matplotlib.pyplot as plt\n",
    "import numpy as np\n",
    "import otter\n",
    "grader = otter.Notebook()"
   ]
  },
  {
   "cell_type": "markdown",
   "metadata": {},
   "source": [
    "## 1. Among Us"
   ]
  },
  {
   "cell_type": "markdown",
   "metadata": {},
   "source": [
    "Among Us is an online game that has recently exploded in popularity, in which it is best described as a social deduction game to identify an Impostor from all the Crewmates. If you want to learn more about the game (or play, it's free!), check out their [wiki](https://among-us.fandom.com/wiki/Among_Us) or watch gameplay on YouTube, but for the purposes of this question, we will provide all the necessary information.\n",
    "\n",
    "Within Among Us, you choose a color to assign to your character and are then randomly selected to either be a Crewmate or an Impostor. Being the analytical person you are, you notice that there are some colors that are chosen to be Impostor more than others. You decide to explore this by ranking the colors from most probable to least probable of being Impostor. Your model is:\n",
    "\n",
    "<table>\n",
    "    <tr><th>Player</th><th>Estimated Chance of Impostor</th></tr>\n",
    "    <tr><td>Red</td><td>13%</td></tr>\n",
    "        <tr><td>Orange</td><td>8%</td></tr>\n",
    "        <tr><td>Yellow</td><td>10%</td></tr>\n",
    "        <tr><td>Green</td><td>11%</td></tr>\n",
    "       <tr> <td>Lime</td><td>5%</td></tr>\n",
    "        <tr><td>Blue</td><td>7%</td></tr>\n",
    "        <tr><td>Cyan</td><td>9%</td></tr>\n",
    "        <tr><td>Purple</td><td>8%</td></tr>\n",
    "    <tr><td>Pink</td><td>4%</td></tr>\n",
    "    <tr><td>Black</td><td>10%</td></tr>\n",
    "    <tr><td>White</td><td>7%</td></tr>\n",
    "    <tr><td>Brown</td><td>8%</td></tr>\n",
    "</table>"
   ]
  },
  {
   "cell_type": "markdown",
   "metadata": {},
   "source": [
    "**Question 1.1.** Write down your probability distribution as an *array*. It should contain 12 elements, each describing the probability of a color being Impostor, and it should sum to 1. Name this array `among_us_distribution`.\n"
   ]
  },
  {
   "cell_type": "code",
   "execution_count": 2,
   "metadata": {},
   "outputs": [
    {
     "data": {
      "text/plain": [
       "array([0.13, 0.08, 0.1 , 0.11, 0.05, 0.07, 0.09, 0.08, 0.04, 0.1 , 0.07,\n",
       "       0.08])"
      ]
     },
     "execution_count": 2,
     "metadata": {},
     "output_type": "execute_result"
    }
   ],
   "source": [
    "among_us_distribution = np.array([.13,.08,.10,.11,.05,.07,.09,.08,.04,.10,.07,.08])\n",
    "among_us_distribution"
   ]
  },
  {
   "cell_type": "code",
   "execution_count": 3,
   "metadata": {
    "deletable": false,
    "editable": false
   },
   "outputs": [
    {
     "data": {
      "text/html": [
       "\n",
       "    <p><strong>q11</strong> passed!</p>\n",
       "    "
      ],
      "text/plain": [
       "q11 passed!"
      ]
     },
     "execution_count": 3,
     "metadata": {},
     "output_type": "execute_result"
    }
   ],
   "source": [
    "grader.check(\"q11\")"
   ]
  },
  {
   "cell_type": "markdown",
   "metadata": {},
   "source": [
    "**Question 1.2.** The color that you select for your character is Green -- you estimate that you have a 11% chance of being an Impostor in any given game. Over the course of this quarantine, you play in 100 games, and are only selected to be Impostor three times. You start to suspect that 10% might be *too high* of an estimate, and that your model is wrong.\n",
    "\n",
    "Using your model in which you have a 11% chance of being Impostor as your null hypothesis, write a simulation that runs 100 games and keeps track of the absolute difference between how many games you are Impostor and the number you'd expect to be Impostor (11) if your model is right. Run your simulation 5000 times. Keep track of the differences in an array called `among_us_differences`."
   ]
  },
  {
   "cell_type": "code",
   "execution_count": 4,
   "metadata": {
    "scrolled": true
   },
   "outputs": [
    {
     "data": {
      "text/plain": [
       "<AxesSubplot:ylabel='Frequency'>"
      ]
     },
     "execution_count": 4,
     "metadata": {},
     "output_type": "execute_result"
    },
    {
     "data": {
      "image/png": "[encoded data removed]",
      "text/plain": [
       "<Figure size 432x288 with 1 Axes>"
      ]
     },
     "metadata": {
      "needs_background": "light"
     },
     "output_type": "display_data"
    }
   ],
   "source": [
    "n_repetitions = 5000\n",
    "among_us_differences = np.array([])\n",
    "model_proportions = [.11, .89]\n",
    "\n",
    "for i in np.arange(n_repetitions):\n",
    "    simulation = np.random.multinomial(100, model_proportions)\n",
    "    difference = abs(simulation[0] - 11)\n",
    "    among_us_differences = np.append(among_us_differences, difference)\n",
    "\n",
    "#: Visualize with a histogram\n",
    "bpd.DataFrame().assign(Difference = among_us_differences).plot(kind='hist', bins=np.arange(10), density=True)"
   ]
  },
  {
   "cell_type": "code",
   "execution_count": 5,
   "metadata": {
    "deletable": false,
    "editable": false
   },
   "outputs": [
    {
     "data": {
      "text/html": [
       "\n",
       "    <p><strong>q12</strong> passed!</p>\n",
       "    "
      ],
      "text/plain": [
       "q12 passed!"
      ]
     },
     "execution_count": 5,
     "metadata": {},
     "output_type": "execute_result"
    }
   ],
   "source": [
    "grader.check(\"q12\")"
   ]
  },
  {
   "cell_type": "markdown",
   "metadata": {},
   "source": [
    "**Question 1.3.** Your null hypothesis was that you have a 11% chance of being an Impostor, but you only got Impostor 3 times out of 100. Set the variable `among_us_null_hypothesis` below to `True` if you think your model is plausible or `False` if it should be rejected. You should reject only if it is very unlikely that you would be Impostor three times under the null hypothesis."
   ]
  },
  {
   "cell_type": "code",
   "execution_count": 6,
   "metadata": {},
   "outputs": [
    {
     "data": {
      "text/plain": [
       "False"
      ]
     },
     "execution_count": 6,
     "metadata": {},
     "output_type": "execute_result"
    }
   ],
   "source": [
    "# if the p-value is less than or equal to .05, then the null hypothesis is wrong:\n",
    "\n",
    "among_us_null_hypothesis = False\n",
    "among_us_null_hypothesis"
   ]
  },
  {
   "cell_type": "code",
   "execution_count": 7,
   "metadata": {
    "deletable": false,
    "editable": false
   },
   "outputs": [
    {
     "data": {
      "text/html": [
       "\n",
       "    <p><strong>q13</strong> passed!</p>\n",
       "    "
      ],
      "text/plain": [
       "q13 passed!"
      ]
     },
     "execution_count": 7,
     "metadata": {},
     "output_type": "execute_result"
    }
   ],
   "source": [
    "grader.check(\"q13\")"
   ]
  },
  {
   "cell_type": "markdown",
   "metadata": {},
   "source": [
    "**Question 1.4.** Now, we check the p-value of our claim. That is, compute the proportion of times in our simulation that we saw a difference of 8 or more between the number of times you were Impostor and the expected number of being Impostor. Assign your result to `p_value_1_4`"
   ]
  },
  {
   "cell_type": "code",
   "execution_count": 8,
   "metadata": {
    "scrolled": true
   },
   "outputs": [
    {
     "data": {
      "text/plain": [
       "0.0164"
      ]
     },
     "execution_count": 8,
     "metadata": {},
     "output_type": "execute_result"
    }
   ],
   "source": [
    "p_value_1_4 = np.count_nonzero(among_us_differences >= 8) / 5000\n",
    "p_value_1_4"
   ]
  },
  {
   "cell_type": "code",
   "execution_count": 9,
   "metadata": {
    "deletable": false,
    "editable": false
   },
   "outputs": [
    {
     "data": {
      "text/html": [
       "\n",
       "    <p><strong>q14</strong> passed!</p>\n",
       "    "
      ],
      "text/plain": [
       "q14 passed!"
      ]
     },
     "execution_count": 9,
     "metadata": {},
     "output_type": "execute_result"
    }
   ],
   "source": [
    "grader.check(\"q14\")"
   ]
  },
  {
   "cell_type": "markdown",
   "metadata": {},
   "source": [
    "## 2. A distribution of M&M's\n",
    "\n",
    "The color for [M&M's](https://en.wikipedia.org/wiki/M%26M%27s) is changing all the time, with each package containing 6 colors now (brown, red, orange, yellow, green, and blue) currently. However, since different colors are made separately by different machines and combined/packaged into bags for sale, the M&M's color may not distributed uniformly. The comma-separated file `m&m.csv` contains the color of 468 bags of M&M's.\n",
    "\n",
    "Look at the color distribution by bag in the dataset below:"
   ]
  },
  {
   "cell_type": "code",
   "execution_count": 10,
   "metadata": {},
   "outputs": [
    {
     "data": {
      "text/html": [
       "<div>\n",
       "<style scoped>\n",
       "    .dataframe tbody tr th:only-of-type {\n",
       "        vertical-align: middle;\n",
       "    }\n",
       "\n",
       "    .dataframe tbody tr th {\n",
       "        vertical-align: top;\n",
       "    }\n",
       "\n",
       "    .dataframe thead th {\n",
       "        text-align: right;\n",
       "    }\n",
       "</style>\n",
       "<table border=\"1\" class=\"dataframe\">\n",
       "  <thead>\n",
       "    <tr style=\"text-align: right;\">\n",
       "      <th></th>\n",
       "      <th>red</th>\n",
       "      <th>orange</th>\n",
       "      <th>yellow</th>\n",
       "      <th>green</th>\n",
       "      <th>brown</th>\n",
       "      <th>blue</th>\n",
       "    </tr>\n",
       "  </thead>\n",
       "  <tbody>\n",
       "    <tr>\n",
       "      <th>0</th>\n",
       "      <td>10</td>\n",
       "      <td>15</td>\n",
       "      <td>11</td>\n",
       "      <td>7</td>\n",
       "      <td>18</td>\n",
       "      <td>10</td>\n",
       "    </tr>\n",
       "    <tr>\n",
       "      <th>1</th>\n",
       "      <td>5</td>\n",
       "      <td>12</td>\n",
       "      <td>17</td>\n",
       "      <td>15</td>\n",
       "      <td>10</td>\n",
       "      <td>9</td>\n",
       "    </tr>\n",
       "    <tr>\n",
       "      <th>2</th>\n",
       "      <td>16</td>\n",
       "      <td>11</td>\n",
       "      <td>15</td>\n",
       "      <td>11</td>\n",
       "      <td>9</td>\n",
       "      <td>11</td>\n",
       "    </tr>\n",
       "    <tr>\n",
       "      <th>3</th>\n",
       "      <td>15</td>\n",
       "      <td>8</td>\n",
       "      <td>13</td>\n",
       "      <td>16</td>\n",
       "      <td>7</td>\n",
       "      <td>13</td>\n",
       "    </tr>\n",
       "    <tr>\n",
       "      <th>4</th>\n",
       "      <td>11</td>\n",
       "      <td>14</td>\n",
       "      <td>20</td>\n",
       "      <td>8</td>\n",
       "      <td>7</td>\n",
       "      <td>11</td>\n",
       "    </tr>\n",
       "    <tr>\n",
       "      <th>...</th>\n",
       "      <td>...</td>\n",
       "      <td>...</td>\n",
       "      <td>...</td>\n",
       "      <td>...</td>\n",
       "      <td>...</td>\n",
       "      <td>...</td>\n",
       "    </tr>\n",
       "    <tr>\n",
       "      <th>463</th>\n",
       "      <td>11</td>\n",
       "      <td>11</td>\n",
       "      <td>12</td>\n",
       "      <td>13</td>\n",
       "      <td>11</td>\n",
       "      <td>12</td>\n",
       "    </tr>\n",
       "    <tr>\n",
       "      <th>464</th>\n",
       "      <td>17</td>\n",
       "      <td>10</td>\n",
       "      <td>8</td>\n",
       "      <td>11</td>\n",
       "      <td>12</td>\n",
       "      <td>13</td>\n",
       "    </tr>\n",
       "    <tr>\n",
       "      <th>465</th>\n",
       "      <td>9</td>\n",
       "      <td>14</td>\n",
       "      <td>12</td>\n",
       "      <td>10</td>\n",
       "      <td>15</td>\n",
       "      <td>12</td>\n",
       "    </tr>\n",
       "    <tr>\n",
       "      <th>466</th>\n",
       "      <td>12</td>\n",
       "      <td>14</td>\n",
       "      <td>11</td>\n",
       "      <td>10</td>\n",
       "      <td>10</td>\n",
       "      <td>16</td>\n",
       "    </tr>\n",
       "    <tr>\n",
       "      <th>467</th>\n",
       "      <td>11</td>\n",
       "      <td>8</td>\n",
       "      <td>12</td>\n",
       "      <td>13</td>\n",
       "      <td>15</td>\n",
       "      <td>12</td>\n",
       "    </tr>\n",
       "  </tbody>\n",
       "</table>\n",
       "<p>468 rows × 6 columns</p>\n",
       "</div>"
      ],
      "text/plain": [
       "     red  orange  yellow  green  brown  blue\n",
       "0     10      15      11      7     18    10\n",
       "1      5      12      17     15     10     9\n",
       "2     16      11      15     11      9    11\n",
       "3     15       8      13     16      7    13\n",
       "4     11      14      20      8      7    11\n",
       "..   ...     ...     ...    ...    ...   ...\n",
       "463   11      11      12     13     11    12\n",
       "464   17      10       8     11     12    13\n",
       "465    9      14      12     10     15    12\n",
       "466   12      14      11     10     10    16\n",
       "467   11       8      12     13     15    12\n",
       "\n",
       "[468 rows x 6 columns]"
      ]
     },
     "execution_count": 10,
     "metadata": {},
     "output_type": "execute_result"
    }
   ],
   "source": [
    "m = bpd.read_csv(\"data/m&m.csv\")\n",
    "m"
   ]
  },
  {
   "cell_type": "markdown",
   "metadata": {},
   "source": [
    "**Question 2.1.** Combine all bags together to count up all the M&M's with the same color. Then calculate the probability of each color over the all 6 colors. Write down your probability distribution as an *array*. It should contain 6 elements, each describing the probability of a color come out from the factory, and it should sum to 1. Name this array `color_distribution`."
   ]
  },
  {
   "cell_type": "code",
   "execution_count": 11,
   "metadata": {},
   "outputs": [
    {
     "data": {
      "text/plain": [
       "array([0.16748163, 0.16496175, 0.17063147, 0.15902205, 0.1700615 ,\n",
       "       0.16784161])"
      ]
     },
     "execution_count": 11,
     "metadata": {},
     "output_type": "execute_result"
    }
   ],
   "source": [
    "m = m.assign(bags=np.arange(1,469)).set_index('bags')\n",
    "red = m.get('red').sum()\n",
    "orange = m.get('orange').sum()\n",
    "yellow = m.get('yellow').sum()\n",
    "green = m.get('green').sum()\n",
    "brown = m.get('brown').sum()\n",
    "blue = m.get('blue').sum()\n",
    "total_mm = red + orange + yellow + green + brown + blue\n",
    "\n",
    "def pro(color):\n",
    "    return color/total_mm\n",
    "    \n",
    "color_distribution = np.array([pro(red),pro(orange),pro(yellow),pro(green),pro(brown),pro(blue)])\n",
    "color_distribution"
   ]
  },
  {
   "cell_type": "code",
   "execution_count": 12,
   "metadata": {
    "deletable": false,
    "editable": false
   },
   "outputs": [
    {
     "data": {
      "text/html": [
       "\n",
       "    <p><strong>q21</strong> passed!</p>\n",
       "    "
      ],
      "text/plain": [
       "q21 passed!"
      ]
     },
     "execution_count": 12,
     "metadata": {},
     "output_type": "execute_result"
    }
   ],
   "source": [
    "grader.check(\"q21\")"
   ]
  },
  {
   "cell_type": "markdown",
   "metadata": {},
   "source": [
    "**Question 2.2.** We assume that all colors should distributed uniformly overall. Let's create an empirical distribution for each color, and name it `empirical_color_distribution` and make sure all probabilities sum up to 1."
   ]
  },
  {
   "cell_type": "code",
   "execution_count": 13,
   "metadata": {},
   "outputs": [
    {
     "data": {
      "text/plain": [
       "array([0.16666667, 0.16666667, 0.16666667, 0.16666667, 0.16666667,\n",
       "       0.16666667])"
      ]
     },
     "execution_count": 13,
     "metadata": {},
     "output_type": "execute_result"
    }
   ],
   "source": [
    "empirical_color_distribution = np.array([1/6,1/6,1/6,1/6,1/6,1/6])\n",
    "empirical_color_distribution"
   ]
  },
  {
   "cell_type": "code",
   "execution_count": 14,
   "metadata": {
    "deletable": false,
    "editable": false
   },
   "outputs": [
    {
     "data": {
      "text/html": [
       "\n",
       "    <p><strong>q22</strong> passed!</p>\n",
       "    "
      ],
      "text/plain": [
       "q22 passed!"
      ]
     },
     "execution_count": 14,
     "metadata": {},
     "output_type": "execute_result"
    }
   ],
   "source": [
    "grader.check(\"q22\")"
   ]
  },
  {
   "cell_type": "markdown",
   "metadata": {},
   "source": [
    "**Question 2.3.** You wish to check the bias in the colors of M&Ms and see if they are distributed uniformly. However, there are six categories of M&M colors: red, orange, yellow, green, brown, and blue. Which among the following do you think is **not** a reasonable choice of test statistic for your hypothesis. You may include more than one answer. Append all your choices in a *list* called `unreasonable_test_statistics`. For example, if you think statistics 1, 2, and 3 are unreasonable, you should have `unreasonable_test_statistics = [1,2,3]`\n",
    "\n",
    "1. The total variation distance between the probability distribution of expected proportion of colors and the distribution of actual proportion of colors\n",
    "2. The total number of M&Ms that the company made in our dataset.\n",
    "3. Sum of the absolute difference between expected proportion of colors and actual proportion of colors\n",
    "4. Average of the sum of the proportion of expected proportion of colors and the proportion of actual proportion of colors\n",
    "5. The absolute difference between the sum of expected proportion of colors and the sum of actual proportion of colors.\n",
    "6. Average of the absolute difference between expected proportion of colors and actual proportion of colors."
   ]
  },
  {
   "cell_type": "code",
   "execution_count": 15,
   "metadata": {},
   "outputs": [],
   "source": [
    "unreasonable_test_statistics = [1,6]"
   ]
  },
  {
   "cell_type": "code",
   "execution_count": 16,
   "metadata": {
    "deletable": false,
    "editable": false
   },
   "outputs": [
    {
     "data": {
      "text/html": [
       "\n",
       "    <p><strong>q23</strong> passed!</p>\n",
       "    "
      ],
      "text/plain": [
       "q23 passed!"
      ]
     },
     "execution_count": 16,
     "metadata": {},
     "output_type": "execute_result"
    }
   ],
   "source": [
    "grader.check(\"q23\")"
   ]
  },
  {
   "cell_type": "markdown",
   "metadata": {},
   "source": [
    "**Question 2.4.** We want to test if the color are distributed uniformly. Assume we have total of 38000 M&M's. Write a simulation and run it 5000 times, maintaining an array `tvd_color` which keeps track of the total variance distance under the generated distribution by the empirical distribution. Save the test statistics in `tvd_color`."
   ]
  },
  {
   "cell_type": "code",
   "execution_count": 17,
   "metadata": {},
   "outputs": [
    {
     "data": {
      "text/plain": [
       "<AxesSubplot:ylabel='Frequency'>"
      ]
     },
     "execution_count": 17,
     "metadata": {},
     "output_type": "execute_result"
    },
    {
     "data": {
      "image/png": "[encoded data removed]",
      "text/plain": [
       "<Figure size 432x288 with 1 Axes>"
      ]
     },
     "metadata": {
      "needs_background": "light"
     },
     "output_type": "display_data"
    }
   ],
   "source": [
    "def total_variation_distance(first_distrib, second_distrib):\n",
    "    # it might be helpful to create a function for computing the TVD\n",
    "    # you can do so here\n",
    "     return np.abs((first_distrib - second_distrib)).sum() / 2\n",
    "    \n",
    "tvd_color = np.array([])\n",
    "for i in np.arange(5000):\n",
    "    distribution = np.random.multinomial(38000, empirical_color_distribution) / 38000\n",
    "    tvd_color = np.append(tvd_color, total_variation_distance(empirical_color_distribution, distribution))\n",
    "        \n",
    "#: Visualize with a histogram\n",
    "bpd.DataFrame().assign(tvd = tvd_color).plot(kind='hist')"
   ]
  },
  {
   "cell_type": "code",
   "execution_count": 18,
   "metadata": {
    "deletable": false,
    "editable": false
   },
   "outputs": [
    {
     "data": {
      "text/html": [
       "\n",
       "    <p><strong>q24</strong> passed!</p>\n",
       "    "
      ],
      "text/plain": [
       "q24 passed!"
      ]
     },
     "execution_count": 18,
     "metadata": {},
     "output_type": "execute_result"
    }
   ],
   "source": [
    "grader.check(\"q24\")"
   ]
  },
  {
   "cell_type": "markdown",
   "metadata": {},
   "source": [
    "**Question 2.5.** Calculate the TVD between observed distribution and our empirical distribution. Assign it to `obs_tvd`."
   ]
  },
  {
   "cell_type": "code",
   "execution_count": 19,
   "metadata": {},
   "outputs": [
    {
     "data": {
      "text/plain": [
       "0.009349532523373824"
      ]
     },
     "execution_count": 19,
     "metadata": {},
     "output_type": "execute_result"
    }
   ],
   "source": [
    "obs_tvd = total_variation_distance(empirical_color_distribution, color_distribution)\n",
    "obs_tvd"
   ]
  },
  {
   "cell_type": "code",
   "execution_count": 20,
   "metadata": {
    "deletable": false,
    "editable": false
   },
   "outputs": [
    {
     "data": {
      "text/html": [
       "\n",
       "    <p><strong>q25</strong> passed!</p>\n",
       "    "
      ],
      "text/plain": [
       "q25 passed!"
      ]
     },
     "execution_count": 20,
     "metadata": {},
     "output_type": "execute_result"
    }
   ],
   "source": [
    "grader.check(\"q25\")"
   ]
  },
  {
   "cell_type": "markdown",
   "metadata": {},
   "source": [
    "**Question 2.6.** Now, we check the p-value of our claim. That is, compute the proportion of times in our simulation that we saw a TVD greater or equal to our observed TVD. Assign your result to `p_value_4_5`. Also, assign a conclusion of whether we should reject the null hypothesis. Set the variable `null_hypothesis_4` below to `True` if you think the color difference is by chance or `False` if it should be rejected."
   ]
  },
  {
   "cell_type": "code",
   "execution_count": 21,
   "metadata": {},
   "outputs": [
    {
     "data": {
      "text/plain": [
       "(0.003, False)"
      ]
     },
     "execution_count": 21,
     "metadata": {},
     "output_type": "execute_result"
    }
   ],
   "source": [
    "p_value_4_5 = np.count_nonzero(tvd_color >= obs_tvd) / 5000\n",
    "null_hypothesis_4 = False\n",
    "p_value_4_5, null_hypothesis_4"
   ]
  },
  {
   "cell_type": "code",
   "execution_count": 22,
   "metadata": {
    "deletable": false,
    "editable": false
   },
   "outputs": [
    {
     "data": {
      "text/html": [
       "\n",
       "    <p><strong>q26</strong> passed!</p>\n",
       "    "
      ],
      "text/plain": [
       "q26 passed!"
      ]
     },
     "execution_count": 22,
     "metadata": {},
     "output_type": "execute_result"
    }
   ],
   "source": [
    "grader.check(\"q26\")"
   ]
  },
  {
   "cell_type": "markdown",
   "metadata": {},
   "source": [
    "## 3. Loaded Die"
   ]
  },
  {
   "cell_type": "markdown",
   "metadata": {},
   "source": [
    "... And we are back to rolling dice! A loaded die is one that is unfair, i.e., does not have equal probability for each of the outcomes 1–6 (inclusive)."
   ]
  },
  {
   "cell_type": "markdown",
   "metadata": {},
   "source": [
    "**Question 3.1.** Your friend Judy has a model that says that the die is loaded in a way such that the probability of \"3\" coming up is 0.2, the probability of \"1\" coming up is 0.3 and all the other values have the same probabilities. \n",
    "\n",
    "Write down Judy's model's distribution as an *array*. It should contain 6 elements, each describing the probability of seeing the corresponding face of the die (from 1 to 6), and it should sum to 1."
   ]
  },
  {
   "cell_type": "code",
   "execution_count": 23,
   "metadata": {},
   "outputs": [
    {
     "data": {
      "text/plain": [
       "array([0.3  , 0.125, 0.2  , 0.125, 0.125, 0.125])"
      ]
     },
     "execution_count": 23,
     "metadata": {},
     "output_type": "execute_result"
    }
   ],
   "source": [
    "judy_hypothesis_model_distribution = np.array([0.3, 0.125, 0.2, 0.125, 0.125, 0.125])\n",
    "judy_hypothesis_model_distribution"
   ]
  },
  {
   "cell_type": "code",
   "execution_count": 24,
   "metadata": {
    "deletable": false,
    "editable": false
   },
   "outputs": [
    {
     "data": {
      "text/html": [
       "\n",
       "    <p><strong>q31</strong> passed!</p>\n",
       "    "
      ],
      "text/plain": [
       "q31 passed!"
      ]
     },
     "execution_count": 24,
     "metadata": {},
     "output_type": "execute_result"
    }
   ],
   "source": [
    "grader.check(\"q31\")"
   ]
  },
  {
   "cell_type": "markdown",
   "metadata": {},
   "source": [
    "**Question 3.2.** Say we want to test Judy's model. To make it simple, we only want to test if the probability of \"1\" coming up is 0.3. We roll the die 20 times and we got \"1\" a whopping 2 times. We claim that Judy's model is wrong. In order to substantiate our claim, we run a simulation of the die-roll.\n",
    "\n",
    "Write a simulation and run it 5000 times, maintaining an array `differences` which keeps track of the absolute difference between number of '1's that were seen and the expected number in each simulation."
   ]
  },
  {
   "cell_type": "code",
   "execution_count": 25,
   "metadata": {
    "scrolled": true
   },
   "outputs": [
    {
     "data": {
      "text/plain": [
       "<AxesSubplot:ylabel='Frequency'>"
      ]
     },
     "execution_count": 25,
     "metadata": {},
     "output_type": "execute_result"
    },
    {
     "data": {
      "image/png": "[encoded data removed]",
      "text/plain": [
       "<Figure size 432x288 with 1 Axes>"
      ]
     },
     "metadata": {
      "needs_background": "light"
     },
     "output_type": "display_data"
    }
   ],
   "source": [
    "n_repetitions = 5000\n",
    "differences = np.array([])\n",
    "\n",
    "for i in np.arange(n_repetitions):\n",
    "    simulation = np.random.multinomial(20, judy_hypothesis_model_distribution)\n",
    "    difference = abs(2 - simulation[0])\n",
    "    differences = np.append(differences, difference)\n",
    "    \n",
    "#: Visualize with a histogram\n",
    "bpd.DataFrame().assign(differences=differences).plot(kind='hist')"
   ]
  },
  {
   "cell_type": "code",
   "execution_count": 26,
   "metadata": {
    "deletable": false,
    "editable": false
   },
   "outputs": [
    {
     "data": {
      "text/html": [
       "\n",
       "    <p><strong>q32</strong> passed!</p>\n",
       "    "
      ],
      "text/plain": [
       "q32 passed!"
      ]
     },
     "execution_count": 26,
     "metadata": {},
     "output_type": "execute_result"
    }
   ],
   "source": [
    "grader.check(\"q32\")"
   ]
  },
  {
   "cell_type": "markdown",
   "metadata": {},
   "source": [
    "**Question 3.3.** Recall that we saw the die come up \"1\" only 2 times. Set the variable `null_hypothesis_boolean` below to `True` if you think Judy's model is plausible or `False` if it should be rejected."
   ]
  },
  {
   "cell_type": "code",
   "execution_count": 27,
   "metadata": {},
   "outputs": [],
   "source": [
    "null_hypothesis_boolean = True"
   ]
  },
  {
   "cell_type": "code",
   "execution_count": 28,
   "metadata": {
    "deletable": false,
    "editable": false
   },
   "outputs": [
    {
     "data": {
      "text/html": [
       "\n",
       "    <p><strong>q33</strong> passed!</p>\n",
       "    "
      ],
      "text/plain": [
       "q33 passed!"
      ]
     },
     "execution_count": 28,
     "metadata": {},
     "output_type": "execute_result"
    }
   ],
   "source": [
    "grader.check(\"q33\")"
   ]
  },
  {
   "cell_type": "markdown",
   "metadata": {},
   "source": [
    "**Question 3.4.** Now, we check the p-value of our claim. That is, compute the proportion of times in our simulation that we saw a difference of 4 or more between the number of '3's and the expected number of '3's. Assign your result to `p_value_3_4`"
   ]
  },
  {
   "cell_type": "code",
   "execution_count": 29,
   "metadata": {},
   "outputs": [
    {
     "data": {
      "text/plain": [
       "0.574"
      ]
     },
     "execution_count": 29,
     "metadata": {},
     "output_type": "execute_result"
    }
   ],
   "source": [
    "p_value_3_4 = np.count_nonzero(differences >= 4) / 5000\n",
    "p_value_3_4"
   ]
  },
  {
   "cell_type": "code",
   "execution_count": 30,
   "metadata": {
    "deletable": false,
    "editable": false
   },
   "outputs": [
    {
     "data": {
      "text/html": [
       "\n",
       "    <p><strong>q34</strong> passed!</p>\n",
       "    "
      ],
      "text/plain": [
       "q34 passed!"
      ]
     },
     "execution_count": 30,
     "metadata": {},
     "output_type": "execute_result"
    }
   ],
   "source": [
    "grader.check(\"q34\")"
   ]
  },
  {
   "cell_type": "markdown",
   "metadata": {},
   "source": [
    "# Finish Line"
   ]
  },
  {
   "cell_type": "markdown",
   "metadata": {},
   "source": [
    "To submit your assignment:\n",
    "\n",
    "1. Select `Kernel -> Restart & Run All` to ensure that you have executed all cells, including the test cells.\n",
    "2. Read through the notebook to make sure everything is fine and all tests passed.\n",
    "3. Run the cell below to run all tests, and make sure that they all pass.\n",
    "4. Download your notebook using `File -> Download as -> Notebook (.ipynb)`, then upload your notebook to Gradescope."
   ]
  },
  {
   "cell_type": "code",
   "execution_count": 31,
   "metadata": {},
   "outputs": [
    {
     "data": {
      "text/html": [
       "\n",
       "    <p><strong>q11</strong> passed!</p>\n",
       "    \n",
       "\n",
       "\n",
       "    <p><strong>q12</strong> passed!</p>\n",
       "    \n",
       "\n",
       "\n",
       "    <p><strong>q13</strong> passed!</p>\n",
       "    \n",
       "\n",
       "\n",
       "    <p><strong>q14</strong> passed!</p>\n",
       "    \n",
       "\n",
       "\n",
       "    <p><strong>q21</strong> passed!</p>\n",
       "    \n",
       "\n",
       "\n",
       "    <p><strong>q22</strong> passed!</p>\n",
       "    \n",
       "\n",
       "\n",
       "    <p><strong>q23</strong> passed!</p>\n",
       "    \n",
       "\n",
       "\n",
       "    <p><strong>q24</strong> passed!</p>\n",
       "    \n",
       "\n",
       "\n",
       "    <p><strong>q25</strong> passed!</p>\n",
       "    \n",
       "\n",
       "\n",
       "    <p><strong>q26</strong> passed!</p>\n",
       "    \n",
       "\n",
       "\n",
       "    <p><strong>q31</strong> passed!</p>\n",
       "    \n",
       "\n",
       "\n",
       "    <p><strong>q32</strong> passed!</p>\n",
       "    \n",
       "\n",
       "\n",
       "    <p><strong>q33</strong> passed!</p>\n",
       "    \n",
       "\n",
       "\n",
       "    <p><strong>q34</strong> passed!</p>\n",
       "    \n",
       "\n"
      ],
      "text/plain": [
       "q11 passed!\n",
       "\n",
       "q12 passed!\n",
       "\n",
       "q13 passed!\n",
       "\n",
       "q14 passed!\n",
       "\n",
       "q21 passed!\n",
       "\n",
       "q22 passed!\n",
       "\n",
       "q23 passed!\n",
       "\n",
       "q24 passed!\n",
       "\n",
       "q25 passed!\n",
       "\n",
       "q26 passed!\n",
       "\n",
       "q31 passed!\n",
       "\n",
       "q32 passed!\n",
       "\n",
       "q33 passed!\n",
       "\n",
       "q34 passed!\n"
      ]
     },
     "execution_count": 31,
     "metadata": {},
     "output_type": "execute_result"
    }
   ],
   "source": [
    "grader.check_all()"
   ]
  },
  {
   "cell_type": "code",
   "execution_count": null,
   "metadata": {},
   "outputs": [],
   "source": []
  }
 ],
 "metadata": {
  "kernelspec": {
   "display_name": "Python 3",
   "language": "python",
   "name": "python3"
  },
  "language_info": {
   "codemirror_mode": {
    "name": "ipython",
    "version": 3
   },
   "file_extension": ".py",
   "mimetype": "text/x-python",
   "name": "python",
   "nbconvert_exporter": "python",
   "pygments_lexer": "ipython3",
   "version": "3.8.6"
  }
 },
 "nbformat": 4,
 "nbformat_minor": 4
}
